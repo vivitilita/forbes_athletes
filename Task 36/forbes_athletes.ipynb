{
 "cells": [
  {
   "cell_type": "markdown",
   "metadata": {},
   "source": [
    "# EDA Forbes Highest Paid Athletes 1990-2020"
   ]
  },
  {
   "cell_type": "code",
   "execution_count": 30,
   "metadata": {},
   "outputs": [],
   "source": [
    "import pandas as pd\n",
    "import numpy as np\n",
    "import matplotlib.pyplot as plt\n",
    "import seaborn as sns\n",
    "from  wordcloud import WordCloud, STOPWORDS, ImageColorGenerator # create wordcloud\n",
    "import PIL.Image\n",
    "\n",
    "import plotly_express as px # helps create interactive visualisations\n",
    "\n",
    "import fuzzywuzzy # Fuzzy string matching to calculate the differences between sequences\n",
    "from fuzzywuzzy import process\n",
    "\n"
   ]
  },
  {
   "cell_type": "markdown",
   "metadata": {},
   "source": [
    "### 1. Load and read the data frame"
   ]
  },
  {
   "cell_type": "code",
   "execution_count": 31,
   "metadata": {},
   "outputs": [
    {
     "data": {
      "text/html": [
       "<div>\n",
       "<style scoped>\n",
       "    .dataframe tbody tr th:only-of-type {\n",
       "        vertical-align: middle;\n",
       "    }\n",
       "\n",
       "    .dataframe tbody tr th {\n",
       "        vertical-align: top;\n",
       "    }\n",
       "\n",
       "    .dataframe thead th {\n",
       "        text-align: right;\n",
       "    }\n",
       "</style>\n",
       "<table border=\"1\" class=\"dataframe\">\n",
       "  <thead>\n",
       "    <tr style=\"text-align: right;\">\n",
       "      <th></th>\n",
       "      <th>S.NO</th>\n",
       "      <th>Name</th>\n",
       "      <th>Nationality</th>\n",
       "      <th>Current Rank</th>\n",
       "      <th>Previous Year Rank</th>\n",
       "      <th>Sport</th>\n",
       "      <th>Year</th>\n",
       "      <th>earnings ($ million)</th>\n",
       "    </tr>\n",
       "  </thead>\n",
       "  <tbody>\n",
       "    <tr>\n",
       "      <th>0</th>\n",
       "      <td>1</td>\n",
       "      <td>Mike Tyson</td>\n",
       "      <td>USA</td>\n",
       "      <td>1</td>\n",
       "      <td>NaN</td>\n",
       "      <td>boxing</td>\n",
       "      <td>1990</td>\n",
       "      <td>28.6</td>\n",
       "    </tr>\n",
       "    <tr>\n",
       "      <th>1</th>\n",
       "      <td>2</td>\n",
       "      <td>Buster Douglas</td>\n",
       "      <td>USA</td>\n",
       "      <td>2</td>\n",
       "      <td>NaN</td>\n",
       "      <td>boxing</td>\n",
       "      <td>1990</td>\n",
       "      <td>26.0</td>\n",
       "    </tr>\n",
       "    <tr>\n",
       "      <th>2</th>\n",
       "      <td>3</td>\n",
       "      <td>Sugar Ray Leonard</td>\n",
       "      <td>USA</td>\n",
       "      <td>3</td>\n",
       "      <td>NaN</td>\n",
       "      <td>boxing</td>\n",
       "      <td>1990</td>\n",
       "      <td>13.0</td>\n",
       "    </tr>\n",
       "    <tr>\n",
       "      <th>3</th>\n",
       "      <td>4</td>\n",
       "      <td>Ayrton Senna</td>\n",
       "      <td>Brazil</td>\n",
       "      <td>4</td>\n",
       "      <td>NaN</td>\n",
       "      <td>auto racing</td>\n",
       "      <td>1990</td>\n",
       "      <td>10.0</td>\n",
       "    </tr>\n",
       "    <tr>\n",
       "      <th>4</th>\n",
       "      <td>5</td>\n",
       "      <td>Alain Prost</td>\n",
       "      <td>France</td>\n",
       "      <td>5</td>\n",
       "      <td>NaN</td>\n",
       "      <td>auto racing</td>\n",
       "      <td>1990</td>\n",
       "      <td>9.0</td>\n",
       "    </tr>\n",
       "    <tr>\n",
       "      <th>...</th>\n",
       "      <td>...</td>\n",
       "      <td>...</td>\n",
       "      <td>...</td>\n",
       "      <td>...</td>\n",
       "      <td>...</td>\n",
       "      <td>...</td>\n",
       "      <td>...</td>\n",
       "      <td>...</td>\n",
       "    </tr>\n",
       "    <tr>\n",
       "      <th>296</th>\n",
       "      <td>297</td>\n",
       "      <td>Stephen Curry</td>\n",
       "      <td>USA</td>\n",
       "      <td>6</td>\n",
       "      <td>9</td>\n",
       "      <td>Basketball</td>\n",
       "      <td>2020</td>\n",
       "      <td>74.4</td>\n",
       "    </tr>\n",
       "    <tr>\n",
       "      <th>297</th>\n",
       "      <td>298</td>\n",
       "      <td>Kevin Durant</td>\n",
       "      <td>USA</td>\n",
       "      <td>7</td>\n",
       "      <td>10</td>\n",
       "      <td>Basketball</td>\n",
       "      <td>2020</td>\n",
       "      <td>63.9</td>\n",
       "    </tr>\n",
       "    <tr>\n",
       "      <th>298</th>\n",
       "      <td>299</td>\n",
       "      <td>Tiger Woods</td>\n",
       "      <td>USA</td>\n",
       "      <td>8</td>\n",
       "      <td>11</td>\n",
       "      <td>Golf</td>\n",
       "      <td>2020</td>\n",
       "      <td>62.3</td>\n",
       "    </tr>\n",
       "    <tr>\n",
       "      <th>299</th>\n",
       "      <td>300</td>\n",
       "      <td>Kirk Cousins</td>\n",
       "      <td>USA</td>\n",
       "      <td>9</td>\n",
       "      <td>&gt;100</td>\n",
       "      <td>American Football</td>\n",
       "      <td>2020</td>\n",
       "      <td>60.5</td>\n",
       "    </tr>\n",
       "    <tr>\n",
       "      <th>300</th>\n",
       "      <td>301</td>\n",
       "      <td>Carson Wentz</td>\n",
       "      <td>USA</td>\n",
       "      <td>10</td>\n",
       "      <td>&gt;100</td>\n",
       "      <td>American Football</td>\n",
       "      <td>2020</td>\n",
       "      <td>59.1</td>\n",
       "    </tr>\n",
       "  </tbody>\n",
       "</table>\n",
       "<p>301 rows × 8 columns</p>\n",
       "</div>"
      ],
      "text/plain": [
       "     S.NO               Name Nationality  Current Rank Previous Year Rank  \\\n",
       "0       1         Mike Tyson         USA             1                NaN   \n",
       "1       2     Buster Douglas         USA             2                NaN   \n",
       "2       3  Sugar Ray Leonard         USA             3                NaN   \n",
       "3       4       Ayrton Senna      Brazil             4                NaN   \n",
       "4       5        Alain Prost      France             5                NaN   \n",
       "..    ...                ...         ...           ...                ...   \n",
       "296   297      Stephen Curry         USA             6                  9   \n",
       "297   298       Kevin Durant         USA             7                 10   \n",
       "298   299        Tiger Woods         USA             8                 11   \n",
       "299   300       Kirk Cousins         USA             9               >100   \n",
       "300   301       Carson Wentz         USA            10               >100   \n",
       "\n",
       "                 Sport  Year  earnings ($ million)  \n",
       "0               boxing  1990                  28.6  \n",
       "1               boxing  1990                  26.0  \n",
       "2               boxing  1990                  13.0  \n",
       "3          auto racing  1990                  10.0  \n",
       "4          auto racing  1990                   9.0  \n",
       "..                 ...   ...                   ...  \n",
       "296         Basketball  2020                  74.4  \n",
       "297         Basketball  2020                  63.9  \n",
       "298               Golf  2020                  62.3  \n",
       "299  American Football  2020                  60.5  \n",
       "300  American Football  2020                  59.1  \n",
       "\n",
       "[301 rows x 8 columns]"
      ]
     },
     "execution_count": 31,
     "metadata": {},
     "output_type": "execute_result"
    }
   ],
   "source": [
    "df = pd.read_csv('Forbes Richest Atheletes (Forbes Richest Athletes 1990-2020).csv')\n",
    "df # Displays the first and last 5 observations"
   ]
  },
  {
   "cell_type": "markdown",
   "metadata": {},
   "source": [
    "### 2. Cleaning the data frame"
   ]
  },
  {
   "cell_type": "code",
   "execution_count": 32,
   "metadata": {},
   "outputs": [
    {
     "name": "stdout",
     "output_type": "stream",
     "text": [
      "<class 'pandas.core.frame.DataFrame'>\n",
      "RangeIndex: 301 entries, 0 to 300\n",
      "Data columns (total 8 columns):\n",
      " #   Column                Non-Null Count  Dtype  \n",
      "---  ------                --------------  -----  \n",
      " 0   S.NO                  301 non-null    int64  \n",
      " 1   Name                  301 non-null    object \n",
      " 2   Nationality           301 non-null    object \n",
      " 3   Current Rank          301 non-null    int64  \n",
      " 4   Previous Year Rank    277 non-null    object \n",
      " 5   Sport                 301 non-null    object \n",
      " 6   Year                  301 non-null    int64  \n",
      " 7   earnings ($ million)  301 non-null    float64\n",
      "dtypes: float64(1), int64(3), object(4)\n",
      "memory usage: 18.9+ KB\n"
     ]
    }
   ],
   "source": [
    "df.info() # Displays data types"
   ]
  },
  {
   "cell_type": "markdown",
   "metadata": {},
   "source": [
    "- Cheacking unique features discrepancies"
   ]
  },
  {
   "cell_type": "code",
   "execution_count": 33,
   "metadata": {},
   "outputs": [
    {
     "data": {
      "text/plain": [
       "array(['Aaron Rodgers', 'Aaron Rogers', 'Alain Prost', 'Alex Rodriguez',\n",
       "       'Andre Agassi', 'Andrew Luck', 'Arnold Palmer', 'Ayrton Senna',\n",
       "       'Buster Douglas', 'Cam Newton', 'Canelo Alvarez', 'Carson Wentz',\n",
       "       'Cecil Fielder', 'Conor McGregor', 'Cristiano Ronaldo',\n",
       "       'Dale Earnhardt', 'Dale Earnhardt Jr.', 'David Beckham',\n",
       "       'Deion Sanders', 'Dennis Rodman', 'Donovan \"Razor\" Ruddock',\n",
       "       'Drew Brees', 'Eli Manning', 'Emmit Smith', 'Evander Holyfield',\n",
       "       'Floyd Mayweather', 'Gary Sheffield', 'George Foreman',\n",
       "       'Gerhard Berger', 'Grant Hill', 'Greg Norman', 'Jack Nicklaus',\n",
       "       'Jacques Villeneuve', 'James Harden', 'Jeff Gordon', 'Jim Courier',\n",
       "       'Joe Montana', 'Joe Sakic', 'Jordan Spieth', 'Kevin Durant',\n",
       "       'Kevin Garnett', 'Kimi Raikkonen', 'Kirk Cousins', 'Kobe Bryant',\n",
       "       'Lance Armstrong', 'LeBron James', 'Lennox Lewis',\n",
       "       'Lewis Hamilton', 'Lionel Messi', 'Manny Pacquiao', 'Matt Ryan',\n",
       "       'Matthew Stafford', 'Michael Jordan', 'Michael Moorer',\n",
       "       'Michael Schumacher', 'Michael Vick', 'Mike Tyson', 'Monica Seles',\n",
       "       'Muhammad Ali', 'Neymar', 'Nigel Mansell', 'Novak Djokovic',\n",
       "       'Oscar De La Hoya', 'Patrick Ewing', 'Peyton Manning',\n",
       "       'Phil Mickelson', 'Rafael Nadal', 'Riddick Bowe', 'Roger Federer',\n",
       "       'Ronaldinho', 'Rory McIlroy', 'Russell Wilson', 'Sergei Federov',\n",
       "       \"Shaq O'Neal\", \"Shaquille O'Neal\", 'Stephen Curry',\n",
       "       'Sugar Ray Leonard', 'Terrell Suggs', 'Tiger Woods', 'Tom Brady',\n",
       "       'Valentino Rossi', 'Wayne Gretzky'], dtype=object)"
      ]
     },
     "execution_count": 33,
     "metadata": {},
     "output_type": "execute_result"
    }
   ],
   "source": [
    "df['Name'].sort_values().unique()\n",
    "# It seems that there are inconsistencies with some names that need to be corrected"
   ]
  },
  {
   "cell_type": "markdown",
   "metadata": {},
   "source": [
    "- Creating a function to replace rows with closest match in the column"
   ]
  },
  {
   "cell_type": "code",
   "execution_count": 34,
   "metadata": {},
   "outputs": [],
   "source": [
    "# function to replace rows in the provided column of the provided data frame\n",
    "# that match the provided string above the provided ratio with the provided string\n",
    "def replace_matches_in_column(df, column, string_to_match, min_ratio = 81):\n",
    "   \n",
    "    # get a list of unique strings\n",
    "    strings = df[column].unique()\n",
    "    \n",
    "    # get the top 10 closest matches to our input string\n",
    "    matches = fuzzywuzzy.process.extract(string_to_match, strings, \n",
    "                                         limit=10, scorer=fuzzywuzzy.fuzz.token_sort_ratio)\n",
    "\n",
    "    # only get matches with a ratio > 81\n",
    "    close_matches = [matches[0] for matches in matches if matches[1] >= min_ratio]\n",
    "\n",
    "    # get the rows of all the close matches in our dataframe\n",
    "    rows_with_matches = df[column].isin(close_matches)\n",
    "\n",
    "    # replace all rows with close matches with the input matches \n",
    "    df.loc[rows_with_matches, column] = string_to_match\n",
    "    \n",
    "    # let us know the function's done\n",
    "    print(\"All done!\")"
   ]
  },
  {
   "cell_type": "markdown",
   "metadata": {},
   "source": [
    "- Check the names variable matches ratio"
   ]
  },
  {
   "cell_type": "code",
   "execution_count": 35,
   "metadata": {},
   "outputs": [
    {
     "data": {
      "text/plain": [
       "[(\"Shaquille O'Neal\", 100, 35),\n",
       " (\"Shaquille O'Neal\", 100, 54),\n",
       " (\"Shaquille O'Neal\", 100, 63),\n",
       " (\"Shaquille O'Neal\", 100, 76),\n",
       " (\"Shaquille O'Neal\", 100, 115),\n",
       " (\"Shaquille O'Neal\", 100, 135),\n",
       " (\"Shaquille O'Neal\", 100, 145),\n",
       " (\"Shaquille O'Neal\", 100, 157),\n",
       " (\"Shaquille O'Neal\", 100, 168),\n",
       " (\"Shaq O'Neal\", 81, 41)]"
      ]
     },
     "execution_count": 35,
     "metadata": {},
     "output_type": "execute_result"
    }
   ],
   "source": [
    "name = df['Name']\n",
    "matches = fuzzywuzzy.process.extract(\"Aaron Rodgers\", name, limit=10, scorer=fuzzywuzzy.fuzz.token_sort_ratio)\n",
    "matches\n",
    "matches = fuzzywuzzy.process.extract(\"Shaquille O'Neal\", name, limit=10, scorer=fuzzywuzzy.fuzz.token_sort_ratio)\n",
    "matches"
   ]
  },
  {
   "cell_type": "markdown",
   "metadata": {},
   "source": [
    "- Replace names with closest matches"
   ]
  },
  {
   "cell_type": "code",
   "execution_count": 36,
   "metadata": {},
   "outputs": [
    {
     "name": "stdout",
     "output_type": "stream",
     "text": [
      "All done!\n",
      "All done!\n"
     ]
    },
    {
     "data": {
      "text/plain": [
       "array(['Aaron Rodgers', 'Alain Prost', 'Alex Rodriguez', 'Andre Agassi',\n",
       "       'Andrew Luck', 'Arnold Palmer', 'Ayrton Senna', 'Buster Douglas',\n",
       "       'Cam Newton', 'Canelo Alvarez', 'Carson Wentz', 'Cecil Fielder',\n",
       "       'Conor McGregor', 'Cristiano Ronaldo', 'Dale Earnhardt',\n",
       "       'Dale Earnhardt Jr.', 'David Beckham', 'Deion Sanders',\n",
       "       'Dennis Rodman', 'Donovan \"Razor\" Ruddock', 'Drew Brees',\n",
       "       'Eli Manning', 'Emmit Smith', 'Evander Holyfield',\n",
       "       'Floyd Mayweather', 'Gary Sheffield', 'George Foreman',\n",
       "       'Gerhard Berger', 'Grant Hill', 'Greg Norman', 'Jack Nicklaus',\n",
       "       'Jacques Villeneuve', 'James Harden', 'Jeff Gordon', 'Jim Courier',\n",
       "       'Joe Montana', 'Joe Sakic', 'Jordan Spieth', 'Kevin Durant',\n",
       "       'Kevin Garnett', 'Kimi Raikkonen', 'Kirk Cousins', 'Kobe Bryant',\n",
       "       'Lance Armstrong', 'LeBron James', 'Lennox Lewis',\n",
       "       'Lewis Hamilton', 'Lionel Messi', 'Manny Pacquiao', 'Matt Ryan',\n",
       "       'Matthew Stafford', 'Michael Jordan', 'Michael Moorer',\n",
       "       'Michael Schumacher', 'Michael Vick', 'Mike Tyson', 'Monica Seles',\n",
       "       'Muhammad Ali', 'Neymar', 'Nigel Mansell', 'Novak Djokovic',\n",
       "       'Oscar De La Hoya', 'Patrick Ewing', 'Peyton Manning',\n",
       "       'Phil Mickelson', 'Rafael Nadal', 'Riddick Bowe', 'Roger Federer',\n",
       "       'Ronaldinho', 'Rory McIlroy', 'Russell Wilson', 'Sergei Federov',\n",
       "       \"Shaquille O'Neal\", 'Stephen Curry', 'Sugar Ray Leonard',\n",
       "       'Terrell Suggs', 'Tiger Woods', 'Tom Brady', 'Valentino Rossi',\n",
       "       'Wayne Gretzky'], dtype=object)"
      ]
     },
     "execution_count": 36,
     "metadata": {},
     "output_type": "execute_result"
    }
   ],
   "source": [
    "#name = df['Name'].sort_values().unique()\n",
    "'''\n",
    "matches = fuzzywuzzy.process.extract('Aaron Rodgers', name, limit=10, scorer=fuzzywuzzy.fuzz.token_sort_ratio)\n",
    "matches = fuzzywuzzy.process.extract('Shaquille O'Neal', name, limit=10, scorer=fuzzywuzzy.fuzz.token_sort_ratio)\n",
    "matches'''\n",
    "replace_matches_in_column(df=df, column='Name', string_to_match='Aaron Rodgers')\n",
    "\n",
    "replace_matches_in_column(df=df, column='Name', string_to_match=\"Shaquille O'Neal\")\n",
    "df['Name'].sort_values().unique()"
   ]
  },
  {
   "cell_type": "code",
   "execution_count": 37,
   "metadata": {},
   "outputs": [
    {
     "data": {
      "text/plain": [
       "array(['Argentina', 'Australia', 'Austria', 'Brazil', 'Canada',\n",
       "       'Dominican', 'Filipino', 'Finland', 'France', 'Germany', 'Ireland',\n",
       "       'Italy', 'Mexico', 'Northern Ireland', 'Philippines', 'Portugal',\n",
       "       'Russia', 'Serbia', 'Spain', 'Switzerland', 'UK', 'USA'],\n",
       "      dtype=object)"
      ]
     },
     "execution_count": 37,
     "metadata": {},
     "output_type": "execute_result"
    }
   ],
   "source": [
    "df['Nationality'].sort_values().unique() # no inconsistencies found"
   ]
  },
  {
   "cell_type": "code",
   "execution_count": 38,
   "metadata": {},
   "outputs": [
    {
     "data": {
      "text/plain": [
       "array(['American Football', 'American Football / Baseball', 'Auto Racing',\n",
       "       'Auto Racing (Nascar)', 'Auto racing', 'Baseball', 'Basketball',\n",
       "       'Boxing', 'F1 Motorsports', 'F1 racing', 'Golf', 'Hockey',\n",
       "       'Ice Hockey', 'MMA', 'NASCAR', 'NBA', 'NFL', 'Soccer', 'Tennis',\n",
       "       'auto racing', 'baseball', 'basketball', 'boxing', 'cycling',\n",
       "       'golf', 'ice hockey', 'motorcycle gp', 'soccer', 'tennis'],\n",
       "      dtype=object)"
      ]
     },
     "execution_count": 38,
     "metadata": {},
     "output_type": "execute_result"
    }
   ],
   "source": [
    "df['Sport'].sort_values().unique()\n"
   ]
  },
  {
   "cell_type": "markdown",
   "metadata": {},
   "source": [
    "- Create a function to replace and group individual sport names "
   ]
  },
  {
   "cell_type": "code",
   "execution_count": 39,
   "metadata": {},
   "outputs": [
    {
     "data": {
      "text/plain": [
       "NBA/Basketball                82\n",
       "Boxing                        46\n",
       "Golf                          44\n",
       "Auto Racing                   40\n",
       "Soccer                        33\n",
       "Tennis                        23\n",
       "NFL                           20\n",
       "Baseball                       6\n",
       "Hockey                         4\n",
       "American Football/Baseball     1\n",
       "Cycling                        1\n",
       "MMA                            1\n",
       "Name: Sport, dtype: int64"
      ]
     },
     "execution_count": 39,
     "metadata": {},
     "output_type": "execute_result"
    }
   ],
   "source": [
    "def new_sport_name(sport):\n",
    "    sport_name = {\n",
    "        'NASCAR': 'Auto Racing',\n",
    "        'F1 Motorsports': 'Auto Racing',\n",
    "        'auto racing': 'Auto Racing',\n",
    "        'Auto Racing (Nascar)': 'Auto Racing',\n",
    "        'Basketball': 'NBA/Basketball',\n",
    "        'basketball': 'NBA/Basketball',\n",
    "        'golf': 'Golf',\n",
    "        'boxing': 'Boxing',\n",
    "        'American Football': 'NFL',\n",
    "        'soccer': 'Soccer',\n",
    "        'F1 racing': 'Auto Racing',\n",
    "        'tennis': 'Tennis',\n",
    "        'motorcycle gp': 'Auto Racing',\n",
    "        'baseball': 'Baseball',\n",
    "        'Ice Hockey': 'Hockey',\n",
    "        'cycling': 'Cycling',\n",
    "        'ice hockey': 'Hockey',\n",
    "        'Auto racing': 'Auto Racing',\n",
    "        'Boxing': 'Boxing',\n",
    "        'Golf': 'Golf',\n",
    "        'Soccer': 'Soccer',\n",
    "        'Tennis': 'Tennis',\n",
    "        'Auto Racing': 'Auto Racing',\n",
    "        'NFL': 'NFL',\n",
    "        'Baseball': 'Baseball',\n",
    "        'American Football / Baseball': 'American Football/Baseball',\n",
    "        'Hockey': 'Hockey',\n",
    "        'NBA': 'NBA/Basketball',\n",
    "        'MMA': 'MMA'\n",
    "}\n",
    "    return sport_name[sport]\n",
    "df['Sport'] = df.Sport.apply(new_sport_name)\n",
    "df['Sport'].value_counts()"
   ]
  },
  {
   "cell_type": "code",
   "execution_count": 40,
   "metadata": {},
   "outputs": [
    {
     "data": {
      "text/plain": [
       "S.NO                      int64\n",
       "Name                     object\n",
       "Nationality              object\n",
       "Current Rank              int64\n",
       "Previous Year Rank       object\n",
       "Sport                    object\n",
       "Year                      int64\n",
       "earnings ($ million)    float64\n",
       "dtype: object"
      ]
     },
     "execution_count": 40,
     "metadata": {},
     "output_type": "execute_result"
    }
   ],
   "source": [
    "df.dtypes"
   ]
  },
  {
   "cell_type": "markdown",
   "metadata": {},
   "source": [
    "- Checking any missing values"
   ]
  },
  {
   "cell_type": "code",
   "execution_count": 41,
   "metadata": {},
   "outputs": [
    {
     "data": {
      "text/plain": [
       "S.NO                     0\n",
       "Name                     0\n",
       "Nationality              0\n",
       "Current Rank             0\n",
       "Previous Year Rank      24\n",
       "Sport                    0\n",
       "Year                     0\n",
       "earnings ($ million)     0\n",
       "dtype: int64"
      ]
     },
     "execution_count": 41,
     "metadata": {},
     "output_type": "execute_result"
    }
   ],
   "source": [
    "df.isna().sum() # counts all missing values for each column"
   ]
  },
  {
   "cell_type": "markdown",
   "metadata": {},
   "source": [
    "- Dropping redundant features"
   ]
  },
  {
   "cell_type": "code",
   "execution_count": 42,
   "metadata": {},
   "outputs": [
    {
     "data": {
      "text/plain": [
       "Name                    0\n",
       "Nationality             0\n",
       "Current Rank            0\n",
       "Sport                   0\n",
       "Year                    0\n",
       "earnings ($ million)    0\n",
       "dtype: int64"
      ]
     },
     "execution_count": 42,
     "metadata": {},
     "output_type": "execute_result"
    }
   ],
   "source": [
    "df = df.drop(['S.NO', 'Previous Year Rank'], axis=1)\n",
    "df.isna().sum() # displays missing values"
   ]
  },
  {
   "cell_type": "markdown",
   "metadata": {},
   "source": [
    "- Renaming column for a clean data frame display"
   ]
  },
  {
   "cell_type": "code",
   "execution_count": 43,
   "metadata": {},
   "outputs": [
    {
     "data": {
      "text/html": [
       "<div>\n",
       "<style scoped>\n",
       "    .dataframe tbody tr th:only-of-type {\n",
       "        vertical-align: middle;\n",
       "    }\n",
       "\n",
       "    .dataframe tbody tr th {\n",
       "        vertical-align: top;\n",
       "    }\n",
       "\n",
       "    .dataframe thead th {\n",
       "        text-align: right;\n",
       "    }\n",
       "</style>\n",
       "<table border=\"1\" class=\"dataframe\">\n",
       "  <thead>\n",
       "    <tr style=\"text-align: right;\">\n",
       "      <th></th>\n",
       "      <th>Name</th>\n",
       "      <th>Nationality</th>\n",
       "      <th>Current Rank</th>\n",
       "      <th>Sport</th>\n",
       "      <th>Year</th>\n",
       "      <th>Earnings ($M)</th>\n",
       "    </tr>\n",
       "  </thead>\n",
       "  <tbody>\n",
       "    <tr>\n",
       "      <th>0</th>\n",
       "      <td>Mike Tyson</td>\n",
       "      <td>USA</td>\n",
       "      <td>1</td>\n",
       "      <td>Boxing</td>\n",
       "      <td>1990</td>\n",
       "      <td>28.6</td>\n",
       "    </tr>\n",
       "    <tr>\n",
       "      <th>1</th>\n",
       "      <td>Buster Douglas</td>\n",
       "      <td>USA</td>\n",
       "      <td>2</td>\n",
       "      <td>Boxing</td>\n",
       "      <td>1990</td>\n",
       "      <td>26.0</td>\n",
       "    </tr>\n",
       "    <tr>\n",
       "      <th>2</th>\n",
       "      <td>Sugar Ray Leonard</td>\n",
       "      <td>USA</td>\n",
       "      <td>3</td>\n",
       "      <td>Boxing</td>\n",
       "      <td>1990</td>\n",
       "      <td>13.0</td>\n",
       "    </tr>\n",
       "    <tr>\n",
       "      <th>3</th>\n",
       "      <td>Ayrton Senna</td>\n",
       "      <td>Brazil</td>\n",
       "      <td>4</td>\n",
       "      <td>Auto Racing</td>\n",
       "      <td>1990</td>\n",
       "      <td>10.0</td>\n",
       "    </tr>\n",
       "    <tr>\n",
       "      <th>4</th>\n",
       "      <td>Alain Prost</td>\n",
       "      <td>France</td>\n",
       "      <td>5</td>\n",
       "      <td>Auto Racing</td>\n",
       "      <td>1990</td>\n",
       "      <td>9.0</td>\n",
       "    </tr>\n",
       "    <tr>\n",
       "      <th>...</th>\n",
       "      <td>...</td>\n",
       "      <td>...</td>\n",
       "      <td>...</td>\n",
       "      <td>...</td>\n",
       "      <td>...</td>\n",
       "      <td>...</td>\n",
       "    </tr>\n",
       "    <tr>\n",
       "      <th>296</th>\n",
       "      <td>Stephen Curry</td>\n",
       "      <td>USA</td>\n",
       "      <td>6</td>\n",
       "      <td>NBA/Basketball</td>\n",
       "      <td>2020</td>\n",
       "      <td>74.4</td>\n",
       "    </tr>\n",
       "    <tr>\n",
       "      <th>297</th>\n",
       "      <td>Kevin Durant</td>\n",
       "      <td>USA</td>\n",
       "      <td>7</td>\n",
       "      <td>NBA/Basketball</td>\n",
       "      <td>2020</td>\n",
       "      <td>63.9</td>\n",
       "    </tr>\n",
       "    <tr>\n",
       "      <th>298</th>\n",
       "      <td>Tiger Woods</td>\n",
       "      <td>USA</td>\n",
       "      <td>8</td>\n",
       "      <td>Golf</td>\n",
       "      <td>2020</td>\n",
       "      <td>62.3</td>\n",
       "    </tr>\n",
       "    <tr>\n",
       "      <th>299</th>\n",
       "      <td>Kirk Cousins</td>\n",
       "      <td>USA</td>\n",
       "      <td>9</td>\n",
       "      <td>NFL</td>\n",
       "      <td>2020</td>\n",
       "      <td>60.5</td>\n",
       "    </tr>\n",
       "    <tr>\n",
       "      <th>300</th>\n",
       "      <td>Carson Wentz</td>\n",
       "      <td>USA</td>\n",
       "      <td>10</td>\n",
       "      <td>NFL</td>\n",
       "      <td>2020</td>\n",
       "      <td>59.1</td>\n",
       "    </tr>\n",
       "  </tbody>\n",
       "</table>\n",
       "<p>301 rows × 6 columns</p>\n",
       "</div>"
      ],
      "text/plain": [
       "                  Name Nationality  Current Rank           Sport  Year  \\\n",
       "0           Mike Tyson         USA             1          Boxing  1990   \n",
       "1       Buster Douglas         USA             2          Boxing  1990   \n",
       "2    Sugar Ray Leonard         USA             3          Boxing  1990   \n",
       "3         Ayrton Senna      Brazil             4     Auto Racing  1990   \n",
       "4          Alain Prost      France             5     Auto Racing  1990   \n",
       "..                 ...         ...           ...             ...   ...   \n",
       "296      Stephen Curry         USA             6  NBA/Basketball  2020   \n",
       "297       Kevin Durant         USA             7  NBA/Basketball  2020   \n",
       "298        Tiger Woods         USA             8            Golf  2020   \n",
       "299       Kirk Cousins         USA             9             NFL  2020   \n",
       "300       Carson Wentz         USA            10             NFL  2020   \n",
       "\n",
       "     Earnings ($M)  \n",
       "0             28.6  \n",
       "1             26.0  \n",
       "2             13.0  \n",
       "3             10.0  \n",
       "4              9.0  \n",
       "..             ...  \n",
       "296           74.4  \n",
       "297           63.9  \n",
       "298           62.3  \n",
       "299           60.5  \n",
       "300           59.1  \n",
       "\n",
       "[301 rows x 6 columns]"
      ]
     },
     "execution_count": 43,
     "metadata": {},
     "output_type": "execute_result"
    }
   ],
   "source": [
    "df.rename(columns={'earnings ($ million)':'Earnings ($M)'} ,inplace=True)\n",
    "df"
   ]
  },
  {
   "cell_type": "code",
   "execution_count": 44,
   "metadata": {},
   "outputs": [
    {
     "data": {
      "text/html": [
       "<div>\n",
       "<style scoped>\n",
       "    .dataframe tbody tr th:only-of-type {\n",
       "        vertical-align: middle;\n",
       "    }\n",
       "\n",
       "    .dataframe tbody tr th {\n",
       "        vertical-align: top;\n",
       "    }\n",
       "\n",
       "    .dataframe thead th {\n",
       "        text-align: right;\n",
       "    }\n",
       "</style>\n",
       "<table border=\"1\" class=\"dataframe\">\n",
       "  <thead>\n",
       "    <tr style=\"text-align: right;\">\n",
       "      <th></th>\n",
       "      <th>Current Rank</th>\n",
       "      <th>Year</th>\n",
       "      <th>Earnings ($M)</th>\n",
       "    </tr>\n",
       "  </thead>\n",
       "  <tbody>\n",
       "    <tr>\n",
       "      <th>count</th>\n",
       "      <td>301.000000</td>\n",
       "      <td>301.000000</td>\n",
       "      <td>301.000000</td>\n",
       "    </tr>\n",
       "    <tr>\n",
       "      <th>mean</th>\n",
       "      <td>5.448505</td>\n",
       "      <td>2005.122924</td>\n",
       "      <td>45.516279</td>\n",
       "    </tr>\n",
       "    <tr>\n",
       "      <th>std</th>\n",
       "      <td>2.850995</td>\n",
       "      <td>9.063563</td>\n",
       "      <td>33.525337</td>\n",
       "    </tr>\n",
       "    <tr>\n",
       "      <th>min</th>\n",
       "      <td>1.000000</td>\n",
       "      <td>1990.000000</td>\n",
       "      <td>8.100000</td>\n",
       "    </tr>\n",
       "    <tr>\n",
       "      <th>25%</th>\n",
       "      <td>3.000000</td>\n",
       "      <td>1997.000000</td>\n",
       "      <td>24.000000</td>\n",
       "    </tr>\n",
       "    <tr>\n",
       "      <th>50%</th>\n",
       "      <td>5.000000</td>\n",
       "      <td>2005.000000</td>\n",
       "      <td>39.000000</td>\n",
       "    </tr>\n",
       "    <tr>\n",
       "      <th>75%</th>\n",
       "      <td>8.000000</td>\n",
       "      <td>2013.000000</td>\n",
       "      <td>59.400000</td>\n",
       "    </tr>\n",
       "    <tr>\n",
       "      <th>max</th>\n",
       "      <td>10.000000</td>\n",
       "      <td>2020.000000</td>\n",
       "      <td>300.000000</td>\n",
       "    </tr>\n",
       "  </tbody>\n",
       "</table>\n",
       "</div>"
      ],
      "text/plain": [
       "       Current Rank         Year  Earnings ($M)\n",
       "count    301.000000   301.000000     301.000000\n",
       "mean       5.448505  2005.122924      45.516279\n",
       "std        2.850995     9.063563      33.525337\n",
       "min        1.000000  1990.000000       8.100000\n",
       "25%        3.000000  1997.000000      24.000000\n",
       "50%        5.000000  2005.000000      39.000000\n",
       "75%        8.000000  2013.000000      59.400000\n",
       "max       10.000000  2020.000000     300.000000"
      ]
     },
     "execution_count": 44,
     "metadata": {},
     "output_type": "execute_result"
    }
   ],
   "source": [
    "df.describe() # describe numeric values"
   ]
  },
  {
   "cell_type": "code",
   "execution_count": 45,
   "metadata": {},
   "outputs": [
    {
     "data": {
      "text/html": [
       "<div>\n",
       "<style scoped>\n",
       "    .dataframe tbody tr th:only-of-type {\n",
       "        vertical-align: middle;\n",
       "    }\n",
       "\n",
       "    .dataframe tbody tr th {\n",
       "        vertical-align: top;\n",
       "    }\n",
       "\n",
       "    .dataframe thead th {\n",
       "        text-align: right;\n",
       "    }\n",
       "</style>\n",
       "<table border=\"1\" class=\"dataframe\">\n",
       "  <thead>\n",
       "    <tr style=\"text-align: right;\">\n",
       "      <th></th>\n",
       "      <th>Name</th>\n",
       "      <th>Nationality</th>\n",
       "      <th>Current Rank</th>\n",
       "      <th>Sport</th>\n",
       "      <th>Year</th>\n",
       "      <th>Earnings ($M)</th>\n",
       "    </tr>\n",
       "  </thead>\n",
       "  <tbody>\n",
       "    <tr>\n",
       "      <th>0</th>\n",
       "      <td>Mike Tyson</td>\n",
       "      <td>USA</td>\n",
       "      <td>1</td>\n",
       "      <td>Boxing</td>\n",
       "      <td>1990</td>\n",
       "      <td>28.6</td>\n",
       "    </tr>\n",
       "    <tr>\n",
       "      <th>1</th>\n",
       "      <td>Buster Douglas</td>\n",
       "      <td>USA</td>\n",
       "      <td>2</td>\n",
       "      <td>Boxing</td>\n",
       "      <td>1990</td>\n",
       "      <td>26.0</td>\n",
       "    </tr>\n",
       "    <tr>\n",
       "      <th>2</th>\n",
       "      <td>Sugar Ray Leonard</td>\n",
       "      <td>USA</td>\n",
       "      <td>3</td>\n",
       "      <td>Boxing</td>\n",
       "      <td>1990</td>\n",
       "      <td>13.0</td>\n",
       "    </tr>\n",
       "    <tr>\n",
       "      <th>3</th>\n",
       "      <td>Ayrton Senna</td>\n",
       "      <td>Brazil</td>\n",
       "      <td>4</td>\n",
       "      <td>Auto Racing</td>\n",
       "      <td>1990</td>\n",
       "      <td>10.0</td>\n",
       "    </tr>\n",
       "    <tr>\n",
       "      <th>4</th>\n",
       "      <td>Alain Prost</td>\n",
       "      <td>France</td>\n",
       "      <td>5</td>\n",
       "      <td>Auto Racing</td>\n",
       "      <td>1990</td>\n",
       "      <td>9.0</td>\n",
       "    </tr>\n",
       "    <tr>\n",
       "      <th>...</th>\n",
       "      <td>...</td>\n",
       "      <td>...</td>\n",
       "      <td>...</td>\n",
       "      <td>...</td>\n",
       "      <td>...</td>\n",
       "      <td>...</td>\n",
       "    </tr>\n",
       "    <tr>\n",
       "      <th>296</th>\n",
       "      <td>Stephen Curry</td>\n",
       "      <td>USA</td>\n",
       "      <td>6</td>\n",
       "      <td>NBA/Basketball</td>\n",
       "      <td>2020</td>\n",
       "      <td>74.4</td>\n",
       "    </tr>\n",
       "    <tr>\n",
       "      <th>297</th>\n",
       "      <td>Kevin Durant</td>\n",
       "      <td>USA</td>\n",
       "      <td>7</td>\n",
       "      <td>NBA/Basketball</td>\n",
       "      <td>2020</td>\n",
       "      <td>63.9</td>\n",
       "    </tr>\n",
       "    <tr>\n",
       "      <th>298</th>\n",
       "      <td>Tiger Woods</td>\n",
       "      <td>USA</td>\n",
       "      <td>8</td>\n",
       "      <td>Golf</td>\n",
       "      <td>2020</td>\n",
       "      <td>62.3</td>\n",
       "    </tr>\n",
       "    <tr>\n",
       "      <th>299</th>\n",
       "      <td>Kirk Cousins</td>\n",
       "      <td>USA</td>\n",
       "      <td>9</td>\n",
       "      <td>NFL</td>\n",
       "      <td>2020</td>\n",
       "      <td>60.5</td>\n",
       "    </tr>\n",
       "    <tr>\n",
       "      <th>300</th>\n",
       "      <td>Carson Wentz</td>\n",
       "      <td>USA</td>\n",
       "      <td>10</td>\n",
       "      <td>NFL</td>\n",
       "      <td>2020</td>\n",
       "      <td>59.1</td>\n",
       "    </tr>\n",
       "  </tbody>\n",
       "</table>\n",
       "<p>301 rows × 6 columns</p>\n",
       "</div>"
      ],
      "text/plain": [
       "                  Name Nationality  Current Rank           Sport  Year  \\\n",
       "0           Mike Tyson         USA             1          Boxing  1990   \n",
       "1       Buster Douglas         USA             2          Boxing  1990   \n",
       "2    Sugar Ray Leonard         USA             3          Boxing  1990   \n",
       "3         Ayrton Senna      Brazil             4     Auto Racing  1990   \n",
       "4          Alain Prost      France             5     Auto Racing  1990   \n",
       "..                 ...         ...           ...             ...   ...   \n",
       "296      Stephen Curry         USA             6  NBA/Basketball  2020   \n",
       "297       Kevin Durant         USA             7  NBA/Basketball  2020   \n",
       "298        Tiger Woods         USA             8            Golf  2020   \n",
       "299       Kirk Cousins         USA             9             NFL  2020   \n",
       "300       Carson Wentz         USA            10             NFL  2020   \n",
       "\n",
       "     Earnings ($M)  \n",
       "0             28.6  \n",
       "1             26.0  \n",
       "2             13.0  \n",
       "3             10.0  \n",
       "4              9.0  \n",
       "..             ...  \n",
       "296           74.4  \n",
       "297           63.9  \n",
       "298           62.3  \n",
       "299           60.5  \n",
       "300           59.1  \n",
       "\n",
       "[301 rows x 6 columns]"
      ]
     },
     "execution_count": 45,
     "metadata": {},
     "output_type": "execute_result"
    }
   ],
   "source": [
    "df # dispalys first and last 5 observations"
   ]
  },
  {
   "cell_type": "markdown",
   "metadata": {},
   "source": [
    "### 3. EDA and visualisation "
   ]
  },
  {
   "cell_type": "markdown",
   "metadata": {},
   "source": [
    "- Overview"
   ]
  },
  {
   "cell_type": "code",
   "execution_count": 64,
   "metadata": {},
   "outputs": [
    {
     "data": {
      "application/vnd.plotly.v1+json": {
       "config": {
        "plotlyServerURL": "https://plot.ly"
       },
       "data": [
        {
         "hovertemplate": "Nationality=USA<br>Year=%{x}<br>Sport=%{y}<br>Earnings ($M)=%{marker.size}<extra></extra>",
         "legendgroup": "USA",
         "marker": {
          "color": "#636efa",
          "size": [
           28.6,
           26,
           13,
           8.6,
           8.1,
           8.1,
           8.1,
           60.5,
           31.5,
           16,
           14.5,
           9.3,
           8.5,
           35.9,
           28,
           11.1,
           11,
           9.5,
           9.2,
           9,
           8.5,
           36,
           25,
           15.8,
           15.2,
           15,
           12.7,
           12.6,
           11.5,
           30,
           16.7,
           14.8,
           13.6,
           12.1,
           12,
           11.4,
           43.9,
           40,
           22.5,
           22.2,
           21.9,
           18,
           16,
           15.1,
           75,
           52.6,
           24.4,
           16.5,
           15.5,
           15.2,
           15.1,
           12.9,
           12.9,
           78.3,
           54.3,
           38,
           27,
           26.1,
           25.4,
           19.1,
           17,
           69,
           26.8,
           24.1,
           21.6,
           18.5,
           18.3,
           18.1,
           17.2,
           47,
           43.5,
           40,
           35.5,
           33,
           31,
           29,
           26.5,
           23,
           53,
           48,
           37,
           26,
           24.5,
           24,
           23,
           23,
           21,
           69,
           36,
           28,
           24,
           24,
           23,
           23,
           22,
           20,
           78,
           35,
           30.5,
           30,
           28,
           26,
           25.5,
           24,
           80.3,
           42,
           35,
           31.9,
           29.7,
           28.2,
           26.2,
           26.1,
           87,
           38,
           37.5,
           33.4,
           33,
           28.8,
           28,
           90,
           55,
           47,
           32,
           31,
           30,
           29,
           29,
           100,
           43,
           42,
           33,
           32,
           31,
           115,
           45,
           45,
           39,
           38,
           110,
           45,
           45,
           40,
           40,
           34,
           105,
           65,
           48,
           46,
           42.8,
           39.9,
           38.3,
           75,
           53,
           48,
           46.5,
           85,
           59.4,
           53,
           52.3,
           47.8,
           42.4,
           78.1,
           61.9,
           59.8,
           51,
           49,
           48.7,
           105,
           72.3,
           61.5,
           61.2,
           53.2,
           43.8,
           300,
           64.8,
           54.2,
           50.8,
           50.6,
           49.5,
           77.2,
           56.2,
           53.1,
           52.9,
           52.8,
           50,
           86.2,
           60.6,
           50,
           47.3,
           46.6,
           285,
           85.5,
           76.9,
           67.3,
           59.5,
           89.5,
           89.3,
           89,
           79.8,
           65.4,
           88.2,
           74.4,
           63.9,
           62.3,
           60.5,
           59.1
          ],
          "sizemode": "area",
          "sizeref": 0.75,
          "symbol": "circle"
         },
         "mode": "markers",
         "name": "USA",
         "orientation": "h",
         "showlegend": true,
         "type": "scatter",
         "x": [
          1990,
          1990,
          1990,
          1990,
          1990,
          1990,
          1990,
          1991,
          1991,
          1991,
          1991,
          1991,
          1991,
          1992,
          1992,
          1992,
          1992,
          1992,
          1992,
          1992,
          1992,
          1993,
          1993,
          1993,
          1993,
          1993,
          1993,
          1993,
          1993,
          1994,
          1994,
          1994,
          1994,
          1994,
          1994,
          1994,
          1995,
          1995,
          1995,
          1995,
          1995,
          1995,
          1995,
          1995,
          1996,
          1996,
          1996,
          1996,
          1996,
          1996,
          1996,
          1996,
          1996,
          1997,
          1997,
          1997,
          1997,
          1997,
          1997,
          1997,
          1997,
          1998,
          1998,
          1998,
          1998,
          1998,
          1998,
          1998,
          1998,
          1999,
          1999,
          1999,
          1999,
          1999,
          1999,
          1999,
          1999,
          1999,
          2000,
          2000,
          2000,
          2000,
          2000,
          2000,
          2000,
          2000,
          2000,
          2002,
          2002,
          2002,
          2002,
          2002,
          2002,
          2002,
          2002,
          2002,
          2003,
          2003,
          2003,
          2003,
          2003,
          2003,
          2003,
          2003,
          2004,
          2004,
          2004,
          2004,
          2004,
          2004,
          2004,
          2004,
          2005,
          2005,
          2005,
          2005,
          2005,
          2005,
          2005,
          2006,
          2006,
          2006,
          2006,
          2006,
          2006,
          2006,
          2006,
          2007,
          2007,
          2007,
          2007,
          2007,
          2007,
          2008,
          2008,
          2008,
          2008,
          2008,
          2009,
          2009,
          2009,
          2009,
          2009,
          2009,
          2010,
          2010,
          2010,
          2010,
          2010,
          2010,
          2010,
          2011,
          2011,
          2011,
          2011,
          2012,
          2012,
          2012,
          2012,
          2012,
          2012,
          2013,
          2013,
          2013,
          2013,
          2013,
          2013,
          2014,
          2014,
          2014,
          2014,
          2014,
          2014,
          2015,
          2015,
          2015,
          2015,
          2015,
          2015,
          2016,
          2016,
          2016,
          2016,
          2016,
          2016,
          2017,
          2017,
          2017,
          2017,
          2017,
          2018,
          2018,
          2018,
          2018,
          2018,
          2019,
          2019,
          2019,
          2019,
          2019,
          2020,
          2020,
          2020,
          2020,
          2020,
          2020
         ],
         "xaxis": "x",
         "y": [
          "Boxing",
          "Boxing",
          "Boxing",
          "Golf",
          "NBA/Basketball",
          "Golf",
          "Boxing",
          "Boxing",
          "Boxing",
          "NBA/Basketball",
          "Boxing",
          "Golf",
          "Golf",
          "NBA/Basketball",
          "Boxing",
          "Golf",
          "Tennis",
          "NFL",
          "Golf",
          "Tennis",
          "Tennis",
          "NBA/Basketball",
          "Boxing",
          "Boxing",
          "NBA/Basketball",
          "Boxing",
          "Baseball",
          "Tennis",
          "NFL",
          "NBA/Basketball",
          "NBA/Basketball",
          "Golf",
          "Golf",
          "Boxing",
          "Boxing",
          "Tennis",
          "NBA/Basketball",
          "Boxing",
          "American Football/Baseball",
          "Boxing",
          "NBA/Basketball",
          "Boxing",
          "Tennis",
          "Golf",
          "Boxing",
          "NBA/Basketball",
          "NBA/Basketball",
          "NFL",
          "Boxing",
          "Tennis",
          "Golf",
          "NBA/Basketball",
          "NBA/Basketball",
          "NBA/Basketball",
          "Boxing",
          "Boxing",
          "Boxing",
          "Golf",
          "NBA/Basketball",
          "Auto Racing",
          "NBA/Basketball",
          "NBA/Basketball",
          "Golf",
          "Auto Racing",
          "NBA/Basketball",
          "Boxing",
          "NBA/Basketball",
          "Golf",
          "Baseball",
          "Golf",
          "Boxing",
          "NBA/Basketball",
          "Boxing",
          "Boxing",
          "NBA/Basketball",
          "Boxing",
          "Auto Racing",
          "NBA/Basketball",
          "Golf",
          "Boxing",
          "NBA/Basketball",
          "NBA/Basketball",
          "Auto Racing",
          "NBA/Basketball",
          "Boxing",
          "Boxing",
          "NBA/Basketball",
          "Golf",
          "NBA/Basketball",
          "Boxing",
          "NBA/Basketball",
          "NBA/Basketball",
          "Boxing",
          "NBA/Basketball",
          "NBA/Basketball",
          "Auto Racing",
          "Golf",
          "NBA/Basketball",
          "NBA/Basketball",
          "Boxing",
          "NBA/Basketball",
          "Baseball",
          "NBA/Basketball",
          "Tennis",
          "Golf",
          "NFL",
          "NBA/Basketball",
          "NBA/Basketball",
          "NBA/Basketball",
          "Tennis",
          "Baseball",
          "NBA/Basketball",
          "Golf",
          "Boxing",
          "NFL",
          "NBA/Basketball",
          "NBA/Basketball",
          "NBA/Basketball",
          "Cycling",
          "Golf",
          "Boxing",
          "Golf",
          "NBA/Basketball",
          "NBA/Basketball",
          "NBA/Basketball",
          "Baseball",
          "NFL",
          "Golf",
          "Boxing",
          "Golf",
          "NBA/Basketball",
          "NBA/Basketball",
          "NBA/Basketball",
          "Golf",
          "NBA/Basketball",
          "Golf",
          "NBA/Basketball",
          "NBA/Basketball",
          "Golf",
          "NBA/Basketball",
          "NBA/Basketball",
          "NBA/Basketball",
          "Golf",
          "Auto Racing",
          "Golf",
          "Boxing",
          "NBA/Basketball",
          "Golf",
          "NBA/Basketball",
          "NFL",
          "NFL",
          "Golf",
          "NBA/Basketball",
          "NBA/Basketball",
          "Golf",
          "Boxing",
          "Golf",
          "NBA/Basketball",
          "NBA/Basketball",
          "Golf",
          "NFL",
          "Golf",
          "NBA/Basketball",
          "NBA/Basketball",
          "NFL",
          "NFL",
          "Golf",
          "Boxing",
          "NBA/Basketball",
          "NBA/Basketball",
          "Golf",
          "Golf",
          "NFL",
          "Boxing",
          "NBA/Basketball",
          "NBA/Basketball",
          "Golf",
          "Golf",
          "NBA/Basketball",
          "NBA/Basketball",
          "NBA/Basketball",
          "NFL",
          "Golf",
          "Golf",
          "NBA/Basketball",
          "NBA/Basketball",
          "NBA/Basketball",
          "NFL",
          "NBA/Basketball",
          "NBA/Basketball",
          "Boxing",
          "NBA/Basketball",
          "NBA/Basketball",
          "NFL",
          "NFL",
          "NFL",
          "NFL",
          "NBA/Basketball",
          "NBA/Basketball",
          "NBA/Basketball",
          "NBA/Basketball",
          "NBA/Basketball",
          "NBA/Basketball",
          "Golf",
          "NFL",
          "NFL"
         ],
         "yaxis": "y"
        },
        {
         "hovertemplate": "Nationality=Brazil<br>Year=%{x}<br>Sport=%{y}<br>Earnings ($M)=%{marker.size}<extra></extra>",
         "legendgroup": "Brazil",
         "marker": {
          "color": "#EF553B",
          "size": [
           10,
           13,
           22,
           18.5,
           31,
           37,
           90,
           105,
           95.5
          ],
          "sizemode": "area",
          "sizeref": 0.75,
          "symbol": "circle"
         },
         "mode": "markers",
         "name": "Brazil",
         "orientation": "h",
         "showlegend": true,
         "type": "scatter",
         "x": [
          1990,
          1991,
          1992,
          1993,
          2007,
          2008,
          2018,
          2019,
          2020
         ],
         "xaxis": "x",
         "y": [
          "Auto Racing",
          "Auto Racing",
          "Auto Racing",
          "Auto Racing",
          "Soccer",
          "Soccer",
          "Soccer",
          "Soccer",
          "Soccer"
         ],
         "yaxis": "y"
        },
        {
         "hovertemplate": "Nationality=France<br>Year=%{x}<br>Sport=%{y}<br>Earnings ($M)=%{marker.size}<extra></extra>",
         "legendgroup": "France",
         "marker": {
          "color": "#00cc96",
          "size": [
           9,
           11,
           16
          ],
          "sizemode": "area",
          "sizeref": 0.75,
          "symbol": "circle"
         },
         "mode": "markers",
         "name": "France",
         "orientation": "h",
         "showlegend": true,
         "type": "scatter",
         "x": [
          1990,
          1991,
          1993
         ],
         "xaxis": "x",
         "y": [
          "Auto Racing",
          "Auto Racing",
          "Auto Racing"
         ],
         "yaxis": "y"
        },
        {
         "hovertemplate": "Nationality=Australia<br>Year=%{x}<br>Sport=%{y}<br>Earnings ($M)=%{marker.size}<extra></extra>",
         "legendgroup": "Australia",
         "marker": {
          "color": "#ab63fa",
          "size": [
           8.5
          ],
          "sizemode": "area",
          "sizeref": 0.75,
          "symbol": "circle"
         },
         "mode": "markers",
         "name": "Australia",
         "orientation": "h",
         "showlegend": true,
         "type": "scatter",
         "x": [
          1990
         ],
         "xaxis": "x",
         "y": [
          "Golf"
         ],
         "yaxis": "y"
        },
        {
         "hovertemplate": "Nationality=Canada<br>Year=%{x}<br>Sport=%{y}<br>Earnings ($M)=%{marker.size}<extra></extra>",
         "legendgroup": "Canada",
         "marker": {
          "color": "#FFA15A",
          "size": [
           10.2,
           13.5,
           14.5,
           17.9,
           20,
           23
          ],
          "sizemode": "area",
          "sizeref": 0.75,
          "symbol": "circle"
         },
         "mode": "markers",
         "name": "Canada",
         "orientation": "h",
         "showlegend": true,
         "type": "scatter",
         "x": [
          1991,
          1994,
          1995,
          1997,
          2002,
          2003
         ],
         "xaxis": "x",
         "y": [
          "Boxing",
          "Hockey",
          "Hockey",
          "Hockey",
          "Auto Racing",
          "Auto Racing"
         ],
         "yaxis": "y"
        },
        {
         "hovertemplate": "Nationality=UK<br>Year=%{x}<br>Sport=%{y}<br>Earnings ($M)=%{marker.size}<extra></extra>",
         "legendgroup": "UK",
         "marker": {
          "color": "#19d3f3",
          "size": [
           9,
           14.5,
           11.3,
           28,
           32.5,
           33,
           50,
           42,
           43.7,
           40,
           46,
           47.2,
           46
          ],
          "sizemode": "area",
          "sizeref": 0.75,
          "symbol": "circle"
         },
         "mode": "markers",
         "name": "UK",
         "orientation": "h",
         "showlegend": true,
         "type": "scatter",
         "x": [
          1991,
          1992,
          1994,
          2004,
          2005,
          2007,
          2008,
          2009,
          2010,
          2011,
          2012,
          2013,
          2017
         ],
         "xaxis": "x",
         "y": [
          "Auto Racing",
          "Auto Racing",
          "Auto Racing",
          "Soccer",
          "Soccer",
          "Soccer",
          "Soccer",
          "Soccer",
          "Soccer",
          "Soccer",
          "Soccer",
          "Soccer",
          "Auto Racing"
         ],
         "yaxis": "y"
        },
        {
         "hovertemplate": "Nationality=Austria<br>Year=%{x}<br>Sport=%{y}<br>Earnings ($M)=%{marker.size}<extra></extra>",
         "legendgroup": "Austria",
         "marker": {
          "color": "#FF6692",
          "size": [
           13.5
          ],
          "sizemode": "area",
          "sizeref": 0.75,
          "symbol": "circle"
         },
         "mode": "markers",
         "name": "Austria",
         "orientation": "h",
         "showlegend": true,
         "type": "scatter",
         "x": [
          1994
         ],
         "xaxis": "x",
         "y": [
          "Auto Racing"
         ],
         "yaxis": "y"
        },
        {
         "hovertemplate": "Nationality=Germany<br>Year=%{x}<br>Sport=%{y}<br>Earnings ($M)=%{marker.size}<extra></extra>",
         "legendgroup": "Germany",
         "marker": {
          "color": "#B6E880",
          "size": [
           15,
           33,
           35,
           38,
           49,
           59,
           67,
           75,
           80,
           60,
           58,
           36,
           34
          ],
          "sizemode": "area",
          "sizeref": 0.75,
          "symbol": "circle"
         },
         "mode": "markers",
         "name": "Germany",
         "orientation": "h",
         "showlegend": true,
         "type": "scatter",
         "x": [
          1995,
          1996,
          1997,
          1998,
          1999,
          2000,
          2002,
          2003,
          2004,
          2005,
          2006,
          2007,
          2011
         ],
         "xaxis": "x",
         "y": [
          "Auto Racing",
          "Auto Racing",
          "Auto Racing",
          "Auto Racing",
          "Auto Racing",
          "Auto Racing",
          "Auto Racing",
          "Auto Racing",
          "Auto Racing",
          "Auto Racing",
          "Auto Racing",
          "Auto Racing",
          "Auto Racing"
         ],
         "yaxis": "y"
        },
        {
         "hovertemplate": "Nationality=Russia<br>Year=%{x}<br>Sport=%{y}<br>Earnings ($M)=%{marker.size}<extra></extra>",
         "legendgroup": "Russia",
         "marker": {
          "color": "#FF97FF",
          "size": [
           29.8
          ],
          "sizemode": "area",
          "sizeref": 0.75,
          "symbol": "circle"
         },
         "mode": "markers",
         "name": "Russia",
         "orientation": "h",
         "showlegend": true,
         "type": "scatter",
         "x": [
          1998
         ],
         "xaxis": "x",
         "y": [
          "Hockey"
         ],
         "yaxis": "y"
        },
        {
         "hovertemplate": "Nationality=Italy<br>Year=%{x}<br>Sport=%{y}<br>Earnings ($M)=%{marker.size}<extra></extra>",
         "legendgroup": "Italy",
         "marker": {
          "color": "#FECB52",
          "size": [
           28,
           30,
           35,
           35
          ],
          "sizemode": "area",
          "sizeref": 0.75,
          "symbol": "circle"
         },
         "mode": "markers",
         "name": "Italy",
         "orientation": "h",
         "showlegend": true,
         "type": "scatter",
         "x": [
          2005,
          2006,
          2008,
          2009
         ],
         "xaxis": "x",
         "y": [
          "Auto Racing",
          "Auto Racing",
          "Auto Racing",
          "Auto Racing"
         ],
         "yaxis": "y"
        },
        {
         "hovertemplate": "Nationality=Finland<br>Year=%{x}<br>Sport=%{y}<br>Earnings ($M)=%{marker.size}<extra></extra>",
         "legendgroup": "Finland",
         "marker": {
          "color": "#636efa",
          "size": [
           40,
           44,
           45
          ],
          "sizemode": "area",
          "sizeref": 0.75,
          "symbol": "circle"
         },
         "mode": "markers",
         "name": "Finland",
         "orientation": "h",
         "showlegend": true,
         "type": "scatter",
         "x": [
          2007,
          2008,
          2009
         ],
         "xaxis": "x",
         "y": [
          "Auto Racing",
          "Auto Racing",
          "Auto Racing"
         ],
         "yaxis": "y"
        },
        {
         "hovertemplate": "Nationality=Switzerland<br>Year=%{x}<br>Sport=%{y}<br>Earnings ($M)=%{marker.size}<extra></extra>",
         "legendgroup": "Switzerland",
         "marker": {
          "color": "#EF553B",
          "size": [
           35,
           43,
           47,
           52.7,
           71.5,
           56.2,
           67,
           67.8,
           64,
           77.2,
           93.4,
           106.3
          ],
          "sizemode": "area",
          "sizeref": 0.75,
          "symbol": "circle"
         },
         "mode": "markers",
         "name": "Switzerland",
         "orientation": "h",
         "showlegend": true,
         "type": "scatter",
         "x": [
          2008,
          2010,
          2011,
          2012,
          2013,
          2014,
          2015,
          2016,
          2017,
          2018,
          2019,
          2020
         ],
         "xaxis": "x",
         "y": [
          "Tennis",
          "Tennis",
          "Tennis",
          "Tennis",
          "Tennis",
          "Tennis",
          "Tennis",
          "Tennis",
          "Tennis",
          "Tennis",
          "Tennis",
          "Tennis"
         ],
         "yaxis": "y"
        },
        {
         "hovertemplate": "Nationality=Philippines<br>Year=%{x}<br>Sport=%{y}<br>Earnings ($M)=%{marker.size}<extra></extra>",
         "legendgroup": "Philippines",
         "marker": {
          "color": "#00cc96",
          "size": [
           40,
           42,
           160
          ],
          "sizemode": "area",
          "sizeref": 0.75,
          "symbol": "circle"
         },
         "mode": "markers",
         "name": "Philippines",
         "orientation": "h",
         "showlegend": true,
         "type": "scatter",
         "x": [
          2009,
          2010,
          2015
         ],
         "xaxis": "x",
         "y": [
          "Boxing",
          "Boxing",
          "Boxing"
         ],
         "yaxis": "y"
        },
        {
         "hovertemplate": "Nationality=Portugal<br>Year=%{x}<br>Sport=%{y}<br>Earnings ($M)=%{marker.size}<extra></extra>",
         "legendgroup": "Portugal",
         "marker": {
          "color": "#ab63fa",
          "size": [
           38,
           42.5,
           44,
           80,
           79.6,
           88,
           93,
           108,
           109,
           105
          ],
          "sizemode": "area",
          "sizeref": 0.75,
          "symbol": "circle"
         },
         "mode": "markers",
         "name": "Portugal",
         "orientation": "h",
         "showlegend": true,
         "type": "scatter",
         "x": [
          2011,
          2012,
          2013,
          2014,
          2015,
          2016,
          2017,
          2018,
          2019,
          2020
         ],
         "xaxis": "x",
         "y": [
          "Soccer",
          "Soccer",
          "Soccer",
          "Soccer",
          "Soccer",
          "Soccer",
          "Soccer",
          "Soccer",
          "Soccer",
          "Soccer"
         ],
         "yaxis": "y"
        },
        {
         "hovertemplate": "Nationality=Dominican<br>Year=%{x}<br>Sport=%{y}<br>Earnings ($M)=%{marker.size}<extra></extra>",
         "legendgroup": "Dominican",
         "marker": {
          "color": "#FFA15A",
          "size": [
           35
          ],
          "sizemode": "area",
          "sizeref": 0.75,
          "symbol": "circle"
         },
         "mode": "markers",
         "name": "Dominican",
         "orientation": "h",
         "showlegend": true,
         "type": "scatter",
         "x": [
          2011
         ],
         "xaxis": "x",
         "y": [
          "Baseball"
         ],
         "yaxis": "y"
        },
        {
         "hovertemplate": "Nationality=Argentina<br>Year=%{x}<br>Sport=%{y}<br>Earnings ($M)=%{marker.size}<extra></extra>",
         "legendgroup": "Argentina",
         "marker": {
          "color": "#19d3f3",
          "size": [
           32.3,
           41.3,
           64.7,
           73.8,
           81.4,
           80,
           111,
           127,
           104
          ],
          "sizemode": "area",
          "sizeref": 0.75,
          "symbol": "circle"
         },
         "mode": "markers",
         "name": "Argentina",
         "orientation": "h",
         "showlegend": true,
         "type": "scatter",
         "x": [
          2011,
          2013,
          2014,
          2015,
          2016,
          2017,
          2018,
          2019,
          2020
         ],
         "xaxis": "x",
         "y": [
          "Soccer",
          "Soccer",
          "Soccer",
          "Soccer",
          "Soccer",
          "Soccer",
          "Soccer",
          "Soccer",
          "Soccer"
         ],
         "yaxis": "y"
        },
        {
         "hovertemplate": "Nationality=Filipino<br>Year=%{x}<br>Sport=%{y}<br>Earnings ($M)=%{marker.size}<extra></extra>",
         "legendgroup": "Filipino",
         "marker": {
          "color": "#FF6692",
          "size": [
           62
          ],
          "sizemode": "area",
          "sizeref": 0.75,
          "symbol": "circle"
         },
         "mode": "markers",
         "name": "Filipino",
         "orientation": "h",
         "showlegend": true,
         "type": "scatter",
         "x": [
          2012
         ],
         "xaxis": "x",
         "y": [
          "Boxing"
         ],
         "yaxis": "y"
        },
        {
         "hovertemplate": "Nationality=Spain<br>Year=%{x}<br>Sport=%{y}<br>Earnings ($M)=%{marker.size}<extra></extra>",
         "legendgroup": "Spain",
         "marker": {
          "color": "#B6E880",
          "size": [
           44.5
          ],
          "sizemode": "area",
          "sizeref": 0.75,
          "symbol": "circle"
         },
         "mode": "markers",
         "name": "Spain",
         "orientation": "h",
         "showlegend": true,
         "type": "scatter",
         "x": [
          2014
         ],
         "xaxis": "x",
         "y": [
          "Tennis"
         ],
         "yaxis": "y"
        },
        {
         "hovertemplate": "Nationality=Serbia<br>Year=%{x}<br>Sport=%{y}<br>Earnings ($M)=%{marker.size}<extra></extra>",
         "legendgroup": "Serbia",
         "marker": {
          "color": "#FF97FF",
          "size": [
           55.8
          ],
          "sizemode": "area",
          "sizeref": 0.75,
          "symbol": "circle"
         },
         "mode": "markers",
         "name": "Serbia",
         "orientation": "h",
         "showlegend": true,
         "type": "scatter",
         "x": [
          2016
         ],
         "xaxis": "x",
         "y": [
          "Tennis"
         ],
         "yaxis": "y"
        },
        {
         "hovertemplate": "Nationality=Northern Ireland<br>Year=%{x}<br>Sport=%{y}<br>Earnings ($M)=%{marker.size}<extra></extra>",
         "legendgroup": "Northern Ireland",
         "marker": {
          "color": "#FECB52",
          "size": [
           50
          ],
          "sizemode": "area",
          "sizeref": 0.75,
          "symbol": "circle"
         },
         "mode": "markers",
         "name": "Northern Ireland",
         "orientation": "h",
         "showlegend": true,
         "type": "scatter",
         "x": [
          2017
         ],
         "xaxis": "x",
         "y": [
          "Golf"
         ],
         "yaxis": "y"
        },
        {
         "hovertemplate": "Nationality=Ireland<br>Year=%{x}<br>Sport=%{y}<br>Earnings ($M)=%{marker.size}<extra></extra>",
         "legendgroup": "Ireland",
         "marker": {
          "color": "#636efa",
          "size": [
           99
          ],
          "sizemode": "area",
          "sizeref": 0.75,
          "symbol": "circle"
         },
         "mode": "markers",
         "name": "Ireland",
         "orientation": "h",
         "showlegend": true,
         "type": "scatter",
         "x": [
          2018
         ],
         "xaxis": "x",
         "y": [
          "MMA"
         ],
         "yaxis": "y"
        },
        {
         "hovertemplate": "Nationality=Mexico<br>Year=%{x}<br>Sport=%{y}<br>Earnings ($M)=%{marker.size}<extra></extra>",
         "legendgroup": "Mexico",
         "marker": {
          "color": "#EF553B",
          "size": [
           94
          ],
          "sizemode": "area",
          "sizeref": 0.75,
          "symbol": "circle"
         },
         "mode": "markers",
         "name": "Mexico",
         "orientation": "h",
         "showlegend": true,
         "type": "scatter",
         "x": [
          2019
         ],
         "xaxis": "x",
         "y": [
          "Boxing"
         ],
         "yaxis": "y"
        }
       ],
       "layout": {
        "legend": {
         "itemsizing": "constant",
         "title": {
          "text": "Nationality"
         },
         "tracegroupgap": 0
        },
        "template": {
         "data": {
          "bar": [
           {
            "error_x": {
             "color": "#2a3f5f"
            },
            "error_y": {
             "color": "#2a3f5f"
            },
            "marker": {
             "line": {
              "color": "#E5ECF6",
              "width": 0.5
             },
             "pattern": {
              "fillmode": "overlay",
              "size": 10,
              "solidity": 0.2
             }
            },
            "type": "bar"
           }
          ],
          "barpolar": [
           {
            "marker": {
             "line": {
              "color": "#E5ECF6",
              "width": 0.5
             },
             "pattern": {
              "fillmode": "overlay",
              "size": 10,
              "solidity": 0.2
             }
            },
            "type": "barpolar"
           }
          ],
          "carpet": [
           {
            "aaxis": {
             "endlinecolor": "#2a3f5f",
             "gridcolor": "white",
             "linecolor": "white",
             "minorgridcolor": "white",
             "startlinecolor": "#2a3f5f"
            },
            "baxis": {
             "endlinecolor": "#2a3f5f",
             "gridcolor": "white",
             "linecolor": "white",
             "minorgridcolor": "white",
             "startlinecolor": "#2a3f5f"
            },
            "type": "carpet"
           }
          ],
          "choropleth": [
           {
            "colorbar": {
             "outlinewidth": 0,
             "ticks": ""
            },
            "type": "choropleth"
           }
          ],
          "contour": [
           {
            "colorbar": {
             "outlinewidth": 0,
             "ticks": ""
            },
            "colorscale": [
             [
              0,
              "#0d0887"
             ],
             [
              0.1111111111111111,
              "#46039f"
             ],
             [
              0.2222222222222222,
              "#7201a8"
             ],
             [
              0.3333333333333333,
              "#9c179e"
             ],
             [
              0.4444444444444444,
              "#bd3786"
             ],
             [
              0.5555555555555556,
              "#d8576b"
             ],
             [
              0.6666666666666666,
              "#ed7953"
             ],
             [
              0.7777777777777778,
              "#fb9f3a"
             ],
             [
              0.8888888888888888,
              "#fdca26"
             ],
             [
              1,
              "#f0f921"
             ]
            ],
            "type": "contour"
           }
          ],
          "contourcarpet": [
           {
            "colorbar": {
             "outlinewidth": 0,
             "ticks": ""
            },
            "type": "contourcarpet"
           }
          ],
          "heatmap": [
           {
            "colorbar": {
             "outlinewidth": 0,
             "ticks": ""
            },
            "colorscale": [
             [
              0,
              "#0d0887"
             ],
             [
              0.1111111111111111,
              "#46039f"
             ],
             [
              0.2222222222222222,
              "#7201a8"
             ],
             [
              0.3333333333333333,
              "#9c179e"
             ],
             [
              0.4444444444444444,
              "#bd3786"
             ],
             [
              0.5555555555555556,
              "#d8576b"
             ],
             [
              0.6666666666666666,
              "#ed7953"
             ],
             [
              0.7777777777777778,
              "#fb9f3a"
             ],
             [
              0.8888888888888888,
              "#fdca26"
             ],
             [
              1,
              "#f0f921"
             ]
            ],
            "type": "heatmap"
           }
          ],
          "heatmapgl": [
           {
            "colorbar": {
             "outlinewidth": 0,
             "ticks": ""
            },
            "colorscale": [
             [
              0,
              "#0d0887"
             ],
             [
              0.1111111111111111,
              "#46039f"
             ],
             [
              0.2222222222222222,
              "#7201a8"
             ],
             [
              0.3333333333333333,
              "#9c179e"
             ],
             [
              0.4444444444444444,
              "#bd3786"
             ],
             [
              0.5555555555555556,
              "#d8576b"
             ],
             [
              0.6666666666666666,
              "#ed7953"
             ],
             [
              0.7777777777777778,
              "#fb9f3a"
             ],
             [
              0.8888888888888888,
              "#fdca26"
             ],
             [
              1,
              "#f0f921"
             ]
            ],
            "type": "heatmapgl"
           }
          ],
          "histogram": [
           {
            "marker": {
             "pattern": {
              "fillmode": "overlay",
              "size": 10,
              "solidity": 0.2
             }
            },
            "type": "histogram"
           }
          ],
          "histogram2d": [
           {
            "colorbar": {
             "outlinewidth": 0,
             "ticks": ""
            },
            "colorscale": [
             [
              0,
              "#0d0887"
             ],
             [
              0.1111111111111111,
              "#46039f"
             ],
             [
              0.2222222222222222,
              "#7201a8"
             ],
             [
              0.3333333333333333,
              "#9c179e"
             ],
             [
              0.4444444444444444,
              "#bd3786"
             ],
             [
              0.5555555555555556,
              "#d8576b"
             ],
             [
              0.6666666666666666,
              "#ed7953"
             ],
             [
              0.7777777777777778,
              "#fb9f3a"
             ],
             [
              0.8888888888888888,
              "#fdca26"
             ],
             [
              1,
              "#f0f921"
             ]
            ],
            "type": "histogram2d"
           }
          ],
          "histogram2dcontour": [
           {
            "colorbar": {
             "outlinewidth": 0,
             "ticks": ""
            },
            "colorscale": [
             [
              0,
              "#0d0887"
             ],
             [
              0.1111111111111111,
              "#46039f"
             ],
             [
              0.2222222222222222,
              "#7201a8"
             ],
             [
              0.3333333333333333,
              "#9c179e"
             ],
             [
              0.4444444444444444,
              "#bd3786"
             ],
             [
              0.5555555555555556,
              "#d8576b"
             ],
             [
              0.6666666666666666,
              "#ed7953"
             ],
             [
              0.7777777777777778,
              "#fb9f3a"
             ],
             [
              0.8888888888888888,
              "#fdca26"
             ],
             [
              1,
              "#f0f921"
             ]
            ],
            "type": "histogram2dcontour"
           }
          ],
          "mesh3d": [
           {
            "colorbar": {
             "outlinewidth": 0,
             "ticks": ""
            },
            "type": "mesh3d"
           }
          ],
          "parcoords": [
           {
            "line": {
             "colorbar": {
              "outlinewidth": 0,
              "ticks": ""
             }
            },
            "type": "parcoords"
           }
          ],
          "pie": [
           {
            "automargin": true,
            "type": "pie"
           }
          ],
          "scatter": [
           {
            "fillpattern": {
             "fillmode": "overlay",
             "size": 10,
             "solidity": 0.2
            },
            "type": "scatter"
           }
          ],
          "scatter3d": [
           {
            "line": {
             "colorbar": {
              "outlinewidth": 0,
              "ticks": ""
             }
            },
            "marker": {
             "colorbar": {
              "outlinewidth": 0,
              "ticks": ""
             }
            },
            "type": "scatter3d"
           }
          ],
          "scattercarpet": [
           {
            "marker": {
             "colorbar": {
              "outlinewidth": 0,
              "ticks": ""
             }
            },
            "type": "scattercarpet"
           }
          ],
          "scattergeo": [
           {
            "marker": {
             "colorbar": {
              "outlinewidth": 0,
              "ticks": ""
             }
            },
            "type": "scattergeo"
           }
          ],
          "scattergl": [
           {
            "marker": {
             "colorbar": {
              "outlinewidth": 0,
              "ticks": ""
             }
            },
            "type": "scattergl"
           }
          ],
          "scattermapbox": [
           {
            "marker": {
             "colorbar": {
              "outlinewidth": 0,
              "ticks": ""
             }
            },
            "type": "scattermapbox"
           }
          ],
          "scatterpolar": [
           {
            "marker": {
             "colorbar": {
              "outlinewidth": 0,
              "ticks": ""
             }
            },
            "type": "scatterpolar"
           }
          ],
          "scatterpolargl": [
           {
            "marker": {
             "colorbar": {
              "outlinewidth": 0,
              "ticks": ""
             }
            },
            "type": "scatterpolargl"
           }
          ],
          "scatterternary": [
           {
            "marker": {
             "colorbar": {
              "outlinewidth": 0,
              "ticks": ""
             }
            },
            "type": "scatterternary"
           }
          ],
          "surface": [
           {
            "colorbar": {
             "outlinewidth": 0,
             "ticks": ""
            },
            "colorscale": [
             [
              0,
              "#0d0887"
             ],
             [
              0.1111111111111111,
              "#46039f"
             ],
             [
              0.2222222222222222,
              "#7201a8"
             ],
             [
              0.3333333333333333,
              "#9c179e"
             ],
             [
              0.4444444444444444,
              "#bd3786"
             ],
             [
              0.5555555555555556,
              "#d8576b"
             ],
             [
              0.6666666666666666,
              "#ed7953"
             ],
             [
              0.7777777777777778,
              "#fb9f3a"
             ],
             [
              0.8888888888888888,
              "#fdca26"
             ],
             [
              1,
              "#f0f921"
             ]
            ],
            "type": "surface"
           }
          ],
          "table": [
           {
            "cells": {
             "fill": {
              "color": "#EBF0F8"
             },
             "line": {
              "color": "white"
             }
            },
            "header": {
             "fill": {
              "color": "#C8D4E3"
             },
             "line": {
              "color": "white"
             }
            },
            "type": "table"
           }
          ]
         },
         "layout": {
          "annotationdefaults": {
           "arrowcolor": "#2a3f5f",
           "arrowhead": 0,
           "arrowwidth": 1
          },
          "autotypenumbers": "strict",
          "coloraxis": {
           "colorbar": {
            "outlinewidth": 0,
            "ticks": ""
           }
          },
          "colorscale": {
           "diverging": [
            [
             0,
             "#8e0152"
            ],
            [
             0.1,
             "#c51b7d"
            ],
            [
             0.2,
             "#de77ae"
            ],
            [
             0.3,
             "#f1b6da"
            ],
            [
             0.4,
             "#fde0ef"
            ],
            [
             0.5,
             "#f7f7f7"
            ],
            [
             0.6,
             "#e6f5d0"
            ],
            [
             0.7,
             "#b8e186"
            ],
            [
             0.8,
             "#7fbc41"
            ],
            [
             0.9,
             "#4d9221"
            ],
            [
             1,
             "#276419"
            ]
           ],
           "sequential": [
            [
             0,
             "#0d0887"
            ],
            [
             0.1111111111111111,
             "#46039f"
            ],
            [
             0.2222222222222222,
             "#7201a8"
            ],
            [
             0.3333333333333333,
             "#9c179e"
            ],
            [
             0.4444444444444444,
             "#bd3786"
            ],
            [
             0.5555555555555556,
             "#d8576b"
            ],
            [
             0.6666666666666666,
             "#ed7953"
            ],
            [
             0.7777777777777778,
             "#fb9f3a"
            ],
            [
             0.8888888888888888,
             "#fdca26"
            ],
            [
             1,
             "#f0f921"
            ]
           ],
           "sequentialminus": [
            [
             0,
             "#0d0887"
            ],
            [
             0.1111111111111111,
             "#46039f"
            ],
            [
             0.2222222222222222,
             "#7201a8"
            ],
            [
             0.3333333333333333,
             "#9c179e"
            ],
            [
             0.4444444444444444,
             "#bd3786"
            ],
            [
             0.5555555555555556,
             "#d8576b"
            ],
            [
             0.6666666666666666,
             "#ed7953"
            ],
            [
             0.7777777777777778,
             "#fb9f3a"
            ],
            [
             0.8888888888888888,
             "#fdca26"
            ],
            [
             1,
             "#f0f921"
            ]
           ]
          },
          "colorway": [
           "#636efa",
           "#EF553B",
           "#00cc96",
           "#ab63fa",
           "#FFA15A",
           "#19d3f3",
           "#FF6692",
           "#B6E880",
           "#FF97FF",
           "#FECB52"
          ],
          "font": {
           "color": "#2a3f5f"
          },
          "geo": {
           "bgcolor": "white",
           "lakecolor": "white",
           "landcolor": "#E5ECF6",
           "showlakes": true,
           "showland": true,
           "subunitcolor": "white"
          },
          "hoverlabel": {
           "align": "left"
          },
          "hovermode": "closest",
          "mapbox": {
           "style": "light"
          },
          "paper_bgcolor": "white",
          "plot_bgcolor": "#E5ECF6",
          "polar": {
           "angularaxis": {
            "gridcolor": "white",
            "linecolor": "white",
            "ticks": ""
           },
           "bgcolor": "#E5ECF6",
           "radialaxis": {
            "gridcolor": "white",
            "linecolor": "white",
            "ticks": ""
           }
          },
          "scene": {
           "xaxis": {
            "backgroundcolor": "#E5ECF6",
            "gridcolor": "white",
            "gridwidth": 2,
            "linecolor": "white",
            "showbackground": true,
            "ticks": "",
            "zerolinecolor": "white"
           },
           "yaxis": {
            "backgroundcolor": "#E5ECF6",
            "gridcolor": "white",
            "gridwidth": 2,
            "linecolor": "white",
            "showbackground": true,
            "ticks": "",
            "zerolinecolor": "white"
           },
           "zaxis": {
            "backgroundcolor": "#E5ECF6",
            "gridcolor": "white",
            "gridwidth": 2,
            "linecolor": "white",
            "showbackground": true,
            "ticks": "",
            "zerolinecolor": "white"
           }
          },
          "shapedefaults": {
           "line": {
            "color": "#2a3f5f"
           }
          },
          "ternary": {
           "aaxis": {
            "gridcolor": "white",
            "linecolor": "white",
            "ticks": ""
           },
           "baxis": {
            "gridcolor": "white",
            "linecolor": "white",
            "ticks": ""
           },
           "bgcolor": "#E5ECF6",
           "caxis": {
            "gridcolor": "white",
            "linecolor": "white",
            "ticks": ""
           }
          },
          "title": {
           "x": 0.05
          },
          "xaxis": {
           "automargin": true,
           "gridcolor": "white",
           "linecolor": "white",
           "ticks": "",
           "title": {
            "standoff": 15
           },
           "zerolinecolor": "white",
           "zerolinewidth": 2
          },
          "yaxis": {
           "automargin": true,
           "gridcolor": "white",
           "linecolor": "white",
           "ticks": "",
           "title": {
            "standoff": 15
           },
           "zerolinecolor": "white",
           "zerolinewidth": 2
          }
         }
        },
        "title": {
         "text": "Overall sports vs nationality by year"
        },
        "xaxis": {
         "anchor": "y",
         "domain": [
          0,
          1
         ],
         "title": {
          "text": "Year"
         }
        },
        "yaxis": {
         "anchor": "x",
         "domain": [
          0,
          1
         ],
         "title": {
          "text": "Sport"
         }
        }
       }
      }
     },
     "metadata": {},
     "output_type": "display_data"
    }
   ],
   "source": [
    "\n",
    "fig = px.scatter(df,y='Sport', x='Year', size='Earnings ($M)',color='Nationality',\n",
    "    title='Overall sports vs nationality by year')\n",
    "fig.show()\n",
    "# The scatter plot below displays an overall overview of the data set\n",
    "# USA nationality seems to be the dominant in particular in sports like boxing, NBA/Basketball or golf.\n"
   ]
  },
  {
   "cell_type": "markdown",
   "metadata": {},
   "source": [
    "- Number of players by nationality"
   ]
  },
  {
   "cell_type": "code",
   "execution_count": 47,
   "metadata": {},
   "outputs": [
    {
     "data": {
      "text/plain": [
       "Nationality     \n",
       "USA                 206\n",
       "Germany              13\n",
       "UK                   13\n",
       "Switzerland          12\n",
       "Portugal             10\n",
       "Argentina             9\n",
       "Brazil                9\n",
       "Canada                6\n",
       "Italy                 4\n",
       "Finland               3\n",
       "France                3\n",
       "Philippines           3\n",
       "Filipino              1\n",
       "Dominican             1\n",
       "Ireland               1\n",
       "Australia             1\n",
       "Mexico                1\n",
       "Northern Ireland      1\n",
       "Russia                1\n",
       "Serbia                1\n",
       "Spain                 1\n",
       "Austria               1\n",
       "dtype: int64"
      ]
     },
     "execution_count": 47,
     "metadata": {},
     "output_type": "execute_result"
    },
    {
     "data": {
      "image/png": "[encoded data removed]",
      "text/plain": [
       "<Figure size 640x480 with 1 Axes>"
      ]
     },
     "metadata": {},
     "output_type": "display_data"
    }
   ],
   "source": [
    "plt.title('Number of players by nationality')\n",
    "sns.histplot(df, y='Nationality',)\n",
    "df[['Nationality']].value_counts()\n",
    "# There are 206 US players out of 301"
   ]
  },
  {
   "cell_type": "markdown",
   "metadata": {},
   "source": [
    "- Total earnings ($M) by nationality"
   ]
  },
  {
   "cell_type": "code",
   "execution_count": 48,
   "metadata": {},
   "outputs": [
    {
     "data": {
      "application/vnd.plotly.v1+json": {
       "config": {
        "plotlyServerURL": "https://plot.ly"
       },
       "data": [
        {
         "alignmentgroup": "True",
         "bingroup": "y",
         "histfunc": "sum",
         "hovertemplate": "sum of Earnings ($M)=%{x}<br>Nationality=%{y}<extra></extra>",
         "legendgroup": "",
         "marker": {
          "color": "#636efa",
          "pattern": {
           "shape": ""
          }
         },
         "name": "",
         "offsetgroup": "",
         "orientation": "h",
         "showlegend": false,
         "type": "histogram",
         "x": [
          28.6,
          26,
          13,
          10,
          9,
          8.6,
          8.5,
          8.1,
          8.1,
          8.1,
          60.5,
          31.5,
          16,
          14.5,
          13,
          11,
          10.2,
          9.3,
          9,
          8.5,
          35.9,
          28,
          22,
          14.5,
          11.1,
          11,
          9.5,
          9.2,
          9,
          8.5,
          36,
          25,
          18.5,
          16,
          15.8,
          15.2,
          15,
          12.7,
          12.6,
          11.5,
          30,
          16.7,
          14.8,
          13.6,
          13.5,
          13.5,
          12.1,
          12,
          11.4,
          11.3,
          43.9,
          40,
          22.5,
          22.2,
          21.9,
          18,
          16,
          15.1,
          15,
          14.5,
          75,
          52.6,
          33,
          24.4,
          16.5,
          15.5,
          15.2,
          15.1,
          12.9,
          12.9,
          78.3,
          54.3,
          38,
          35,
          27,
          26.1,
          25.4,
          19.1,
          17.9,
          17,
          69,
          38,
          29.8,
          26.8,
          24.1,
          21.6,
          18.5,
          18.3,
          18.1,
          17.2,
          49,
          47,
          43.5,
          40,
          35.5,
          33,
          31,
          29,
          26.5,
          23,
          59,
          53,
          48,
          37,
          26,
          24.5,
          24,
          23,
          23,
          21,
          69,
          67,
          36,
          28,
          24,
          24,
          23,
          23,
          22,
          20,
          20,
          78,
          75,
          35,
          30.5,
          30,
          28,
          26,
          25.5,
          24,
          23,
          80.3,
          80,
          42,
          35,
          31.9,
          29.7,
          28.2,
          28,
          26.2,
          26.1,
          87,
          60,
          38,
          37.5,
          33.4,
          33,
          32.5,
          28.8,
          28,
          28,
          90,
          58,
          55,
          47,
          32,
          31,
          30,
          30,
          29,
          29,
          100,
          43,
          42,
          40,
          36,
          33,
          33,
          32,
          31,
          31,
          115,
          50,
          45,
          45,
          44,
          39,
          38,
          37,
          35,
          35,
          110,
          45,
          45,
          45,
          42,
          40,
          40,
          40,
          35,
          34,
          105,
          65,
          48,
          46,
          43.7,
          43,
          42.8,
          42,
          39.9,
          38.3,
          75,
          53,
          48,
          47,
          46.5,
          40,
          38,
          35,
          34,
          32.3,
          85,
          62,
          59.4,
          53,
          52.7,
          52.3,
          47.8,
          46,
          42.5,
          42.4,
          78.1,
          71.5,
          61.9,
          59.8,
          51,
          49,
          48.7,
          47.2,
          44,
          41.3,
          105,
          80,
          72.3,
          64.7,
          61.5,
          61.2,
          56.2,
          53.2,
          44.5,
          43.8,
          300,
          160,
          79.6,
          73.8,
          67,
          64.8,
          54.2,
          50.8,
          50.6,
          49.5,
          88,
          81.4,
          77.2,
          67.8,
          56.2,
          55.8,
          53.1,
          52.9,
          52.8,
          50,
          93,
          86.2,
          80,
          64,
          60.6,
          50,
          50,
          47.3,
          46.6,
          46,
          285,
          111,
          108,
          99,
          90,
          85.5,
          77.2,
          76.9,
          67.3,
          59.5,
          127,
          109,
          105,
          94,
          93.4,
          89.5,
          89.3,
          89,
          79.8,
          65.4,
          106.3,
          105,
          104,
          95.5,
          88.2,
          74.4,
          63.9,
          62.3,
          60.5,
          59.1
         ],
         "xaxis": "x",
         "y": [
          "USA",
          "USA",
          "USA",
          "Brazil",
          "France",
          "USA",
          "Australia",
          "USA",
          "USA",
          "USA",
          "USA",
          "USA",
          "USA",
          "USA",
          "Brazil",
          "France",
          "Canada",
          "USA",
          "UK",
          "USA",
          "USA",
          "USA",
          "Brazil",
          "UK",
          "USA",
          "USA",
          "USA",
          "USA",
          "USA",
          "USA",
          "USA",
          "USA",
          "Brazil",
          "France",
          "USA",
          "USA",
          "USA",
          "USA",
          "USA",
          "USA",
          "USA",
          "USA",
          "USA",
          "USA",
          "Austria",
          "Canada",
          "USA",
          "USA",
          "USA",
          "UK",
          "USA",
          "USA",
          "USA",
          "USA",
          "USA",
          "USA",
          "USA",
          "USA",
          "Germany",
          "Canada",
          "USA",
          "USA",
          "Germany",
          "USA",
          "USA",
          "USA",
          "USA",
          "USA",
          "USA",
          "USA",
          "USA",
          "USA",
          "USA",
          "Germany",
          "USA",
          "USA",
          "USA",
          "USA",
          "Canada",
          "USA",
          "USA",
          "Germany",
          "Russia",
          "USA",
          "USA",
          "USA",
          "USA",
          "USA",
          "USA",
          "USA",
          "Germany",
          "USA",
          "USA",
          "USA",
          "USA",
          "USA",
          "USA",
          "USA",
          "USA",
          "USA",
          "Germany",
          "USA",
          "USA",
          "USA",
          "USA",
          "USA",
          "USA",
          "USA",
          "USA",
          "USA",
          "USA",
          "Germany",
          "USA",
          "USA",
          "USA",
          "USA",
          "USA",
          "USA",
          "USA",
          "Canada",
          "USA",
          "USA",
          "Germany",
          "USA",
          "USA",
          "USA",
          "USA",
          "USA",
          "USA",
          "USA",
          "Canada",
          "USA",
          "Germany",
          "USA",
          "USA",
          "USA",
          "USA",
          "USA",
          "UK",
          "USA",
          "USA",
          "USA",
          "Germany",
          "USA",
          "USA",
          "USA",
          "USA",
          "UK",
          "USA",
          "USA",
          "Italy",
          "USA",
          "Germany",
          "USA",
          "USA",
          "USA",
          "USA",
          "USA",
          "Italy",
          "USA",
          "USA",
          "USA",
          "USA",
          "USA",
          "Finland",
          "Germany",
          "UK",
          "USA",
          "USA",
          "Brazil",
          "USA",
          "USA",
          "UK",
          "USA",
          "USA",
          "Finland",
          "USA",
          "USA",
          "Brazil",
          "Italy",
          "Switzerland",
          "USA",
          "USA",
          "USA",
          "Finland",
          "UK",
          "USA",
          "USA",
          "Philippines",
          "Italy",
          "USA",
          "USA",
          "USA",
          "USA",
          "USA",
          "UK",
          "Switzerland",
          "USA",
          "Philippines",
          "USA",
          "USA",
          "USA",
          "USA",
          "USA",
          "Switzerland",
          "USA",
          "UK",
          "Portugal",
          "Dominican",
          "Germany",
          "Argentina",
          "USA",
          "Filipino",
          "USA",
          "USA",
          "Switzerland",
          "USA",
          "USA",
          "UK",
          "Portugal",
          "USA",
          "USA",
          "Switzerland",
          "USA",
          "USA",
          "USA",
          "USA",
          "USA",
          "UK",
          "Portugal",
          "Argentina",
          "USA",
          "Portugal",
          "USA",
          "Argentina",
          "USA",
          "USA",
          "Switzerland",
          "USA",
          "Spain",
          "USA",
          "USA",
          "Philippines",
          "Portugal",
          "Argentina",
          "Switzerland",
          "USA",
          "USA",
          "USA",
          "USA",
          "USA",
          "Portugal",
          "Argentina",
          "USA",
          "Switzerland",
          "USA",
          "Serbia",
          "USA",
          "USA",
          "USA",
          "USA",
          "Portugal",
          "USA",
          "Argentina",
          "Switzerland",
          "USA",
          "USA",
          "Northern Ireland",
          "USA",
          "USA",
          "UK",
          "USA",
          "Argentina",
          "Portugal",
          "Ireland",
          "Brazil",
          "USA",
          "Switzerland",
          "USA",
          "USA",
          "USA",
          "Argentina",
          "Portugal",
          "Brazil",
          "Mexico",
          "Switzerland",
          "USA",
          "USA",
          "USA",
          "USA",
          "USA",
          "Switzerland",
          "Portugal",
          "Argentina",
          "Brazil",
          "USA",
          "USA",
          "USA",
          "USA",
          "USA",
          "USA"
         ],
         "yaxis": "y"
        }
       ],
       "layout": {
        "barmode": "relative",
        "legend": {
         "tracegroupgap": 0
        },
        "template": {
         "data": {
          "bar": [
           {
            "error_x": {
             "color": "#2a3f5f"
            },
            "error_y": {
             "color": "#2a3f5f"
            },
            "marker": {
             "line": {
              "color": "#E5ECF6",
              "width": 0.5
             },
             "pattern": {
              "fillmode": "overlay",
              "size": 10,
              "solidity": 0.2
             }
            },
            "type": "bar"
           }
          ],
          "barpolar": [
           {
            "marker": {
             "line": {
              "color": "#E5ECF6",
              "width": 0.5
             },
             "pattern": {
              "fillmode": "overlay",
              "size": 10,
              "solidity": 0.2
             }
            },
            "type": "barpolar"
           }
          ],
          "carpet": [
           {
            "aaxis": {
             "endlinecolor": "#2a3f5f",
             "gridcolor": "white",
             "linecolor": "white",
             "minorgridcolor": "white",
             "startlinecolor": "#2a3f5f"
            },
            "baxis": {
             "endlinecolor": "#2a3f5f",
             "gridcolor": "white",
             "linecolor": "white",
             "minorgridcolor": "white",
             "startlinecolor": "#2a3f5f"
            },
            "type": "carpet"
           }
          ],
          "choropleth": [
           {
            "colorbar": {
             "outlinewidth": 0,
             "ticks": ""
            },
            "type": "choropleth"
           }
          ],
          "contour": [
           {
            "colorbar": {
             "outlinewidth": 0,
             "ticks": ""
            },
            "colorscale": [
             [
              0,
              "#0d0887"
             ],
             [
              0.1111111111111111,
              "#46039f"
             ],
             [
              0.2222222222222222,
              "#7201a8"
             ],
             [
              0.3333333333333333,
              "#9c179e"
             ],
             [
              0.4444444444444444,
              "#bd3786"
             ],
             [
              0.5555555555555556,
              "#d8576b"
             ],
             [
              0.6666666666666666,
              "#ed7953"
             ],
             [
              0.7777777777777778,
              "#fb9f3a"
             ],
             [
              0.8888888888888888,
              "#fdca26"
             ],
             [
              1,
              "#f0f921"
             ]
            ],
            "type": "contour"
           }
          ],
          "contourcarpet": [
           {
            "colorbar": {
             "outlinewidth": 0,
             "ticks": ""
            },
            "type": "contourcarpet"
           }
          ],
          "heatmap": [
           {
            "colorbar": {
             "outlinewidth": 0,
             "ticks": ""
            },
            "colorscale": [
             [
              0,
              "#0d0887"
             ],
             [
              0.1111111111111111,
              "#46039f"
             ],
             [
              0.2222222222222222,
              "#7201a8"
             ],
             [
              0.3333333333333333,
              "#9c179e"
             ],
             [
              0.4444444444444444,
              "#bd3786"
             ],
             [
              0.5555555555555556,
              "#d8576b"
             ],
             [
              0.6666666666666666,
              "#ed7953"
             ],
             [
              0.7777777777777778,
              "#fb9f3a"
             ],
             [
              0.8888888888888888,
              "#fdca26"
             ],
             [
              1,
              "#f0f921"
             ]
            ],
            "type": "heatmap"
           }
          ],
          "heatmapgl": [
           {
            "colorbar": {
             "outlinewidth": 0,
             "ticks": ""
            },
            "colorscale": [
             [
              0,
              "#0d0887"
             ],
             [
              0.1111111111111111,
              "#46039f"
             ],
             [
              0.2222222222222222,
              "#7201a8"
             ],
             [
              0.3333333333333333,
              "#9c179e"
             ],
             [
              0.4444444444444444,
              "#bd3786"
             ],
             [
              0.5555555555555556,
              "#d8576b"
             ],
             [
              0.6666666666666666,
              "#ed7953"
             ],
             [
              0.7777777777777778,
              "#fb9f3a"
             ],
             [
              0.8888888888888888,
              "#fdca26"
             ],
             [
              1,
              "#f0f921"
             ]
            ],
            "type": "heatmapgl"
           }
          ],
          "histogram": [
           {
            "marker": {
             "pattern": {
              "fillmode": "overlay",
              "size": 10,
              "solidity": 0.2
             }
            },
            "type": "histogram"
           }
          ],
          "histogram2d": [
           {
            "colorbar": {
             "outlinewidth": 0,
             "ticks": ""
            },
            "colorscale": [
             [
              0,
              "#0d0887"
             ],
             [
              0.1111111111111111,
              "#46039f"
             ],
             [
              0.2222222222222222,
              "#7201a8"
             ],
             [
              0.3333333333333333,
              "#9c179e"
             ],
             [
              0.4444444444444444,
              "#bd3786"
             ],
             [
              0.5555555555555556,
              "#d8576b"
             ],
             [
              0.6666666666666666,
              "#ed7953"
             ],
             [
              0.7777777777777778,
              "#fb9f3a"
             ],
             [
              0.8888888888888888,
              "#fdca26"
             ],
             [
              1,
              "#f0f921"
             ]
            ],
            "type": "histogram2d"
           }
          ],
          "histogram2dcontour": [
           {
            "colorbar": {
             "outlinewidth": 0,
             "ticks": ""
            },
            "colorscale": [
             [
              0,
              "#0d0887"
             ],
             [
              0.1111111111111111,
              "#46039f"
             ],
             [
              0.2222222222222222,
              "#7201a8"
             ],
             [
              0.3333333333333333,
              "#9c179e"
             ],
             [
              0.4444444444444444,
              "#bd3786"
             ],
             [
              0.5555555555555556,
              "#d8576b"
             ],
             [
              0.6666666666666666,
              "#ed7953"
             ],
             [
              0.7777777777777778,
              "#fb9f3a"
             ],
             [
              0.8888888888888888,
              "#fdca26"
             ],
             [
              1,
              "#f0f921"
             ]
            ],
            "type": "histogram2dcontour"
           }
          ],
          "mesh3d": [
           {
            "colorbar": {
             "outlinewidth": 0,
             "ticks": ""
            },
            "type": "mesh3d"
           }
          ],
          "parcoords": [
           {
            "line": {
             "colorbar": {
              "outlinewidth": 0,
              "ticks": ""
             }
            },
            "type": "parcoords"
           }
          ],
          "pie": [
           {
            "automargin": true,
            "type": "pie"
           }
          ],
          "scatter": [
           {
            "fillpattern": {
             "fillmode": "overlay",
             "size": 10,
             "solidity": 0.2
            },
            "type": "scatter"
           }
          ],
          "scatter3d": [
           {
            "line": {
             "colorbar": {
              "outlinewidth": 0,
              "ticks": ""
             }
            },
            "marker": {
             "colorbar": {
              "outlinewidth": 0,
              "ticks": ""
             }
            },
            "type": "scatter3d"
           }
          ],
          "scattercarpet": [
           {
            "marker": {
             "colorbar": {
              "outlinewidth": 0,
              "ticks": ""
             }
            },
            "type": "scattercarpet"
           }
          ],
          "scattergeo": [
           {
            "marker": {
             "colorbar": {
              "outlinewidth": 0,
              "ticks": ""
             }
            },
            "type": "scattergeo"
           }
          ],
          "scattergl": [
           {
            "marker": {
             "colorbar": {
              "outlinewidth": 0,
              "ticks": ""
             }
            },
            "type": "scattergl"
           }
          ],
          "scattermapbox": [
           {
            "marker": {
             "colorbar": {
              "outlinewidth": 0,
              "ticks": ""
             }
            },
            "type": "scattermapbox"
           }
          ],
          "scatterpolar": [
           {
            "marker": {
             "colorbar": {
              "outlinewidth": 0,
              "ticks": ""
             }
            },
            "type": "scatterpolar"
           }
          ],
          "scatterpolargl": [
           {
            "marker": {
             "colorbar": {
              "outlinewidth": 0,
              "ticks": ""
             }
            },
            "type": "scatterpolargl"
           }
          ],
          "scatterternary": [
           {
            "marker": {
             "colorbar": {
              "outlinewidth": 0,
              "ticks": ""
             }
            },
            "type": "scatterternary"
           }
          ],
          "surface": [
           {
            "colorbar": {
             "outlinewidth": 0,
             "ticks": ""
            },
            "colorscale": [
             [
              0,
              "#0d0887"
             ],
             [
              0.1111111111111111,
              "#46039f"
             ],
             [
              0.2222222222222222,
              "#7201a8"
             ],
             [
              0.3333333333333333,
              "#9c179e"
             ],
             [
              0.4444444444444444,
              "#bd3786"
             ],
             [
              0.5555555555555556,
              "#d8576b"
             ],
             [
              0.6666666666666666,
              "#ed7953"
             ],
             [
              0.7777777777777778,
              "#fb9f3a"
             ],
             [
              0.8888888888888888,
              "#fdca26"
             ],
             [
              1,
              "#f0f921"
             ]
            ],
            "type": "surface"
           }
          ],
          "table": [
           {
            "cells": {
             "fill": {
              "color": "#EBF0F8"
             },
             "line": {
              "color": "white"
             }
            },
            "header": {
             "fill": {
              "color": "#C8D4E3"
             },
             "line": {
              "color": "white"
             }
            },
            "type": "table"
           }
          ]
         },
         "layout": {
          "annotationdefaults": {
           "arrowcolor": "#2a3f5f",
           "arrowhead": 0,
           "arrowwidth": 1
          },
          "autotypenumbers": "strict",
          "coloraxis": {
           "colorbar": {
            "outlinewidth": 0,
            "ticks": ""
           }
          },
          "colorscale": {
           "diverging": [
            [
             0,
             "#8e0152"
            ],
            [
             0.1,
             "#c51b7d"
            ],
            [
             0.2,
             "#de77ae"
            ],
            [
             0.3,
             "#f1b6da"
            ],
            [
             0.4,
             "#fde0ef"
            ],
            [
             0.5,
             "#f7f7f7"
            ],
            [
             0.6,
             "#e6f5d0"
            ],
            [
             0.7,
             "#b8e186"
            ],
            [
             0.8,
             "#7fbc41"
            ],
            [
             0.9,
             "#4d9221"
            ],
            [
             1,
             "#276419"
            ]
           ],
           "sequential": [
            [
             0,
             "#0d0887"
            ],
            [
             0.1111111111111111,
             "#46039f"
            ],
            [
             0.2222222222222222,
             "#7201a8"
            ],
            [
             0.3333333333333333,
             "#9c179e"
            ],
            [
             0.4444444444444444,
             "#bd3786"
            ],
            [
             0.5555555555555556,
             "#d8576b"
            ],
            [
             0.6666666666666666,
             "#ed7953"
            ],
            [
             0.7777777777777778,
             "#fb9f3a"
            ],
            [
             0.8888888888888888,
             "#fdca26"
            ],
            [
             1,
             "#f0f921"
            ]
           ],
           "sequentialminus": [
            [
             0,
             "#0d0887"
            ],
            [
             0.1111111111111111,
             "#46039f"
            ],
            [
             0.2222222222222222,
             "#7201a8"
            ],
            [
             0.3333333333333333,
             "#9c179e"
            ],
            [
             0.4444444444444444,
             "#bd3786"
            ],
            [
             0.5555555555555556,
             "#d8576b"
            ],
            [
             0.6666666666666666,
             "#ed7953"
            ],
            [
             0.7777777777777778,
             "#fb9f3a"
            ],
            [
             0.8888888888888888,
             "#fdca26"
            ],
            [
             1,
             "#f0f921"
            ]
           ]
          },
          "colorway": [
           "#636efa",
           "#EF553B",
           "#00cc96",
           "#ab63fa",
           "#FFA15A",
           "#19d3f3",
           "#FF6692",
           "#B6E880",
           "#FF97FF",
           "#FECB52"
          ],
          "font": {
           "color": "#2a3f5f"
          },
          "geo": {
           "bgcolor": "white",
           "lakecolor": "white",
           "landcolor": "#E5ECF6",
           "showlakes": true,
           "showland": true,
           "subunitcolor": "white"
          },
          "hoverlabel": {
           "align": "left"
          },
          "hovermode": "closest",
          "mapbox": {
           "style": "light"
          },
          "paper_bgcolor": "white",
          "plot_bgcolor": "#E5ECF6",
          "polar": {
           "angularaxis": {
            "gridcolor": "white",
            "linecolor": "white",
            "ticks": ""
           },
           "bgcolor": "#E5ECF6",
           "radialaxis": {
            "gridcolor": "white",
            "linecolor": "white",
            "ticks": ""
           }
          },
          "scene": {
           "xaxis": {
            "backgroundcolor": "#E5ECF6",
            "gridcolor": "white",
            "gridwidth": 2,
            "linecolor": "white",
            "showbackground": true,
            "ticks": "",
            "zerolinecolor": "white"
           },
           "yaxis": {
            "backgroundcolor": "#E5ECF6",
            "gridcolor": "white",
            "gridwidth": 2,
            "linecolor": "white",
            "showbackground": true,
            "ticks": "",
            "zerolinecolor": "white"
           },
           "zaxis": {
            "backgroundcolor": "#E5ECF6",
            "gridcolor": "white",
            "gridwidth": 2,
            "linecolor": "white",
            "showbackground": true,
            "ticks": "",
            "zerolinecolor": "white"
           }
          },
          "shapedefaults": {
           "line": {
            "color": "#2a3f5f"
           }
          },
          "ternary": {
           "aaxis": {
            "gridcolor": "white",
            "linecolor": "white",
            "ticks": ""
           },
           "baxis": {
            "gridcolor": "white",
            "linecolor": "white",
            "ticks": ""
           },
           "bgcolor": "#E5ECF6",
           "caxis": {
            "gridcolor": "white",
            "linecolor": "white",
            "ticks": ""
           }
          },
          "title": {
           "x": 0.05
          },
          "xaxis": {
           "automargin": true,
           "gridcolor": "white",
           "linecolor": "white",
           "ticks": "",
           "title": {
            "standoff": 15
           },
           "zerolinecolor": "white",
           "zerolinewidth": 2
          },
          "yaxis": {
           "automargin": true,
           "gridcolor": "white",
           "linecolor": "white",
           "ticks": "",
           "title": {
            "standoff": 15
           },
           "zerolinecolor": "white",
           "zerolinewidth": 2
          }
         }
        },
        "title": {
         "text": "Total earnings ($M) by nationality"
        },
        "xaxis": {
         "anchor": "y",
         "domain": [
          0,
          1
         ],
         "title": {
          "text": "sum of Earnings ($M)"
         }
        },
        "yaxis": {
         "anchor": "x",
         "domain": [
          0,
          1
         ],
         "title": {
          "text": "Nationality"
         }
        }
       }
      }
     },
     "metadata": {},
     "output_type": "display_data"
    }
   ],
   "source": [
    "fig = px.histogram(df, y='Nationality', x='Earnings ($M)', title='Total earnings ($M) by nationality')\n",
    "fig.show()\n",
    "# USA is dominating with the highest cumulated earnings of nearly 9B for he period 1990-2020."
   ]
  },
  {
   "cell_type": "markdown",
   "metadata": {},
   "source": [
    "- Highest paid sport"
   ]
  },
  {
   "cell_type": "code",
   "execution_count": 49,
   "metadata": {},
   "outputs": [
    {
     "data": {
      "application/vnd.plotly.v1+json": {
       "config": {
        "plotlyServerURL": "https://plot.ly"
       },
       "data": [
        {
         "alignmentgroup": "True",
         "hovertemplate": "<b>%{hovertext}</b><br><br>Nationality=USA<br>Earnings ($M)=%{x}<br>Sport=%{y}<extra></extra>",
         "hovertext": [
          "USA",
          "USA",
          "USA",
          "USA",
          "USA",
          "USA",
          "USA",
          "USA",
          "USA",
          "USA",
          "USA",
          "USA",
          "USA",
          "USA",
          "USA",
          "USA",
          "USA",
          "USA",
          "USA",
          "USA",
          "USA",
          "USA",
          "USA",
          "USA",
          "USA",
          "USA",
          "USA",
          "USA",
          "USA",
          "USA",
          "USA",
          "USA",
          "USA",
          "USA",
          "USA",
          "USA",
          "USA",
          "USA",
          "USA",
          "USA",
          "USA",
          "USA",
          "USA",
          "USA",
          "USA",
          "USA",
          "USA",
          "USA",
          "USA",
          "USA",
          "USA",
          "USA",
          "USA",
          "USA",
          "USA",
          "USA",
          "USA",
          "USA",
          "USA",
          "USA",
          "USA",
          "USA",
          "USA",
          "USA",
          "USA",
          "USA",
          "USA",
          "USA",
          "USA",
          "USA",
          "USA",
          "USA",
          "USA",
          "USA",
          "USA",
          "USA",
          "USA",
          "USA",
          "USA",
          "USA",
          "USA",
          "USA",
          "USA",
          "USA",
          "USA",
          "USA",
          "USA",
          "USA",
          "USA",
          "USA",
          "USA",
          "USA",
          "USA",
          "USA",
          "USA",
          "USA",
          "USA",
          "USA",
          "USA",
          "USA",
          "USA",
          "USA",
          "USA",
          "USA",
          "USA",
          "USA",
          "USA",
          "USA",
          "USA",
          "USA",
          "USA",
          "USA",
          "USA",
          "USA",
          "USA",
          "USA",
          "USA",
          "USA",
          "USA",
          "USA",
          "USA",
          "USA",
          "USA",
          "USA",
          "USA",
          "USA",
          "USA",
          "USA",
          "USA",
          "USA",
          "USA",
          "USA",
          "USA",
          "USA",
          "USA",
          "USA",
          "USA",
          "USA",
          "USA",
          "USA",
          "USA",
          "USA",
          "USA",
          "USA",
          "USA",
          "USA",
          "USA",
          "USA",
          "USA",
          "USA",
          "USA",
          "USA",
          "USA",
          "USA",
          "USA",
          "USA",
          "USA",
          "USA",
          "USA",
          "USA",
          "USA",
          "USA",
          "USA",
          "USA",
          "USA",
          "USA",
          "USA",
          "USA",
          "USA",
          "USA",
          "USA",
          "USA",
          "USA",
          "USA",
          "USA",
          "USA",
          "USA",
          "USA",
          "USA",
          "USA",
          "USA",
          "USA",
          "USA",
          "USA",
          "USA",
          "USA",
          "USA",
          "USA",
          "USA",
          "USA",
          "USA",
          "USA",
          "USA",
          "USA",
          "USA",
          "USA",
          "USA",
          "USA",
          "USA",
          "USA",
          "USA",
          "USA",
          "USA",
          "USA",
          "USA",
          "USA"
         ],
         "legendgroup": "USA",
         "marker": {
          "color": "#636efa",
          "pattern": {
           "shape": ""
          }
         },
         "name": "USA",
         "offsetgroup": "USA",
         "orientation": "h",
         "showlegend": true,
         "textposition": "auto",
         "type": "bar",
         "x": [
          28.6,
          26,
          13,
          8.6,
          8.1,
          8.1,
          8.1,
          60.5,
          31.5,
          16,
          14.5,
          9.3,
          8.5,
          35.9,
          28,
          11.1,
          11,
          9.5,
          9.2,
          9,
          8.5,
          36,
          25,
          15.8,
          15.2,
          15,
          12.7,
          12.6,
          11.5,
          30,
          16.7,
          14.8,
          13.6,
          12.1,
          12,
          11.4,
          43.9,
          40,
          22.5,
          22.2,
          21.9,
          18,
          16,
          15.1,
          75,
          52.6,
          24.4,
          16.5,
          15.5,
          15.2,
          15.1,
          12.9,
          12.9,
          78.3,
          54.3,
          38,
          27,
          26.1,
          25.4,
          19.1,
          17,
          69,
          26.8,
          24.1,
          21.6,
          18.5,
          18.3,
          18.1,
          17.2,
          47,
          43.5,
          40,
          35.5,
          33,
          31,
          29,
          26.5,
          23,
          53,
          48,
          37,
          26,
          24.5,
          24,
          23,
          23,
          21,
          69,
          36,
          28,
          24,
          24,
          23,
          23,
          22,
          20,
          78,
          35,
          30.5,
          30,
          28,
          26,
          25.5,
          24,
          80.3,
          42,
          35,
          31.9,
          29.7,
          28.2,
          26.2,
          26.1,
          87,
          38,
          37.5,
          33.4,
          33,
          28.8,
          28,
          90,
          55,
          47,
          32,
          31,
          30,
          29,
          29,
          100,
          43,
          42,
          33,
          32,
          31,
          115,
          45,
          45,
          39,
          38,
          110,
          45,
          45,
          40,
          40,
          34,
          105,
          65,
          48,
          46,
          42.8,
          39.9,
          38.3,
          75,
          53,
          48,
          46.5,
          85,
          59.4,
          53,
          52.3,
          47.8,
          42.4,
          78.1,
          61.9,
          59.8,
          51,
          49,
          48.7,
          105,
          72.3,
          61.5,
          61.2,
          53.2,
          43.8,
          300,
          64.8,
          54.2,
          50.8,
          50.6,
          49.5,
          77.2,
          56.2,
          53.1,
          52.9,
          52.8,
          50,
          86.2,
          60.6,
          50,
          47.3,
          46.6,
          285,
          85.5,
          76.9,
          67.3,
          59.5,
          89.5,
          89.3,
          89,
          79.8,
          65.4,
          88.2,
          74.4,
          63.9,
          62.3,
          60.5,
          59.1
         ],
         "xaxis": "x",
         "y": [
          "Boxing",
          "Boxing",
          "Boxing",
          "Golf",
          "NBA/Basketball",
          "Golf",
          "Boxing",
          "Boxing",
          "Boxing",
          "NBA/Basketball",
          "Boxing",
          "Golf",
          "Golf",
          "NBA/Basketball",
          "Boxing",
          "Golf",
          "Tennis",
          "NFL",
          "Golf",
          "Tennis",
          "Tennis",
          "NBA/Basketball",
          "Boxing",
          "Boxing",
          "NBA/Basketball",
          "Boxing",
          "Baseball",
          "Tennis",
          "NFL",
          "NBA/Basketball",
          "NBA/Basketball",
          "Golf",
          "Golf",
          "Boxing",
          "Boxing",
          "Tennis",
          "NBA/Basketball",
          "Boxing",
          "American Football/Baseball",
          "Boxing",
          "NBA/Basketball",
          "Boxing",
          "Tennis",
          "Golf",
          "Boxing",
          "NBA/Basketball",
          "NBA/Basketball",
          "NFL",
          "Boxing",
          "Tennis",
          "Golf",
          "NBA/Basketball",
          "NBA/Basketball",
          "NBA/Basketball",
          "Boxing",
          "Boxing",
          "Boxing",
          "Golf",
          "NBA/Basketball",
          "Auto Racing",
          "NBA/Basketball",
          "NBA/Basketball",
          "Golf",
          "Auto Racing",
          "NBA/Basketball",
          "Boxing",
          "NBA/Basketball",
          "Golf",
          "Baseball",
          "Golf",
          "Boxing",
          "NBA/Basketball",
          "Boxing",
          "Boxing",
          "NBA/Basketball",
          "Boxing",
          "Auto Racing",
          "NBA/Basketball",
          "Golf",
          "Boxing",
          "NBA/Basketball",
          "NBA/Basketball",
          "Auto Racing",
          "NBA/Basketball",
          "Boxing",
          "Boxing",
          "NBA/Basketball",
          "Golf",
          "NBA/Basketball",
          "Boxing",
          "NBA/Basketball",
          "NBA/Basketball",
          "Boxing",
          "NBA/Basketball",
          "NBA/Basketball",
          "Auto Racing",
          "Golf",
          "NBA/Basketball",
          "NBA/Basketball",
          "Boxing",
          "NBA/Basketball",
          "Baseball",
          "NBA/Basketball",
          "Tennis",
          "Golf",
          "NFL",
          "NBA/Basketball",
          "NBA/Basketball",
          "NBA/Basketball",
          "Tennis",
          "Baseball",
          "NBA/Basketball",
          "Golf",
          "Boxing",
          "NFL",
          "NBA/Basketball",
          "NBA/Basketball",
          "NBA/Basketball",
          "Cycling",
          "Golf",
          "Boxing",
          "Golf",
          "NBA/Basketball",
          "NBA/Basketball",
          "NBA/Basketball",
          "Baseball",
          "NFL",
          "Golf",
          "Boxing",
          "Golf",
          "NBA/Basketball",
          "NBA/Basketball",
          "NBA/Basketball",
          "Golf",
          "NBA/Basketball",
          "Golf",
          "NBA/Basketball",
          "NBA/Basketball",
          "Golf",
          "NBA/Basketball",
          "NBA/Basketball",
          "NBA/Basketball",
          "Golf",
          "Auto Racing",
          "Golf",
          "Boxing",
          "NBA/Basketball",
          "Golf",
          "NBA/Basketball",
          "NFL",
          "NFL",
          "Golf",
          "NBA/Basketball",
          "NBA/Basketball",
          "Golf",
          "Boxing",
          "Golf",
          "NBA/Basketball",
          "NBA/Basketball",
          "Golf",
          "NFL",
          "Golf",
          "NBA/Basketball",
          "NBA/Basketball",
          "NFL",
          "NFL",
          "Golf",
          "Boxing",
          "NBA/Basketball",
          "NBA/Basketball",
          "Golf",
          "Golf",
          "NFL",
          "Boxing",
          "NBA/Basketball",
          "NBA/Basketball",
          "Golf",
          "Golf",
          "NBA/Basketball",
          "NBA/Basketball",
          "NBA/Basketball",
          "NFL",
          "Golf",
          "Golf",
          "NBA/Basketball",
          "NBA/Basketball",
          "NBA/Basketball",
          "NFL",
          "NBA/Basketball",
          "NBA/Basketball",
          "Boxing",
          "NBA/Basketball",
          "NBA/Basketball",
          "NFL",
          "NFL",
          "NFL",
          "NFL",
          "NBA/Basketball",
          "NBA/Basketball",
          "NBA/Basketball",
          "NBA/Basketball",
          "NBA/Basketball",
          "NBA/Basketball",
          "Golf",
          "NFL",
          "NFL"
         ],
         "yaxis": "y"
        },
        {
         "alignmentgroup": "True",
         "hovertemplate": "<b>%{hovertext}</b><br><br>Nationality=Brazil<br>Earnings ($M)=%{x}<br>Sport=%{y}<extra></extra>",
         "hovertext": [
          "Brazil",
          "Brazil",
          "Brazil",
          "Brazil",
          "Brazil",
          "Brazil",
          "Brazil",
          "Brazil",
          "Brazil"
         ],
         "legendgroup": "Brazil",
         "marker": {
          "color": "#EF553B",
          "pattern": {
           "shape": ""
          }
         },
         "name": "Brazil",
         "offsetgroup": "Brazil",
         "orientation": "h",
         "showlegend": true,
         "textposition": "auto",
         "type": "bar",
         "x": [
          10,
          13,
          22,
          18.5,
          31,
          37,
          90,
          105,
          95.5
         ],
         "xaxis": "x",
         "y": [
          "Auto Racing",
          "Auto Racing",
          "Auto Racing",
          "Auto Racing",
          "Soccer",
          "Soccer",
          "Soccer",
          "Soccer",
          "Soccer"
         ],
         "yaxis": "y"
        },
        {
         "alignmentgroup": "True",
         "hovertemplate": "<b>%{hovertext}</b><br><br>Nationality=France<br>Earnings ($M)=%{x}<br>Sport=%{y}<extra></extra>",
         "hovertext": [
          "France",
          "France",
          "France"
         ],
         "legendgroup": "France",
         "marker": {
          "color": "#00cc96",
          "pattern": {
           "shape": ""
          }
         },
         "name": "France",
         "offsetgroup": "France",
         "orientation": "h",
         "showlegend": true,
         "textposition": "auto",
         "type": "bar",
         "x": [
          9,
          11,
          16
         ],
         "xaxis": "x",
         "y": [
          "Auto Racing",
          "Auto Racing",
          "Auto Racing"
         ],
         "yaxis": "y"
        },
        {
         "alignmentgroup": "True",
         "hovertemplate": "<b>%{hovertext}</b><br><br>Nationality=Australia<br>Earnings ($M)=%{x}<br>Sport=%{y}<extra></extra>",
         "hovertext": [
          "Australia"
         ],
         "legendgroup": "Australia",
         "marker": {
          "color": "#ab63fa",
          "pattern": {
           "shape": ""
          }
         },
         "name": "Australia",
         "offsetgroup": "Australia",
         "orientation": "h",
         "showlegend": true,
         "textposition": "auto",
         "type": "bar",
         "x": [
          8.5
         ],
         "xaxis": "x",
         "y": [
          "Golf"
         ],
         "yaxis": "y"
        },
        {
         "alignmentgroup": "True",
         "hovertemplate": "<b>%{hovertext}</b><br><br>Nationality=Canada<br>Earnings ($M)=%{x}<br>Sport=%{y}<extra></extra>",
         "hovertext": [
          "Canada",
          "Canada",
          "Canada",
          "Canada",
          "Canada",
          "Canada"
         ],
         "legendgroup": "Canada",
         "marker": {
          "color": "#FFA15A",
          "pattern": {
           "shape": ""
          }
         },
         "name": "Canada",
         "offsetgroup": "Canada",
         "orientation": "h",
         "showlegend": true,
         "textposition": "auto",
         "type": "bar",
         "x": [
          10.2,
          13.5,
          14.5,
          17.9,
          20,
          23
         ],
         "xaxis": "x",
         "y": [
          "Boxing",
          "Hockey",
          "Hockey",
          "Hockey",
          "Auto Racing",
          "Auto Racing"
         ],
         "yaxis": "y"
        },
        {
         "alignmentgroup": "True",
         "hovertemplate": "<b>%{hovertext}</b><br><br>Nationality=UK<br>Earnings ($M)=%{x}<br>Sport=%{y}<extra></extra>",
         "hovertext": [
          "UK",
          "UK",
          "UK",
          "UK",
          "UK",
          "UK",
          "UK",
          "UK",
          "UK",
          "UK",
          "UK",
          "UK",
          "UK"
         ],
         "legendgroup": "UK",
         "marker": {
          "color": "#19d3f3",
          "pattern": {
           "shape": ""
          }
         },
         "name": "UK",
         "offsetgroup": "UK",
         "orientation": "h",
         "showlegend": true,
         "textposition": "auto",
         "type": "bar",
         "x": [
          9,
          14.5,
          11.3,
          28,
          32.5,
          33,
          50,
          42,
          43.7,
          40,
          46,
          47.2,
          46
         ],
         "xaxis": "x",
         "y": [
          "Auto Racing",
          "Auto Racing",
          "Auto Racing",
          "Soccer",
          "Soccer",
          "Soccer",
          "Soccer",
          "Soccer",
          "Soccer",
          "Soccer",
          "Soccer",
          "Soccer",
          "Auto Racing"
         ],
         "yaxis": "y"
        },
        {
         "alignmentgroup": "True",
         "hovertemplate": "<b>%{hovertext}</b><br><br>Nationality=Austria<br>Earnings ($M)=%{x}<br>Sport=%{y}<extra></extra>",
         "hovertext": [
          "Austria"
         ],
         "legendgroup": "Austria",
         "marker": {
          "color": "#FF6692",
          "pattern": {
           "shape": ""
          }
         },
         "name": "Austria",
         "offsetgroup": "Austria",
         "orientation": "h",
         "showlegend": true,
         "textposition": "auto",
         "type": "bar",
         "x": [
          13.5
         ],
         "xaxis": "x",
         "y": [
          "Auto Racing"
         ],
         "yaxis": "y"
        },
        {
         "alignmentgroup": "True",
         "hovertemplate": "<b>%{hovertext}</b><br><br>Nationality=Germany<br>Earnings ($M)=%{x}<br>Sport=%{y}<extra></extra>",
         "hovertext": [
          "Germany",
          "Germany",
          "Germany",
          "Germany",
          "Germany",
          "Germany",
          "Germany",
          "Germany",
          "Germany",
          "Germany",
          "Germany",
          "Germany",
          "Germany"
         ],
         "legendgroup": "Germany",
         "marker": {
          "color": "#B6E880",
          "pattern": {
           "shape": ""
          }
         },
         "name": "Germany",
         "offsetgroup": "Germany",
         "orientation": "h",
         "showlegend": true,
         "textposition": "auto",
         "type": "bar",
         "x": [
          15,
          33,
          35,
          38,
          49,
          59,
          67,
          75,
          80,
          60,
          58,
          36,
          34
         ],
         "xaxis": "x",
         "y": [
          "Auto Racing",
          "Auto Racing",
          "Auto Racing",
          "Auto Racing",
          "Auto Racing",
          "Auto Racing",
          "Auto Racing",
          "Auto Racing",
          "Auto Racing",
          "Auto Racing",
          "Auto Racing",
          "Auto Racing",
          "Auto Racing"
         ],
         "yaxis": "y"
        },
        {
         "alignmentgroup": "True",
         "hovertemplate": "<b>%{hovertext}</b><br><br>Nationality=Russia<br>Earnings ($M)=%{x}<br>Sport=%{y}<extra></extra>",
         "hovertext": [
          "Russia"
         ],
         "legendgroup": "Russia",
         "marker": {
          "color": "#FF97FF",
          "pattern": {
           "shape": ""
          }
         },
         "name": "Russia",
         "offsetgroup": "Russia",
         "orientation": "h",
         "showlegend": true,
         "textposition": "auto",
         "type": "bar",
         "x": [
          29.8
         ],
         "xaxis": "x",
         "y": [
          "Hockey"
         ],
         "yaxis": "y"
        },
        {
         "alignmentgroup": "True",
         "hovertemplate": "<b>%{hovertext}</b><br><br>Nationality=Italy<br>Earnings ($M)=%{x}<br>Sport=%{y}<extra></extra>",
         "hovertext": [
          "Italy",
          "Italy",
          "Italy",
          "Italy"
         ],
         "legendgroup": "Italy",
         "marker": {
          "color": "#FECB52",
          "pattern": {
           "shape": ""
          }
         },
         "name": "Italy",
         "offsetgroup": "Italy",
         "orientation": "h",
         "showlegend": true,
         "textposition": "auto",
         "type": "bar",
         "x": [
          28,
          30,
          35,
          35
         ],
         "xaxis": "x",
         "y": [
          "Auto Racing",
          "Auto Racing",
          "Auto Racing",
          "Auto Racing"
         ],
         "yaxis": "y"
        },
        {
         "alignmentgroup": "True",
         "hovertemplate": "<b>%{hovertext}</b><br><br>Nationality=Finland<br>Earnings ($M)=%{x}<br>Sport=%{y}<extra></extra>",
         "hovertext": [
          "Finland",
          "Finland",
          "Finland"
         ],
         "legendgroup": "Finland",
         "marker": {
          "color": "#636efa",
          "pattern": {
           "shape": ""
          }
         },
         "name": "Finland",
         "offsetgroup": "Finland",
         "orientation": "h",
         "showlegend": true,
         "textposition": "auto",
         "type": "bar",
         "x": [
          40,
          44,
          45
         ],
         "xaxis": "x",
         "y": [
          "Auto Racing",
          "Auto Racing",
          "Auto Racing"
         ],
         "yaxis": "y"
        },
        {
         "alignmentgroup": "True",
         "hovertemplate": "<b>%{hovertext}</b><br><br>Nationality=Switzerland<br>Earnings ($M)=%{x}<br>Sport=%{y}<extra></extra>",
         "hovertext": [
          "Switzerland",
          "Switzerland",
          "Switzerland",
          "Switzerland",
          "Switzerland",
          "Switzerland",
          "Switzerland",
          "Switzerland",
          "Switzerland",
          "Switzerland",
          "Switzerland",
          "Switzerland"
         ],
         "legendgroup": "Switzerland",
         "marker": {
          "color": "#EF553B",
          "pattern": {
           "shape": ""
          }
         },
         "name": "Switzerland",
         "offsetgroup": "Switzerland",
         "orientation": "h",
         "showlegend": true,
         "textposition": "auto",
         "type": "bar",
         "x": [
          35,
          43,
          47,
          52.7,
          71.5,
          56.2,
          67,
          67.8,
          64,
          77.2,
          93.4,
          106.3
         ],
         "xaxis": "x",
         "y": [
          "Tennis",
          "Tennis",
          "Tennis",
          "Tennis",
          "Tennis",
          "Tennis",
          "Tennis",
          "Tennis",
          "Tennis",
          "Tennis",
          "Tennis",
          "Tennis"
         ],
         "yaxis": "y"
        },
        {
         "alignmentgroup": "True",
         "hovertemplate": "<b>%{hovertext}</b><br><br>Nationality=Philippines<br>Earnings ($M)=%{x}<br>Sport=%{y}<extra></extra>",
         "hovertext": [
          "Philippines",
          "Philippines",
          "Philippines"
         ],
         "legendgroup": "Philippines",
         "marker": {
          "color": "#00cc96",
          "pattern": {
           "shape": ""
          }
         },
         "name": "Philippines",
         "offsetgroup": "Philippines",
         "orientation": "h",
         "showlegend": true,
         "textposition": "auto",
         "type": "bar",
         "x": [
          40,
          42,
          160
         ],
         "xaxis": "x",
         "y": [
          "Boxing",
          "Boxing",
          "Boxing"
         ],
         "yaxis": "y"
        },
        {
         "alignmentgroup": "True",
         "hovertemplate": "<b>%{hovertext}</b><br><br>Nationality=Portugal<br>Earnings ($M)=%{x}<br>Sport=%{y}<extra></extra>",
         "hovertext": [
          "Portugal",
          "Portugal",
          "Portugal",
          "Portugal",
          "Portugal",
          "Portugal",
          "Portugal",
          "Portugal",
          "Portugal",
          "Portugal"
         ],
         "legendgroup": "Portugal",
         "marker": {
          "color": "#ab63fa",
          "pattern": {
           "shape": ""
          }
         },
         "name": "Portugal",
         "offsetgroup": "Portugal",
         "orientation": "h",
         "showlegend": true,
         "textposition": "auto",
         "type": "bar",
         "x": [
          38,
          42.5,
          44,
          80,
          79.6,
          88,
          93,
          108,
          109,
          105
         ],
         "xaxis": "x",
         "y": [
          "Soccer",
          "Soccer",
          "Soccer",
          "Soccer",
          "Soccer",
          "Soccer",
          "Soccer",
          "Soccer",
          "Soccer",
          "Soccer"
         ],
         "yaxis": "y"
        },
        {
         "alignmentgroup": "True",
         "hovertemplate": "<b>%{hovertext}</b><br><br>Nationality=Dominican<br>Earnings ($M)=%{x}<br>Sport=%{y}<extra></extra>",
         "hovertext": [
          "Dominican"
         ],
         "legendgroup": "Dominican",
         "marker": {
          "color": "#FFA15A",
          "pattern": {
           "shape": ""
          }
         },
         "name": "Dominican",
         "offsetgroup": "Dominican",
         "orientation": "h",
         "showlegend": true,
         "textposition": "auto",
         "type": "bar",
         "x": [
          35
         ],
         "xaxis": "x",
         "y": [
          "Baseball"
         ],
         "yaxis": "y"
        },
        {
         "alignmentgroup": "True",
         "hovertemplate": "<b>%{hovertext}</b><br><br>Nationality=Argentina<br>Earnings ($M)=%{x}<br>Sport=%{y}<extra></extra>",
         "hovertext": [
          "Argentina",
          "Argentina",
          "Argentina",
          "Argentina",
          "Argentina",
          "Argentina",
          "Argentina",
          "Argentina",
          "Argentina"
         ],
         "legendgroup": "Argentina",
         "marker": {
          "color": "#19d3f3",
          "pattern": {
           "shape": ""
          }
         },
         "name": "Argentina",
         "offsetgroup": "Argentina",
         "orientation": "h",
         "showlegend": true,
         "textposition": "auto",
         "type": "bar",
         "x": [
          32.3,
          41.3,
          64.7,
          73.8,
          81.4,
          80,
          111,
          127,
          104
         ],
         "xaxis": "x",
         "y": [
          "Soccer",
          "Soccer",
          "Soccer",
          "Soccer",
          "Soccer",
          "Soccer",
          "Soccer",
          "Soccer",
          "Soccer"
         ],
         "yaxis": "y"
        },
        {
         "alignmentgroup": "True",
         "hovertemplate": "<b>%{hovertext}</b><br><br>Nationality=Filipino<br>Earnings ($M)=%{x}<br>Sport=%{y}<extra></extra>",
         "hovertext": [
          "Filipino"
         ],
         "legendgroup": "Filipino",
         "marker": {
          "color": "#FF6692",
          "pattern": {
           "shape": ""
          }
         },
         "name": "Filipino",
         "offsetgroup": "Filipino",
         "orientation": "h",
         "showlegend": true,
         "textposition": "auto",
         "type": "bar",
         "x": [
          62
         ],
         "xaxis": "x",
         "y": [
          "Boxing"
         ],
         "yaxis": "y"
        },
        {
         "alignmentgroup": "True",
         "hovertemplate": "<b>%{hovertext}</b><br><br>Nationality=Spain<br>Earnings ($M)=%{x}<br>Sport=%{y}<extra></extra>",
         "hovertext": [
          "Spain"
         ],
         "legendgroup": "Spain",
         "marker": {
          "color": "#B6E880",
          "pattern": {
           "shape": ""
          }
         },
         "name": "Spain",
         "offsetgroup": "Spain",
         "orientation": "h",
         "showlegend": true,
         "textposition": "auto",
         "type": "bar",
         "x": [
          44.5
         ],
         "xaxis": "x",
         "y": [
          "Tennis"
         ],
         "yaxis": "y"
        },
        {
         "alignmentgroup": "True",
         "hovertemplate": "<b>%{hovertext}</b><br><br>Nationality=Serbia<br>Earnings ($M)=%{x}<br>Sport=%{y}<extra></extra>",
         "hovertext": [
          "Serbia"
         ],
         "legendgroup": "Serbia",
         "marker": {
          "color": "#FF97FF",
          "pattern": {
           "shape": ""
          }
         },
         "name": "Serbia",
         "offsetgroup": "Serbia",
         "orientation": "h",
         "showlegend": true,
         "textposition": "auto",
         "type": "bar",
         "x": [
          55.8
         ],
         "xaxis": "x",
         "y": [
          "Tennis"
         ],
         "yaxis": "y"
        },
        {
         "alignmentgroup": "True",
         "hovertemplate": "<b>%{hovertext}</b><br><br>Nationality=Northern Ireland<br>Earnings ($M)=%{x}<br>Sport=%{y}<extra></extra>",
         "hovertext": [
          "Northern Ireland"
         ],
         "legendgroup": "Northern Ireland",
         "marker": {
          "color": "#FECB52",
          "pattern": {
           "shape": ""
          }
         },
         "name": "Northern Ireland",
         "offsetgroup": "Northern Ireland",
         "orientation": "h",
         "showlegend": true,
         "textposition": "auto",
         "type": "bar",
         "x": [
          50
         ],
         "xaxis": "x",
         "y": [
          "Golf"
         ],
         "yaxis": "y"
        },
        {
         "alignmentgroup": "True",
         "hovertemplate": "<b>%{hovertext}</b><br><br>Nationality=Ireland<br>Earnings ($M)=%{x}<br>Sport=%{y}<extra></extra>",
         "hovertext": [
          "Ireland"
         ],
         "legendgroup": "Ireland",
         "marker": {
          "color": "#636efa",
          "pattern": {
           "shape": ""
          }
         },
         "name": "Ireland",
         "offsetgroup": "Ireland",
         "orientation": "h",
         "showlegend": true,
         "textposition": "auto",
         "type": "bar",
         "x": [
          99
         ],
         "xaxis": "x",
         "y": [
          "MMA"
         ],
         "yaxis": "y"
        },
        {
         "alignmentgroup": "True",
         "hovertemplate": "<b>%{hovertext}</b><br><br>Nationality=Mexico<br>Earnings ($M)=%{x}<br>Sport=%{y}<extra></extra>",
         "hovertext": [
          "Mexico"
         ],
         "legendgroup": "Mexico",
         "marker": {
          "color": "#EF553B",
          "pattern": {
           "shape": ""
          }
         },
         "name": "Mexico",
         "offsetgroup": "Mexico",
         "orientation": "h",
         "showlegend": true,
         "textposition": "auto",
         "type": "bar",
         "x": [
          94
         ],
         "xaxis": "x",
         "y": [
          "Boxing"
         ],
         "yaxis": "y"
        }
       ],
       "layout": {
        "barmode": "relative",
        "legend": {
         "title": {
          "text": "Nationality"
         },
         "tracegroupgap": 0
        },
        "template": {
         "data": {
          "bar": [
           {
            "error_x": {
             "color": "#2a3f5f"
            },
            "error_y": {
             "color": "#2a3f5f"
            },
            "marker": {
             "line": {
              "color": "#E5ECF6",
              "width": 0.5
             },
             "pattern": {
              "fillmode": "overlay",
              "size": 10,
              "solidity": 0.2
             }
            },
            "type": "bar"
           }
          ],
          "barpolar": [
           {
            "marker": {
             "line": {
              "color": "#E5ECF6",
              "width": 0.5
             },
             "pattern": {
              "fillmode": "overlay",
              "size": 10,
              "solidity": 0.2
             }
            },
            "type": "barpolar"
           }
          ],
          "carpet": [
           {
            "aaxis": {
             "endlinecolor": "#2a3f5f",
             "gridcolor": "white",
             "linecolor": "white",
             "minorgridcolor": "white",
             "startlinecolor": "#2a3f5f"
            },
            "baxis": {
             "endlinecolor": "#2a3f5f",
             "gridcolor": "white",
             "linecolor": "white",
             "minorgridcolor": "white",
             "startlinecolor": "#2a3f5f"
            },
            "type": "carpet"
           }
          ],
          "choropleth": [
           {
            "colorbar": {
             "outlinewidth": 0,
             "ticks": ""
            },
            "type": "choropleth"
           }
          ],
          "contour": [
           {
            "colorbar": {
             "outlinewidth": 0,
             "ticks": ""
            },
            "colorscale": [
             [
              0,
              "#0d0887"
             ],
             [
              0.1111111111111111,
              "#46039f"
             ],
             [
              0.2222222222222222,
              "#7201a8"
             ],
             [
              0.3333333333333333,
              "#9c179e"
             ],
             [
              0.4444444444444444,
              "#bd3786"
             ],
             [
              0.5555555555555556,
              "#d8576b"
             ],
             [
              0.6666666666666666,
              "#ed7953"
             ],
             [
              0.7777777777777778,
              "#fb9f3a"
             ],
             [
              0.8888888888888888,
              "#fdca26"
             ],
             [
              1,
              "#f0f921"
             ]
            ],
            "type": "contour"
           }
          ],
          "contourcarpet": [
           {
            "colorbar": {
             "outlinewidth": 0,
             "ticks": ""
            },
            "type": "contourcarpet"
           }
          ],
          "heatmap": [
           {
            "colorbar": {
             "outlinewidth": 0,
             "ticks": ""
            },
            "colorscale": [
             [
              0,
              "#0d0887"
             ],
             [
              0.1111111111111111,
              "#46039f"
             ],
             [
              0.2222222222222222,
              "#7201a8"
             ],
             [
              0.3333333333333333,
              "#9c179e"
             ],
             [
              0.4444444444444444,
              "#bd3786"
             ],
             [
              0.5555555555555556,
              "#d8576b"
             ],
             [
              0.6666666666666666,
              "#ed7953"
             ],
             [
              0.7777777777777778,
              "#fb9f3a"
             ],
             [
              0.8888888888888888,
              "#fdca26"
             ],
             [
              1,
              "#f0f921"
             ]
            ],
            "type": "heatmap"
           }
          ],
          "heatmapgl": [
           {
            "colorbar": {
             "outlinewidth": 0,
             "ticks": ""
            },
            "colorscale": [
             [
              0,
              "#0d0887"
             ],
             [
              0.1111111111111111,
              "#46039f"
             ],
             [
              0.2222222222222222,
              "#7201a8"
             ],
             [
              0.3333333333333333,
              "#9c179e"
             ],
             [
              0.4444444444444444,
              "#bd3786"
             ],
             [
              0.5555555555555556,
              "#d8576b"
             ],
             [
              0.6666666666666666,
              "#ed7953"
             ],
             [
              0.7777777777777778,
              "#fb9f3a"
             ],
             [
              0.8888888888888888,
              "#fdca26"
             ],
             [
              1,
              "#f0f921"
             ]
            ],
            "type": "heatmapgl"
           }
          ],
          "histogram": [
           {
            "marker": {
             "pattern": {
              "fillmode": "overlay",
              "size": 10,
              "solidity": 0.2
             }
            },
            "type": "histogram"
           }
          ],
          "histogram2d": [
           {
            "colorbar": {
             "outlinewidth": 0,
             "ticks": ""
            },
            "colorscale": [
             [
              0,
              "#0d0887"
             ],
             [
              0.1111111111111111,
              "#46039f"
             ],
             [
              0.2222222222222222,
              "#7201a8"
             ],
             [
              0.3333333333333333,
              "#9c179e"
             ],
             [
              0.4444444444444444,
              "#bd3786"
             ],
             [
              0.5555555555555556,
              "#d8576b"
             ],
             [
              0.6666666666666666,
              "#ed7953"
             ],
             [
              0.7777777777777778,
              "#fb9f3a"
             ],
             [
              0.8888888888888888,
              "#fdca26"
             ],
             [
              1,
              "#f0f921"
             ]
            ],
            "type": "histogram2d"
           }
          ],
          "histogram2dcontour": [
           {
            "colorbar": {
             "outlinewidth": 0,
             "ticks": ""
            },
            "colorscale": [
             [
              0,
              "#0d0887"
             ],
             [
              0.1111111111111111,
              "#46039f"
             ],
             [
              0.2222222222222222,
              "#7201a8"
             ],
             [
              0.3333333333333333,
              "#9c179e"
             ],
             [
              0.4444444444444444,
              "#bd3786"
             ],
             [
              0.5555555555555556,
              "#d8576b"
             ],
             [
              0.6666666666666666,
              "#ed7953"
             ],
             [
              0.7777777777777778,
              "#fb9f3a"
             ],
             [
              0.8888888888888888,
              "#fdca26"
             ],
             [
              1,
              "#f0f921"
             ]
            ],
            "type": "histogram2dcontour"
           }
          ],
          "mesh3d": [
           {
            "colorbar": {
             "outlinewidth": 0,
             "ticks": ""
            },
            "type": "mesh3d"
           }
          ],
          "parcoords": [
           {
            "line": {
             "colorbar": {
              "outlinewidth": 0,
              "ticks": ""
             }
            },
            "type": "parcoords"
           }
          ],
          "pie": [
           {
            "automargin": true,
            "type": "pie"
           }
          ],
          "scatter": [
           {
            "fillpattern": {
             "fillmode": "overlay",
             "size": 10,
             "solidity": 0.2
            },
            "type": "scatter"
           }
          ],
          "scatter3d": [
           {
            "line": {
             "colorbar": {
              "outlinewidth": 0,
              "ticks": ""
             }
            },
            "marker": {
             "colorbar": {
              "outlinewidth": 0,
              "ticks": ""
             }
            },
            "type": "scatter3d"
           }
          ],
          "scattercarpet": [
           {
            "marker": {
             "colorbar": {
              "outlinewidth": 0,
              "ticks": ""
             }
            },
            "type": "scattercarpet"
           }
          ],
          "scattergeo": [
           {
            "marker": {
             "colorbar": {
              "outlinewidth": 0,
              "ticks": ""
             }
            },
            "type": "scattergeo"
           }
          ],
          "scattergl": [
           {
            "marker": {
             "colorbar": {
              "outlinewidth": 0,
              "ticks": ""
             }
            },
            "type": "scattergl"
           }
          ],
          "scattermapbox": [
           {
            "marker": {
             "colorbar": {
              "outlinewidth": 0,
              "ticks": ""
             }
            },
            "type": "scattermapbox"
           }
          ],
          "scatterpolar": [
           {
            "marker": {
             "colorbar": {
              "outlinewidth": 0,
              "ticks": ""
             }
            },
            "type": "scatterpolar"
           }
          ],
          "scatterpolargl": [
           {
            "marker": {
             "colorbar": {
              "outlinewidth": 0,
              "ticks": ""
             }
            },
            "type": "scatterpolargl"
           }
          ],
          "scatterternary": [
           {
            "marker": {
             "colorbar": {
              "outlinewidth": 0,
              "ticks": ""
             }
            },
            "type": "scatterternary"
           }
          ],
          "surface": [
           {
            "colorbar": {
             "outlinewidth": 0,
             "ticks": ""
            },
            "colorscale": [
             [
              0,
              "#0d0887"
             ],
             [
              0.1111111111111111,
              "#46039f"
             ],
             [
              0.2222222222222222,
              "#7201a8"
             ],
             [
              0.3333333333333333,
              "#9c179e"
             ],
             [
              0.4444444444444444,
              "#bd3786"
             ],
             [
              0.5555555555555556,
              "#d8576b"
             ],
             [
              0.6666666666666666,
              "#ed7953"
             ],
             [
              0.7777777777777778,
              "#fb9f3a"
             ],
             [
              0.8888888888888888,
              "#fdca26"
             ],
             [
              1,
              "#f0f921"
             ]
            ],
            "type": "surface"
           }
          ],
          "table": [
           {
            "cells": {
             "fill": {
              "color": "#EBF0F8"
             },
             "line": {
              "color": "white"
             }
            },
            "header": {
             "fill": {
              "color": "#C8D4E3"
             },
             "line": {
              "color": "white"
             }
            },
            "type": "table"
           }
          ]
         },
         "layout": {
          "annotationdefaults": {
           "arrowcolor": "#2a3f5f",
           "arrowhead": 0,
           "arrowwidth": 1
          },
          "autotypenumbers": "strict",
          "coloraxis": {
           "colorbar": {
            "outlinewidth": 0,
            "ticks": ""
           }
          },
          "colorscale": {
           "diverging": [
            [
             0,
             "#8e0152"
            ],
            [
             0.1,
             "#c51b7d"
            ],
            [
             0.2,
             "#de77ae"
            ],
            [
             0.3,
             "#f1b6da"
            ],
            [
             0.4,
             "#fde0ef"
            ],
            [
             0.5,
             "#f7f7f7"
            ],
            [
             0.6,
             "#e6f5d0"
            ],
            [
             0.7,
             "#b8e186"
            ],
            [
             0.8,
             "#7fbc41"
            ],
            [
             0.9,
             "#4d9221"
            ],
            [
             1,
             "#276419"
            ]
           ],
           "sequential": [
            [
             0,
             "#0d0887"
            ],
            [
             0.1111111111111111,
             "#46039f"
            ],
            [
             0.2222222222222222,
             "#7201a8"
            ],
            [
             0.3333333333333333,
             "#9c179e"
            ],
            [
             0.4444444444444444,
             "#bd3786"
            ],
            [
             0.5555555555555556,
             "#d8576b"
            ],
            [
             0.6666666666666666,
             "#ed7953"
            ],
            [
             0.7777777777777778,
             "#fb9f3a"
            ],
            [
             0.8888888888888888,
             "#fdca26"
            ],
            [
             1,
             "#f0f921"
            ]
           ],
           "sequentialminus": [
            [
             0,
             "#0d0887"
            ],
            [
             0.1111111111111111,
             "#46039f"
            ],
            [
             0.2222222222222222,
             "#7201a8"
            ],
            [
             0.3333333333333333,
             "#9c179e"
            ],
            [
             0.4444444444444444,
             "#bd3786"
            ],
            [
             0.5555555555555556,
             "#d8576b"
            ],
            [
             0.6666666666666666,
             "#ed7953"
            ],
            [
             0.7777777777777778,
             "#fb9f3a"
            ],
            [
             0.8888888888888888,
             "#fdca26"
            ],
            [
             1,
             "#f0f921"
            ]
           ]
          },
          "colorway": [
           "#636efa",
           "#EF553B",
           "#00cc96",
           "#ab63fa",
           "#FFA15A",
           "#19d3f3",
           "#FF6692",
           "#B6E880",
           "#FF97FF",
           "#FECB52"
          ],
          "font": {
           "color": "#2a3f5f"
          },
          "geo": {
           "bgcolor": "white",
           "lakecolor": "white",
           "landcolor": "#E5ECF6",
           "showlakes": true,
           "showland": true,
           "subunitcolor": "white"
          },
          "hoverlabel": {
           "align": "left"
          },
          "hovermode": "closest",
          "mapbox": {
           "style": "light"
          },
          "paper_bgcolor": "white",
          "plot_bgcolor": "#E5ECF6",
          "polar": {
           "angularaxis": {
            "gridcolor": "white",
            "linecolor": "white",
            "ticks": ""
           },
           "bgcolor": "#E5ECF6",
           "radialaxis": {
            "gridcolor": "white",
            "linecolor": "white",
            "ticks": ""
           }
          },
          "scene": {
           "xaxis": {
            "backgroundcolor": "#E5ECF6",
            "gridcolor": "white",
            "gridwidth": 2,
            "linecolor": "white",
            "showbackground": true,
            "ticks": "",
            "zerolinecolor": "white"
           },
           "yaxis": {
            "backgroundcolor": "#E5ECF6",
            "gridcolor": "white",
            "gridwidth": 2,
            "linecolor": "white",
            "showbackground": true,
            "ticks": "",
            "zerolinecolor": "white"
           },
           "zaxis": {
            "backgroundcolor": "#E5ECF6",
            "gridcolor": "white",
            "gridwidth": 2,
            "linecolor": "white",
            "showbackground": true,
            "ticks": "",
            "zerolinecolor": "white"
           }
          },
          "shapedefaults": {
           "line": {
            "color": "#2a3f5f"
           }
          },
          "ternary": {
           "aaxis": {
            "gridcolor": "white",
            "linecolor": "white",
            "ticks": ""
           },
           "baxis": {
            "gridcolor": "white",
            "linecolor": "white",
            "ticks": ""
           },
           "bgcolor": "#E5ECF6",
           "caxis": {
            "gridcolor": "white",
            "linecolor": "white",
            "ticks": ""
           }
          },
          "title": {
           "x": 0.05
          },
          "xaxis": {
           "automargin": true,
           "gridcolor": "white",
           "linecolor": "white",
           "ticks": "",
           "title": {
            "standoff": 15
           },
           "zerolinecolor": "white",
           "zerolinewidth": 2
          },
          "yaxis": {
           "automargin": true,
           "gridcolor": "white",
           "linecolor": "white",
           "ticks": "",
           "title": {
            "standoff": 15
           },
           "zerolinecolor": "white",
           "zerolinewidth": 2
          }
         }
        },
        "title": {
         "text": "What is the highest paid sport?"
        },
        "xaxis": {
         "anchor": "y",
         "domain": [
          0,
          1
         ],
         "title": {
          "text": "Earnings ($M)"
         }
        },
        "yaxis": {
         "anchor": "x",
         "domain": [
          0,
          1
         ],
         "title": {
          "text": "Sport"
         }
        }
       }
      }
     },
     "metadata": {},
     "output_type": "display_data"
    }
   ],
   "source": [
    "fig = px.bar(df, y='Sport', x='Earnings ($M)', hover_name='Nationality', \n",
    "    color='Nationality', title='What is the highest paid sport?')\n",
    "fig.show()\n",
    "# NBA/Basketball accumulated the most earnings for the whole period, followed by boxing and soccer\n"
   ]
  },
  {
   "cell_type": "markdown",
   "metadata": {},
   "source": [
    "- Each sport evolution over years by earnings"
   ]
  },
  {
   "cell_type": "code",
   "execution_count": 50,
   "metadata": {},
   "outputs": [
    {
     "data": {
      "image/png": "[encoded data removed]",
      "text/plain": [
       "<Figure size 900x1200 with 12 Axes>"
      ]
     },
     "metadata": {},
     "output_type": "display_data"
    }
   ],
   "source": [
    "g = sns.FacetGrid(df, col='Sport',col_wrap=3)\n",
    "g.map_dataframe(sns.scatterplot, y='Earnings ($M)', x='Year')\n",
    "plt.show()\n",
    "# It seems that boxing, golf and NBA/Basketball had consistent and growing year on year earnings;\n",
    "# Auto racing seems to have lost popularity and decreased earnings in recent years;\n",
    "# Soccer is on a fast uptrend on earnings for the past 10 years\n"
   ]
  },
  {
   "cell_type": "markdown",
   "metadata": {},
   "source": [
    "- First ranked players by year"
   ]
  },
  {
   "cell_type": "code",
   "execution_count": 51,
   "metadata": {},
   "outputs": [
    {
     "data": {
      "text/html": [
       "<style type=\"text/css\">\n",
       "#T_994a7_row0_col2, #T_994a7_row1_col2, #T_994a7_row2_col2, #T_994a7_row3_col2, #T_994a7_row4_col2, #T_994a7_row5_col2, #T_994a7_row6_col2, #T_994a7_row7_col2, #T_994a7_row8_col2, #T_994a7_row9_col2, #T_994a7_row10_col2, #T_994a7_row11_col2, #T_994a7_row12_col2, #T_994a7_row13_col2, #T_994a7_row14_col2, #T_994a7_row15_col2, #T_994a7_row16_col2, #T_994a7_row17_col2, #T_994a7_row18_col2, #T_994a7_row19_col2, #T_994a7_row20_col2, #T_994a7_row21_col2, #T_994a7_row22_col2, #T_994a7_row23_col2, #T_994a7_row24_col2, #T_994a7_row25_col2, #T_994a7_row26_col2, #T_994a7_row27_col2, #T_994a7_row28_col2, #T_994a7_row29_col2, #T_994a7_row29_col4, #T_994a7_row29_col5 {\n",
       "  background-color: #f7fbff;\n",
       "  color: #000000;\n",
       "}\n",
       "#T_994a7_row0_col4, #T_994a7_row5_col5 {\n",
       "  background-color: #08306b;\n",
       "  color: #f1f1f1;\n",
       "}\n",
       "#T_994a7_row0_col5 {\n",
       "  background-color: #bad6eb;\n",
       "  color: #000000;\n",
       "}\n",
       "#T_994a7_row1_col4 {\n",
       "  background-color: #083877;\n",
       "  color: #f1f1f1;\n",
       "}\n",
       "#T_994a7_row1_col5 {\n",
       "  background-color: #a3cce3;\n",
       "  color: #000000;\n",
       "}\n",
       "#T_994a7_row2_col4 {\n",
       "  background-color: #084285;\n",
       "  color: #f1f1f1;\n",
       "}\n",
       "#T_994a7_row2_col5 {\n",
       "  background-color: #083e81;\n",
       "  color: #f1f1f1;\n",
       "}\n",
       "#T_994a7_row3_col4 {\n",
       "  background-color: #084a91;\n",
       "  color: #f1f1f1;\n",
       "}\n",
       "#T_994a7_row3_col5 {\n",
       "  background-color: #c9ddf0;\n",
       "  color: #000000;\n",
       "}\n",
       "#T_994a7_row4_col4 {\n",
       "  background-color: #0a539e;\n",
       "  color: #f1f1f1;\n",
       "}\n",
       "#T_994a7_row4_col5 {\n",
       "  background-color: #ccdff1;\n",
       "  color: #000000;\n",
       "}\n",
       "#T_994a7_row5_col4 {\n",
       "  background-color: #105ba4;\n",
       "  color: #f1f1f1;\n",
       "}\n",
       "#T_994a7_row6_col4 {\n",
       "  background-color: #1764ab;\n",
       "  color: #f1f1f1;\n",
       "}\n",
       "#T_994a7_row6_col5, #T_994a7_row10_col5 {\n",
       "  background-color: #bcd7eb;\n",
       "  color: #000000;\n",
       "}\n",
       "#T_994a7_row7_col4 {\n",
       "  background-color: #1d6cb1;\n",
       "  color: #f1f1f1;\n",
       "}\n",
       "#T_994a7_row7_col5, #T_994a7_row17_col5, #T_994a7_row22_col5 {\n",
       "  background-color: #d3e4f3;\n",
       "  color: #000000;\n",
       "}\n",
       "#T_994a7_row8_col4 {\n",
       "  background-color: #2575b7;\n",
       "  color: #f1f1f1;\n",
       "}\n",
       "#T_994a7_row8_col5 {\n",
       "  background-color: #cee0f2;\n",
       "  color: #000000;\n",
       "}\n",
       "#T_994a7_row9_col4 {\n",
       "  background-color: #2e7ebc;\n",
       "  color: #f1f1f1;\n",
       "}\n",
       "#T_994a7_row9_col5, #T_994a7_row23_col5 {\n",
       "  background-color: #d6e5f4;\n",
       "  color: #000000;\n",
       "}\n",
       "#T_994a7_row10_col4 {\n",
       "  background-color: #3787c0;\n",
       "  color: #f1f1f1;\n",
       "}\n",
       "#T_994a7_row11_col4 {\n",
       "  background-color: #3f8fc5;\n",
       "  color: #f1f1f1;\n",
       "}\n",
       "#T_994a7_row11_col5, #T_994a7_row20_col4 {\n",
       "  background-color: #b7d4ea;\n",
       "  color: #000000;\n",
       "}\n",
       "#T_994a7_row12_col4 {\n",
       "  background-color: #4a98c9;\n",
       "  color: #f1f1f1;\n",
       "}\n",
       "#T_994a7_row12_col5 {\n",
       "  background-color: #b0d2e7;\n",
       "  color: #000000;\n",
       "}\n",
       "#T_994a7_row13_col4 {\n",
       "  background-color: #549fcd;\n",
       "  color: #f1f1f1;\n",
       "}\n",
       "#T_994a7_row13_col5 {\n",
       "  background-color: #c2d9ee;\n",
       "  color: #000000;\n",
       "}\n",
       "#T_994a7_row14_col4 {\n",
       "  background-color: #60a7d2;\n",
       "  color: #f1f1f1;\n",
       "}\n",
       "#T_994a7_row14_col5 {\n",
       "  background-color: #cbdef1;\n",
       "  color: #000000;\n",
       "}\n",
       "#T_994a7_row15_col4 {\n",
       "  background-color: #6aaed6;\n",
       "  color: #f1f1f1;\n",
       "}\n",
       "#T_994a7_row15_col5 {\n",
       "  background-color: #cddff1;\n",
       "  color: #000000;\n",
       "}\n",
       "#T_994a7_row16_col4 {\n",
       "  background-color: #79b5d9;\n",
       "  color: #000000;\n",
       "}\n",
       "#T_994a7_row16_col5 {\n",
       "  background-color: #d2e3f3;\n",
       "  color: #000000;\n",
       "}\n",
       "#T_994a7_row17_col4 {\n",
       "  background-color: #87bddc;\n",
       "  color: #000000;\n",
       "}\n",
       "#T_994a7_row18_col4 {\n",
       "  background-color: #94c4df;\n",
       "  color: #000000;\n",
       "}\n",
       "#T_994a7_row18_col5, #T_994a7_row21_col5 {\n",
       "  background-color: #d9e8f5;\n",
       "  color: #000000;\n",
       "}\n",
       "#T_994a7_row19_col4 {\n",
       "  background-color: #abd0e6;\n",
       "  color: #000000;\n",
       "}\n",
       "#T_994a7_row19_col5 {\n",
       "  background-color: #e1edf8;\n",
       "  color: #000000;\n",
       "}\n",
       "#T_994a7_row20_col5 {\n",
       "  background-color: #e8f1fa;\n",
       "  color: #000000;\n",
       "}\n",
       "#T_994a7_row21_col4 {\n",
       "  background-color: #c1d9ed;\n",
       "  color: #000000;\n",
       "}\n",
       "#T_994a7_row22_col4 {\n",
       "  background-color: #caddf0;\n",
       "  color: #000000;\n",
       "}\n",
       "#T_994a7_row23_col4 {\n",
       "  background-color: #d0e1f2;\n",
       "  color: #000000;\n",
       "}\n",
       "#T_994a7_row24_col4 {\n",
       "  background-color: #d6e6f4;\n",
       "  color: #000000;\n",
       "}\n",
       "#T_994a7_row24_col5 {\n",
       "  background-color: #ecf4fb;\n",
       "  color: #000000;\n",
       "}\n",
       "#T_994a7_row25_col4 {\n",
       "  background-color: #dceaf6;\n",
       "  color: #000000;\n",
       "}\n",
       "#T_994a7_row25_col5 {\n",
       "  background-color: #f6faff;\n",
       "  color: #000000;\n",
       "}\n",
       "#T_994a7_row26_col4 {\n",
       "  background-color: #e3eef9;\n",
       "  color: #000000;\n",
       "}\n",
       "#T_994a7_row26_col5, #T_994a7_row27_col5 {\n",
       "  background-color: #f2f8fd;\n",
       "  color: #000000;\n",
       "}\n",
       "#T_994a7_row27_col4 {\n",
       "  background-color: #eaf2fb;\n",
       "  color: #000000;\n",
       "}\n",
       "#T_994a7_row28_col4 {\n",
       "  background-color: #f1f7fd;\n",
       "  color: #000000;\n",
       "}\n",
       "#T_994a7_row28_col5 {\n",
       "  background-color: #dfecf7;\n",
       "  color: #000000;\n",
       "}\n",
       "</style>\n",
       "<table id=\"T_994a7\">\n",
       "  <thead>\n",
       "    <tr>\n",
       "      <th class=\"blank level0\" >&nbsp;</th>\n",
       "      <th id=\"T_994a7_level0_col0\" class=\"col_heading level0 col0\" >Name</th>\n",
       "      <th id=\"T_994a7_level0_col1\" class=\"col_heading level0 col1\" >Nationality</th>\n",
       "      <th id=\"T_994a7_level0_col2\" class=\"col_heading level0 col2\" >Current Rank</th>\n",
       "      <th id=\"T_994a7_level0_col3\" class=\"col_heading level0 col3\" >Sport</th>\n",
       "      <th id=\"T_994a7_level0_col4\" class=\"col_heading level0 col4\" >Year</th>\n",
       "      <th id=\"T_994a7_level0_col5\" class=\"col_heading level0 col5\" >Earnings ($M)</th>\n",
       "    </tr>\n",
       "  </thead>\n",
       "  <tbody>\n",
       "    <tr>\n",
       "      <th id=\"T_994a7_level0_row0\" class=\"row_heading level0 row0\" >291</th>\n",
       "      <td id=\"T_994a7_row0_col0\" class=\"data row0 col0\" >Roger Federer</td>\n",
       "      <td id=\"T_994a7_row0_col1\" class=\"data row0 col1\" >Switzerland</td>\n",
       "      <td id=\"T_994a7_row0_col2\" class=\"data row0 col2\" >1</td>\n",
       "      <td id=\"T_994a7_row0_col3\" class=\"data row0 col3\" >Tennis</td>\n",
       "      <td id=\"T_994a7_row0_col4\" class=\"data row0 col4\" >2020</td>\n",
       "      <td id=\"T_994a7_row0_col5\" class=\"data row0 col5\" >106.300000</td>\n",
       "    </tr>\n",
       "    <tr>\n",
       "      <th id=\"T_994a7_level0_row1\" class=\"row_heading level0 row1\" >281</th>\n",
       "      <td id=\"T_994a7_row1_col0\" class=\"data row1 col0\" >Lionel Messi</td>\n",
       "      <td id=\"T_994a7_row1_col1\" class=\"data row1 col1\" >Argentina</td>\n",
       "      <td id=\"T_994a7_row1_col2\" class=\"data row1 col2\" >1</td>\n",
       "      <td id=\"T_994a7_row1_col3\" class=\"data row1 col3\" >Soccer</td>\n",
       "      <td id=\"T_994a7_row1_col4\" class=\"data row1 col4\" >2019</td>\n",
       "      <td id=\"T_994a7_row1_col5\" class=\"data row1 col5\" >127.000000</td>\n",
       "    </tr>\n",
       "    <tr>\n",
       "      <th id=\"T_994a7_level0_row2\" class=\"row_heading level0 row2\" >271</th>\n",
       "      <td id=\"T_994a7_row2_col0\" class=\"data row2 col0\" >Floyd Mayweather</td>\n",
       "      <td id=\"T_994a7_row2_col1\" class=\"data row2 col1\" >USA</td>\n",
       "      <td id=\"T_994a7_row2_col2\" class=\"data row2 col2\" >1</td>\n",
       "      <td id=\"T_994a7_row2_col3\" class=\"data row2 col3\" >Boxing</td>\n",
       "      <td id=\"T_994a7_row2_col4\" class=\"data row2 col4\" >2018</td>\n",
       "      <td id=\"T_994a7_row2_col5\" class=\"data row2 col5\" >285.000000</td>\n",
       "    </tr>\n",
       "    <tr>\n",
       "      <th id=\"T_994a7_level0_row3\" class=\"row_heading level0 row3\" >261</th>\n",
       "      <td id=\"T_994a7_row3_col0\" class=\"data row3 col0\" >Cristiano Ronaldo</td>\n",
       "      <td id=\"T_994a7_row3_col1\" class=\"data row3 col1\" >Portugal</td>\n",
       "      <td id=\"T_994a7_row3_col2\" class=\"data row3 col2\" >1</td>\n",
       "      <td id=\"T_994a7_row3_col3\" class=\"data row3 col3\" >Soccer</td>\n",
       "      <td id=\"T_994a7_row3_col4\" class=\"data row3 col4\" >2017</td>\n",
       "      <td id=\"T_994a7_row3_col5\" class=\"data row3 col5\" >93.000000</td>\n",
       "    </tr>\n",
       "    <tr>\n",
       "      <th id=\"T_994a7_level0_row4\" class=\"row_heading level0 row4\" >251</th>\n",
       "      <td id=\"T_994a7_row4_col0\" class=\"data row4 col0\" >Cristiano Ronaldo</td>\n",
       "      <td id=\"T_994a7_row4_col1\" class=\"data row4 col1\" >Portugal</td>\n",
       "      <td id=\"T_994a7_row4_col2\" class=\"data row4 col2\" >1</td>\n",
       "      <td id=\"T_994a7_row4_col3\" class=\"data row4 col3\" >Soccer</td>\n",
       "      <td id=\"T_994a7_row4_col4\" class=\"data row4 col4\" >2016</td>\n",
       "      <td id=\"T_994a7_row4_col5\" class=\"data row4 col5\" >88.000000</td>\n",
       "    </tr>\n",
       "    <tr>\n",
       "      <th id=\"T_994a7_level0_row5\" class=\"row_heading level0 row5\" >241</th>\n",
       "      <td id=\"T_994a7_row5_col0\" class=\"data row5 col0\" >Floyd Mayweather</td>\n",
       "      <td id=\"T_994a7_row5_col1\" class=\"data row5 col1\" >USA</td>\n",
       "      <td id=\"T_994a7_row5_col2\" class=\"data row5 col2\" >1</td>\n",
       "      <td id=\"T_994a7_row5_col3\" class=\"data row5 col3\" >Boxing</td>\n",
       "      <td id=\"T_994a7_row5_col4\" class=\"data row5 col4\" >2015</td>\n",
       "      <td id=\"T_994a7_row5_col5\" class=\"data row5 col5\" >300.000000</td>\n",
       "    </tr>\n",
       "    <tr>\n",
       "      <th id=\"T_994a7_level0_row6\" class=\"row_heading level0 row6\" >231</th>\n",
       "      <td id=\"T_994a7_row6_col0\" class=\"data row6 col0\" >Floyd Mayweather</td>\n",
       "      <td id=\"T_994a7_row6_col1\" class=\"data row6 col1\" >USA</td>\n",
       "      <td id=\"T_994a7_row6_col2\" class=\"data row6 col2\" >1</td>\n",
       "      <td id=\"T_994a7_row6_col3\" class=\"data row6 col3\" >Boxing</td>\n",
       "      <td id=\"T_994a7_row6_col4\" class=\"data row6 col4\" >2014</td>\n",
       "      <td id=\"T_994a7_row6_col5\" class=\"data row6 col5\" >105.000000</td>\n",
       "    </tr>\n",
       "    <tr>\n",
       "      <th id=\"T_994a7_level0_row7\" class=\"row_heading level0 row7\" >221</th>\n",
       "      <td id=\"T_994a7_row7_col0\" class=\"data row7 col0\" >Tiger Woods</td>\n",
       "      <td id=\"T_994a7_row7_col1\" class=\"data row7 col1\" >USA</td>\n",
       "      <td id=\"T_994a7_row7_col2\" class=\"data row7 col2\" >1</td>\n",
       "      <td id=\"T_994a7_row7_col3\" class=\"data row7 col3\" >Golf</td>\n",
       "      <td id=\"T_994a7_row7_col4\" class=\"data row7 col4\" >2013</td>\n",
       "      <td id=\"T_994a7_row7_col5\" class=\"data row7 col5\" >78.100000</td>\n",
       "    </tr>\n",
       "    <tr>\n",
       "      <th id=\"T_994a7_level0_row8\" class=\"row_heading level0 row8\" >211</th>\n",
       "      <td id=\"T_994a7_row8_col0\" class=\"data row8 col0\" >Floyd Mayweather</td>\n",
       "      <td id=\"T_994a7_row8_col1\" class=\"data row8 col1\" >USA</td>\n",
       "      <td id=\"T_994a7_row8_col2\" class=\"data row8 col2\" >1</td>\n",
       "      <td id=\"T_994a7_row8_col3\" class=\"data row8 col3\" >Boxing</td>\n",
       "      <td id=\"T_994a7_row8_col4\" class=\"data row8 col4\" >2012</td>\n",
       "      <td id=\"T_994a7_row8_col5\" class=\"data row8 col5\" >85.000000</td>\n",
       "    </tr>\n",
       "    <tr>\n",
       "      <th id=\"T_994a7_level0_row9\" class=\"row_heading level0 row9\" >201</th>\n",
       "      <td id=\"T_994a7_row9_col0\" class=\"data row9 col0\" >Tiger Woods</td>\n",
       "      <td id=\"T_994a7_row9_col1\" class=\"data row9 col1\" >USA</td>\n",
       "      <td id=\"T_994a7_row9_col2\" class=\"data row9 col2\" >1</td>\n",
       "      <td id=\"T_994a7_row9_col3\" class=\"data row9 col3\" >Golf</td>\n",
       "      <td id=\"T_994a7_row9_col4\" class=\"data row9 col4\" >2011</td>\n",
       "      <td id=\"T_994a7_row9_col5\" class=\"data row9 col5\" >75.000000</td>\n",
       "    </tr>\n",
       "    <tr>\n",
       "      <th id=\"T_994a7_level0_row10\" class=\"row_heading level0 row10\" >191</th>\n",
       "      <td id=\"T_994a7_row10_col0\" class=\"data row10 col0\" >Tiger Woods</td>\n",
       "      <td id=\"T_994a7_row10_col1\" class=\"data row10 col1\" >USA</td>\n",
       "      <td id=\"T_994a7_row10_col2\" class=\"data row10 col2\" >1</td>\n",
       "      <td id=\"T_994a7_row10_col3\" class=\"data row10 col3\" >Golf</td>\n",
       "      <td id=\"T_994a7_row10_col4\" class=\"data row10 col4\" >2010</td>\n",
       "      <td id=\"T_994a7_row10_col5\" class=\"data row10 col5\" >105.000000</td>\n",
       "    </tr>\n",
       "    <tr>\n",
       "      <th id=\"T_994a7_level0_row11\" class=\"row_heading level0 row11\" >181</th>\n",
       "      <td id=\"T_994a7_row11_col0\" class=\"data row11 col0\" >Tiger Woods</td>\n",
       "      <td id=\"T_994a7_row11_col1\" class=\"data row11 col1\" >USA</td>\n",
       "      <td id=\"T_994a7_row11_col2\" class=\"data row11 col2\" >1</td>\n",
       "      <td id=\"T_994a7_row11_col3\" class=\"data row11 col3\" >Golf</td>\n",
       "      <td id=\"T_994a7_row11_col4\" class=\"data row11 col4\" >2009</td>\n",
       "      <td id=\"T_994a7_row11_col5\" class=\"data row11 col5\" >110.000000</td>\n",
       "    </tr>\n",
       "    <tr>\n",
       "      <th id=\"T_994a7_level0_row12\" class=\"row_heading level0 row12\" >171</th>\n",
       "      <td id=\"T_994a7_row12_col0\" class=\"data row12 col0\" >Tiger Woods</td>\n",
       "      <td id=\"T_994a7_row12_col1\" class=\"data row12 col1\" >USA</td>\n",
       "      <td id=\"T_994a7_row12_col2\" class=\"data row12 col2\" >1</td>\n",
       "      <td id=\"T_994a7_row12_col3\" class=\"data row12 col3\" >Golf</td>\n",
       "      <td id=\"T_994a7_row12_col4\" class=\"data row12 col4\" >2008</td>\n",
       "      <td id=\"T_994a7_row12_col5\" class=\"data row12 col5\" >115.000000</td>\n",
       "    </tr>\n",
       "    <tr>\n",
       "      <th id=\"T_994a7_level0_row13\" class=\"row_heading level0 row13\" >161</th>\n",
       "      <td id=\"T_994a7_row13_col0\" class=\"data row13 col0\" >Tiger Woods</td>\n",
       "      <td id=\"T_994a7_row13_col1\" class=\"data row13 col1\" >USA</td>\n",
       "      <td id=\"T_994a7_row13_col2\" class=\"data row13 col2\" >1</td>\n",
       "      <td id=\"T_994a7_row13_col3\" class=\"data row13 col3\" >Golf</td>\n",
       "      <td id=\"T_994a7_row13_col4\" class=\"data row13 col4\" >2007</td>\n",
       "      <td id=\"T_994a7_row13_col5\" class=\"data row13 col5\" >100.000000</td>\n",
       "    </tr>\n",
       "    <tr>\n",
       "      <th id=\"T_994a7_level0_row14\" class=\"row_heading level0 row14\" >151</th>\n",
       "      <td id=\"T_994a7_row14_col0\" class=\"data row14 col0\" >Tiger Woods</td>\n",
       "      <td id=\"T_994a7_row14_col1\" class=\"data row14 col1\" >USA</td>\n",
       "      <td id=\"T_994a7_row14_col2\" class=\"data row14 col2\" >1</td>\n",
       "      <td id=\"T_994a7_row14_col3\" class=\"data row14 col3\" >Golf</td>\n",
       "      <td id=\"T_994a7_row14_col4\" class=\"data row14 col4\" >2006</td>\n",
       "      <td id=\"T_994a7_row14_col5\" class=\"data row14 col5\" >90.000000</td>\n",
       "    </tr>\n",
       "    <tr>\n",
       "      <th id=\"T_994a7_level0_row15\" class=\"row_heading level0 row15\" >141</th>\n",
       "      <td id=\"T_994a7_row15_col0\" class=\"data row15 col0\" >Tiger Woods</td>\n",
       "      <td id=\"T_994a7_row15_col1\" class=\"data row15 col1\" >USA</td>\n",
       "      <td id=\"T_994a7_row15_col2\" class=\"data row15 col2\" >1</td>\n",
       "      <td id=\"T_994a7_row15_col3\" class=\"data row15 col3\" >Golf</td>\n",
       "      <td id=\"T_994a7_row15_col4\" class=\"data row15 col4\" >2005</td>\n",
       "      <td id=\"T_994a7_row15_col5\" class=\"data row15 col5\" >87.000000</td>\n",
       "    </tr>\n",
       "    <tr>\n",
       "      <th id=\"T_994a7_level0_row16\" class=\"row_heading level0 row16\" >131</th>\n",
       "      <td id=\"T_994a7_row16_col0\" class=\"data row16 col0\" >Tiger Woods</td>\n",
       "      <td id=\"T_994a7_row16_col1\" class=\"data row16 col1\" >USA</td>\n",
       "      <td id=\"T_994a7_row16_col2\" class=\"data row16 col2\" >1</td>\n",
       "      <td id=\"T_994a7_row16_col3\" class=\"data row16 col3\" >Golf</td>\n",
       "      <td id=\"T_994a7_row16_col4\" class=\"data row16 col4\" >2004</td>\n",
       "      <td id=\"T_994a7_row16_col5\" class=\"data row16 col5\" >80.300000</td>\n",
       "    </tr>\n",
       "    <tr>\n",
       "      <th id=\"T_994a7_level0_row17\" class=\"row_heading level0 row17\" >121</th>\n",
       "      <td id=\"T_994a7_row17_col0\" class=\"data row17 col0\" >Tiger Woods</td>\n",
       "      <td id=\"T_994a7_row17_col1\" class=\"data row17 col1\" >USA</td>\n",
       "      <td id=\"T_994a7_row17_col2\" class=\"data row17 col2\" >1</td>\n",
       "      <td id=\"T_994a7_row17_col3\" class=\"data row17 col3\" >Golf</td>\n",
       "      <td id=\"T_994a7_row17_col4\" class=\"data row17 col4\" >2003</td>\n",
       "      <td id=\"T_994a7_row17_col5\" class=\"data row17 col5\" >78.000000</td>\n",
       "    </tr>\n",
       "    <tr>\n",
       "      <th id=\"T_994a7_level0_row18\" class=\"row_heading level0 row18\" >110</th>\n",
       "      <td id=\"T_994a7_row18_col0\" class=\"data row18 col0\" >Tiger Woods</td>\n",
       "      <td id=\"T_994a7_row18_col1\" class=\"data row18 col1\" >USA</td>\n",
       "      <td id=\"T_994a7_row18_col2\" class=\"data row18 col2\" >1</td>\n",
       "      <td id=\"T_994a7_row18_col3\" class=\"data row18 col3\" >Golf</td>\n",
       "      <td id=\"T_994a7_row18_col4\" class=\"data row18 col4\" >2002</td>\n",
       "      <td id=\"T_994a7_row18_col5\" class=\"data row18 col5\" >69.000000</td>\n",
       "    </tr>\n",
       "    <tr>\n",
       "      <th id=\"T_994a7_level0_row19\" class=\"row_heading level0 row19\" >100</th>\n",
       "      <td id=\"T_994a7_row19_col0\" class=\"data row19 col0\" >Michael Schumacher</td>\n",
       "      <td id=\"T_994a7_row19_col1\" class=\"data row19 col1\" >Germany</td>\n",
       "      <td id=\"T_994a7_row19_col2\" class=\"data row19 col2\" >1</td>\n",
       "      <td id=\"T_994a7_row19_col3\" class=\"data row19 col3\" >Auto Racing</td>\n",
       "      <td id=\"T_994a7_row19_col4\" class=\"data row19 col4\" >2000</td>\n",
       "      <td id=\"T_994a7_row19_col5\" class=\"data row19 col5\" >59.000000</td>\n",
       "    </tr>\n",
       "    <tr>\n",
       "      <th id=\"T_994a7_level0_row20\" class=\"row_heading level0 row20\" >90</th>\n",
       "      <td id=\"T_994a7_row20_col0\" class=\"data row20 col0\" >Michael Schumacher</td>\n",
       "      <td id=\"T_994a7_row20_col1\" class=\"data row20 col1\" >Germany</td>\n",
       "      <td id=\"T_994a7_row20_col2\" class=\"data row20 col2\" >1</td>\n",
       "      <td id=\"T_994a7_row20_col3\" class=\"data row20 col3\" >Auto Racing</td>\n",
       "      <td id=\"T_994a7_row20_col4\" class=\"data row20 col4\" >1999</td>\n",
       "      <td id=\"T_994a7_row20_col5\" class=\"data row20 col5\" >49.000000</td>\n",
       "    </tr>\n",
       "    <tr>\n",
       "      <th id=\"T_994a7_level0_row21\" class=\"row_heading level0 row21\" >80</th>\n",
       "      <td id=\"T_994a7_row21_col0\" class=\"data row21 col0\" >Michael Jordan</td>\n",
       "      <td id=\"T_994a7_row21_col1\" class=\"data row21 col1\" >USA</td>\n",
       "      <td id=\"T_994a7_row21_col2\" class=\"data row21 col2\" >1</td>\n",
       "      <td id=\"T_994a7_row21_col3\" class=\"data row21 col3\" >NBA/Basketball</td>\n",
       "      <td id=\"T_994a7_row21_col4\" class=\"data row21 col4\" >1998</td>\n",
       "      <td id=\"T_994a7_row21_col5\" class=\"data row21 col5\" >69.000000</td>\n",
       "    </tr>\n",
       "    <tr>\n",
       "      <th id=\"T_994a7_level0_row22\" class=\"row_heading level0 row22\" >70</th>\n",
       "      <td id=\"T_994a7_row22_col0\" class=\"data row22 col0\" >Michael Jordan</td>\n",
       "      <td id=\"T_994a7_row22_col1\" class=\"data row22 col1\" >USA</td>\n",
       "      <td id=\"T_994a7_row22_col2\" class=\"data row22 col2\" >1</td>\n",
       "      <td id=\"T_994a7_row22_col3\" class=\"data row22 col3\" >NBA/Basketball</td>\n",
       "      <td id=\"T_994a7_row22_col4\" class=\"data row22 col4\" >1997</td>\n",
       "      <td id=\"T_994a7_row22_col5\" class=\"data row22 col5\" >78.300000</td>\n",
       "    </tr>\n",
       "    <tr>\n",
       "      <th id=\"T_994a7_level0_row23\" class=\"row_heading level0 row23\" >60</th>\n",
       "      <td id=\"T_994a7_row23_col0\" class=\"data row23 col0\" >Mike Tyson</td>\n",
       "      <td id=\"T_994a7_row23_col1\" class=\"data row23 col1\" >USA</td>\n",
       "      <td id=\"T_994a7_row23_col2\" class=\"data row23 col2\" >1</td>\n",
       "      <td id=\"T_994a7_row23_col3\" class=\"data row23 col3\" >Boxing</td>\n",
       "      <td id=\"T_994a7_row23_col4\" class=\"data row23 col4\" >1996</td>\n",
       "      <td id=\"T_994a7_row23_col5\" class=\"data row23 col5\" >75.000000</td>\n",
       "    </tr>\n",
       "    <tr>\n",
       "      <th id=\"T_994a7_level0_row24\" class=\"row_heading level0 row24\" >50</th>\n",
       "      <td id=\"T_994a7_row24_col0\" class=\"data row24 col0\" >Michael Jordan</td>\n",
       "      <td id=\"T_994a7_row24_col1\" class=\"data row24 col1\" >USA</td>\n",
       "      <td id=\"T_994a7_row24_col2\" class=\"data row24 col2\" >1</td>\n",
       "      <td id=\"T_994a7_row24_col3\" class=\"data row24 col3\" >NBA/Basketball</td>\n",
       "      <td id=\"T_994a7_row24_col4\" class=\"data row24 col4\" >1995</td>\n",
       "      <td id=\"T_994a7_row24_col5\" class=\"data row24 col5\" >43.900000</td>\n",
       "    </tr>\n",
       "    <tr>\n",
       "      <th id=\"T_994a7_level0_row25\" class=\"row_heading level0 row25\" >40</th>\n",
       "      <td id=\"T_994a7_row25_col0\" class=\"data row25 col0\" >Michael Jordan</td>\n",
       "      <td id=\"T_994a7_row25_col1\" class=\"data row25 col1\" >USA</td>\n",
       "      <td id=\"T_994a7_row25_col2\" class=\"data row25 col2\" >1</td>\n",
       "      <td id=\"T_994a7_row25_col3\" class=\"data row25 col3\" >NBA/Basketball</td>\n",
       "      <td id=\"T_994a7_row25_col4\" class=\"data row25 col4\" >1994</td>\n",
       "      <td id=\"T_994a7_row25_col5\" class=\"data row25 col5\" >30.000000</td>\n",
       "    </tr>\n",
       "    <tr>\n",
       "      <th id=\"T_994a7_level0_row26\" class=\"row_heading level0 row26\" >30</th>\n",
       "      <td id=\"T_994a7_row26_col0\" class=\"data row26 col0\" >Michael Jordan</td>\n",
       "      <td id=\"T_994a7_row26_col1\" class=\"data row26 col1\" >USA</td>\n",
       "      <td id=\"T_994a7_row26_col2\" class=\"data row26 col2\" >1</td>\n",
       "      <td id=\"T_994a7_row26_col3\" class=\"data row26 col3\" >NBA/Basketball</td>\n",
       "      <td id=\"T_994a7_row26_col4\" class=\"data row26 col4\" >1993</td>\n",
       "      <td id=\"T_994a7_row26_col5\" class=\"data row26 col5\" >36.000000</td>\n",
       "    </tr>\n",
       "    <tr>\n",
       "      <th id=\"T_994a7_level0_row27\" class=\"row_heading level0 row27\" >20</th>\n",
       "      <td id=\"T_994a7_row27_col0\" class=\"data row27 col0\" >Michael Jordan</td>\n",
       "      <td id=\"T_994a7_row27_col1\" class=\"data row27 col1\" >USA</td>\n",
       "      <td id=\"T_994a7_row27_col2\" class=\"data row27 col2\" >1</td>\n",
       "      <td id=\"T_994a7_row27_col3\" class=\"data row27 col3\" >NBA/Basketball</td>\n",
       "      <td id=\"T_994a7_row27_col4\" class=\"data row27 col4\" >1992</td>\n",
       "      <td id=\"T_994a7_row27_col5\" class=\"data row27 col5\" >35.900000</td>\n",
       "    </tr>\n",
       "    <tr>\n",
       "      <th id=\"T_994a7_level0_row28\" class=\"row_heading level0 row28\" >10</th>\n",
       "      <td id=\"T_994a7_row28_col0\" class=\"data row28 col0\" >Evander Holyfield</td>\n",
       "      <td id=\"T_994a7_row28_col1\" class=\"data row28 col1\" >USA</td>\n",
       "      <td id=\"T_994a7_row28_col2\" class=\"data row28 col2\" >1</td>\n",
       "      <td id=\"T_994a7_row28_col3\" class=\"data row28 col3\" >Boxing</td>\n",
       "      <td id=\"T_994a7_row28_col4\" class=\"data row28 col4\" >1991</td>\n",
       "      <td id=\"T_994a7_row28_col5\" class=\"data row28 col5\" >60.500000</td>\n",
       "    </tr>\n",
       "    <tr>\n",
       "      <th id=\"T_994a7_level0_row29\" class=\"row_heading level0 row29\" >0</th>\n",
       "      <td id=\"T_994a7_row29_col0\" class=\"data row29 col0\" >Mike Tyson</td>\n",
       "      <td id=\"T_994a7_row29_col1\" class=\"data row29 col1\" >USA</td>\n",
       "      <td id=\"T_994a7_row29_col2\" class=\"data row29 col2\" >1</td>\n",
       "      <td id=\"T_994a7_row29_col3\" class=\"data row29 col3\" >Boxing</td>\n",
       "      <td id=\"T_994a7_row29_col4\" class=\"data row29 col4\" >1990</td>\n",
       "      <td id=\"T_994a7_row29_col5\" class=\"data row29 col5\" >28.600000</td>\n",
       "    </tr>\n",
       "  </tbody>\n",
       "</table>\n"
      ],
      "text/plain": [
       "<pandas.io.formats.style.Styler at 0x158f02770>"
      ]
     },
     "execution_count": 51,
     "metadata": {},
     "output_type": "execute_result"
    }
   ],
   "source": [
    "ranked_1 = df[df['Current Rank']==1].sort_values(by='Year', ascending=False)\n",
    "ranked_1.style.background_gradient(cmap='Blues')\n",
    "# Starting from the recent year, Roger Federer has been ranked first in 2020, and in 1990 Mike Tyson was the first ranked player"
   ]
  },
  {
   "cell_type": "markdown",
   "metadata": {},
   "source": [
    "- How many times a player ranked first "
   ]
  },
  {
   "cell_type": "code",
   "execution_count": 52,
   "metadata": {},
   "outputs": [
    {
     "data": {
      "text/plain": [
       "Name                Sport         \n",
       "Tiger Woods         Golf              11\n",
       "Michael Jordan      NBA/Basketball     6\n",
       "Floyd Mayweather    Boxing             4\n",
       "Cristiano Ronaldo   Soccer             2\n",
       "Michael Schumacher  Auto Racing        2\n",
       "Mike Tyson          Boxing             2\n",
       "Evander Holyfield   Boxing             1\n",
       "Lionel Messi        Soccer             1\n",
       "Roger Federer       Tennis             1\n",
       "dtype: int64"
      ]
     },
     "execution_count": 52,
     "metadata": {},
     "output_type": "execute_result"
    },
    {
     "data": {
      "image/png": "[encoded data removed]",
      "text/plain": [
       "<Figure size 1000x500 with 1 Axes>"
      ]
     },
     "metadata": {},
     "output_type": "display_data"
    }
   ],
   "source": [
    "plt.figure(figsize=(10,5))\n",
    "plt.xticks(rotation=20)\n",
    "plt.title('The number of times a player has been ranked first')\n",
    "plt.bar(list(ranked_1[\"Name\"].value_counts().keys()),list(ranked_1[\"Name\"].value_counts()),align=\"center\")\n",
    "ranked_1[['Name', 'Sport']].value_counts()\n",
    "\n",
    "# The golf player, Tiger Woods, has been ranked first for 11 times, more than anyone else in the given period of time"
   ]
  },
  {
   "cell_type": "markdown",
   "metadata": {},
   "source": [
    "- The highest paid player by year"
   ]
  },
  {
   "cell_type": "code",
   "execution_count": 53,
   "metadata": {},
   "outputs": [
    {
     "data": {
      "text/html": [
       "<style type=\"text/css\">\n",
       "#T_5b73a_row0_col0, #T_5b73a_row2_col0, #T_5b73a_row38_col0, #T_5b73a_row49_col0, #T_5b73a_row57_col0, #T_5b73a_row60_col0, #T_5b73a_row84_col0, #T_5b73a_row96_col0, #T_5b73a_row97_col0, #T_5b73a_row102_col0 {\n",
       "  background-color: #105ba4;\n",
       "  color: #f1f1f1;\n",
       "}\n",
       "#T_5b73a_row0_col1, #T_5b73a_row9_col0, #T_5b73a_row12_col0, #T_5b73a_row14_col0, #T_5b73a_row17_col0, #T_5b73a_row26_col0, #T_5b73a_row48_col0, #T_5b73a_row58_col4, #T_5b73a_row63_col0, #T_5b73a_row64_col0, #T_5b73a_row71_col0, #T_5b73a_row74_col4, #T_5b73a_row76_col0, #T_5b73a_row76_col4, #T_5b73a_row101_col4, #T_5b73a_row102_col4, #T_5b73a_row119_col4, #T_5b73a_row129_col4, #T_5b73a_row136_col4, #T_5b73a_row141_col4, #T_5b73a_row151_col4, #T_5b73a_row172_col4, #T_5b73a_row181_col4, #T_5b73a_row213_col4, #T_5b73a_row228_col4, #T_5b73a_row233_col4, #T_5b73a_row240_col4, #T_5b73a_row241_col4, #T_5b73a_row242_col4, #T_5b73a_row250_col4, #T_5b73a_row251_col4, #T_5b73a_row268_col4, #T_5b73a_row280_col4, #T_5b73a_row282_col4, #T_5b73a_row296_col4, #T_5b73a_row297_col4 {\n",
       "  background-color: #08306b;\n",
       "  color: #f1f1f1;\n",
       "}\n",
       "#T_5b73a_row0_col4, #T_5b73a_row1_col4, #T_5b73a_row3_col4, #T_5b73a_row4_col4, #T_5b73a_row6_col4, #T_5b73a_row9_col4, #T_5b73a_row10_col4, #T_5b73a_row11_col4, #T_5b73a_row15_col4, #T_5b73a_row20_col4, #T_5b73a_row21_col4, #T_5b73a_row27_col4, #T_5b73a_row28_col4, #T_5b73a_row31_col4, #T_5b73a_row33_col4, #T_5b73a_row39_col4, #T_5b73a_row40_col4, #T_5b73a_row41_col4, #T_5b73a_row45_col4, #T_5b73a_row46_col4, #T_5b73a_row52_col4, #T_5b73a_row53_col4, #T_5b73a_row70_col4, #T_5b73a_row77_col4, #T_5b73a_row104_col4, #T_5b73a_row128_col4, #T_5b73a_row162_col4, #T_5b73a_row163_col4, #T_5b73a_row193_col4, #T_5b73a_row201_col0, #T_5b73a_row201_col4, #T_5b73a_row216_col0, #T_5b73a_row272_col0, #T_5b73a_row287_col0, #T_5b73a_row290_col1, #T_5b73a_row291_col1, #T_5b73a_row292_col0, #T_5b73a_row292_col1, #T_5b73a_row293_col1, #T_5b73a_row294_col0, #T_5b73a_row294_col1, #T_5b73a_row295_col0, #T_5b73a_row295_col1, #T_5b73a_row296_col1, #T_5b73a_row297_col1, #T_5b73a_row298_col0, #T_5b73a_row298_col1, #T_5b73a_row299_col0, #T_5b73a_row299_col1, #T_5b73a_row300_col0, #T_5b73a_row300_col1 {\n",
       "  background-color: #f7fbff;\n",
       "  color: #000000;\n",
       "}\n",
       "#T_5b73a_row1_col0, #T_5b73a_row5_col0, #T_5b73a_row8_col0, #T_5b73a_row16_col0, #T_5b73a_row22_col0, #T_5b73a_row30_col0, #T_5b73a_row42_col0, #T_5b73a_row44_col0, #T_5b73a_row55_col0, #T_5b73a_row74_col0 {\n",
       "  background-color: #084285;\n",
       "  color: #f1f1f1;\n",
       "}\n",
       "#T_5b73a_row1_col1 {\n",
       "  background-color: #083d7f;\n",
       "  color: #f1f1f1;\n",
       "}\n",
       "#T_5b73a_row2_col1 {\n",
       "  background-color: #64a9d3;\n",
       "  color: #f1f1f1;\n",
       "}\n",
       "#T_5b73a_row2_col4, #T_5b73a_row5_col4, #T_5b73a_row7_col4, #T_5b73a_row12_col4, #T_5b73a_row29_col4, #T_5b73a_row32_col4, #T_5b73a_row35_col4, #T_5b73a_row36_col4, #T_5b73a_row47_col4, #T_5b73a_row51_col4, #T_5b73a_row56_col4, #T_5b73a_row59_col4, #T_5b73a_row65_col4, #T_5b73a_row72_col4, #T_5b73a_row78_col4, #T_5b73a_row83_col4, #T_5b73a_row88_col4, #T_5b73a_row89_col4, #T_5b73a_row93_col4, #T_5b73a_row99_col4, #T_5b73a_row112_col4, #T_5b73a_row122_col4, #T_5b73a_row123_col4, #T_5b73a_row124_col4, #T_5b73a_row132_col4, #T_5b73a_row146_col4, #T_5b73a_row155_col4, #T_5b73a_row185_col4, #T_5b73a_row206_col4, #T_5b73a_row216_col4, #T_5b73a_row220_col4, #T_5b73a_row252_col4 {\n",
       "  background-color: #e1edf8;\n",
       "  color: #000000;\n",
       "}\n",
       "#T_5b73a_row3_col0, #T_5b73a_row7_col0, #T_5b73a_row13_col0, #T_5b73a_row18_col0, #T_5b73a_row19_col0, #T_5b73a_row23_col0, #T_5b73a_row24_col0, #T_5b73a_row25_col0, #T_5b73a_row37_col0, #T_5b73a_row58_col0 {\n",
       "  background-color: #083877;\n",
       "  color: #f1f1f1;\n",
       "}\n",
       "#T_5b73a_row3_col1 {\n",
       "  background-color: #91c3de;\n",
       "  color: #000000;\n",
       "}\n",
       "#T_5b73a_row4_col0, #T_5b73a_row99_col0, #T_5b73a_row120_col0, #T_5b73a_row121_col0, #T_5b73a_row127_col0, #T_5b73a_row150_col0, #T_5b73a_row154_col0, #T_5b73a_row159_col0, #T_5b73a_row168_col0, #T_5b73a_row170_col0 {\n",
       "  background-color: #4a98c9;\n",
       "  color: #f1f1f1;\n",
       "}\n",
       "#T_5b73a_row4_col1 {\n",
       "  background-color: #a1cbe2;\n",
       "  color: #000000;\n",
       "}\n",
       "#T_5b73a_row5_col1 {\n",
       "  background-color: #a5cde3;\n",
       "  color: #000000;\n",
       "}\n",
       "#T_5b73a_row6_col0, #T_5b73a_row122_col0, #T_5b73a_row123_col0, #T_5b73a_row124_col0, #T_5b73a_row139_col0, #T_5b73a_row142_col0, #T_5b73a_row143_col0, #T_5b73a_row147_col0, #T_5b73a_row165_col0, #T_5b73a_row172_col0 {\n",
       "  background-color: #3f8fc5;\n",
       "  color: #f1f1f1;\n",
       "}\n",
       "#T_5b73a_row6_col1 {\n",
       "  background-color: #a6cee4;\n",
       "  color: #000000;\n",
       "}\n",
       "#T_5b73a_row7_col1 {\n",
       "  background-color: #a8cee4;\n",
       "  color: #000000;\n",
       "}\n",
       "#T_5b73a_row8_col1 {\n",
       "  background-color: #a9cfe5;\n",
       "  color: #000000;\n",
       "}\n",
       "#T_5b73a_row8_col4, #T_5b73a_row13_col4, #T_5b73a_row14_col4, #T_5b73a_row34_col4, #T_5b73a_row38_col4, #T_5b73a_row43_col4, #T_5b73a_row50_col1, #T_5b73a_row50_col4, #T_5b73a_row66_col4, #T_5b73a_row75_col4, #T_5b73a_row82_col4, #T_5b73a_row106_col4, #T_5b73a_row107_col4, #T_5b73a_row108_col4, #T_5b73a_row120_col4, #T_5b73a_row121_col4, #T_5b73a_row131_col4, #T_5b73a_row137_col4, #T_5b73a_row138_col4, #T_5b73a_row152_col4, #T_5b73a_row153_col4, #T_5b73a_row160_col4, #T_5b73a_row171_col4, #T_5b73a_row178_col4, #T_5b73a_row195_col4, #T_5b73a_row234_col4, #T_5b73a_row237_col4, #T_5b73a_row244_col4, #T_5b73a_row254_col4, #T_5b73a_row265_col4, #T_5b73a_row272_col4 {\n",
       "  background-color: #ccdff1;\n",
       "  color: #000000;\n",
       "}\n",
       "#T_5b73a_row9_col1 {\n",
       "  background-color: #aacfe5;\n",
       "  color: #000000;\n",
       "}\n",
       "#T_5b73a_row10_col0, #T_5b73a_row24_col4, #T_5b73a_row42_col4, #T_5b73a_row59_col0, #T_5b73a_row63_col4, #T_5b73a_row79_col4, #T_5b73a_row84_col4, #T_5b73a_row86_col4, #T_5b73a_row105_col4, #T_5b73a_row108_col0, #T_5b73a_row109_col4, #T_5b73a_row118_col0, #T_5b73a_row130_col0, #T_5b73a_row133_col0, #T_5b73a_row134_col0, #T_5b73a_row134_col4, #T_5b73a_row140_col0, #T_5b73a_row149_col0, #T_5b73a_row151_col0, #T_5b73a_row154_col4, #T_5b73a_row156_col4, #T_5b73a_row180_col4, #T_5b73a_row187_col4, #T_5b73a_row192_col4, #T_5b73a_row202_col4, #T_5b73a_row217_col4, #T_5b73a_row219_col4, #T_5b73a_row227_col4, #T_5b73a_row229_col4, #T_5b73a_row232_col4, #T_5b73a_row245_col4, #T_5b73a_row255_col4, #T_5b73a_row259_col4, #T_5b73a_row264_col4, #T_5b73a_row278_col4, #T_5b73a_row286_col4, #T_5b73a_row288_col4, #T_5b73a_row295_col4 {\n",
       "  background-color: #3787c0;\n",
       "  color: #f1f1f1;\n",
       "}\n",
       "#T_5b73a_row10_col1, #T_5b73a_row11_col1, #T_5b73a_row12_col1, #T_5b73a_row13_col1, #T_5b73a_row14_col1 {\n",
       "  background-color: #add0e6;\n",
       "  color: #000000;\n",
       "}\n",
       "#T_5b73a_row11_col0, #T_5b73a_row36_col0, #T_5b73a_row50_col0, #T_5b73a_row61_col0, #T_5b73a_row67_col0, #T_5b73a_row68_col0, #T_5b73a_row79_col0, #T_5b73a_row85_col0, #T_5b73a_row125_col0, #T_5b73a_row129_col0 {\n",
       "  background-color: #1764ab;\n",
       "  color: #f1f1f1;\n",
       "}\n",
       "#T_5b73a_row15_col0, #T_5b73a_row132_col0, #T_5b73a_row137_col0, #T_5b73a_row145_col0, #T_5b73a_row161_col0, #T_5b73a_row175_col0, #T_5b73a_row176_col0, #T_5b73a_row183_col0, #T_5b73a_row186_col0, #T_5b73a_row188_col0 {\n",
       "  background-color: #549fcd;\n",
       "  color: #f1f1f1;\n",
       "}\n",
       "#T_5b73a_row15_col1 {\n",
       "  background-color: #b2d2e8;\n",
       "  color: #000000;\n",
       "}\n",
       "#T_5b73a_row16_col1 {\n",
       "  background-color: #b3d3e8;\n",
       "  color: #000000;\n",
       "}\n",
       "#T_5b73a_row16_col4, #T_5b73a_row17_col4, #T_5b73a_row18_col4, #T_5b73a_row49_col4, #T_5b73a_row54_col4, #T_5b73a_row61_col4, #T_5b73a_row62_col4, #T_5b73a_row73_col4, #T_5b73a_row77_col0, #T_5b73a_row87_col4, #T_5b73a_row89_col0, #T_5b73a_row106_col0, #T_5b73a_row113_col4, #T_5b73a_row114_col4, #T_5b73a_row118_col4, #T_5b73a_row144_col4, #T_5b73a_row145_col4, #T_5b73a_row157_col4, #T_5b73a_row158_col0, #T_5b73a_row158_col4, #T_5b73a_row167_col4, #T_5b73a_row169_col4, #T_5b73a_row190_col4, #T_5b73a_row204_col4, #T_5b73a_row210_col4, #T_5b73a_row215_col0, #T_5b73a_row221_col0, #T_5b73a_row222_col4, #T_5b73a_row227_col0, #T_5b73a_row230_col0, #T_5b73a_row231_col0, #T_5b73a_row235_col4, #T_5b73a_row240_col0, #T_5b73a_row256_col4, #T_5b73a_row266_col4, #T_5b73a_row267_col4, #T_5b73a_row269_col4, #T_5b73a_row287_col4 {\n",
       "  background-color: #abd0e6;\n",
       "  color: #000000;\n",
       "}\n",
       "#T_5b73a_row17_col1, #T_5b73a_row104_col0, #T_5b73a_row112_col0, #T_5b73a_row131_col0, #T_5b73a_row144_col0, #T_5b73a_row164_col0, #T_5b73a_row179_col0, #T_5b73a_row187_col0, #T_5b73a_row197_col0, #T_5b73a_row211_col0, #T_5b73a_row233_col0 {\n",
       "  background-color: #b7d4ea;\n",
       "  color: #000000;\n",
       "}\n",
       "#T_5b73a_row18_col1 {\n",
       "  background-color: #b8d5ea;\n",
       "  color: #000000;\n",
       "}\n",
       "#T_5b73a_row19_col1, #T_5b73a_row20_col1 {\n",
       "  background-color: #b9d6ea;\n",
       "  color: #000000;\n",
       "}\n",
       "#T_5b73a_row19_col4, #T_5b73a_row22_col4, #T_5b73a_row26_col4, #T_5b73a_row57_col4, #T_5b73a_row67_col4, #T_5b73a_row69_col4, #T_5b73a_row80_col4, #T_5b73a_row92_col4, #T_5b73a_row95_col4, #T_5b73a_row116_col4, #T_5b73a_row127_col4, #T_5b73a_row130_col4, #T_5b73a_row139_col4, #T_5b73a_row161_col4, #T_5b73a_row164_col4, #T_5b73a_row174_col4, #T_5b73a_row182_col4, #T_5b73a_row184_col4, #T_5b73a_row191_col4, #T_5b73a_row209_col4, #T_5b73a_row215_col4, #T_5b73a_row223_col4, #T_5b73a_row224_col4, #T_5b73a_row225_col4, #T_5b73a_row238_col4, #T_5b73a_row253_col4, #T_5b73a_row257_col4, #T_5b73a_row270_col4, #T_5b73a_row271_col4, #T_5b73a_row273_col4, #T_5b73a_row283_col4, #T_5b73a_row292_col4 {\n",
       "  background-color: #82bbdb;\n",
       "  color: #000000;\n",
       "}\n",
       "#T_5b73a_row20_col0, #T_5b73a_row29_col0, #T_5b73a_row34_col0, #T_5b73a_row62_col0, #T_5b73a_row69_col0, #T_5b73a_row98_col0, #T_5b73a_row100_col0, #T_5b73a_row110_col0, #T_5b73a_row115_col0, #T_5b73a_row119_col0 {\n",
       "  background-color: #084a91;\n",
       "  color: #f1f1f1;\n",
       "}\n",
       "#T_5b73a_row21_col0, #T_5b73a_row78_col0, #T_5b73a_row82_col0, #T_5b73a_row113_col0, #T_5b73a_row182_col0, #T_5b73a_row189_col0, #T_5b73a_row192_col0, #T_5b73a_row194_col0, #T_5b73a_row198_col0, #T_5b73a_row199_col0 {\n",
       "  background-color: #60a7d2;\n",
       "  color: #f1f1f1;\n",
       "}\n",
       "#T_5b73a_row21_col1, #T_5b73a_row22_col1, #T_5b73a_row23_col1, #T_5b73a_row24_col1 {\n",
       "  background-color: #bdd7ec;\n",
       "  color: #000000;\n",
       "}\n",
       "#T_5b73a_row23_col4, #T_5b73a_row30_col4, #T_5b73a_row48_col4, #T_5b73a_row60_col4, #T_5b73a_row68_col4, #T_5b73a_row81_col4, #T_5b73a_row94_col4, #T_5b73a_row98_col4, #T_5b73a_row100_col4, #T_5b73a_row103_col4, #T_5b73a_row133_col4, #T_5b73a_row142_col4, #T_5b73a_row143_col4, #T_5b73a_row147_col4, #T_5b73a_row148_col4, #T_5b73a_row150_col4, #T_5b73a_row175_col4, #T_5b73a_row176_col4, #T_5b73a_row177_col4, #T_5b73a_row179_col4, #T_5b73a_row189_col4, #T_5b73a_row196_col4, #T_5b73a_row208_col4, #T_5b73a_row214_col4, #T_5b73a_row221_col4, #T_5b73a_row239_col4, #T_5b73a_row248_col4, #T_5b73a_row258_col4, #T_5b73a_row260_col4, #T_5b73a_row284_col4, #T_5b73a_row285_col4, #T_5b73a_row294_col4 {\n",
       "  background-color: #58a1cf;\n",
       "  color: #f1f1f1;\n",
       "}\n",
       "#T_5b73a_row25_col1, #T_5b73a_row26_col1, #T_5b73a_row27_col1 {\n",
       "  background-color: #bed8ec;\n",
       "  color: #000000;\n",
       "}\n",
       "#T_5b73a_row25_col4, #T_5b73a_row44_col4, #T_5b73a_row64_col4, #T_5b73a_row85_col4, #T_5b73a_row90_col4, #T_5b73a_row96_col4, #T_5b73a_row110_col4, #T_5b73a_row111_col4, #T_5b73a_row117_col4, #T_5b73a_row140_col4, #T_5b73a_row159_col4, #T_5b73a_row166_col4, #T_5b73a_row183_col4, #T_5b73a_row194_col4, #T_5b73a_row197_col4, #T_5b73a_row200_col4, #T_5b73a_row205_col4, #T_5b73a_row218_col4, #T_5b73a_row231_col4, #T_5b73a_row243_col4, #T_5b73a_row246_col4, #T_5b73a_row261_col4, #T_5b73a_row262_col4, #T_5b73a_row276_col4, #T_5b73a_row279_col4, #T_5b73a_row289_col4, #T_5b73a_row290_col4, #T_5b73a_row298_col4, #T_5b73a_row299_col4, #T_5b73a_row300_col4 {\n",
       "  background-color: #1b69af;\n",
       "  color: #f1f1f1;\n",
       "}\n",
       "#T_5b73a_row27_col0, #T_5b73a_row32_col0, #T_5b73a_row43_col0, #T_5b73a_row54_col0, #T_5b73a_row80_col0, #T_5b73a_row81_col0, #T_5b73a_row86_col0, #T_5b73a_row90_col0, #T_5b73a_row91_col0, #T_5b73a_row101_col0 {\n",
       "  background-color: #0a539e;\n",
       "  color: #f1f1f1;\n",
       "}\n",
       "#T_5b73a_row28_col0, #T_5b73a_row72_col0, #T_5b73a_row153_col0, #T_5b73a_row157_col0, #T_5b73a_row174_col0, #T_5b73a_row177_col0, #T_5b73a_row180_col0, #T_5b73a_row200_col0, #T_5b73a_row203_col0, #T_5b73a_row207_col0 {\n",
       "  background-color: #6aaed6;\n",
       "  color: #f1f1f1;\n",
       "}\n",
       "#T_5b73a_row28_col1 {\n",
       "  background-color: #bfd8ed;\n",
       "  color: #000000;\n",
       "}\n",
       "#T_5b73a_row29_col1, #T_5b73a_row53_col0, #T_5b73a_row155_col0, #T_5b73a_row195_col0, #T_5b73a_row210_col0, #T_5b73a_row223_col0, #T_5b73a_row239_col0, #T_5b73a_row245_col0, #T_5b73a_row246_col0, #T_5b73a_row247_col0, #T_5b73a_row250_col0 {\n",
       "  background-color: #c1d9ed;\n",
       "  color: #000000;\n",
       "}\n",
       "#T_5b73a_row30_col1, #T_5b73a_row31_col1 {\n",
       "  background-color: #c2d9ee;\n",
       "  color: #000000;\n",
       "}\n",
       "#T_5b73a_row31_col0, #T_5b73a_row65_col0, #T_5b73a_row75_col0, #T_5b73a_row87_col0, #T_5b73a_row92_col0, #T_5b73a_row94_col0, #T_5b73a_row109_col0, #T_5b73a_row117_col0, #T_5b73a_row135_col0, #T_5b73a_row136_col0 {\n",
       "  background-color: #2575b7;\n",
       "  color: #f1f1f1;\n",
       "}\n",
       "#T_5b73a_row32_col1 {\n",
       "  background-color: #c6dbef;\n",
       "  color: #000000;\n",
       "}\n",
       "#T_5b73a_row33_col0, #T_5b73a_row35_col0, #T_5b73a_row138_col0, #T_5b73a_row167_col0, #T_5b73a_row184_col0, #T_5b73a_row196_col0, #T_5b73a_row202_col0, #T_5b73a_row205_col0, #T_5b73a_row212_col0, #T_5b73a_row213_col0 {\n",
       "  background-color: #79b5d9;\n",
       "  color: #000000;\n",
       "}\n",
       "#T_5b73a_row33_col1, #T_5b73a_row34_col1, #T_5b73a_row35_col1, #T_5b73a_row36_col1 {\n",
       "  background-color: #c7dbef;\n",
       "  color: #000000;\n",
       "}\n",
       "#T_5b73a_row37_col1, #T_5b73a_row38_col1 {\n",
       "  background-color: #c7dcef;\n",
       "  color: #000000;\n",
       "}\n",
       "#T_5b73a_row37_col4, #T_5b73a_row55_col4, #T_5b73a_row71_col4, #T_5b73a_row91_col4, #T_5b73a_row97_col4, #T_5b73a_row115_col4, #T_5b73a_row125_col4, #T_5b73a_row126_col4, #T_5b73a_row135_col4, #T_5b73a_row149_col4, #T_5b73a_row165_col4, #T_5b73a_row168_col4, #T_5b73a_row170_col4, #T_5b73a_row173_col4, #T_5b73a_row186_col4, #T_5b73a_row188_col4, #T_5b73a_row198_col4, #T_5b73a_row199_col4, #T_5b73a_row203_col4, #T_5b73a_row207_col4, #T_5b73a_row211_col4, #T_5b73a_row212_col4, #T_5b73a_row226_col4, #T_5b73a_row230_col4, #T_5b73a_row236_col4, #T_5b73a_row247_col4, #T_5b73a_row249_col4, #T_5b73a_row263_col4, #T_5b73a_row274_col4, #T_5b73a_row275_col4, #T_5b73a_row277_col4, #T_5b73a_row281_col4, #T_5b73a_row291_col4, #T_5b73a_row293_col4 {\n",
       "  background-color: #084d96;\n",
       "  color: #f1f1f1;\n",
       "}\n",
       "#T_5b73a_row39_col0, #T_5b73a_row83_col0, #T_5b73a_row152_col0, #T_5b73a_row169_col0, #T_5b73a_row209_col0, #T_5b73a_row214_col0, #T_5b73a_row219_col0, #T_5b73a_row243_col0, #T_5b73a_row249_col0, #T_5b73a_row251_col0 {\n",
       "  background-color: #caddf0;\n",
       "  color: #000000;\n",
       "}\n",
       "#T_5b73a_row39_col1, #T_5b73a_row40_col1, #T_5b73a_row41_col1 {\n",
       "  background-color: #c8dcf0;\n",
       "  color: #000000;\n",
       "}\n",
       "#T_5b73a_row40_col0, #T_5b73a_row51_col0, #T_5b73a_row66_col0, #T_5b73a_row73_col0, #T_5b73a_row95_col0, #T_5b73a_row103_col0, #T_5b73a_row105_col0, #T_5b73a_row111_col0, #T_5b73a_row126_col0, #T_5b73a_row141_col0 {\n",
       "  background-color: #1d6cb1;\n",
       "  color: #f1f1f1;\n",
       "}\n",
       "#T_5b73a_row41_col0, #T_5b73a_row47_col0, #T_5b73a_row171_col0, #T_5b73a_row190_col0, #T_5b73a_row191_col0, #T_5b73a_row208_col0, #T_5b73a_row217_col0, #T_5b73a_row218_col0, #T_5b73a_row226_col0, #T_5b73a_row228_col0 {\n",
       "  background-color: #87bddc;\n",
       "  color: #000000;\n",
       "}\n",
       "#T_5b73a_row42_col1, #T_5b73a_row43_col1, #T_5b73a_row44_col1 {\n",
       "  background-color: #c9ddf0;\n",
       "  color: #000000;\n",
       "}\n",
       "#T_5b73a_row45_col0, #T_5b73a_row88_col0, #T_5b73a_row107_col0, #T_5b73a_row114_col0, #T_5b73a_row116_col0, #T_5b73a_row148_col0, #T_5b73a_row156_col0, #T_5b73a_row166_col0, #T_5b73a_row173_col0, #T_5b73a_row181_col0 {\n",
       "  background-color: #2e7ebc;\n",
       "  color: #f1f1f1;\n",
       "}\n",
       "#T_5b73a_row45_col1, #T_5b73a_row46_col1, #T_5b73a_row47_col1, #T_5b73a_row48_col1 {\n",
       "  background-color: #cadef0;\n",
       "  color: #000000;\n",
       "}\n",
       "#T_5b73a_row46_col0, #T_5b73a_row55_col1, #T_5b73a_row56_col1, #T_5b73a_row57_col1, #T_5b73a_row93_col0, #T_5b73a_row178_col0, #T_5b73a_row222_col0, #T_5b73a_row253_col0, #T_5b73a_row258_col0, #T_5b73a_row259_col0, #T_5b73a_row262_col0, #T_5b73a_row274_col0, #T_5b73a_row275_col0 {\n",
       "  background-color: #d0e1f2;\n",
       "  color: #000000;\n",
       "}\n",
       "#T_5b73a_row49_col1 {\n",
       "  background-color: #cbdef1;\n",
       "  color: #000000;\n",
       "}\n",
       "#T_5b73a_row51_col1 {\n",
       "  background-color: #cddff1;\n",
       "  color: #000000;\n",
       "}\n",
       "#T_5b73a_row52_col0, #T_5b73a_row56_col0, #T_5b73a_row160_col0, #T_5b73a_row204_col0, #T_5b73a_row224_col0, #T_5b73a_row225_col0, #T_5b73a_row229_col0, #T_5b73a_row232_col0, #T_5b73a_row236_col0, #T_5b73a_row241_col0, #T_5b73a_row242_col0 {\n",
       "  background-color: #94c4df;\n",
       "  color: #000000;\n",
       "}\n",
       "#T_5b73a_row52_col1, #T_5b73a_row53_col1 {\n",
       "  background-color: #cee0f2;\n",
       "  color: #000000;\n",
       "}\n",
       "#T_5b73a_row54_col1 {\n",
       "  background-color: #cfe1f2;\n",
       "  color: #000000;\n",
       "}\n",
       "#T_5b73a_row58_col1 {\n",
       "  background-color: #d0e2f2;\n",
       "  color: #000000;\n",
       "}\n",
       "#T_5b73a_row59_col1, #T_5b73a_row60_col1, #T_5b73a_row61_col1, #T_5b73a_row62_col1 {\n",
       "  background-color: #d1e2f3;\n",
       "  color: #000000;\n",
       "}\n",
       "#T_5b73a_row63_col1 {\n",
       "  background-color: #d2e3f3;\n",
       "  color: #000000;\n",
       "}\n",
       "#T_5b73a_row64_col1, #T_5b73a_row65_col1, #T_5b73a_row66_col1 {\n",
       "  background-color: #d3e3f3;\n",
       "  color: #000000;\n",
       "}\n",
       "#T_5b73a_row67_col1, #T_5b73a_row68_col1, #T_5b73a_row69_col1 {\n",
       "  background-color: #d3e4f3;\n",
       "  color: #000000;\n",
       "}\n",
       "#T_5b73a_row70_col0, #T_5b73a_row185_col0, #T_5b73a_row246_col1, #T_5b73a_row247_col1, #T_5b73a_row248_col1, #T_5b73a_row249_col1, #T_5b73a_row254_col0, #T_5b73a_row267_col0, #T_5b73a_row273_col0, #T_5b73a_row285_col0, #T_5b73a_row286_col0, #T_5b73a_row289_col0, #T_5b73a_row291_col0, #T_5b73a_row296_col0 {\n",
       "  background-color: #f1f7fd;\n",
       "  color: #000000;\n",
       "}\n",
       "#T_5b73a_row70_col1, #T_5b73a_row71_col1, #T_5b73a_row72_col1, #T_5b73a_row73_col1, #T_5b73a_row74_col1 {\n",
       "  background-color: #d4e4f4;\n",
       "  color: #000000;\n",
       "}\n",
       "#T_5b73a_row75_col1, #T_5b73a_row76_col1, #T_5b73a_row77_col1 {\n",
       "  background-color: #d5e5f4;\n",
       "  color: #000000;\n",
       "}\n",
       "#T_5b73a_row78_col1 {\n",
       "  background-color: #d6e5f4;\n",
       "  color: #000000;\n",
       "}\n",
       "#T_5b73a_row79_col1, #T_5b73a_row80_col1, #T_5b73a_row128_col0, #T_5b73a_row146_col0, #T_5b73a_row234_col0, #T_5b73a_row235_col0, #T_5b73a_row238_col0, #T_5b73a_row248_col0, #T_5b73a_row255_col0, #T_5b73a_row261_col0, #T_5b73a_row263_col0, #T_5b73a_row268_col0 {\n",
       "  background-color: #d6e6f4;\n",
       "  color: #000000;\n",
       "}\n",
       "#T_5b73a_row81_col1, #T_5b73a_row82_col1 {\n",
       "  background-color: #d7e6f5;\n",
       "  color: #000000;\n",
       "}\n",
       "#T_5b73a_row83_col1, #T_5b73a_row84_col1 {\n",
       "  background-color: #d8e7f5;\n",
       "  color: #000000;\n",
       "}\n",
       "#T_5b73a_row85_col1, #T_5b73a_row86_col1, #T_5b73a_row87_col1, #T_5b73a_row88_col1, #T_5b73a_row89_col1, #T_5b73a_row90_col1, #T_5b73a_row91_col1, #T_5b73a_row92_col1, #T_5b73a_row93_col1 {\n",
       "  background-color: #d9e7f5;\n",
       "  color: #000000;\n",
       "}\n",
       "#T_5b73a_row94_col1 {\n",
       "  background-color: #d9e8f5;\n",
       "  color: #000000;\n",
       "}\n",
       "#T_5b73a_row95_col1, #T_5b73a_row96_col1, #T_5b73a_row97_col1 {\n",
       "  background-color: #dae8f6;\n",
       "  color: #000000;\n",
       "}\n",
       "#T_5b73a_row98_col1, #T_5b73a_row99_col1, #T_5b73a_row100_col1, #T_5b73a_row101_col1, #T_5b73a_row102_col1 {\n",
       "  background-color: #dbe9f6;\n",
       "  color: #000000;\n",
       "}\n",
       "#T_5b73a_row103_col1, #T_5b73a_row104_col1, #T_5b73a_row105_col1 {\n",
       "  background-color: #dce9f6;\n",
       "  color: #000000;\n",
       "}\n",
       "#T_5b73a_row106_col1, #T_5b73a_row107_col1, #T_5b73a_row108_col1, #T_5b73a_row109_col1, #T_5b73a_row110_col1, #T_5b73a_row111_col1, #T_5b73a_row112_col1, #T_5b73a_row113_col1, #T_5b73a_row114_col1, #T_5b73a_row193_col0, #T_5b73a_row252_col0, #T_5b73a_row265_col0, #T_5b73a_row269_col0, #T_5b73a_row270_col0, #T_5b73a_row271_col0, #T_5b73a_row278_col0, #T_5b73a_row279_col0, #T_5b73a_row281_col0, #T_5b73a_row282_col0 {\n",
       "  background-color: #dceaf6;\n",
       "  color: #000000;\n",
       "}\n",
       "#T_5b73a_row115_col1, #T_5b73a_row116_col1, #T_5b73a_row117_col1, #T_5b73a_row118_col1, #T_5b73a_row119_col1 {\n",
       "  background-color: #ddeaf7;\n",
       "  color: #000000;\n",
       "}\n",
       "#T_5b73a_row120_col1, #T_5b73a_row121_col1, #T_5b73a_row122_col1, #T_5b73a_row123_col1, #T_5b73a_row124_col1 {\n",
       "  background-color: #deebf7;\n",
       "  color: #000000;\n",
       "}\n",
       "#T_5b73a_row125_col1, #T_5b73a_row126_col1, #T_5b73a_row127_col1, #T_5b73a_row128_col1, #T_5b73a_row129_col1, #T_5b73a_row130_col1, #T_5b73a_row131_col1 {\n",
       "  background-color: #dfebf7;\n",
       "  color: #000000;\n",
       "}\n",
       "#T_5b73a_row132_col1, #T_5b73a_row133_col1, #T_5b73a_row134_col1, #T_5b73a_row135_col1, #T_5b73a_row136_col1 {\n",
       "  background-color: #dfecf7;\n",
       "  color: #000000;\n",
       "}\n",
       "#T_5b73a_row137_col1, #T_5b73a_row138_col1, #T_5b73a_row139_col1, #T_5b73a_row140_col1, #T_5b73a_row141_col1 {\n",
       "  background-color: #e0ecf8;\n",
       "  color: #000000;\n",
       "}\n",
       "#T_5b73a_row142_col1, #T_5b73a_row143_col1, #T_5b73a_row144_col1, #T_5b73a_row145_col1, #T_5b73a_row146_col1, #T_5b73a_row147_col1, #T_5b73a_row148_col1, #T_5b73a_row149_col1, #T_5b73a_row150_col1 {\n",
       "  background-color: #e2edf8;\n",
       "  color: #000000;\n",
       "}\n",
       "#T_5b73a_row151_col1, #T_5b73a_row152_col1, #T_5b73a_row153_col1, #T_5b73a_row154_col1, #T_5b73a_row155_col1, #T_5b73a_row156_col1 {\n",
       "  background-color: #e3eef8;\n",
       "  color: #000000;\n",
       "}\n",
       "#T_5b73a_row157_col1, #T_5b73a_row158_col1, #T_5b73a_row159_col1, #T_5b73a_row162_col0, #T_5b73a_row220_col0, #T_5b73a_row244_col0, #T_5b73a_row256_col0, #T_5b73a_row257_col0, #T_5b73a_row260_col0, #T_5b73a_row264_col0, #T_5b73a_row276_col0, #T_5b73a_row277_col0, #T_5b73a_row280_col0 {\n",
       "  background-color: #e3eef9;\n",
       "  color: #000000;\n",
       "}\n",
       "#T_5b73a_row160_col1, #T_5b73a_row161_col1, #T_5b73a_row162_col1, #T_5b73a_row163_col1, #T_5b73a_row164_col1 {\n",
       "  background-color: #e4eff9;\n",
       "  color: #000000;\n",
       "}\n",
       "#T_5b73a_row163_col0, #T_5b73a_row201_col1, #T_5b73a_row202_col1, #T_5b73a_row203_col1, #T_5b73a_row204_col1, #T_5b73a_row205_col1, #T_5b73a_row206_col0, #T_5b73a_row206_col1, #T_5b73a_row207_col1, #T_5b73a_row208_col1, #T_5b73a_row237_col0, #T_5b73a_row266_col0, #T_5b73a_row283_col0, #T_5b73a_row284_col0, #T_5b73a_row288_col0, #T_5b73a_row290_col0, #T_5b73a_row293_col0, #T_5b73a_row297_col0 {\n",
       "  background-color: #eaf2fb;\n",
       "  color: #000000;\n",
       "}\n",
       "#T_5b73a_row165_col1, #T_5b73a_row166_col1, #T_5b73a_row167_col1, #T_5b73a_row168_col1, #T_5b73a_row169_col1, #T_5b73a_row170_col1, #T_5b73a_row171_col1 {\n",
       "  background-color: #e5eff9;\n",
       "  color: #000000;\n",
       "}\n",
       "#T_5b73a_row172_col1, #T_5b73a_row173_col1, #T_5b73a_row174_col1 {\n",
       "  background-color: #e6f0f9;\n",
       "  color: #000000;\n",
       "}\n",
       "#T_5b73a_row175_col1, #T_5b73a_row176_col1, #T_5b73a_row177_col1, #T_5b73a_row178_col1, #T_5b73a_row179_col1, #T_5b73a_row180_col1, #T_5b73a_row181_col1 {\n",
       "  background-color: #e7f0fa;\n",
       "  color: #000000;\n",
       "}\n",
       "#T_5b73a_row182_col1, #T_5b73a_row183_col1, #T_5b73a_row184_col1, #T_5b73a_row185_col1, #T_5b73a_row186_col1, #T_5b73a_row187_col1, #T_5b73a_row188_col1, #T_5b73a_row189_col1 {\n",
       "  background-color: #e7f1fa;\n",
       "  color: #000000;\n",
       "}\n",
       "#T_5b73a_row190_col1, #T_5b73a_row191_col1, #T_5b73a_row192_col1, #T_5b73a_row193_col1, #T_5b73a_row194_col1, #T_5b73a_row195_col1 {\n",
       "  background-color: #e8f1fa;\n",
       "  color: #000000;\n",
       "}\n",
       "#T_5b73a_row196_col1, #T_5b73a_row197_col1, #T_5b73a_row198_col1, #T_5b73a_row199_col1, #T_5b73a_row200_col1 {\n",
       "  background-color: #e9f2fa;\n",
       "  color: #000000;\n",
       "}\n",
       "#T_5b73a_row209_col1, #T_5b73a_row210_col1, #T_5b73a_row211_col1 {\n",
       "  background-color: #eaf3fb;\n",
       "  color: #000000;\n",
       "}\n",
       "#T_5b73a_row212_col1, #T_5b73a_row213_col1, #T_5b73a_row214_col1, #T_5b73a_row215_col1, #T_5b73a_row216_col1, #T_5b73a_row217_col1, #T_5b73a_row218_col1, #T_5b73a_row219_col1 {\n",
       "  background-color: #ebf3fb;\n",
       "  color: #000000;\n",
       "}\n",
       "#T_5b73a_row220_col1, #T_5b73a_row221_col1, #T_5b73a_row222_col1, #T_5b73a_row223_col1 {\n",
       "  background-color: #ecf4fb;\n",
       "  color: #000000;\n",
       "}\n",
       "#T_5b73a_row224_col1, #T_5b73a_row225_col1, #T_5b73a_row226_col1, #T_5b73a_row227_col1, #T_5b73a_row228_col1, #T_5b73a_row229_col1, #T_5b73a_row230_col1, #T_5b73a_row231_col1, #T_5b73a_row232_col1, #T_5b73a_row233_col1 {\n",
       "  background-color: #edf4fc;\n",
       "  color: #000000;\n",
       "}\n",
       "#T_5b73a_row234_col1, #T_5b73a_row235_col1, #T_5b73a_row236_col1, #T_5b73a_row237_col1, #T_5b73a_row238_col1, #T_5b73a_row239_col1, #T_5b73a_row240_col1 {\n",
       "  background-color: #eef5fc;\n",
       "  color: #000000;\n",
       "}\n",
       "#T_5b73a_row241_col1, #T_5b73a_row242_col1 {\n",
       "  background-color: #eff6fc;\n",
       "  color: #000000;\n",
       "}\n",
       "#T_5b73a_row243_col1, #T_5b73a_row244_col1, #T_5b73a_row245_col1 {\n",
       "  background-color: #f0f6fd;\n",
       "  color: #000000;\n",
       "}\n",
       "#T_5b73a_row250_col1, #T_5b73a_row251_col1, #T_5b73a_row252_col1, #T_5b73a_row253_col1 {\n",
       "  background-color: #f2f7fd;\n",
       "  color: #000000;\n",
       "}\n",
       "#T_5b73a_row254_col1, #T_5b73a_row255_col1, #T_5b73a_row256_col1, #T_5b73a_row257_col1, #T_5b73a_row258_col1, #T_5b73a_row259_col1, #T_5b73a_row260_col1, #T_5b73a_row261_col1, #T_5b73a_row262_col1, #T_5b73a_row263_col1, #T_5b73a_row264_col1 {\n",
       "  background-color: #f2f8fd;\n",
       "  color: #000000;\n",
       "}\n",
       "#T_5b73a_row265_col1, #T_5b73a_row266_col1, #T_5b73a_row267_col1, #T_5b73a_row268_col1 {\n",
       "  background-color: #f3f8fe;\n",
       "  color: #000000;\n",
       "}\n",
       "#T_5b73a_row269_col1, #T_5b73a_row270_col1, #T_5b73a_row271_col1, #T_5b73a_row272_col1, #T_5b73a_row273_col1, #T_5b73a_row274_col1, #T_5b73a_row275_col1, #T_5b73a_row276_col1 {\n",
       "  background-color: #f4f9fe;\n",
       "  color: #000000;\n",
       "}\n",
       "#T_5b73a_row277_col1, #T_5b73a_row278_col1, #T_5b73a_row279_col1 {\n",
       "  background-color: #f5f9fe;\n",
       "  color: #000000;\n",
       "}\n",
       "#T_5b73a_row280_col1, #T_5b73a_row281_col1, #T_5b73a_row282_col1, #T_5b73a_row283_col1, #T_5b73a_row284_col1, #T_5b73a_row285_col1 {\n",
       "  background-color: #f5fafe;\n",
       "  color: #000000;\n",
       "}\n",
       "#T_5b73a_row286_col1, #T_5b73a_row287_col1, #T_5b73a_row288_col1, #T_5b73a_row289_col1 {\n",
       "  background-color: #f6faff;\n",
       "  color: #000000;\n",
       "}\n",
       "</style>\n",
       "<table id=\"T_5b73a\">\n",
       "  <thead>\n",
       "    <tr>\n",
       "      <th class=\"blank level0\" >&nbsp;</th>\n",
       "      <th id=\"T_5b73a_level0_col0\" class=\"col_heading level0 col0\" >Year</th>\n",
       "      <th id=\"T_5b73a_level0_col1\" class=\"col_heading level0 col1\" >Earnings ($M)</th>\n",
       "      <th id=\"T_5b73a_level0_col2\" class=\"col_heading level0 col2\" >Name</th>\n",
       "      <th id=\"T_5b73a_level0_col3\" class=\"col_heading level0 col3\" >Sport</th>\n",
       "      <th id=\"T_5b73a_level0_col4\" class=\"col_heading level0 col4\" >Current Rank</th>\n",
       "    </tr>\n",
       "  </thead>\n",
       "  <tbody>\n",
       "    <tr>\n",
       "      <th id=\"T_5b73a_level0_row0\" class=\"row_heading level0 row0\" >241</th>\n",
       "      <td id=\"T_5b73a_row0_col0\" class=\"data row0 col0\" >2015</td>\n",
       "      <td id=\"T_5b73a_row0_col1\" class=\"data row0 col1\" >300.000000</td>\n",
       "      <td id=\"T_5b73a_row0_col2\" class=\"data row0 col2\" >Floyd Mayweather</td>\n",
       "      <td id=\"T_5b73a_row0_col3\" class=\"data row0 col3\" >Boxing</td>\n",
       "      <td id=\"T_5b73a_row0_col4\" class=\"data row0 col4\" >1</td>\n",
       "    </tr>\n",
       "    <tr>\n",
       "      <th id=\"T_5b73a_level0_row1\" class=\"row_heading level0 row1\" >271</th>\n",
       "      <td id=\"T_5b73a_row1_col0\" class=\"data row1 col0\" >2018</td>\n",
       "      <td id=\"T_5b73a_row1_col1\" class=\"data row1 col1\" >285.000000</td>\n",
       "      <td id=\"T_5b73a_row1_col2\" class=\"data row1 col2\" >Floyd Mayweather</td>\n",
       "      <td id=\"T_5b73a_row1_col3\" class=\"data row1 col3\" >Boxing</td>\n",
       "      <td id=\"T_5b73a_row1_col4\" class=\"data row1 col4\" >1</td>\n",
       "    </tr>\n",
       "    <tr>\n",
       "      <th id=\"T_5b73a_level0_row2\" class=\"row_heading level0 row2\" >242</th>\n",
       "      <td id=\"T_5b73a_row2_col0\" class=\"data row2 col0\" >2015</td>\n",
       "      <td id=\"T_5b73a_row2_col1\" class=\"data row2 col1\" >160.000000</td>\n",
       "      <td id=\"T_5b73a_row2_col2\" class=\"data row2 col2\" >Manny Pacquiao</td>\n",
       "      <td id=\"T_5b73a_row2_col3\" class=\"data row2 col3\" >Boxing</td>\n",
       "      <td id=\"T_5b73a_row2_col4\" class=\"data row2 col4\" >2</td>\n",
       "    </tr>\n",
       "    <tr>\n",
       "      <th id=\"T_5b73a_level0_row3\" class=\"row_heading level0 row3\" >281</th>\n",
       "      <td id=\"T_5b73a_row3_col0\" class=\"data row3 col0\" >2019</td>\n",
       "      <td id=\"T_5b73a_row3_col1\" class=\"data row3 col1\" >127.000000</td>\n",
       "      <td id=\"T_5b73a_row3_col2\" class=\"data row3 col2\" >Lionel Messi</td>\n",
       "      <td id=\"T_5b73a_row3_col3\" class=\"data row3 col3\" >Soccer</td>\n",
       "      <td id=\"T_5b73a_row3_col4\" class=\"data row3 col4\" >1</td>\n",
       "    </tr>\n",
       "    <tr>\n",
       "      <th id=\"T_5b73a_level0_row4\" class=\"row_heading level0 row4\" >171</th>\n",
       "      <td id=\"T_5b73a_row4_col0\" class=\"data row4 col0\" >2008</td>\n",
       "      <td id=\"T_5b73a_row4_col1\" class=\"data row4 col1\" >115.000000</td>\n",
       "      <td id=\"T_5b73a_row4_col2\" class=\"data row4 col2\" >Tiger Woods</td>\n",
       "      <td id=\"T_5b73a_row4_col3\" class=\"data row4 col3\" >Golf</td>\n",
       "      <td id=\"T_5b73a_row4_col4\" class=\"data row4 col4\" >1</td>\n",
       "    </tr>\n",
       "    <tr>\n",
       "      <th id=\"T_5b73a_level0_row5\" class=\"row_heading level0 row5\" >272</th>\n",
       "      <td id=\"T_5b73a_row5_col0\" class=\"data row5 col0\" >2018</td>\n",
       "      <td id=\"T_5b73a_row5_col1\" class=\"data row5 col1\" >111.000000</td>\n",
       "      <td id=\"T_5b73a_row5_col2\" class=\"data row5 col2\" >Lionel Messi</td>\n",
       "      <td id=\"T_5b73a_row5_col3\" class=\"data row5 col3\" >Soccer</td>\n",
       "      <td id=\"T_5b73a_row5_col4\" class=\"data row5 col4\" >2</td>\n",
       "    </tr>\n",
       "    <tr>\n",
       "      <th id=\"T_5b73a_level0_row6\" class=\"row_heading level0 row6\" >181</th>\n",
       "      <td id=\"T_5b73a_row6_col0\" class=\"data row6 col0\" >2009</td>\n",
       "      <td id=\"T_5b73a_row6_col1\" class=\"data row6 col1\" >110.000000</td>\n",
       "      <td id=\"T_5b73a_row6_col2\" class=\"data row6 col2\" >Tiger Woods</td>\n",
       "      <td id=\"T_5b73a_row6_col3\" class=\"data row6 col3\" >Golf</td>\n",
       "      <td id=\"T_5b73a_row6_col4\" class=\"data row6 col4\" >1</td>\n",
       "    </tr>\n",
       "    <tr>\n",
       "      <th id=\"T_5b73a_level0_row7\" class=\"row_heading level0 row7\" >282</th>\n",
       "      <td id=\"T_5b73a_row7_col0\" class=\"data row7 col0\" >2019</td>\n",
       "      <td id=\"T_5b73a_row7_col1\" class=\"data row7 col1\" >109.000000</td>\n",
       "      <td id=\"T_5b73a_row7_col2\" class=\"data row7 col2\" >Cristiano Ronaldo</td>\n",
       "      <td id=\"T_5b73a_row7_col3\" class=\"data row7 col3\" >Soccer</td>\n",
       "      <td id=\"T_5b73a_row7_col4\" class=\"data row7 col4\" >2</td>\n",
       "    </tr>\n",
       "    <tr>\n",
       "      <th id=\"T_5b73a_level0_row8\" class=\"row_heading level0 row8\" >273</th>\n",
       "      <td id=\"T_5b73a_row8_col0\" class=\"data row8 col0\" >2018</td>\n",
       "      <td id=\"T_5b73a_row8_col1\" class=\"data row8 col1\" >108.000000</td>\n",
       "      <td id=\"T_5b73a_row8_col2\" class=\"data row8 col2\" >Cristiano Ronaldo</td>\n",
       "      <td id=\"T_5b73a_row8_col3\" class=\"data row8 col3\" >Soccer</td>\n",
       "      <td id=\"T_5b73a_row8_col4\" class=\"data row8 col4\" >3</td>\n",
       "    </tr>\n",
       "    <tr>\n",
       "      <th id=\"T_5b73a_level0_row9\" class=\"row_heading level0 row9\" >291</th>\n",
       "      <td id=\"T_5b73a_row9_col0\" class=\"data row9 col0\" >2020</td>\n",
       "      <td id=\"T_5b73a_row9_col1\" class=\"data row9 col1\" >106.300000</td>\n",
       "      <td id=\"T_5b73a_row9_col2\" class=\"data row9 col2\" >Roger Federer</td>\n",
       "      <td id=\"T_5b73a_row9_col3\" class=\"data row9 col3\" >Tennis</td>\n",
       "      <td id=\"T_5b73a_row9_col4\" class=\"data row9 col4\" >1</td>\n",
       "    </tr>\n",
       "    <tr>\n",
       "      <th id=\"T_5b73a_level0_row10\" class=\"row_heading level0 row10\" >191</th>\n",
       "      <td id=\"T_5b73a_row10_col0\" class=\"data row10 col0\" >2010</td>\n",
       "      <td id=\"T_5b73a_row10_col1\" class=\"data row10 col1\" >105.000000</td>\n",
       "      <td id=\"T_5b73a_row10_col2\" class=\"data row10 col2\" >Tiger Woods</td>\n",
       "      <td id=\"T_5b73a_row10_col3\" class=\"data row10 col3\" >Golf</td>\n",
       "      <td id=\"T_5b73a_row10_col4\" class=\"data row10 col4\" >1</td>\n",
       "    </tr>\n",
       "    <tr>\n",
       "      <th id=\"T_5b73a_level0_row11\" class=\"row_heading level0 row11\" >231</th>\n",
       "      <td id=\"T_5b73a_row11_col0\" class=\"data row11 col0\" >2014</td>\n",
       "      <td id=\"T_5b73a_row11_col1\" class=\"data row11 col1\" >105.000000</td>\n",
       "      <td id=\"T_5b73a_row11_col2\" class=\"data row11 col2\" >Floyd Mayweather</td>\n",
       "      <td id=\"T_5b73a_row11_col3\" class=\"data row11 col3\" >Boxing</td>\n",
       "      <td id=\"T_5b73a_row11_col4\" class=\"data row11 col4\" >1</td>\n",
       "    </tr>\n",
       "    <tr>\n",
       "      <th id=\"T_5b73a_level0_row12\" class=\"row_heading level0 row12\" >292</th>\n",
       "      <td id=\"T_5b73a_row12_col0\" class=\"data row12 col0\" >2020</td>\n",
       "      <td id=\"T_5b73a_row12_col1\" class=\"data row12 col1\" >105.000000</td>\n",
       "      <td id=\"T_5b73a_row12_col2\" class=\"data row12 col2\" >Cristiano Ronaldo</td>\n",
       "      <td id=\"T_5b73a_row12_col3\" class=\"data row12 col3\" >Soccer</td>\n",
       "      <td id=\"T_5b73a_row12_col4\" class=\"data row12 col4\" >2</td>\n",
       "    </tr>\n",
       "    <tr>\n",
       "      <th id=\"T_5b73a_level0_row13\" class=\"row_heading level0 row13\" >283</th>\n",
       "      <td id=\"T_5b73a_row13_col0\" class=\"data row13 col0\" >2019</td>\n",
       "      <td id=\"T_5b73a_row13_col1\" class=\"data row13 col1\" >105.000000</td>\n",
       "      <td id=\"T_5b73a_row13_col2\" class=\"data row13 col2\" >Neymar</td>\n",
       "      <td id=\"T_5b73a_row13_col3\" class=\"data row13 col3\" >Soccer</td>\n",
       "      <td id=\"T_5b73a_row13_col4\" class=\"data row13 col4\" >3</td>\n",
       "    </tr>\n",
       "    <tr>\n",
       "      <th id=\"T_5b73a_level0_row14\" class=\"row_heading level0 row14\" >293</th>\n",
       "      <td id=\"T_5b73a_row14_col0\" class=\"data row14 col0\" >2020</td>\n",
       "      <td id=\"T_5b73a_row14_col1\" class=\"data row14 col1\" >104.000000</td>\n",
       "      <td id=\"T_5b73a_row14_col2\" class=\"data row14 col2\" >Lionel Messi</td>\n",
       "      <td id=\"T_5b73a_row14_col3\" class=\"data row14 col3\" >Soccer</td>\n",
       "      <td id=\"T_5b73a_row14_col4\" class=\"data row14 col4\" >3</td>\n",
       "    </tr>\n",
       "    <tr>\n",
       "      <th id=\"T_5b73a_level0_row15\" class=\"row_heading level0 row15\" >161</th>\n",
       "      <td id=\"T_5b73a_row15_col0\" class=\"data row15 col0\" >2007</td>\n",
       "      <td id=\"T_5b73a_row15_col1\" class=\"data row15 col1\" >100.000000</td>\n",
       "      <td id=\"T_5b73a_row15_col2\" class=\"data row15 col2\" >Tiger Woods</td>\n",
       "      <td id=\"T_5b73a_row15_col3\" class=\"data row15 col3\" >Golf</td>\n",
       "      <td id=\"T_5b73a_row15_col4\" class=\"data row15 col4\" >1</td>\n",
       "    </tr>\n",
       "    <tr>\n",
       "      <th id=\"T_5b73a_level0_row16\" class=\"row_heading level0 row16\" >274</th>\n",
       "      <td id=\"T_5b73a_row16_col0\" class=\"data row16 col0\" >2018</td>\n",
       "      <td id=\"T_5b73a_row16_col1\" class=\"data row16 col1\" >99.000000</td>\n",
       "      <td id=\"T_5b73a_row16_col2\" class=\"data row16 col2\" >Conor McGregor</td>\n",
       "      <td id=\"T_5b73a_row16_col3\" class=\"data row16 col3\" >MMA</td>\n",
       "      <td id=\"T_5b73a_row16_col4\" class=\"data row16 col4\" >4</td>\n",
       "    </tr>\n",
       "    <tr>\n",
       "      <th id=\"T_5b73a_level0_row17\" class=\"row_heading level0 row17\" >294</th>\n",
       "      <td id=\"T_5b73a_row17_col0\" class=\"data row17 col0\" >2020</td>\n",
       "      <td id=\"T_5b73a_row17_col1\" class=\"data row17 col1\" >95.500000</td>\n",
       "      <td id=\"T_5b73a_row17_col2\" class=\"data row17 col2\" >Neymar</td>\n",
       "      <td id=\"T_5b73a_row17_col3\" class=\"data row17 col3\" >Soccer</td>\n",
       "      <td id=\"T_5b73a_row17_col4\" class=\"data row17 col4\" >4</td>\n",
       "    </tr>\n",
       "    <tr>\n",
       "      <th id=\"T_5b73a_level0_row18\" class=\"row_heading level0 row18\" >284</th>\n",
       "      <td id=\"T_5b73a_row18_col0\" class=\"data row18 col0\" >2019</td>\n",
       "      <td id=\"T_5b73a_row18_col1\" class=\"data row18 col1\" >94.000000</td>\n",
       "      <td id=\"T_5b73a_row18_col2\" class=\"data row18 col2\" >Canelo Alvarez</td>\n",
       "      <td id=\"T_5b73a_row18_col3\" class=\"data row18 col3\" >Boxing</td>\n",
       "      <td id=\"T_5b73a_row18_col4\" class=\"data row18 col4\" >4</td>\n",
       "    </tr>\n",
       "    <tr>\n",
       "      <th id=\"T_5b73a_level0_row19\" class=\"row_heading level0 row19\" >285</th>\n",
       "      <td id=\"T_5b73a_row19_col0\" class=\"data row19 col0\" >2019</td>\n",
       "      <td id=\"T_5b73a_row19_col1\" class=\"data row19 col1\" >93.400000</td>\n",
       "      <td id=\"T_5b73a_row19_col2\" class=\"data row19 col2\" >Roger Federer</td>\n",
       "      <td id=\"T_5b73a_row19_col3\" class=\"data row19 col3\" >Tennis</td>\n",
       "      <td id=\"T_5b73a_row19_col4\" class=\"data row19 col4\" >5</td>\n",
       "    </tr>\n",
       "    <tr>\n",
       "      <th id=\"T_5b73a_level0_row20\" class=\"row_heading level0 row20\" >261</th>\n",
       "      <td id=\"T_5b73a_row20_col0\" class=\"data row20 col0\" >2017</td>\n",
       "      <td id=\"T_5b73a_row20_col1\" class=\"data row20 col1\" >93.000000</td>\n",
       "      <td id=\"T_5b73a_row20_col2\" class=\"data row20 col2\" >Cristiano Ronaldo</td>\n",
       "      <td id=\"T_5b73a_row20_col3\" class=\"data row20 col3\" >Soccer</td>\n",
       "      <td id=\"T_5b73a_row20_col4\" class=\"data row20 col4\" >1</td>\n",
       "    </tr>\n",
       "    <tr>\n",
       "      <th id=\"T_5b73a_level0_row21\" class=\"row_heading level0 row21\" >151</th>\n",
       "      <td id=\"T_5b73a_row21_col0\" class=\"data row21 col0\" >2006</td>\n",
       "      <td id=\"T_5b73a_row21_col1\" class=\"data row21 col1\" >90.000000</td>\n",
       "      <td id=\"T_5b73a_row21_col2\" class=\"data row21 col2\" >Tiger Woods</td>\n",
       "      <td id=\"T_5b73a_row21_col3\" class=\"data row21 col3\" >Golf</td>\n",
       "      <td id=\"T_5b73a_row21_col4\" class=\"data row21 col4\" >1</td>\n",
       "    </tr>\n",
       "    <tr>\n",
       "      <th id=\"T_5b73a_level0_row22\" class=\"row_heading level0 row22\" >275</th>\n",
       "      <td id=\"T_5b73a_row22_col0\" class=\"data row22 col0\" >2018</td>\n",
       "      <td id=\"T_5b73a_row22_col1\" class=\"data row22 col1\" >90.000000</td>\n",
       "      <td id=\"T_5b73a_row22_col2\" class=\"data row22 col2\" >Neymar</td>\n",
       "      <td id=\"T_5b73a_row22_col3\" class=\"data row22 col3\" >Soccer</td>\n",
       "      <td id=\"T_5b73a_row22_col4\" class=\"data row22 col4\" >5</td>\n",
       "    </tr>\n",
       "    <tr>\n",
       "      <th id=\"T_5b73a_level0_row23\" class=\"row_heading level0 row23\" >286</th>\n",
       "      <td id=\"T_5b73a_row23_col0\" class=\"data row23 col0\" >2019</td>\n",
       "      <td id=\"T_5b73a_row23_col1\" class=\"data row23 col1\" >89.500000</td>\n",
       "      <td id=\"T_5b73a_row23_col2\" class=\"data row23 col2\" >Russell Wilson</td>\n",
       "      <td id=\"T_5b73a_row23_col3\" class=\"data row23 col3\" >NFL</td>\n",
       "      <td id=\"T_5b73a_row23_col4\" class=\"data row23 col4\" >6</td>\n",
       "    </tr>\n",
       "    <tr>\n",
       "      <th id=\"T_5b73a_level0_row24\" class=\"row_heading level0 row24\" >287</th>\n",
       "      <td id=\"T_5b73a_row24_col0\" class=\"data row24 col0\" >2019</td>\n",
       "      <td id=\"T_5b73a_row24_col1\" class=\"data row24 col1\" >89.300000</td>\n",
       "      <td id=\"T_5b73a_row24_col2\" class=\"data row24 col2\" >Aaron Rodgers</td>\n",
       "      <td id=\"T_5b73a_row24_col3\" class=\"data row24 col3\" >NFL</td>\n",
       "      <td id=\"T_5b73a_row24_col4\" class=\"data row24 col4\" >7</td>\n",
       "    </tr>\n",
       "    <tr>\n",
       "      <th id=\"T_5b73a_level0_row25\" class=\"row_heading level0 row25\" >288</th>\n",
       "      <td id=\"T_5b73a_row25_col0\" class=\"data row25 col0\" >2019</td>\n",
       "      <td id=\"T_5b73a_row25_col1\" class=\"data row25 col1\" >89.000000</td>\n",
       "      <td id=\"T_5b73a_row25_col2\" class=\"data row25 col2\" >LeBron James</td>\n",
       "      <td id=\"T_5b73a_row25_col3\" class=\"data row25 col3\" >NBA/Basketball</td>\n",
       "      <td id=\"T_5b73a_row25_col4\" class=\"data row25 col4\" >8</td>\n",
       "    </tr>\n",
       "    <tr>\n",
       "      <th id=\"T_5b73a_level0_row26\" class=\"row_heading level0 row26\" >295</th>\n",
       "      <td id=\"T_5b73a_row26_col0\" class=\"data row26 col0\" >2020</td>\n",
       "      <td id=\"T_5b73a_row26_col1\" class=\"data row26 col1\" >88.200000</td>\n",
       "      <td id=\"T_5b73a_row26_col2\" class=\"data row26 col2\" >LeBron James</td>\n",
       "      <td id=\"T_5b73a_row26_col3\" class=\"data row26 col3\" >NBA/Basketball</td>\n",
       "      <td id=\"T_5b73a_row26_col4\" class=\"data row26 col4\" >5</td>\n",
       "    </tr>\n",
       "    <tr>\n",
       "      <th id=\"T_5b73a_level0_row27\" class=\"row_heading level0 row27\" >251</th>\n",
       "      <td id=\"T_5b73a_row27_col0\" class=\"data row27 col0\" >2016</td>\n",
       "      <td id=\"T_5b73a_row27_col1\" class=\"data row27 col1\" >88.000000</td>\n",
       "      <td id=\"T_5b73a_row27_col2\" class=\"data row27 col2\" >Cristiano Ronaldo</td>\n",
       "      <td id=\"T_5b73a_row27_col3\" class=\"data row27 col3\" >Soccer</td>\n",
       "      <td id=\"T_5b73a_row27_col4\" class=\"data row27 col4\" >1</td>\n",
       "    </tr>\n",
       "    <tr>\n",
       "      <th id=\"T_5b73a_level0_row28\" class=\"row_heading level0 row28\" >141</th>\n",
       "      <td id=\"T_5b73a_row28_col0\" class=\"data row28 col0\" >2005</td>\n",
       "      <td id=\"T_5b73a_row28_col1\" class=\"data row28 col1\" >87.000000</td>\n",
       "      <td id=\"T_5b73a_row28_col2\" class=\"data row28 col2\" >Tiger Woods</td>\n",
       "      <td id=\"T_5b73a_row28_col3\" class=\"data row28 col3\" >Golf</td>\n",
       "      <td id=\"T_5b73a_row28_col4\" class=\"data row28 col4\" >1</td>\n",
       "    </tr>\n",
       "    <tr>\n",
       "      <th id=\"T_5b73a_level0_row29\" class=\"row_heading level0 row29\" >262</th>\n",
       "      <td id=\"T_5b73a_row29_col0\" class=\"data row29 col0\" >2017</td>\n",
       "      <td id=\"T_5b73a_row29_col1\" class=\"data row29 col1\" >86.200000</td>\n",
       "      <td id=\"T_5b73a_row29_col2\" class=\"data row29 col2\" >LeBron James</td>\n",
       "      <td id=\"T_5b73a_row29_col3\" class=\"data row29 col3\" >NBA/Basketball</td>\n",
       "      <td id=\"T_5b73a_row29_col4\" class=\"data row29 col4\" >2</td>\n",
       "    </tr>\n",
       "    <tr>\n",
       "      <th id=\"T_5b73a_level0_row30\" class=\"row_heading level0 row30\" >276</th>\n",
       "      <td id=\"T_5b73a_row30_col0\" class=\"data row30 col0\" >2018</td>\n",
       "      <td id=\"T_5b73a_row30_col1\" class=\"data row30 col1\" >85.500000</td>\n",
       "      <td id=\"T_5b73a_row30_col2\" class=\"data row30 col2\" >LeBron James</td>\n",
       "      <td id=\"T_5b73a_row30_col3\" class=\"data row30 col3\" >NBA/Basketball</td>\n",
       "      <td id=\"T_5b73a_row30_col4\" class=\"data row30 col4\" >6</td>\n",
       "    </tr>\n",
       "    <tr>\n",
       "      <th id=\"T_5b73a_level0_row31\" class=\"row_heading level0 row31\" >211</th>\n",
       "      <td id=\"T_5b73a_row31_col0\" class=\"data row31 col0\" >2012</td>\n",
       "      <td id=\"T_5b73a_row31_col1\" class=\"data row31 col1\" >85.000000</td>\n",
       "      <td id=\"T_5b73a_row31_col2\" class=\"data row31 col2\" >Floyd Mayweather</td>\n",
       "      <td id=\"T_5b73a_row31_col3\" class=\"data row31 col3\" >Boxing</td>\n",
       "      <td id=\"T_5b73a_row31_col4\" class=\"data row31 col4\" >1</td>\n",
       "    </tr>\n",
       "    <tr>\n",
       "      <th id=\"T_5b73a_level0_row32\" class=\"row_heading level0 row32\" >252</th>\n",
       "      <td id=\"T_5b73a_row32_col0\" class=\"data row32 col0\" >2016</td>\n",
       "      <td id=\"T_5b73a_row32_col1\" class=\"data row32 col1\" >81.400000</td>\n",
       "      <td id=\"T_5b73a_row32_col2\" class=\"data row32 col2\" >Lionel Messi</td>\n",
       "      <td id=\"T_5b73a_row32_col3\" class=\"data row32 col3\" >Soccer</td>\n",
       "      <td id=\"T_5b73a_row32_col4\" class=\"data row32 col4\" >2</td>\n",
       "    </tr>\n",
       "    <tr>\n",
       "      <th id=\"T_5b73a_level0_row33\" class=\"row_heading level0 row33\" >131</th>\n",
       "      <td id=\"T_5b73a_row33_col0\" class=\"data row33 col0\" >2004</td>\n",
       "      <td id=\"T_5b73a_row33_col1\" class=\"data row33 col1\" >80.300000</td>\n",
       "      <td id=\"T_5b73a_row33_col2\" class=\"data row33 col2\" >Tiger Woods</td>\n",
       "      <td id=\"T_5b73a_row33_col3\" class=\"data row33 col3\" >Golf</td>\n",
       "      <td id=\"T_5b73a_row33_col4\" class=\"data row33 col4\" >1</td>\n",
       "    </tr>\n",
       "    <tr>\n",
       "      <th id=\"T_5b73a_level0_row34\" class=\"row_heading level0 row34\" >263</th>\n",
       "      <td id=\"T_5b73a_row34_col0\" class=\"data row34 col0\" >2017</td>\n",
       "      <td id=\"T_5b73a_row34_col1\" class=\"data row34 col1\" >80.000000</td>\n",
       "      <td id=\"T_5b73a_row34_col2\" class=\"data row34 col2\" >Lionel Messi</td>\n",
       "      <td id=\"T_5b73a_row34_col3\" class=\"data row34 col3\" >Soccer</td>\n",
       "      <td id=\"T_5b73a_row34_col4\" class=\"data row34 col4\" >3</td>\n",
       "    </tr>\n",
       "    <tr>\n",
       "      <th id=\"T_5b73a_level0_row35\" class=\"row_heading level0 row35\" >132</th>\n",
       "      <td id=\"T_5b73a_row35_col0\" class=\"data row35 col0\" >2004</td>\n",
       "      <td id=\"T_5b73a_row35_col1\" class=\"data row35 col1\" >80.000000</td>\n",
       "      <td id=\"T_5b73a_row35_col2\" class=\"data row35 col2\" >Michael Schumacher</td>\n",
       "      <td id=\"T_5b73a_row35_col3\" class=\"data row35 col3\" >Auto Racing</td>\n",
       "      <td id=\"T_5b73a_row35_col4\" class=\"data row35 col4\" >2</td>\n",
       "    </tr>\n",
       "    <tr>\n",
       "      <th id=\"T_5b73a_level0_row36\" class=\"row_heading level0 row36\" >232</th>\n",
       "      <td id=\"T_5b73a_row36_col0\" class=\"data row36 col0\" >2014</td>\n",
       "      <td id=\"T_5b73a_row36_col1\" class=\"data row36 col1\" >80.000000</td>\n",
       "      <td id=\"T_5b73a_row36_col2\" class=\"data row36 col2\" >Cristiano Ronaldo</td>\n",
       "      <td id=\"T_5b73a_row36_col3\" class=\"data row36 col3\" >Soccer</td>\n",
       "      <td id=\"T_5b73a_row36_col4\" class=\"data row36 col4\" >2</td>\n",
       "    </tr>\n",
       "    <tr>\n",
       "      <th id=\"T_5b73a_level0_row37\" class=\"row_heading level0 row37\" >289</th>\n",
       "      <td id=\"T_5b73a_row37_col0\" class=\"data row37 col0\" >2019</td>\n",
       "      <td id=\"T_5b73a_row37_col1\" class=\"data row37 col1\" >79.800000</td>\n",
       "      <td id=\"T_5b73a_row37_col2\" class=\"data row37 col2\" >Stephen Curry</td>\n",
       "      <td id=\"T_5b73a_row37_col3\" class=\"data row37 col3\" >NBA/Basketball</td>\n",
       "      <td id=\"T_5b73a_row37_col4\" class=\"data row37 col4\" >9</td>\n",
       "    </tr>\n",
       "    <tr>\n",
       "      <th id=\"T_5b73a_level0_row38\" class=\"row_heading level0 row38\" >243</th>\n",
       "      <td id=\"T_5b73a_row38_col0\" class=\"data row38 col0\" >2015</td>\n",
       "      <td id=\"T_5b73a_row38_col1\" class=\"data row38 col1\" >79.600000</td>\n",
       "      <td id=\"T_5b73a_row38_col2\" class=\"data row38 col2\" >Cristiano Ronaldo</td>\n",
       "      <td id=\"T_5b73a_row38_col3\" class=\"data row38 col3\" >Soccer</td>\n",
       "      <td id=\"T_5b73a_row38_col4\" class=\"data row38 col4\" >3</td>\n",
       "    </tr>\n",
       "    <tr>\n",
       "      <th id=\"T_5b73a_level0_row39\" class=\"row_heading level0 row39\" >70</th>\n",
       "      <td id=\"T_5b73a_row39_col0\" class=\"data row39 col0\" >1997</td>\n",
       "      <td id=\"T_5b73a_row39_col1\" class=\"data row39 col1\" >78.300000</td>\n",
       "      <td id=\"T_5b73a_row39_col2\" class=\"data row39 col2\" >Michael Jordan</td>\n",
       "      <td id=\"T_5b73a_row39_col3\" class=\"data row39 col3\" >NBA/Basketball</td>\n",
       "      <td id=\"T_5b73a_row39_col4\" class=\"data row39 col4\" >1</td>\n",
       "    </tr>\n",
       "    <tr>\n",
       "      <th id=\"T_5b73a_level0_row40\" class=\"row_heading level0 row40\" >221</th>\n",
       "      <td id=\"T_5b73a_row40_col0\" class=\"data row40 col0\" >2013</td>\n",
       "      <td id=\"T_5b73a_row40_col1\" class=\"data row40 col1\" >78.100000</td>\n",
       "      <td id=\"T_5b73a_row40_col2\" class=\"data row40 col2\" >Tiger Woods</td>\n",
       "      <td id=\"T_5b73a_row40_col3\" class=\"data row40 col3\" >Golf</td>\n",
       "      <td id=\"T_5b73a_row40_col4\" class=\"data row40 col4\" >1</td>\n",
       "    </tr>\n",
       "    <tr>\n",
       "      <th id=\"T_5b73a_level0_row41\" class=\"row_heading level0 row41\" >121</th>\n",
       "      <td id=\"T_5b73a_row41_col0\" class=\"data row41 col0\" >2003</td>\n",
       "      <td id=\"T_5b73a_row41_col1\" class=\"data row41 col1\" >78.000000</td>\n",
       "      <td id=\"T_5b73a_row41_col2\" class=\"data row41 col2\" >Tiger Woods</td>\n",
       "      <td id=\"T_5b73a_row41_col3\" class=\"data row41 col3\" >Golf</td>\n",
       "      <td id=\"T_5b73a_row41_col4\" class=\"data row41 col4\" >1</td>\n",
       "    </tr>\n",
       "    <tr>\n",
       "      <th id=\"T_5b73a_level0_row42\" class=\"row_heading level0 row42\" >277</th>\n",
       "      <td id=\"T_5b73a_row42_col0\" class=\"data row42 col0\" >2018</td>\n",
       "      <td id=\"T_5b73a_row42_col1\" class=\"data row42 col1\" >77.200000</td>\n",
       "      <td id=\"T_5b73a_row42_col2\" class=\"data row42 col2\" >Roger Federer</td>\n",
       "      <td id=\"T_5b73a_row42_col3\" class=\"data row42 col3\" >Tennis</td>\n",
       "      <td id=\"T_5b73a_row42_col4\" class=\"data row42 col4\" >7</td>\n",
       "    </tr>\n",
       "    <tr>\n",
       "      <th id=\"T_5b73a_level0_row43\" class=\"row_heading level0 row43\" >253</th>\n",
       "      <td id=\"T_5b73a_row43_col0\" class=\"data row43 col0\" >2016</td>\n",
       "      <td id=\"T_5b73a_row43_col1\" class=\"data row43 col1\" >77.200000</td>\n",
       "      <td id=\"T_5b73a_row43_col2\" class=\"data row43 col2\" >LeBron James</td>\n",
       "      <td id=\"T_5b73a_row43_col3\" class=\"data row43 col3\" >NBA/Basketball</td>\n",
       "      <td id=\"T_5b73a_row43_col4\" class=\"data row43 col4\" >3</td>\n",
       "    </tr>\n",
       "    <tr>\n",
       "      <th id=\"T_5b73a_level0_row44\" class=\"row_heading level0 row44\" >278</th>\n",
       "      <td id=\"T_5b73a_row44_col0\" class=\"data row44 col0\" >2018</td>\n",
       "      <td id=\"T_5b73a_row44_col1\" class=\"data row44 col1\" >76.900000</td>\n",
       "      <td id=\"T_5b73a_row44_col2\" class=\"data row44 col2\" >Stephen Curry</td>\n",
       "      <td id=\"T_5b73a_row44_col3\" class=\"data row44 col3\" >NBA/Basketball</td>\n",
       "      <td id=\"T_5b73a_row44_col4\" class=\"data row44 col4\" >8</td>\n",
       "    </tr>\n",
       "    <tr>\n",
       "      <th id=\"T_5b73a_level0_row45\" class=\"row_heading level0 row45\" >201</th>\n",
       "      <td id=\"T_5b73a_row45_col0\" class=\"data row45 col0\" >2011</td>\n",
       "      <td id=\"T_5b73a_row45_col1\" class=\"data row45 col1\" >75.000000</td>\n",
       "      <td id=\"T_5b73a_row45_col2\" class=\"data row45 col2\" >Tiger Woods</td>\n",
       "      <td id=\"T_5b73a_row45_col3\" class=\"data row45 col3\" >Golf</td>\n",
       "      <td id=\"T_5b73a_row45_col4\" class=\"data row45 col4\" >1</td>\n",
       "    </tr>\n",
       "    <tr>\n",
       "      <th id=\"T_5b73a_level0_row46\" class=\"row_heading level0 row46\" >60</th>\n",
       "      <td id=\"T_5b73a_row46_col0\" class=\"data row46 col0\" >1996</td>\n",
       "      <td id=\"T_5b73a_row46_col1\" class=\"data row46 col1\" >75.000000</td>\n",
       "      <td id=\"T_5b73a_row46_col2\" class=\"data row46 col2\" >Mike Tyson</td>\n",
       "      <td id=\"T_5b73a_row46_col3\" class=\"data row46 col3\" >Boxing</td>\n",
       "      <td id=\"T_5b73a_row46_col4\" class=\"data row46 col4\" >1</td>\n",
       "    </tr>\n",
       "    <tr>\n",
       "      <th id=\"T_5b73a_level0_row47\" class=\"row_heading level0 row47\" >122</th>\n",
       "      <td id=\"T_5b73a_row47_col0\" class=\"data row47 col0\" >2003</td>\n",
       "      <td id=\"T_5b73a_row47_col1\" class=\"data row47 col1\" >75.000000</td>\n",
       "      <td id=\"T_5b73a_row47_col2\" class=\"data row47 col2\" >Michael Schumacher</td>\n",
       "      <td id=\"T_5b73a_row47_col3\" class=\"data row47 col3\" >Auto Racing</td>\n",
       "      <td id=\"T_5b73a_row47_col4\" class=\"data row47 col4\" >2</td>\n",
       "    </tr>\n",
       "    <tr>\n",
       "      <th id=\"T_5b73a_level0_row48\" class=\"row_heading level0 row48\" >296</th>\n",
       "      <td id=\"T_5b73a_row48_col0\" class=\"data row48 col0\" >2020</td>\n",
       "      <td id=\"T_5b73a_row48_col1\" class=\"data row48 col1\" >74.400000</td>\n",
       "      <td id=\"T_5b73a_row48_col2\" class=\"data row48 col2\" >Stephen Curry</td>\n",
       "      <td id=\"T_5b73a_row48_col3\" class=\"data row48 col3\" >NBA/Basketball</td>\n",
       "      <td id=\"T_5b73a_row48_col4\" class=\"data row48 col4\" >6</td>\n",
       "    </tr>\n",
       "    <tr>\n",
       "      <th id=\"T_5b73a_level0_row49\" class=\"row_heading level0 row49\" >244</th>\n",
       "      <td id=\"T_5b73a_row49_col0\" class=\"data row49 col0\" >2015</td>\n",
       "      <td id=\"T_5b73a_row49_col1\" class=\"data row49 col1\" >73.800000</td>\n",
       "      <td id=\"T_5b73a_row49_col2\" class=\"data row49 col2\" >Lionel Messi</td>\n",
       "      <td id=\"T_5b73a_row49_col3\" class=\"data row49 col3\" >Soccer</td>\n",
       "      <td id=\"T_5b73a_row49_col4\" class=\"data row49 col4\" >4</td>\n",
       "    </tr>\n",
       "    <tr>\n",
       "      <th id=\"T_5b73a_level0_row50\" class=\"row_heading level0 row50\" >233</th>\n",
       "      <td id=\"T_5b73a_row50_col0\" class=\"data row50 col0\" >2014</td>\n",
       "      <td id=\"T_5b73a_row50_col1\" class=\"data row50 col1\" >72.300000</td>\n",
       "      <td id=\"T_5b73a_row50_col2\" class=\"data row50 col2\" >LeBron James</td>\n",
       "      <td id=\"T_5b73a_row50_col3\" class=\"data row50 col3\" >NBA/Basketball</td>\n",
       "      <td id=\"T_5b73a_row50_col4\" class=\"data row50 col4\" >3</td>\n",
       "    </tr>\n",
       "    <tr>\n",
       "      <th id=\"T_5b73a_level0_row51\" class=\"row_heading level0 row51\" >222</th>\n",
       "      <td id=\"T_5b73a_row51_col0\" class=\"data row51 col0\" >2013</td>\n",
       "      <td id=\"T_5b73a_row51_col1\" class=\"data row51 col1\" >71.500000</td>\n",
       "      <td id=\"T_5b73a_row51_col2\" class=\"data row51 col2\" >Roger Federer</td>\n",
       "      <td id=\"T_5b73a_row51_col3\" class=\"data row51 col3\" >Tennis</td>\n",
       "      <td id=\"T_5b73a_row51_col4\" class=\"data row51 col4\" >2</td>\n",
       "    </tr>\n",
       "    <tr>\n",
       "      <th id=\"T_5b73a_level0_row52\" class=\"row_heading level0 row52\" >110</th>\n",
       "      <td id=\"T_5b73a_row52_col0\" class=\"data row52 col0\" >2002</td>\n",
       "      <td id=\"T_5b73a_row52_col1\" class=\"data row52 col1\" >69.000000</td>\n",
       "      <td id=\"T_5b73a_row52_col2\" class=\"data row52 col2\" >Tiger Woods</td>\n",
       "      <td id=\"T_5b73a_row52_col3\" class=\"data row52 col3\" >Golf</td>\n",
       "      <td id=\"T_5b73a_row52_col4\" class=\"data row52 col4\" >1</td>\n",
       "    </tr>\n",
       "    <tr>\n",
       "      <th id=\"T_5b73a_level0_row53\" class=\"row_heading level0 row53\" >80</th>\n",
       "      <td id=\"T_5b73a_row53_col0\" class=\"data row53 col0\" >1998</td>\n",
       "      <td id=\"T_5b73a_row53_col1\" class=\"data row53 col1\" >69.000000</td>\n",
       "      <td id=\"T_5b73a_row53_col2\" class=\"data row53 col2\" >Michael Jordan</td>\n",
       "      <td id=\"T_5b73a_row53_col3\" class=\"data row53 col3\" >NBA/Basketball</td>\n",
       "      <td id=\"T_5b73a_row53_col4\" class=\"data row53 col4\" >1</td>\n",
       "    </tr>\n",
       "    <tr>\n",
       "      <th id=\"T_5b73a_level0_row54\" class=\"row_heading level0 row54\" >254</th>\n",
       "      <td id=\"T_5b73a_row54_col0\" class=\"data row54 col0\" >2016</td>\n",
       "      <td id=\"T_5b73a_row54_col1\" class=\"data row54 col1\" >67.800000</td>\n",
       "      <td id=\"T_5b73a_row54_col2\" class=\"data row54 col2\" >Roger Federer</td>\n",
       "      <td id=\"T_5b73a_row54_col3\" class=\"data row54 col3\" >Tennis</td>\n",
       "      <td id=\"T_5b73a_row54_col4\" class=\"data row54 col4\" >4</td>\n",
       "    </tr>\n",
       "    <tr>\n",
       "      <th id=\"T_5b73a_level0_row55\" class=\"row_heading level0 row55\" >279</th>\n",
       "      <td id=\"T_5b73a_row55_col0\" class=\"data row55 col0\" >2018</td>\n",
       "      <td id=\"T_5b73a_row55_col1\" class=\"data row55 col1\" >67.300000</td>\n",
       "      <td id=\"T_5b73a_row55_col2\" class=\"data row55 col2\" >Matt Ryan</td>\n",
       "      <td id=\"T_5b73a_row55_col3\" class=\"data row55 col3\" >NFL</td>\n",
       "      <td id=\"T_5b73a_row55_col4\" class=\"data row55 col4\" >9</td>\n",
       "    </tr>\n",
       "    <tr>\n",
       "      <th id=\"T_5b73a_level0_row56\" class=\"row_heading level0 row56\" >111</th>\n",
       "      <td id=\"T_5b73a_row56_col0\" class=\"data row56 col0\" >2002</td>\n",
       "      <td id=\"T_5b73a_row56_col1\" class=\"data row56 col1\" >67.000000</td>\n",
       "      <td id=\"T_5b73a_row56_col2\" class=\"data row56 col2\" >Michael Schumacher</td>\n",
       "      <td id=\"T_5b73a_row56_col3\" class=\"data row56 col3\" >Auto Racing</td>\n",
       "      <td id=\"T_5b73a_row56_col4\" class=\"data row56 col4\" >2</td>\n",
       "    </tr>\n",
       "    <tr>\n",
       "      <th id=\"T_5b73a_level0_row57\" class=\"row_heading level0 row57\" >245</th>\n",
       "      <td id=\"T_5b73a_row57_col0\" class=\"data row57 col0\" >2015</td>\n",
       "      <td id=\"T_5b73a_row57_col1\" class=\"data row57 col1\" >67.000000</td>\n",
       "      <td id=\"T_5b73a_row57_col2\" class=\"data row57 col2\" >Roger Federer</td>\n",
       "      <td id=\"T_5b73a_row57_col3\" class=\"data row57 col3\" >Tennis</td>\n",
       "      <td id=\"T_5b73a_row57_col4\" class=\"data row57 col4\" >5</td>\n",
       "    </tr>\n",
       "    <tr>\n",
       "      <th id=\"T_5b73a_level0_row58\" class=\"row_heading level0 row58\" >290</th>\n",
       "      <td id=\"T_5b73a_row58_col0\" class=\"data row58 col0\" >2019</td>\n",
       "      <td id=\"T_5b73a_row58_col1\" class=\"data row58 col1\" >65.400000</td>\n",
       "      <td id=\"T_5b73a_row58_col2\" class=\"data row58 col2\" >Kevin Durant</td>\n",
       "      <td id=\"T_5b73a_row58_col3\" class=\"data row58 col3\" >NBA/Basketball</td>\n",
       "      <td id=\"T_5b73a_row58_col4\" class=\"data row58 col4\" >10</td>\n",
       "    </tr>\n",
       "    <tr>\n",
       "      <th id=\"T_5b73a_level0_row59\" class=\"row_heading level0 row59\" >192</th>\n",
       "      <td id=\"T_5b73a_row59_col0\" class=\"data row59 col0\" >2010</td>\n",
       "      <td id=\"T_5b73a_row59_col1\" class=\"data row59 col1\" >65.000000</td>\n",
       "      <td id=\"T_5b73a_row59_col2\" class=\"data row59 col2\" >Floyd Mayweather</td>\n",
       "      <td id=\"T_5b73a_row59_col3\" class=\"data row59 col3\" >Boxing</td>\n",
       "      <td id=\"T_5b73a_row59_col4\" class=\"data row59 col4\" >2</td>\n",
       "    </tr>\n",
       "    <tr>\n",
       "      <th id=\"T_5b73a_level0_row60\" class=\"row_heading level0 row60\" >246</th>\n",
       "      <td id=\"T_5b73a_row60_col0\" class=\"data row60 col0\" >2015</td>\n",
       "      <td id=\"T_5b73a_row60_col1\" class=\"data row60 col1\" >64.800000</td>\n",
       "      <td id=\"T_5b73a_row60_col2\" class=\"data row60 col2\" >LeBron James</td>\n",
       "      <td id=\"T_5b73a_row60_col3\" class=\"data row60 col3\" >NBA/Basketball</td>\n",
       "      <td id=\"T_5b73a_row60_col4\" class=\"data row60 col4\" >6</td>\n",
       "    </tr>\n",
       "    <tr>\n",
       "      <th id=\"T_5b73a_level0_row61\" class=\"row_heading level0 row61\" >234</th>\n",
       "      <td id=\"T_5b73a_row61_col0\" class=\"data row61 col0\" >2014</td>\n",
       "      <td id=\"T_5b73a_row61_col1\" class=\"data row61 col1\" >64.700000</td>\n",
       "      <td id=\"T_5b73a_row61_col2\" class=\"data row61 col2\" >Lionel Messi</td>\n",
       "      <td id=\"T_5b73a_row61_col3\" class=\"data row61 col3\" >Soccer</td>\n",
       "      <td id=\"T_5b73a_row61_col4\" class=\"data row61 col4\" >4</td>\n",
       "    </tr>\n",
       "    <tr>\n",
       "      <th id=\"T_5b73a_level0_row62\" class=\"row_heading level0 row62\" >264</th>\n",
       "      <td id=\"T_5b73a_row62_col0\" class=\"data row62 col0\" >2017</td>\n",
       "      <td id=\"T_5b73a_row62_col1\" class=\"data row62 col1\" >64.000000</td>\n",
       "      <td id=\"T_5b73a_row62_col2\" class=\"data row62 col2\" >Roger Federer</td>\n",
       "      <td id=\"T_5b73a_row62_col3\" class=\"data row62 col3\" >Tennis</td>\n",
       "      <td id=\"T_5b73a_row62_col4\" class=\"data row62 col4\" >4</td>\n",
       "    </tr>\n",
       "    <tr>\n",
       "      <th id=\"T_5b73a_level0_row63\" class=\"row_heading level0 row63\" >297</th>\n",
       "      <td id=\"T_5b73a_row63_col0\" class=\"data row63 col0\" >2020</td>\n",
       "      <td id=\"T_5b73a_row63_col1\" class=\"data row63 col1\" >63.900000</td>\n",
       "      <td id=\"T_5b73a_row63_col2\" class=\"data row63 col2\" >Kevin Durant</td>\n",
       "      <td id=\"T_5b73a_row63_col3\" class=\"data row63 col3\" >NBA/Basketball</td>\n",
       "      <td id=\"T_5b73a_row63_col4\" class=\"data row63 col4\" >7</td>\n",
       "    </tr>\n",
       "    <tr>\n",
       "      <th id=\"T_5b73a_level0_row64\" class=\"row_heading level0 row64\" >298</th>\n",
       "      <td id=\"T_5b73a_row64_col0\" class=\"data row64 col0\" >2020</td>\n",
       "      <td id=\"T_5b73a_row64_col1\" class=\"data row64 col1\" >62.300000</td>\n",
       "      <td id=\"T_5b73a_row64_col2\" class=\"data row64 col2\" >Tiger Woods</td>\n",
       "      <td id=\"T_5b73a_row64_col3\" class=\"data row64 col3\" >Golf</td>\n",
       "      <td id=\"T_5b73a_row64_col4\" class=\"data row64 col4\" >8</td>\n",
       "    </tr>\n",
       "    <tr>\n",
       "      <th id=\"T_5b73a_level0_row65\" class=\"row_heading level0 row65\" >212</th>\n",
       "      <td id=\"T_5b73a_row65_col0\" class=\"data row65 col0\" >2012</td>\n",
       "      <td id=\"T_5b73a_row65_col1\" class=\"data row65 col1\" >62.000000</td>\n",
       "      <td id=\"T_5b73a_row65_col2\" class=\"data row65 col2\" >Manny Pacquiao</td>\n",
       "      <td id=\"T_5b73a_row65_col3\" class=\"data row65 col3\" >Boxing</td>\n",
       "      <td id=\"T_5b73a_row65_col4\" class=\"data row65 col4\" >2</td>\n",
       "    </tr>\n",
       "    <tr>\n",
       "      <th id=\"T_5b73a_level0_row66\" class=\"row_heading level0 row66\" >223</th>\n",
       "      <td id=\"T_5b73a_row66_col0\" class=\"data row66 col0\" >2013</td>\n",
       "      <td id=\"T_5b73a_row66_col1\" class=\"data row66 col1\" >61.900000</td>\n",
       "      <td id=\"T_5b73a_row66_col2\" class=\"data row66 col2\" >Kobe Bryant</td>\n",
       "      <td id=\"T_5b73a_row66_col3\" class=\"data row66 col3\" >NBA/Basketball</td>\n",
       "      <td id=\"T_5b73a_row66_col4\" class=\"data row66 col4\" >3</td>\n",
       "    </tr>\n",
       "    <tr>\n",
       "      <th id=\"T_5b73a_level0_row67\" class=\"row_heading level0 row67\" >235</th>\n",
       "      <td id=\"T_5b73a_row67_col0\" class=\"data row67 col0\" >2014</td>\n",
       "      <td id=\"T_5b73a_row67_col1\" class=\"data row67 col1\" >61.500000</td>\n",
       "      <td id=\"T_5b73a_row67_col2\" class=\"data row67 col2\" >Kobe Bryant</td>\n",
       "      <td id=\"T_5b73a_row67_col3\" class=\"data row67 col3\" >NBA/Basketball</td>\n",
       "      <td id=\"T_5b73a_row67_col4\" class=\"data row67 col4\" >5</td>\n",
       "    </tr>\n",
       "    <tr>\n",
       "      <th id=\"T_5b73a_level0_row68\" class=\"row_heading level0 row68\" >236</th>\n",
       "      <td id=\"T_5b73a_row68_col0\" class=\"data row68 col0\" >2014</td>\n",
       "      <td id=\"T_5b73a_row68_col1\" class=\"data row68 col1\" >61.200000</td>\n",
       "      <td id=\"T_5b73a_row68_col2\" class=\"data row68 col2\" >Tiger Woods</td>\n",
       "      <td id=\"T_5b73a_row68_col3\" class=\"data row68 col3\" >Golf</td>\n",
       "      <td id=\"T_5b73a_row68_col4\" class=\"data row68 col4\" >6</td>\n",
       "    </tr>\n",
       "    <tr>\n",
       "      <th id=\"T_5b73a_level0_row69\" class=\"row_heading level0 row69\" >265</th>\n",
       "      <td id=\"T_5b73a_row69_col0\" class=\"data row69 col0\" >2017</td>\n",
       "      <td id=\"T_5b73a_row69_col1\" class=\"data row69 col1\" >60.600000</td>\n",
       "      <td id=\"T_5b73a_row69_col2\" class=\"data row69 col2\" >Kevin Durant</td>\n",
       "      <td id=\"T_5b73a_row69_col3\" class=\"data row69 col3\" >NBA/Basketball</td>\n",
       "      <td id=\"T_5b73a_row69_col4\" class=\"data row69 col4\" >5</td>\n",
       "    </tr>\n",
       "    <tr>\n",
       "      <th id=\"T_5b73a_level0_row70\" class=\"row_heading level0 row70\" >10</th>\n",
       "      <td id=\"T_5b73a_row70_col0\" class=\"data row70 col0\" >1991</td>\n",
       "      <td id=\"T_5b73a_row70_col1\" class=\"data row70 col1\" >60.500000</td>\n",
       "      <td id=\"T_5b73a_row70_col2\" class=\"data row70 col2\" >Evander Holyfield</td>\n",
       "      <td id=\"T_5b73a_row70_col3\" class=\"data row70 col3\" >Boxing</td>\n",
       "      <td id=\"T_5b73a_row70_col4\" class=\"data row70 col4\" >1</td>\n",
       "    </tr>\n",
       "    <tr>\n",
       "      <th id=\"T_5b73a_level0_row71\" class=\"row_heading level0 row71\" >299</th>\n",
       "      <td id=\"T_5b73a_row71_col0\" class=\"data row71 col0\" >2020</td>\n",
       "      <td id=\"T_5b73a_row71_col1\" class=\"data row71 col1\" >60.500000</td>\n",
       "      <td id=\"T_5b73a_row71_col2\" class=\"data row71 col2\" >Kirk Cousins</td>\n",
       "      <td id=\"T_5b73a_row71_col3\" class=\"data row71 col3\" >NFL</td>\n",
       "      <td id=\"T_5b73a_row71_col4\" class=\"data row71 col4\" >9</td>\n",
       "    </tr>\n",
       "    <tr>\n",
       "      <th id=\"T_5b73a_level0_row72\" class=\"row_heading level0 row72\" >142</th>\n",
       "      <td id=\"T_5b73a_row72_col0\" class=\"data row72 col0\" >2005</td>\n",
       "      <td id=\"T_5b73a_row72_col1\" class=\"data row72 col1\" >60.000000</td>\n",
       "      <td id=\"T_5b73a_row72_col2\" class=\"data row72 col2\" >Michael Schumacher</td>\n",
       "      <td id=\"T_5b73a_row72_col3\" class=\"data row72 col3\" >Auto Racing</td>\n",
       "      <td id=\"T_5b73a_row72_col4\" class=\"data row72 col4\" >2</td>\n",
       "    </tr>\n",
       "    <tr>\n",
       "      <th id=\"T_5b73a_level0_row73\" class=\"row_heading level0 row73\" >224</th>\n",
       "      <td id=\"T_5b73a_row73_col0\" class=\"data row73 col0\" >2013</td>\n",
       "      <td id=\"T_5b73a_row73_col1\" class=\"data row73 col1\" >59.800000</td>\n",
       "      <td id=\"T_5b73a_row73_col2\" class=\"data row73 col2\" >LeBron James</td>\n",
       "      <td id=\"T_5b73a_row73_col3\" class=\"data row73 col3\" >NBA/Basketball</td>\n",
       "      <td id=\"T_5b73a_row73_col4\" class=\"data row73 col4\" >4</td>\n",
       "    </tr>\n",
       "    <tr>\n",
       "      <th id=\"T_5b73a_level0_row74\" class=\"row_heading level0 row74\" >280</th>\n",
       "      <td id=\"T_5b73a_row74_col0\" class=\"data row74 col0\" >2018</td>\n",
       "      <td id=\"T_5b73a_row74_col1\" class=\"data row74 col1\" >59.500000</td>\n",
       "      <td id=\"T_5b73a_row74_col2\" class=\"data row74 col2\" >Matthew Stafford</td>\n",
       "      <td id=\"T_5b73a_row74_col3\" class=\"data row74 col3\" >NFL</td>\n",
       "      <td id=\"T_5b73a_row74_col4\" class=\"data row74 col4\" >10</td>\n",
       "    </tr>\n",
       "    <tr>\n",
       "      <th id=\"T_5b73a_level0_row75\" class=\"row_heading level0 row75\" >213</th>\n",
       "      <td id=\"T_5b73a_row75_col0\" class=\"data row75 col0\" >2012</td>\n",
       "      <td id=\"T_5b73a_row75_col1\" class=\"data row75 col1\" >59.400000</td>\n",
       "      <td id=\"T_5b73a_row75_col2\" class=\"data row75 col2\" >Tiger Woods</td>\n",
       "      <td id=\"T_5b73a_row75_col3\" class=\"data row75 col3\" >Golf</td>\n",
       "      <td id=\"T_5b73a_row75_col4\" class=\"data row75 col4\" >3</td>\n",
       "    </tr>\n",
       "    <tr>\n",
       "      <th id=\"T_5b73a_level0_row76\" class=\"row_heading level0 row76\" >300</th>\n",
       "      <td id=\"T_5b73a_row76_col0\" class=\"data row76 col0\" >2020</td>\n",
       "      <td id=\"T_5b73a_row76_col1\" class=\"data row76 col1\" >59.100000</td>\n",
       "      <td id=\"T_5b73a_row76_col2\" class=\"data row76 col2\" >Carson Wentz</td>\n",
       "      <td id=\"T_5b73a_row76_col3\" class=\"data row76 col3\" >NFL</td>\n",
       "      <td id=\"T_5b73a_row76_col4\" class=\"data row76 col4\" >10</td>\n",
       "    </tr>\n",
       "    <tr>\n",
       "      <th id=\"T_5b73a_level0_row77\" class=\"row_heading level0 row77\" >100</th>\n",
       "      <td id=\"T_5b73a_row77_col0\" class=\"data row77 col0\" >2000</td>\n",
       "      <td id=\"T_5b73a_row77_col1\" class=\"data row77 col1\" >59.000000</td>\n",
       "      <td id=\"T_5b73a_row77_col2\" class=\"data row77 col2\" >Michael Schumacher</td>\n",
       "      <td id=\"T_5b73a_row77_col3\" class=\"data row77 col3\" >Auto Racing</td>\n",
       "      <td id=\"T_5b73a_row77_col4\" class=\"data row77 col4\" >1</td>\n",
       "    </tr>\n",
       "    <tr>\n",
       "      <th id=\"T_5b73a_level0_row78\" class=\"row_heading level0 row78\" >152</th>\n",
       "      <td id=\"T_5b73a_row78_col0\" class=\"data row78 col0\" >2006</td>\n",
       "      <td id=\"T_5b73a_row78_col1\" class=\"data row78 col1\" >58.000000</td>\n",
       "      <td id=\"T_5b73a_row78_col2\" class=\"data row78 col2\" >Michael Schumacher</td>\n",
       "      <td id=\"T_5b73a_row78_col3\" class=\"data row78 col3\" >Auto Racing</td>\n",
       "      <td id=\"T_5b73a_row78_col4\" class=\"data row78 col4\" >2</td>\n",
       "    </tr>\n",
       "    <tr>\n",
       "      <th id=\"T_5b73a_level0_row79\" class=\"row_heading level0 row79\" >237</th>\n",
       "      <td id=\"T_5b73a_row79_col0\" class=\"data row79 col0\" >2014</td>\n",
       "      <td id=\"T_5b73a_row79_col1\" class=\"data row79 col1\" >56.200000</td>\n",
       "      <td id=\"T_5b73a_row79_col2\" class=\"data row79 col2\" >Roger Federer</td>\n",
       "      <td id=\"T_5b73a_row79_col3\" class=\"data row79 col3\" >Tennis</td>\n",
       "      <td id=\"T_5b73a_row79_col4\" class=\"data row79 col4\" >7</td>\n",
       "    </tr>\n",
       "    <tr>\n",
       "      <th id=\"T_5b73a_level0_row80\" class=\"row_heading level0 row80\" >255</th>\n",
       "      <td id=\"T_5b73a_row80_col0\" class=\"data row80 col0\" >2016</td>\n",
       "      <td id=\"T_5b73a_row80_col1\" class=\"data row80 col1\" >56.200000</td>\n",
       "      <td id=\"T_5b73a_row80_col2\" class=\"data row80 col2\" >Kevin Durant</td>\n",
       "      <td id=\"T_5b73a_row80_col3\" class=\"data row80 col3\" >NBA/Basketball</td>\n",
       "      <td id=\"T_5b73a_row80_col4\" class=\"data row80 col4\" >5</td>\n",
       "    </tr>\n",
       "    <tr>\n",
       "      <th id=\"T_5b73a_level0_row81\" class=\"row_heading level0 row81\" >256</th>\n",
       "      <td id=\"T_5b73a_row81_col0\" class=\"data row81 col0\" >2016</td>\n",
       "      <td id=\"T_5b73a_row81_col1\" class=\"data row81 col1\" >55.800000</td>\n",
       "      <td id=\"T_5b73a_row81_col2\" class=\"data row81 col2\" >Novak Djokovic</td>\n",
       "      <td id=\"T_5b73a_row81_col3\" class=\"data row81 col3\" >Tennis</td>\n",
       "      <td id=\"T_5b73a_row81_col4\" class=\"data row81 col4\" >6</td>\n",
       "    </tr>\n",
       "    <tr>\n",
       "      <th id=\"T_5b73a_level0_row82\" class=\"row_heading level0 row82\" >153</th>\n",
       "      <td id=\"T_5b73a_row82_col0\" class=\"data row82 col0\" >2006</td>\n",
       "      <td id=\"T_5b73a_row82_col1\" class=\"data row82 col1\" >55.000000</td>\n",
       "      <td id=\"T_5b73a_row82_col2\" class=\"data row82 col2\" >Muhammad Ali</td>\n",
       "      <td id=\"T_5b73a_row82_col3\" class=\"data row82 col3\" >Boxing</td>\n",
       "      <td id=\"T_5b73a_row82_col4\" class=\"data row82 col4\" >3</td>\n",
       "    </tr>\n",
       "    <tr>\n",
       "      <th id=\"T_5b73a_level0_row83\" class=\"row_heading level0 row83\" >71</th>\n",
       "      <td id=\"T_5b73a_row83_col0\" class=\"data row83 col0\" >1997</td>\n",
       "      <td id=\"T_5b73a_row83_col1\" class=\"data row83 col1\" >54.300000</td>\n",
       "      <td id=\"T_5b73a_row83_col2\" class=\"data row83 col2\" >Evander Holyfield</td>\n",
       "      <td id=\"T_5b73a_row83_col3\" class=\"data row83 col3\" >Boxing</td>\n",
       "      <td id=\"T_5b73a_row83_col4\" class=\"data row83 col4\" >2</td>\n",
       "    </tr>\n",
       "    <tr>\n",
       "      <th id=\"T_5b73a_level0_row84\" class=\"row_heading level0 row84\" >247</th>\n",
       "      <td id=\"T_5b73a_row84_col0\" class=\"data row84 col0\" >2015</td>\n",
       "      <td id=\"T_5b73a_row84_col1\" class=\"data row84 col1\" >54.200000</td>\n",
       "      <td id=\"T_5b73a_row84_col2\" class=\"data row84 col2\" >Kevin Durant</td>\n",
       "      <td id=\"T_5b73a_row84_col3\" class=\"data row84 col3\" >NBA/Basketball</td>\n",
       "      <td id=\"T_5b73a_row84_col4\" class=\"data row84 col4\" >7</td>\n",
       "    </tr>\n",
       "    <tr>\n",
       "      <th id=\"T_5b73a_level0_row85\" class=\"row_heading level0 row85\" >238</th>\n",
       "      <td id=\"T_5b73a_row85_col0\" class=\"data row85 col0\" >2014</td>\n",
       "      <td id=\"T_5b73a_row85_col1\" class=\"data row85 col1\" >53.200000</td>\n",
       "      <td id=\"T_5b73a_row85_col2\" class=\"data row85 col2\" >Phil Mickelson</td>\n",
       "      <td id=\"T_5b73a_row85_col3\" class=\"data row85 col3\" >Golf</td>\n",
       "      <td id=\"T_5b73a_row85_col4\" class=\"data row85 col4\" >8</td>\n",
       "    </tr>\n",
       "    <tr>\n",
       "      <th id=\"T_5b73a_level0_row86\" class=\"row_heading level0 row86\" >257</th>\n",
       "      <td id=\"T_5b73a_row86_col0\" class=\"data row86 col0\" >2016</td>\n",
       "      <td id=\"T_5b73a_row86_col1\" class=\"data row86 col1\" >53.100000</td>\n",
       "      <td id=\"T_5b73a_row86_col2\" class=\"data row86 col2\" >Cam Newton</td>\n",
       "      <td id=\"T_5b73a_row86_col3\" class=\"data row86 col3\" >NFL</td>\n",
       "      <td id=\"T_5b73a_row86_col4\" class=\"data row86 col4\" >7</td>\n",
       "    </tr>\n",
       "    <tr>\n",
       "      <th id=\"T_5b73a_level0_row87\" class=\"row_heading level0 row87\" >214</th>\n",
       "      <td id=\"T_5b73a_row87_col0\" class=\"data row87 col0\" >2012</td>\n",
       "      <td id=\"T_5b73a_row87_col1\" class=\"data row87 col1\" >53.000000</td>\n",
       "      <td id=\"T_5b73a_row87_col2\" class=\"data row87 col2\" >LeBron James</td>\n",
       "      <td id=\"T_5b73a_row87_col3\" class=\"data row87 col3\" >NBA/Basketball</td>\n",
       "      <td id=\"T_5b73a_row87_col4\" class=\"data row87 col4\" >4</td>\n",
       "    </tr>\n",
       "    <tr>\n",
       "      <th id=\"T_5b73a_level0_row88\" class=\"row_heading level0 row88\" >202</th>\n",
       "      <td id=\"T_5b73a_row88_col0\" class=\"data row88 col0\" >2011</td>\n",
       "      <td id=\"T_5b73a_row88_col1\" class=\"data row88 col1\" >53.000000</td>\n",
       "      <td id=\"T_5b73a_row88_col2\" class=\"data row88 col2\" >Kobe Bryant</td>\n",
       "      <td id=\"T_5b73a_row88_col3\" class=\"data row88 col3\" >NBA/Basketball</td>\n",
       "      <td id=\"T_5b73a_row88_col4\" class=\"data row88 col4\" >2</td>\n",
       "    </tr>\n",
       "    <tr>\n",
       "      <th id=\"T_5b73a_level0_row89\" class=\"row_heading level0 row89\" >101</th>\n",
       "      <td id=\"T_5b73a_row89_col0\" class=\"data row89 col0\" >2000</td>\n",
       "      <td id=\"T_5b73a_row89_col1\" class=\"data row89 col1\" >53.000000</td>\n",
       "      <td id=\"T_5b73a_row89_col2\" class=\"data row89 col2\" >Tiger Woods</td>\n",
       "      <td id=\"T_5b73a_row89_col3\" class=\"data row89 col3\" >Golf</td>\n",
       "      <td id=\"T_5b73a_row89_col4\" class=\"data row89 col4\" >2</td>\n",
       "    </tr>\n",
       "    <tr>\n",
       "      <th id=\"T_5b73a_level0_row90\" class=\"row_heading level0 row90\" >258</th>\n",
       "      <td id=\"T_5b73a_row90_col0\" class=\"data row90 col0\" >2016</td>\n",
       "      <td id=\"T_5b73a_row90_col1\" class=\"data row90 col1\" >52.900000</td>\n",
       "      <td id=\"T_5b73a_row90_col2\" class=\"data row90 col2\" >Phil Mickelson</td>\n",
       "      <td id=\"T_5b73a_row90_col3\" class=\"data row90 col3\" >Golf</td>\n",
       "      <td id=\"T_5b73a_row90_col4\" class=\"data row90 col4\" >8</td>\n",
       "    </tr>\n",
       "    <tr>\n",
       "      <th id=\"T_5b73a_level0_row91\" class=\"row_heading level0 row91\" >259</th>\n",
       "      <td id=\"T_5b73a_row91_col0\" class=\"data row91 col0\" >2016</td>\n",
       "      <td id=\"T_5b73a_row91_col1\" class=\"data row91 col1\" >52.800000</td>\n",
       "      <td id=\"T_5b73a_row91_col2\" class=\"data row91 col2\" >Jordan Spieth</td>\n",
       "      <td id=\"T_5b73a_row91_col3\" class=\"data row91 col3\" >Golf</td>\n",
       "      <td id=\"T_5b73a_row91_col4\" class=\"data row91 col4\" >9</td>\n",
       "    </tr>\n",
       "    <tr>\n",
       "      <th id=\"T_5b73a_level0_row92\" class=\"row_heading level0 row92\" >215</th>\n",
       "      <td id=\"T_5b73a_row92_col0\" class=\"data row92 col0\" >2012</td>\n",
       "      <td id=\"T_5b73a_row92_col1\" class=\"data row92 col1\" >52.700000</td>\n",
       "      <td id=\"T_5b73a_row92_col2\" class=\"data row92 col2\" >Roger Federer</td>\n",
       "      <td id=\"T_5b73a_row92_col3\" class=\"data row92 col3\" >Tennis</td>\n",
       "      <td id=\"T_5b73a_row92_col4\" class=\"data row92 col4\" >5</td>\n",
       "    </tr>\n",
       "    <tr>\n",
       "      <th id=\"T_5b73a_level0_row93\" class=\"row_heading level0 row93\" >61</th>\n",
       "      <td id=\"T_5b73a_row93_col0\" class=\"data row93 col0\" >1996</td>\n",
       "      <td id=\"T_5b73a_row93_col1\" class=\"data row93 col1\" >52.600000</td>\n",
       "      <td id=\"T_5b73a_row93_col2\" class=\"data row93 col2\" >Michael Jordan</td>\n",
       "      <td id=\"T_5b73a_row93_col3\" class=\"data row93 col3\" >NBA/Basketball</td>\n",
       "      <td id=\"T_5b73a_row93_col4\" class=\"data row93 col4\" >2</td>\n",
       "    </tr>\n",
       "    <tr>\n",
       "      <th id=\"T_5b73a_level0_row94\" class=\"row_heading level0 row94\" >216</th>\n",
       "      <td id=\"T_5b73a_row94_col0\" class=\"data row94 col0\" >2012</td>\n",
       "      <td id=\"T_5b73a_row94_col1\" class=\"data row94 col1\" >52.300000</td>\n",
       "      <td id=\"T_5b73a_row94_col2\" class=\"data row94 col2\" >Kobe Bryant</td>\n",
       "      <td id=\"T_5b73a_row94_col3\" class=\"data row94 col3\" >NBA/Basketball</td>\n",
       "      <td id=\"T_5b73a_row94_col4\" class=\"data row94 col4\" >6</td>\n",
       "    </tr>\n",
       "    <tr>\n",
       "      <th id=\"T_5b73a_level0_row95\" class=\"row_heading level0 row95\" >225</th>\n",
       "      <td id=\"T_5b73a_row95_col0\" class=\"data row95 col0\" >2013</td>\n",
       "      <td id=\"T_5b73a_row95_col1\" class=\"data row95 col1\" >51.000000</td>\n",
       "      <td id=\"T_5b73a_row95_col2\" class=\"data row95 col2\" >Drew Brees</td>\n",
       "      <td id=\"T_5b73a_row95_col3\" class=\"data row95 col3\" >NFL</td>\n",
       "      <td id=\"T_5b73a_row95_col4\" class=\"data row95 col4\" >5</td>\n",
       "    </tr>\n",
       "    <tr>\n",
       "      <th id=\"T_5b73a_level0_row96\" class=\"row_heading level0 row96\" >248</th>\n",
       "      <td id=\"T_5b73a_row96_col0\" class=\"data row96 col0\" >2015</td>\n",
       "      <td id=\"T_5b73a_row96_col1\" class=\"data row96 col1\" >50.800000</td>\n",
       "      <td id=\"T_5b73a_row96_col2\" class=\"data row96 col2\" >Phil Mickelson</td>\n",
       "      <td id=\"T_5b73a_row96_col3\" class=\"data row96 col3\" >Golf</td>\n",
       "      <td id=\"T_5b73a_row96_col4\" class=\"data row96 col4\" >8</td>\n",
       "    </tr>\n",
       "    <tr>\n",
       "      <th id=\"T_5b73a_level0_row97\" class=\"row_heading level0 row97\" >249</th>\n",
       "      <td id=\"T_5b73a_row97_col0\" class=\"data row97 col0\" >2015</td>\n",
       "      <td id=\"T_5b73a_row97_col1\" class=\"data row97 col1\" >50.600000</td>\n",
       "      <td id=\"T_5b73a_row97_col2\" class=\"data row97 col2\" >Tiger Woods</td>\n",
       "      <td id=\"T_5b73a_row97_col3\" class=\"data row97 col3\" >Golf</td>\n",
       "      <td id=\"T_5b73a_row97_col4\" class=\"data row97 col4\" >9</td>\n",
       "    </tr>\n",
       "    <tr>\n",
       "      <th id=\"T_5b73a_level0_row98\" class=\"row_heading level0 row98\" >267</th>\n",
       "      <td id=\"T_5b73a_row98_col0\" class=\"data row98 col0\" >2017</td>\n",
       "      <td id=\"T_5b73a_row98_col1\" class=\"data row98 col1\" >50.000000</td>\n",
       "      <td id=\"T_5b73a_row98_col2\" class=\"data row98 col2\" >Rory McIlroy</td>\n",
       "      <td id=\"T_5b73a_row98_col3\" class=\"data row98 col3\" >Golf</td>\n",
       "      <td id=\"T_5b73a_row98_col4\" class=\"data row98 col4\" >6</td>\n",
       "    </tr>\n",
       "    <tr>\n",
       "      <th id=\"T_5b73a_level0_row99\" class=\"row_heading level0 row99\" >172</th>\n",
       "      <td id=\"T_5b73a_row99_col0\" class=\"data row99 col0\" >2008</td>\n",
       "      <td id=\"T_5b73a_row99_col1\" class=\"data row99 col1\" >50.000000</td>\n",
       "      <td id=\"T_5b73a_row99_col2\" class=\"data row99 col2\" >David Beckham</td>\n",
       "      <td id=\"T_5b73a_row99_col3\" class=\"data row99 col3\" >Soccer</td>\n",
       "      <td id=\"T_5b73a_row99_col4\" class=\"data row99 col4\" >2</td>\n",
       "    </tr>\n",
       "    <tr>\n",
       "      <th id=\"T_5b73a_level0_row100\" class=\"row_heading level0 row100\" >266</th>\n",
       "      <td id=\"T_5b73a_row100_col0\" class=\"data row100 col0\" >2017</td>\n",
       "      <td id=\"T_5b73a_row100_col1\" class=\"data row100 col1\" >50.000000</td>\n",
       "      <td id=\"T_5b73a_row100_col2\" class=\"data row100 col2\" >Andrew Luck</td>\n",
       "      <td id=\"T_5b73a_row100_col3\" class=\"data row100 col3\" >NFL</td>\n",
       "      <td id=\"T_5b73a_row100_col4\" class=\"data row100 col4\" >6</td>\n",
       "    </tr>\n",
       "    <tr>\n",
       "      <th id=\"T_5b73a_level0_row101\" class=\"row_heading level0 row101\" >260</th>\n",
       "      <td id=\"T_5b73a_row101_col0\" class=\"data row101 col0\" >2016</td>\n",
       "      <td id=\"T_5b73a_row101_col1\" class=\"data row101 col1\" >50.000000</td>\n",
       "      <td id=\"T_5b73a_row101_col2\" class=\"data row101 col2\" >Kobe Bryant</td>\n",
       "      <td id=\"T_5b73a_row101_col3\" class=\"data row101 col3\" >NBA/Basketball</td>\n",
       "      <td id=\"T_5b73a_row101_col4\" class=\"data row101 col4\" >10</td>\n",
       "    </tr>\n",
       "    <tr>\n",
       "      <th id=\"T_5b73a_level0_row102\" class=\"row_heading level0 row102\" >250</th>\n",
       "      <td id=\"T_5b73a_row102_col0\" class=\"data row102 col0\" >2015</td>\n",
       "      <td id=\"T_5b73a_row102_col1\" class=\"data row102 col1\" >49.500000</td>\n",
       "      <td id=\"T_5b73a_row102_col2\" class=\"data row102 col2\" >Kobe Bryant</td>\n",
       "      <td id=\"T_5b73a_row102_col3\" class=\"data row102 col3\" >NBA/Basketball</td>\n",
       "      <td id=\"T_5b73a_row102_col4\" class=\"data row102 col4\" >10</td>\n",
       "    </tr>\n",
       "    <tr>\n",
       "      <th id=\"T_5b73a_level0_row103\" class=\"row_heading level0 row103\" >226</th>\n",
       "      <td id=\"T_5b73a_row103_col0\" class=\"data row103 col0\" >2013</td>\n",
       "      <td id=\"T_5b73a_row103_col1\" class=\"data row103 col1\" >49.000000</td>\n",
       "      <td id=\"T_5b73a_row103_col2\" class=\"data row103 col2\" >Aaron Rodgers</td>\n",
       "      <td id=\"T_5b73a_row103_col3\" class=\"data row103 col3\" >NFL</td>\n",
       "      <td id=\"T_5b73a_row103_col4\" class=\"data row103 col4\" >6</td>\n",
       "    </tr>\n",
       "    <tr>\n",
       "      <th id=\"T_5b73a_level0_row104\" class=\"row_heading level0 row104\" >90</th>\n",
       "      <td id=\"T_5b73a_row104_col0\" class=\"data row104 col0\" >1999</td>\n",
       "      <td id=\"T_5b73a_row104_col1\" class=\"data row104 col1\" >49.000000</td>\n",
       "      <td id=\"T_5b73a_row104_col2\" class=\"data row104 col2\" >Michael Schumacher</td>\n",
       "      <td id=\"T_5b73a_row104_col3\" class=\"data row104 col3\" >Auto Racing</td>\n",
       "      <td id=\"T_5b73a_row104_col4\" class=\"data row104 col4\" >1</td>\n",
       "    </tr>\n",
       "    <tr>\n",
       "      <th id=\"T_5b73a_level0_row105\" class=\"row_heading level0 row105\" >227</th>\n",
       "      <td id=\"T_5b73a_row105_col0\" class=\"data row105 col0\" >2013</td>\n",
       "      <td id=\"T_5b73a_row105_col1\" class=\"data row105 col1\" >48.700000</td>\n",
       "      <td id=\"T_5b73a_row105_col2\" class=\"data row105 col2\" >Phil Mickelson</td>\n",
       "      <td id=\"T_5b73a_row105_col3\" class=\"data row105 col3\" >Golf</td>\n",
       "      <td id=\"T_5b73a_row105_col4\" class=\"data row105 col4\" >7</td>\n",
       "    </tr>\n",
       "    <tr>\n",
       "      <th id=\"T_5b73a_level0_row106\" class=\"row_heading level0 row106\" >102</th>\n",
       "      <td id=\"T_5b73a_row106_col0\" class=\"data row106 col0\" >2000</td>\n",
       "      <td id=\"T_5b73a_row106_col1\" class=\"data row106 col1\" >48.000000</td>\n",
       "      <td id=\"T_5b73a_row106_col2\" class=\"data row106 col2\" >Mike Tyson</td>\n",
       "      <td id=\"T_5b73a_row106_col3\" class=\"data row106 col3\" >Boxing</td>\n",
       "      <td id=\"T_5b73a_row106_col4\" class=\"data row106 col4\" >3</td>\n",
       "    </tr>\n",
       "    <tr>\n",
       "      <th id=\"T_5b73a_level0_row107\" class=\"row_heading level0 row107\" >203</th>\n",
       "      <td id=\"T_5b73a_row107_col0\" class=\"data row107 col0\" >2011</td>\n",
       "      <td id=\"T_5b73a_row107_col1\" class=\"data row107 col1\" >48.000000</td>\n",
       "      <td id=\"T_5b73a_row107_col2\" class=\"data row107 col2\" >LeBron James</td>\n",
       "      <td id=\"T_5b73a_row107_col3\" class=\"data row107 col3\" >NBA/Basketball</td>\n",
       "      <td id=\"T_5b73a_row107_col4\" class=\"data row107 col4\" >3</td>\n",
       "    </tr>\n",
       "    <tr>\n",
       "      <th id=\"T_5b73a_level0_row108\" class=\"row_heading level0 row108\" >193</th>\n",
       "      <td id=\"T_5b73a_row108_col0\" class=\"data row108 col0\" >2010</td>\n",
       "      <td id=\"T_5b73a_row108_col1\" class=\"data row108 col1\" >48.000000</td>\n",
       "      <td id=\"T_5b73a_row108_col2\" class=\"data row108 col2\" >Kobe Bryant</td>\n",
       "      <td id=\"T_5b73a_row108_col3\" class=\"data row108 col3\" >NBA/Basketball</td>\n",
       "      <td id=\"T_5b73a_row108_col4\" class=\"data row108 col4\" >3</td>\n",
       "    </tr>\n",
       "    <tr>\n",
       "      <th id=\"T_5b73a_level0_row109\" class=\"row_heading level0 row109\" >217</th>\n",
       "      <td id=\"T_5b73a_row109_col0\" class=\"data row109 col0\" >2012</td>\n",
       "      <td id=\"T_5b73a_row109_col1\" class=\"data row109 col1\" >47.800000</td>\n",
       "      <td id=\"T_5b73a_row109_col2\" class=\"data row109 col2\" >Phil Mickelson</td>\n",
       "      <td id=\"T_5b73a_row109_col3\" class=\"data row109 col3\" >Golf</td>\n",
       "      <td id=\"T_5b73a_row109_col4\" class=\"data row109 col4\" >7</td>\n",
       "    </tr>\n",
       "    <tr>\n",
       "      <th id=\"T_5b73a_level0_row110\" class=\"row_heading level0 row110\" >268</th>\n",
       "      <td id=\"T_5b73a_row110_col0\" class=\"data row110 col0\" >2017</td>\n",
       "      <td id=\"T_5b73a_row110_col1\" class=\"data row110 col1\" >47.300000</td>\n",
       "      <td id=\"T_5b73a_row110_col2\" class=\"data row110 col2\" >Stephen Curry</td>\n",
       "      <td id=\"T_5b73a_row110_col3\" class=\"data row110 col3\" >NBA/Basketball</td>\n",
       "      <td id=\"T_5b73a_row110_col4\" class=\"data row110 col4\" >8</td>\n",
       "    </tr>\n",
       "    <tr>\n",
       "      <th id=\"T_5b73a_level0_row111\" class=\"row_heading level0 row111\" >228</th>\n",
       "      <td id=\"T_5b73a_row111_col0\" class=\"data row111 col0\" >2013</td>\n",
       "      <td id=\"T_5b73a_row111_col1\" class=\"data row111 col1\" >47.200000</td>\n",
       "      <td id=\"T_5b73a_row111_col2\" class=\"data row111 col2\" >David Beckham</td>\n",
       "      <td id=\"T_5b73a_row111_col3\" class=\"data row111 col3\" >Soccer</td>\n",
       "      <td id=\"T_5b73a_row111_col4\" class=\"data row111 col4\" >8</td>\n",
       "    </tr>\n",
       "    <tr>\n",
       "      <th id=\"T_5b73a_level0_row112\" class=\"row_heading level0 row112\" >91</th>\n",
       "      <td id=\"T_5b73a_row112_col0\" class=\"data row112 col0\" >1999</td>\n",
       "      <td id=\"T_5b73a_row112_col1\" class=\"data row112 col1\" >47.000000</td>\n",
       "      <td id=\"T_5b73a_row112_col2\" class=\"data row112 col2\" >Tiger Woods</td>\n",
       "      <td id=\"T_5b73a_row112_col3\" class=\"data row112 col3\" >Golf</td>\n",
       "      <td id=\"T_5b73a_row112_col4\" class=\"data row112 col4\" >2</td>\n",
       "    </tr>\n",
       "    <tr>\n",
       "      <th id=\"T_5b73a_level0_row113\" class=\"row_heading level0 row113\" >154</th>\n",
       "      <td id=\"T_5b73a_row113_col0\" class=\"data row113 col0\" >2006</td>\n",
       "      <td id=\"T_5b73a_row113_col1\" class=\"data row113 col1\" >47.000000</td>\n",
       "      <td id=\"T_5b73a_row113_col2\" class=\"data row113 col2\" >Phil Mickelson</td>\n",
       "      <td id=\"T_5b73a_row113_col3\" class=\"data row113 col3\" >Golf</td>\n",
       "      <td id=\"T_5b73a_row113_col4\" class=\"data row113 col4\" >4</td>\n",
       "    </tr>\n",
       "    <tr>\n",
       "      <th id=\"T_5b73a_level0_row114\" class=\"row_heading level0 row114\" >204</th>\n",
       "      <td id=\"T_5b73a_row114_col0\" class=\"data row114 col0\" >2011</td>\n",
       "      <td id=\"T_5b73a_row114_col1\" class=\"data row114 col1\" >47.000000</td>\n",
       "      <td id=\"T_5b73a_row114_col2\" class=\"data row114 col2\" >Roger Federer</td>\n",
       "      <td id=\"T_5b73a_row114_col3\" class=\"data row114 col3\" >Tennis</td>\n",
       "      <td id=\"T_5b73a_row114_col4\" class=\"data row114 col4\" >4</td>\n",
       "    </tr>\n",
       "    <tr>\n",
       "      <th id=\"T_5b73a_level0_row115\" class=\"row_heading level0 row115\" >269</th>\n",
       "      <td id=\"T_5b73a_row115_col0\" class=\"data row115 col0\" >2017</td>\n",
       "      <td id=\"T_5b73a_row115_col1\" class=\"data row115 col1\" >46.600000</td>\n",
       "      <td id=\"T_5b73a_row115_col2\" class=\"data row115 col2\" >James Harden</td>\n",
       "      <td id=\"T_5b73a_row115_col3\" class=\"data row115 col3\" >NBA/Basketball</td>\n",
       "      <td id=\"T_5b73a_row115_col4\" class=\"data row115 col4\" >9</td>\n",
       "    </tr>\n",
       "    <tr>\n",
       "      <th id=\"T_5b73a_level0_row116\" class=\"row_heading level0 row116\" >205</th>\n",
       "      <td id=\"T_5b73a_row116_col0\" class=\"data row116 col0\" >2011</td>\n",
       "      <td id=\"T_5b73a_row116_col1\" class=\"data row116 col1\" >46.500000</td>\n",
       "      <td id=\"T_5b73a_row116_col2\" class=\"data row116 col2\" >Phil Mickelson</td>\n",
       "      <td id=\"T_5b73a_row116_col3\" class=\"data row116 col3\" >Golf</td>\n",
       "      <td id=\"T_5b73a_row116_col4\" class=\"data row116 col4\" >5</td>\n",
       "    </tr>\n",
       "    <tr>\n",
       "      <th id=\"T_5b73a_level0_row117\" class=\"row_heading level0 row117\" >218</th>\n",
       "      <td id=\"T_5b73a_row117_col0\" class=\"data row117 col0\" >2012</td>\n",
       "      <td id=\"T_5b73a_row117_col1\" class=\"data row117 col1\" >46.000000</td>\n",
       "      <td id=\"T_5b73a_row117_col2\" class=\"data row117 col2\" >David Beckham</td>\n",
       "      <td id=\"T_5b73a_row117_col3\" class=\"data row117 col3\" >Soccer</td>\n",
       "      <td id=\"T_5b73a_row117_col4\" class=\"data row117 col4\" >8</td>\n",
       "    </tr>\n",
       "    <tr>\n",
       "      <th id=\"T_5b73a_level0_row118\" class=\"row_heading level0 row118\" >194</th>\n",
       "      <td id=\"T_5b73a_row118_col0\" class=\"data row118 col0\" >2010</td>\n",
       "      <td id=\"T_5b73a_row118_col1\" class=\"data row118 col1\" >46.000000</td>\n",
       "      <td id=\"T_5b73a_row118_col2\" class=\"data row118 col2\" >Phil Mickelson</td>\n",
       "      <td id=\"T_5b73a_row118_col3\" class=\"data row118 col3\" >Golf</td>\n",
       "      <td id=\"T_5b73a_row118_col4\" class=\"data row118 col4\" >4</td>\n",
       "    </tr>\n",
       "    <tr>\n",
       "      <th id=\"T_5b73a_level0_row119\" class=\"row_heading level0 row119\" >270</th>\n",
       "      <td id=\"T_5b73a_row119_col0\" class=\"data row119 col0\" >2017</td>\n",
       "      <td id=\"T_5b73a_row119_col1\" class=\"data row119 col1\" >46.000000</td>\n",
       "      <td id=\"T_5b73a_row119_col2\" class=\"data row119 col2\" >Lewis Hamilton</td>\n",
       "      <td id=\"T_5b73a_row119_col3\" class=\"data row119 col3\" >Auto Racing</td>\n",
       "      <td id=\"T_5b73a_row119_col4\" class=\"data row119 col4\" >10</td>\n",
       "    </tr>\n",
       "    <tr>\n",
       "      <th id=\"T_5b73a_level0_row120\" class=\"row_heading level0 row120\" >173</th>\n",
       "      <td id=\"T_5b73a_row120_col0\" class=\"data row120 col0\" >2008</td>\n",
       "      <td id=\"T_5b73a_row120_col1\" class=\"data row120 col1\" >45.000000</td>\n",
       "      <td id=\"T_5b73a_row120_col2\" class=\"data row120 col2\" >Michael Jordan</td>\n",
       "      <td id=\"T_5b73a_row120_col3\" class=\"data row120 col3\" >NBA/Basketball</td>\n",
       "      <td id=\"T_5b73a_row120_col4\" class=\"data row120 col4\" >3</td>\n",
       "    </tr>\n",
       "    <tr>\n",
       "      <th id=\"T_5b73a_level0_row121\" class=\"row_heading level0 row121\" >174</th>\n",
       "      <td id=\"T_5b73a_row121_col0\" class=\"data row121 col0\" >2008</td>\n",
       "      <td id=\"T_5b73a_row121_col1\" class=\"data row121 col1\" >45.000000</td>\n",
       "      <td id=\"T_5b73a_row121_col2\" class=\"data row121 col2\" >Phil Mickelson</td>\n",
       "      <td id=\"T_5b73a_row121_col3\" class=\"data row121 col3\" >Golf</td>\n",
       "      <td id=\"T_5b73a_row121_col4\" class=\"data row121 col4\" >3</td>\n",
       "    </tr>\n",
       "    <tr>\n",
       "      <th id=\"T_5b73a_level0_row122\" class=\"row_heading level0 row122\" >182</th>\n",
       "      <td id=\"T_5b73a_row122_col0\" class=\"data row122 col0\" >2009</td>\n",
       "      <td id=\"T_5b73a_row122_col1\" class=\"data row122 col1\" >45.000000</td>\n",
       "      <td id=\"T_5b73a_row122_col2\" class=\"data row122 col2\" >Kobe Bryant</td>\n",
       "      <td id=\"T_5b73a_row122_col3\" class=\"data row122 col3\" >NBA/Basketball</td>\n",
       "      <td id=\"T_5b73a_row122_col4\" class=\"data row122 col4\" >2</td>\n",
       "    </tr>\n",
       "    <tr>\n",
       "      <th id=\"T_5b73a_level0_row123\" class=\"row_heading level0 row123\" >183</th>\n",
       "      <td id=\"T_5b73a_row123_col0\" class=\"data row123 col0\" >2009</td>\n",
       "      <td id=\"T_5b73a_row123_col1\" class=\"data row123 col1\" >45.000000</td>\n",
       "      <td id=\"T_5b73a_row123_col2\" class=\"data row123 col2\" >Michael Jordan</td>\n",
       "      <td id=\"T_5b73a_row123_col3\" class=\"data row123 col3\" >NBA/Basketball</td>\n",
       "      <td id=\"T_5b73a_row123_col4\" class=\"data row123 col4\" >2</td>\n",
       "    </tr>\n",
       "    <tr>\n",
       "      <th id=\"T_5b73a_level0_row124\" class=\"row_heading level0 row124\" >184</th>\n",
       "      <td id=\"T_5b73a_row124_col0\" class=\"data row124 col0\" >2009</td>\n",
       "      <td id=\"T_5b73a_row124_col1\" class=\"data row124 col1\" >45.000000</td>\n",
       "      <td id=\"T_5b73a_row124_col2\" class=\"data row124 col2\" >Kimi Raikkonen</td>\n",
       "      <td id=\"T_5b73a_row124_col3\" class=\"data row124 col3\" >Auto Racing</td>\n",
       "      <td id=\"T_5b73a_row124_col4\" class=\"data row124 col4\" >2</td>\n",
       "    </tr>\n",
       "    <tr>\n",
       "      <th id=\"T_5b73a_level0_row125\" class=\"row_heading level0 row125\" >239</th>\n",
       "      <td id=\"T_5b73a_row125_col0\" class=\"data row125 col0\" >2014</td>\n",
       "      <td id=\"T_5b73a_row125_col1\" class=\"data row125 col1\" >44.500000</td>\n",
       "      <td id=\"T_5b73a_row125_col2\" class=\"data row125 col2\" >Rafael Nadal</td>\n",
       "      <td id=\"T_5b73a_row125_col3\" class=\"data row125 col3\" >Tennis</td>\n",
       "      <td id=\"T_5b73a_row125_col4\" class=\"data row125 col4\" >9</td>\n",
       "    </tr>\n",
       "    <tr>\n",
       "      <th id=\"T_5b73a_level0_row126\" class=\"row_heading level0 row126\" >229</th>\n",
       "      <td id=\"T_5b73a_row126_col0\" class=\"data row126 col0\" >2013</td>\n",
       "      <td id=\"T_5b73a_row126_col1\" class=\"data row126 col1\" >44.000000</td>\n",
       "      <td id=\"T_5b73a_row126_col2\" class=\"data row126 col2\" >Cristiano Ronaldo</td>\n",
       "      <td id=\"T_5b73a_row126_col3\" class=\"data row126 col3\" >Soccer</td>\n",
       "      <td id=\"T_5b73a_row126_col4\" class=\"data row126 col4\" >9</td>\n",
       "    </tr>\n",
       "    <tr>\n",
       "      <th id=\"T_5b73a_level0_row127\" class=\"row_heading level0 row127\" >175</th>\n",
       "      <td id=\"T_5b73a_row127_col0\" class=\"data row127 col0\" >2008</td>\n",
       "      <td id=\"T_5b73a_row127_col1\" class=\"data row127 col1\" >44.000000</td>\n",
       "      <td id=\"T_5b73a_row127_col2\" class=\"data row127 col2\" >Kimi Raikkonen</td>\n",
       "      <td id=\"T_5b73a_row127_col3\" class=\"data row127 col3\" >Auto Racing</td>\n",
       "      <td id=\"T_5b73a_row127_col4\" class=\"data row127 col4\" >5</td>\n",
       "    </tr>\n",
       "    <tr>\n",
       "      <th id=\"T_5b73a_level0_row128\" class=\"row_heading level0 row128\" >50</th>\n",
       "      <td id=\"T_5b73a_row128_col0\" class=\"data row128 col0\" >1995</td>\n",
       "      <td id=\"T_5b73a_row128_col1\" class=\"data row128 col1\" >43.900000</td>\n",
       "      <td id=\"T_5b73a_row128_col2\" class=\"data row128 col2\" >Michael Jordan</td>\n",
       "      <td id=\"T_5b73a_row128_col3\" class=\"data row128 col3\" >NBA/Basketball</td>\n",
       "      <td id=\"T_5b73a_row128_col4\" class=\"data row128 col4\" >1</td>\n",
       "    </tr>\n",
       "    <tr>\n",
       "      <th id=\"T_5b73a_level0_row129\" class=\"row_heading level0 row129\" >240</th>\n",
       "      <td id=\"T_5b73a_row129_col0\" class=\"data row129 col0\" >2014</td>\n",
       "      <td id=\"T_5b73a_row129_col1\" class=\"data row129 col1\" >43.800000</td>\n",
       "      <td id=\"T_5b73a_row129_col2\" class=\"data row129 col2\" >Matt Ryan</td>\n",
       "      <td id=\"T_5b73a_row129_col3\" class=\"data row129 col3\" >NFL</td>\n",
       "      <td id=\"T_5b73a_row129_col4\" class=\"data row129 col4\" >10</td>\n",
       "    </tr>\n",
       "    <tr>\n",
       "      <th id=\"T_5b73a_level0_row130\" class=\"row_heading level0 row130\" >195</th>\n",
       "      <td id=\"T_5b73a_row130_col0\" class=\"data row130 col0\" >2010</td>\n",
       "      <td id=\"T_5b73a_row130_col1\" class=\"data row130 col1\" >43.700000</td>\n",
       "      <td id=\"T_5b73a_row130_col2\" class=\"data row130 col2\" >David Beckham</td>\n",
       "      <td id=\"T_5b73a_row130_col3\" class=\"data row130 col3\" >Soccer</td>\n",
       "      <td id=\"T_5b73a_row130_col4\" class=\"data row130 col4\" >5</td>\n",
       "    </tr>\n",
       "    <tr>\n",
       "      <th id=\"T_5b73a_level0_row131\" class=\"row_heading level0 row131\" >92</th>\n",
       "      <td id=\"T_5b73a_row131_col0\" class=\"data row131 col0\" >1999</td>\n",
       "      <td id=\"T_5b73a_row131_col1\" class=\"data row131 col1\" >43.500000</td>\n",
       "      <td id=\"T_5b73a_row131_col2\" class=\"data row131 col2\" >Oscar De La Hoya</td>\n",
       "      <td id=\"T_5b73a_row131_col3\" class=\"data row131 col3\" >Boxing</td>\n",
       "      <td id=\"T_5b73a_row131_col4\" class=\"data row131 col4\" >3</td>\n",
       "    </tr>\n",
       "    <tr>\n",
       "      <th id=\"T_5b73a_level0_row132\" class=\"row_heading level0 row132\" >162</th>\n",
       "      <td id=\"T_5b73a_row132_col0\" class=\"data row132 col0\" >2007</td>\n",
       "      <td id=\"T_5b73a_row132_col1\" class=\"data row132 col1\" >43.000000</td>\n",
       "      <td id=\"T_5b73a_row132_col2\" class=\"data row132 col2\" >Oscar De La Hoya</td>\n",
       "      <td id=\"T_5b73a_row132_col3\" class=\"data row132 col3\" >Boxing</td>\n",
       "      <td id=\"T_5b73a_row132_col4\" class=\"data row132 col4\" >2</td>\n",
       "    </tr>\n",
       "    <tr>\n",
       "      <th id=\"T_5b73a_level0_row133\" class=\"row_heading level0 row133\" >196</th>\n",
       "      <td id=\"T_5b73a_row133_col0\" class=\"data row133 col0\" >2010</td>\n",
       "      <td id=\"T_5b73a_row133_col1\" class=\"data row133 col1\" >43.000000</td>\n",
       "      <td id=\"T_5b73a_row133_col2\" class=\"data row133 col2\" >Roger Federer</td>\n",
       "      <td id=\"T_5b73a_row133_col3\" class=\"data row133 col3\" >Tennis</td>\n",
       "      <td id=\"T_5b73a_row133_col4\" class=\"data row133 col4\" >6</td>\n",
       "    </tr>\n",
       "    <tr>\n",
       "      <th id=\"T_5b73a_level0_row134\" class=\"row_heading level0 row134\" >197</th>\n",
       "      <td id=\"T_5b73a_row134_col0\" class=\"data row134 col0\" >2010</td>\n",
       "      <td id=\"T_5b73a_row134_col1\" class=\"data row134 col1\" >42.800000</td>\n",
       "      <td id=\"T_5b73a_row134_col2\" class=\"data row134 col2\" >LeBron James</td>\n",
       "      <td id=\"T_5b73a_row134_col3\" class=\"data row134 col3\" >NBA/Basketball</td>\n",
       "      <td id=\"T_5b73a_row134_col4\" class=\"data row134 col4\" >7</td>\n",
       "    </tr>\n",
       "    <tr>\n",
       "      <th id=\"T_5b73a_level0_row135\" class=\"row_heading level0 row135\" >219</th>\n",
       "      <td id=\"T_5b73a_row135_col0\" class=\"data row135 col0\" >2012</td>\n",
       "      <td id=\"T_5b73a_row135_col1\" class=\"data row135 col1\" >42.500000</td>\n",
       "      <td id=\"T_5b73a_row135_col2\" class=\"data row135 col2\" >Cristiano Ronaldo</td>\n",
       "      <td id=\"T_5b73a_row135_col3\" class=\"data row135 col3\" >Soccer</td>\n",
       "      <td id=\"T_5b73a_row135_col4\" class=\"data row135 col4\" >9</td>\n",
       "    </tr>\n",
       "    <tr>\n",
       "      <th id=\"T_5b73a_level0_row136\" class=\"row_heading level0 row136\" >220</th>\n",
       "      <td id=\"T_5b73a_row136_col0\" class=\"data row136 col0\" >2012</td>\n",
       "      <td id=\"T_5b73a_row136_col1\" class=\"data row136 col1\" >42.400000</td>\n",
       "      <td id=\"T_5b73a_row136_col2\" class=\"data row136 col2\" >Peyton Manning</td>\n",
       "      <td id=\"T_5b73a_row136_col3\" class=\"data row136 col3\" >NFL</td>\n",
       "      <td id=\"T_5b73a_row136_col4\" class=\"data row136 col4\" >10</td>\n",
       "    </tr>\n",
       "    <tr>\n",
       "      <th id=\"T_5b73a_level0_row137\" class=\"row_heading level0 row137\" >163</th>\n",
       "      <td id=\"T_5b73a_row137_col0\" class=\"data row137 col0\" >2007</td>\n",
       "      <td id=\"T_5b73a_row137_col1\" class=\"data row137 col1\" >42.000000</td>\n",
       "      <td id=\"T_5b73a_row137_col2\" class=\"data row137 col2\" >Phil Mickelson</td>\n",
       "      <td id=\"T_5b73a_row137_col3\" class=\"data row137 col3\" >Golf</td>\n",
       "      <td id=\"T_5b73a_row137_col4\" class=\"data row137 col4\" >3</td>\n",
       "    </tr>\n",
       "    <tr>\n",
       "      <th id=\"T_5b73a_level0_row138\" class=\"row_heading level0 row138\" >133</th>\n",
       "      <td id=\"T_5b73a_row138_col0\" class=\"data row138 col0\" >2004</td>\n",
       "      <td id=\"T_5b73a_row138_col1\" class=\"data row138 col1\" >42.000000</td>\n",
       "      <td id=\"T_5b73a_row138_col2\" class=\"data row138 col2\" >Peyton Manning</td>\n",
       "      <td id=\"T_5b73a_row138_col3\" class=\"data row138 col3\" >NFL</td>\n",
       "      <td id=\"T_5b73a_row138_col4\" class=\"data row138 col4\" >3</td>\n",
       "    </tr>\n",
       "    <tr>\n",
       "      <th id=\"T_5b73a_level0_row139\" class=\"row_heading level0 row139\" >185</th>\n",
       "      <td id=\"T_5b73a_row139_col0\" class=\"data row139 col0\" >2009</td>\n",
       "      <td id=\"T_5b73a_row139_col1\" class=\"data row139 col1\" >42.000000</td>\n",
       "      <td id=\"T_5b73a_row139_col2\" class=\"data row139 col2\" >David Beckham</td>\n",
       "      <td id=\"T_5b73a_row139_col3\" class=\"data row139 col3\" >Soccer</td>\n",
       "      <td id=\"T_5b73a_row139_col4\" class=\"data row139 col4\" >5</td>\n",
       "    </tr>\n",
       "    <tr>\n",
       "      <th id=\"T_5b73a_level0_row140\" class=\"row_heading level0 row140\" >198</th>\n",
       "      <td id=\"T_5b73a_row140_col0\" class=\"data row140 col0\" >2010</td>\n",
       "      <td id=\"T_5b73a_row140_col1\" class=\"data row140 col1\" >42.000000</td>\n",
       "      <td id=\"T_5b73a_row140_col2\" class=\"data row140 col2\" >Manny Pacquiao</td>\n",
       "      <td id=\"T_5b73a_row140_col3\" class=\"data row140 col3\" >Boxing</td>\n",
       "      <td id=\"T_5b73a_row140_col4\" class=\"data row140 col4\" >8</td>\n",
       "    </tr>\n",
       "    <tr>\n",
       "      <th id=\"T_5b73a_level0_row141\" class=\"row_heading level0 row141\" >230</th>\n",
       "      <td id=\"T_5b73a_row141_col0\" class=\"data row141 col0\" >2013</td>\n",
       "      <td id=\"T_5b73a_row141_col1\" class=\"data row141 col1\" >41.300000</td>\n",
       "      <td id=\"T_5b73a_row141_col2\" class=\"data row141 col2\" >Lionel Messi</td>\n",
       "      <td id=\"T_5b73a_row141_col3\" class=\"data row141 col3\" >Soccer</td>\n",
       "      <td id=\"T_5b73a_row141_col4\" class=\"data row141 col4\" >10</td>\n",
       "    </tr>\n",
       "    <tr>\n",
       "      <th id=\"T_5b73a_level0_row142\" class=\"row_heading level0 row142\" >188</th>\n",
       "      <td id=\"T_5b73a_row142_col0\" class=\"data row142 col0\" >2009</td>\n",
       "      <td id=\"T_5b73a_row142_col1\" class=\"data row142 col1\" >40.000000</td>\n",
       "      <td id=\"T_5b73a_row142_col2\" class=\"data row142 col2\" >Manny Pacquiao</td>\n",
       "      <td id=\"T_5b73a_row142_col3\" class=\"data row142 col3\" >Boxing</td>\n",
       "      <td id=\"T_5b73a_row142_col4\" class=\"data row142 col4\" >6</td>\n",
       "    </tr>\n",
       "    <tr>\n",
       "      <th id=\"T_5b73a_level0_row143\" class=\"row_heading level0 row143\" >187</th>\n",
       "      <td id=\"T_5b73a_row143_col0\" class=\"data row143 col0\" >2009</td>\n",
       "      <td id=\"T_5b73a_row143_col1\" class=\"data row143 col1\" >40.000000</td>\n",
       "      <td id=\"T_5b73a_row143_col2\" class=\"data row143 col2\" >Phil Mickelson</td>\n",
       "      <td id=\"T_5b73a_row143_col3\" class=\"data row143 col3\" >Golf</td>\n",
       "      <td id=\"T_5b73a_row143_col4\" class=\"data row143 col4\" >6</td>\n",
       "    </tr>\n",
       "    <tr>\n",
       "      <th id=\"T_5b73a_level0_row144\" class=\"row_heading level0 row144\" >93</th>\n",
       "      <td id=\"T_5b73a_row144_col0\" class=\"data row144 col0\" >1999</td>\n",
       "      <td id=\"T_5b73a_row144_col1\" class=\"data row144 col1\" >40.000000</td>\n",
       "      <td id=\"T_5b73a_row144_col2\" class=\"data row144 col2\" >Michael Jordan</td>\n",
       "      <td id=\"T_5b73a_row144_col3\" class=\"data row144 col3\" >NBA/Basketball</td>\n",
       "      <td id=\"T_5b73a_row144_col4\" class=\"data row144 col4\" >4</td>\n",
       "    </tr>\n",
       "    <tr>\n",
       "      <th id=\"T_5b73a_level0_row145\" class=\"row_heading level0 row145\" >164</th>\n",
       "      <td id=\"T_5b73a_row145_col0\" class=\"data row145 col0\" >2007</td>\n",
       "      <td id=\"T_5b73a_row145_col1\" class=\"data row145 col1\" >40.000000</td>\n",
       "      <td id=\"T_5b73a_row145_col2\" class=\"data row145 col2\" >Kimi Raikkonen</td>\n",
       "      <td id=\"T_5b73a_row145_col3\" class=\"data row145 col3\" >Auto Racing</td>\n",
       "      <td id=\"T_5b73a_row145_col4\" class=\"data row145 col4\" >4</td>\n",
       "    </tr>\n",
       "    <tr>\n",
       "      <th id=\"T_5b73a_level0_row146\" class=\"row_heading level0 row146\" >51</th>\n",
       "      <td id=\"T_5b73a_row146_col0\" class=\"data row146 col0\" >1995</td>\n",
       "      <td id=\"T_5b73a_row146_col1\" class=\"data row146 col1\" >40.000000</td>\n",
       "      <td id=\"T_5b73a_row146_col2\" class=\"data row146 col2\" >Mike Tyson</td>\n",
       "      <td id=\"T_5b73a_row146_col3\" class=\"data row146 col3\" >Boxing</td>\n",
       "      <td id=\"T_5b73a_row146_col4\" class=\"data row146 col4\" >2</td>\n",
       "    </tr>\n",
       "    <tr>\n",
       "      <th id=\"T_5b73a_level0_row147\" class=\"row_heading level0 row147\" >186</th>\n",
       "      <td id=\"T_5b73a_row147_col0\" class=\"data row147 col0\" >2009</td>\n",
       "      <td id=\"T_5b73a_row147_col1\" class=\"data row147 col1\" >40.000000</td>\n",
       "      <td id=\"T_5b73a_row147_col2\" class=\"data row147 col2\" >LeBron James</td>\n",
       "      <td id=\"T_5b73a_row147_col3\" class=\"data row147 col3\" >NBA/Basketball</td>\n",
       "      <td id=\"T_5b73a_row147_col4\" class=\"data row147 col4\" >6</td>\n",
       "    </tr>\n",
       "    <tr>\n",
       "      <th id=\"T_5b73a_level0_row148\" class=\"row_heading level0 row148\" >206</th>\n",
       "      <td id=\"T_5b73a_row148_col0\" class=\"data row148 col0\" >2011</td>\n",
       "      <td id=\"T_5b73a_row148_col1\" class=\"data row148 col1\" >40.000000</td>\n",
       "      <td id=\"T_5b73a_row148_col2\" class=\"data row148 col2\" >David Beckham</td>\n",
       "      <td id=\"T_5b73a_row148_col3\" class=\"data row148 col3\" >Soccer</td>\n",
       "      <td id=\"T_5b73a_row148_col4\" class=\"data row148 col4\" >6</td>\n",
       "    </tr>\n",
       "    <tr>\n",
       "      <th id=\"T_5b73a_level0_row149\" class=\"row_heading level0 row149\" >199</th>\n",
       "      <td id=\"T_5b73a_row149_col0\" class=\"data row149 col0\" >2010</td>\n",
       "      <td id=\"T_5b73a_row149_col1\" class=\"data row149 col1\" >39.900000</td>\n",
       "      <td id=\"T_5b73a_row149_col2\" class=\"data row149 col2\" >Eli Manning</td>\n",
       "      <td id=\"T_5b73a_row149_col3\" class=\"data row149 col3\" >NFL</td>\n",
       "      <td id=\"T_5b73a_row149_col4\" class=\"data row149 col4\" >9</td>\n",
       "    </tr>\n",
       "    <tr>\n",
       "      <th id=\"T_5b73a_level0_row150\" class=\"row_heading level0 row150\" >176</th>\n",
       "      <td id=\"T_5b73a_row150_col0\" class=\"data row150 col0\" >2008</td>\n",
       "      <td id=\"T_5b73a_row150_col1\" class=\"data row150 col1\" >39.000000</td>\n",
       "      <td id=\"T_5b73a_row150_col2\" class=\"data row150 col2\" >Kobe Bryant</td>\n",
       "      <td id=\"T_5b73a_row150_col3\" class=\"data row150 col3\" >NBA/Basketball</td>\n",
       "      <td id=\"T_5b73a_row150_col4\" class=\"data row150 col4\" >6</td>\n",
       "    </tr>\n",
       "    <tr>\n",
       "      <th id=\"T_5b73a_level0_row151\" class=\"row_heading level0 row151\" >200</th>\n",
       "      <td id=\"T_5b73a_row151_col0\" class=\"data row151 col0\" >2010</td>\n",
       "      <td id=\"T_5b73a_row151_col1\" class=\"data row151 col1\" >38.300000</td>\n",
       "      <td id=\"T_5b73a_row151_col2\" class=\"data row151 col2\" >Terrell Suggs</td>\n",
       "      <td id=\"T_5b73a_row151_col3\" class=\"data row151 col3\" >NFL</td>\n",
       "      <td id=\"T_5b73a_row151_col4\" class=\"data row151 col4\" >10</td>\n",
       "    </tr>\n",
       "    <tr>\n",
       "      <th id=\"T_5b73a_level0_row152\" class=\"row_heading level0 row152\" >72</th>\n",
       "      <td id=\"T_5b73a_row152_col0\" class=\"data row152 col0\" >1997</td>\n",
       "      <td id=\"T_5b73a_row152_col1\" class=\"data row152 col1\" >38.000000</td>\n",
       "      <td id=\"T_5b73a_row152_col2\" class=\"data row152 col2\" >Oscar De La Hoya</td>\n",
       "      <td id=\"T_5b73a_row152_col3\" class=\"data row152 col3\" >Boxing</td>\n",
       "      <td id=\"T_5b73a_row152_col4\" class=\"data row152 col4\" >3</td>\n",
       "    </tr>\n",
       "    <tr>\n",
       "      <th id=\"T_5b73a_level0_row153\" class=\"row_heading level0 row153\" >143</th>\n",
       "      <td id=\"T_5b73a_row153_col0\" class=\"data row153 col0\" >2005</td>\n",
       "      <td id=\"T_5b73a_row153_col1\" class=\"data row153 col1\" >38.000000</td>\n",
       "      <td id=\"T_5b73a_row153_col2\" class=\"data row153 col2\" >Oscar De La Hoya</td>\n",
       "      <td id=\"T_5b73a_row153_col3\" class=\"data row153 col3\" >Boxing</td>\n",
       "      <td id=\"T_5b73a_row153_col4\" class=\"data row153 col4\" >3</td>\n",
       "    </tr>\n",
       "    <tr>\n",
       "      <th id=\"T_5b73a_level0_row154\" class=\"row_heading level0 row154\" >177</th>\n",
       "      <td id=\"T_5b73a_row154_col0\" class=\"data row154 col0\" >2008</td>\n",
       "      <td id=\"T_5b73a_row154_col1\" class=\"data row154 col1\" >38.000000</td>\n",
       "      <td id=\"T_5b73a_row154_col2\" class=\"data row154 col2\" >LeBron James</td>\n",
       "      <td id=\"T_5b73a_row154_col3\" class=\"data row154 col3\" >NBA/Basketball</td>\n",
       "      <td id=\"T_5b73a_row154_col4\" class=\"data row154 col4\" >7</td>\n",
       "    </tr>\n",
       "    <tr>\n",
       "      <th id=\"T_5b73a_level0_row155\" class=\"row_heading level0 row155\" >81</th>\n",
       "      <td id=\"T_5b73a_row155_col0\" class=\"data row155 col0\" >1998</td>\n",
       "      <td id=\"T_5b73a_row155_col1\" class=\"data row155 col1\" >38.000000</td>\n",
       "      <td id=\"T_5b73a_row155_col2\" class=\"data row155 col2\" >Michael Schumacher</td>\n",
       "      <td id=\"T_5b73a_row155_col3\" class=\"data row155 col3\" >Auto Racing</td>\n",
       "      <td id=\"T_5b73a_row155_col4\" class=\"data row155 col4\" >2</td>\n",
       "    </tr>\n",
       "    <tr>\n",
       "      <th id=\"T_5b73a_level0_row156\" class=\"row_heading level0 row156\" >207</th>\n",
       "      <td id=\"T_5b73a_row156_col0\" class=\"data row156 col0\" >2011</td>\n",
       "      <td id=\"T_5b73a_row156_col1\" class=\"data row156 col1\" >38.000000</td>\n",
       "      <td id=\"T_5b73a_row156_col2\" class=\"data row156 col2\" >Cristiano Ronaldo</td>\n",
       "      <td id=\"T_5b73a_row156_col3\" class=\"data row156 col3\" >Soccer</td>\n",
       "      <td id=\"T_5b73a_row156_col4\" class=\"data row156 col4\" >7</td>\n",
       "    </tr>\n",
       "    <tr>\n",
       "      <th id=\"T_5b73a_level0_row157\" class=\"row_heading level0 row157\" >144</th>\n",
       "      <td id=\"T_5b73a_row157_col0\" class=\"data row157 col0\" >2005</td>\n",
       "      <td id=\"T_5b73a_row157_col1\" class=\"data row157 col1\" >37.500000</td>\n",
       "      <td id=\"T_5b73a_row157_col2\" class=\"data row157 col2\" >Michael Vick</td>\n",
       "      <td id=\"T_5b73a_row157_col3\" class=\"data row157 col3\" >NFL</td>\n",
       "      <td id=\"T_5b73a_row157_col4\" class=\"data row157 col4\" >4</td>\n",
       "    </tr>\n",
       "    <tr>\n",
       "      <th id=\"T_5b73a_level0_row158\" class=\"row_heading level0 row158\" >103</th>\n",
       "      <td id=\"T_5b73a_row158_col0\" class=\"data row158 col0\" >2000</td>\n",
       "      <td id=\"T_5b73a_row158_col1\" class=\"data row158 col1\" >37.000000</td>\n",
       "      <td id=\"T_5b73a_row158_col2\" class=\"data row158 col2\" >Michael Jordan</td>\n",
       "      <td id=\"T_5b73a_row158_col3\" class=\"data row158 col3\" >NBA/Basketball</td>\n",
       "      <td id=\"T_5b73a_row158_col4\" class=\"data row158 col4\" >4</td>\n",
       "    </tr>\n",
       "    <tr>\n",
       "      <th id=\"T_5b73a_level0_row159\" class=\"row_heading level0 row159\" >178</th>\n",
       "      <td id=\"T_5b73a_row159_col0\" class=\"data row159 col0\" >2008</td>\n",
       "      <td id=\"T_5b73a_row159_col1\" class=\"data row159 col1\" >37.000000</td>\n",
       "      <td id=\"T_5b73a_row159_col2\" class=\"data row159 col2\" >Ronaldinho</td>\n",
       "      <td id=\"T_5b73a_row159_col3\" class=\"data row159 col3\" >Soccer</td>\n",
       "      <td id=\"T_5b73a_row159_col4\" class=\"data row159 col4\" >8</td>\n",
       "    </tr>\n",
       "    <tr>\n",
       "      <th id=\"T_5b73a_level0_row160\" class=\"row_heading level0 row160\" >112</th>\n",
       "      <td id=\"T_5b73a_row160_col0\" class=\"data row160 col0\" >2002</td>\n",
       "      <td id=\"T_5b73a_row160_col1\" class=\"data row160 col1\" >36.000000</td>\n",
       "      <td id=\"T_5b73a_row160_col2\" class=\"data row160 col2\" >Michael Jordan</td>\n",
       "      <td id=\"T_5b73a_row160_col3\" class=\"data row160 col3\" >NBA/Basketball</td>\n",
       "      <td id=\"T_5b73a_row160_col4\" class=\"data row160 col4\" >3</td>\n",
       "    </tr>\n",
       "    <tr>\n",
       "      <th id=\"T_5b73a_level0_row161\" class=\"row_heading level0 row161\" >165</th>\n",
       "      <td id=\"T_5b73a_row161_col0\" class=\"data row161 col0\" >2007</td>\n",
       "      <td id=\"T_5b73a_row161_col1\" class=\"data row161 col1\" >36.000000</td>\n",
       "      <td id=\"T_5b73a_row161_col2\" class=\"data row161 col2\" >Michael Schumacher</td>\n",
       "      <td id=\"T_5b73a_row161_col3\" class=\"data row161 col3\" >Auto Racing</td>\n",
       "      <td id=\"T_5b73a_row161_col4\" class=\"data row161 col4\" >5</td>\n",
       "    </tr>\n",
       "    <tr>\n",
       "      <th id=\"T_5b73a_level0_row162\" class=\"row_heading level0 row162\" >30</th>\n",
       "      <td id=\"T_5b73a_row162_col0\" class=\"data row162 col0\" >1993</td>\n",
       "      <td id=\"T_5b73a_row162_col1\" class=\"data row162 col1\" >36.000000</td>\n",
       "      <td id=\"T_5b73a_row162_col2\" class=\"data row162 col2\" >Michael Jordan</td>\n",
       "      <td id=\"T_5b73a_row162_col3\" class=\"data row162 col3\" >NBA/Basketball</td>\n",
       "      <td id=\"T_5b73a_row162_col4\" class=\"data row162 col4\" >1</td>\n",
       "    </tr>\n",
       "    <tr>\n",
       "      <th id=\"T_5b73a_level0_row163\" class=\"row_heading level0 row163\" >20</th>\n",
       "      <td id=\"T_5b73a_row163_col0\" class=\"data row163 col0\" >1992</td>\n",
       "      <td id=\"T_5b73a_row163_col1\" class=\"data row163 col1\" >35.900000</td>\n",
       "      <td id=\"T_5b73a_row163_col2\" class=\"data row163 col2\" >Michael Jordan</td>\n",
       "      <td id=\"T_5b73a_row163_col3\" class=\"data row163 col3\" >NBA/Basketball</td>\n",
       "      <td id=\"T_5b73a_row163_col4\" class=\"data row163 col4\" >1</td>\n",
       "    </tr>\n",
       "    <tr>\n",
       "      <th id=\"T_5b73a_level0_row164\" class=\"row_heading level0 row164\" >94</th>\n",
       "      <td id=\"T_5b73a_row164_col0\" class=\"data row164 col0\" >1999</td>\n",
       "      <td id=\"T_5b73a_row164_col1\" class=\"data row164 col1\" >35.500000</td>\n",
       "      <td id=\"T_5b73a_row164_col2\" class=\"data row164 col2\" >Evander Holyfield</td>\n",
       "      <td id=\"T_5b73a_row164_col3\" class=\"data row164 col3\" >Boxing</td>\n",
       "      <td id=\"T_5b73a_row164_col4\" class=\"data row164 col4\" >5</td>\n",
       "    </tr>\n",
       "    <tr>\n",
       "      <th id=\"T_5b73a_level0_row165\" class=\"row_heading level0 row165\" >189</th>\n",
       "      <td id=\"T_5b73a_row165_col0\" class=\"data row165 col0\" >2009</td>\n",
       "      <td id=\"T_5b73a_row165_col1\" class=\"data row165 col1\" >35.000000</td>\n",
       "      <td id=\"T_5b73a_row165_col2\" class=\"data row165 col2\" >Valentino Rossi</td>\n",
       "      <td id=\"T_5b73a_row165_col3\" class=\"data row165 col3\" >Auto Racing</td>\n",
       "      <td id=\"T_5b73a_row165_col4\" class=\"data row165 col4\" >9</td>\n",
       "    </tr>\n",
       "    <tr>\n",
       "      <th id=\"T_5b73a_level0_row166\" class=\"row_heading level0 row166\" >208</th>\n",
       "      <td id=\"T_5b73a_row166_col0\" class=\"data row166 col0\" >2011</td>\n",
       "      <td id=\"T_5b73a_row166_col1\" class=\"data row166 col1\" >35.000000</td>\n",
       "      <td id=\"T_5b73a_row166_col2\" class=\"data row166 col2\" >Alex Rodriguez</td>\n",
       "      <td id=\"T_5b73a_row166_col3\" class=\"data row166 col3\" >Baseball</td>\n",
       "      <td id=\"T_5b73a_row166_col4\" class=\"data row166 col4\" >8</td>\n",
       "    </tr>\n",
       "    <tr>\n",
       "      <th id=\"T_5b73a_level0_row167\" class=\"row_heading level0 row167\" >134</th>\n",
       "      <td id=\"T_5b73a_row167_col0\" class=\"data row167 col0\" >2004</td>\n",
       "      <td id=\"T_5b73a_row167_col1\" class=\"data row167 col1\" >35.000000</td>\n",
       "      <td id=\"T_5b73a_row167_col2\" class=\"data row167 col2\" >Michael Jordan</td>\n",
       "      <td id=\"T_5b73a_row167_col3\" class=\"data row167 col3\" >NBA/Basketball</td>\n",
       "      <td id=\"T_5b73a_row167_col4\" class=\"data row167 col4\" >4</td>\n",
       "    </tr>\n",
       "    <tr>\n",
       "      <th id=\"T_5b73a_level0_row168\" class=\"row_heading level0 row168\" >180</th>\n",
       "      <td id=\"T_5b73a_row168_col0\" class=\"data row168 col0\" >2008</td>\n",
       "      <td id=\"T_5b73a_row168_col1\" class=\"data row168 col1\" >35.000000</td>\n",
       "      <td id=\"T_5b73a_row168_col2\" class=\"data row168 col2\" >Roger Federer</td>\n",
       "      <td id=\"T_5b73a_row168_col3\" class=\"data row168 col3\" >Tennis</td>\n",
       "      <td id=\"T_5b73a_row168_col4\" class=\"data row168 col4\" >9</td>\n",
       "    </tr>\n",
       "    <tr>\n",
       "      <th id=\"T_5b73a_level0_row169\" class=\"row_heading level0 row169\" >73</th>\n",
       "      <td id=\"T_5b73a_row169_col0\" class=\"data row169 col0\" >1997</td>\n",
       "      <td id=\"T_5b73a_row169_col1\" class=\"data row169 col1\" >35.000000</td>\n",
       "      <td id=\"T_5b73a_row169_col2\" class=\"data row169 col2\" >Michael Schumacher</td>\n",
       "      <td id=\"T_5b73a_row169_col3\" class=\"data row169 col3\" >Auto Racing</td>\n",
       "      <td id=\"T_5b73a_row169_col4\" class=\"data row169 col4\" >4</td>\n",
       "    </tr>\n",
       "    <tr>\n",
       "      <th id=\"T_5b73a_level0_row170\" class=\"row_heading level0 row170\" >179</th>\n",
       "      <td id=\"T_5b73a_row170_col0\" class=\"data row170 col0\" >2008</td>\n",
       "      <td id=\"T_5b73a_row170_col1\" class=\"data row170 col1\" >35.000000</td>\n",
       "      <td id=\"T_5b73a_row170_col2\" class=\"data row170 col2\" >Valentino Rossi</td>\n",
       "      <td id=\"T_5b73a_row170_col3\" class=\"data row170 col3\" >Auto Racing</td>\n",
       "      <td id=\"T_5b73a_row170_col4\" class=\"data row170 col4\" >9</td>\n",
       "    </tr>\n",
       "    <tr>\n",
       "      <th id=\"T_5b73a_level0_row171\" class=\"row_heading level0 row171\" >123</th>\n",
       "      <td id=\"T_5b73a_row171_col0\" class=\"data row171 col0\" >2003</td>\n",
       "      <td id=\"T_5b73a_row171_col1\" class=\"data row171 col1\" >35.000000</td>\n",
       "      <td id=\"T_5b73a_row171_col2\" class=\"data row171 col2\" >Michael Jordan</td>\n",
       "      <td id=\"T_5b73a_row171_col3\" class=\"data row171 col3\" >NBA/Basketball</td>\n",
       "      <td id=\"T_5b73a_row171_col4\" class=\"data row171 col4\" >3</td>\n",
       "    </tr>\n",
       "    <tr>\n",
       "      <th id=\"T_5b73a_level0_row172\" class=\"row_heading level0 row172\" >190</th>\n",
       "      <td id=\"T_5b73a_row172_col0\" class=\"data row172 col0\" >2009</td>\n",
       "      <td id=\"T_5b73a_row172_col1\" class=\"data row172 col1\" >34.000000</td>\n",
       "      <td id=\"T_5b73a_row172_col2\" class=\"data row172 col2\" >Dale Earnhardt Jr.</td>\n",
       "      <td id=\"T_5b73a_row172_col3\" class=\"data row172 col3\" >Auto Racing</td>\n",
       "      <td id=\"T_5b73a_row172_col4\" class=\"data row172 col4\" >10</td>\n",
       "    </tr>\n",
       "    <tr>\n",
       "      <th id=\"T_5b73a_level0_row173\" class=\"row_heading level0 row173\" >209</th>\n",
       "      <td id=\"T_5b73a_row173_col0\" class=\"data row173 col0\" >2011</td>\n",
       "      <td id=\"T_5b73a_row173_col1\" class=\"data row173 col1\" >34.000000</td>\n",
       "      <td id=\"T_5b73a_row173_col2\" class=\"data row173 col2\" >Michael Schumacher</td>\n",
       "      <td id=\"T_5b73a_row173_col3\" class=\"data row173 col3\" >Auto Racing</td>\n",
       "      <td id=\"T_5b73a_row173_col4\" class=\"data row173 col4\" >9</td>\n",
       "    </tr>\n",
       "    <tr>\n",
       "      <th id=\"T_5b73a_level0_row174\" class=\"row_heading level0 row174\" >145</th>\n",
       "      <td id=\"T_5b73a_row174_col0\" class=\"data row174 col0\" >2005</td>\n",
       "      <td id=\"T_5b73a_row174_col1\" class=\"data row174 col1\" >33.400000</td>\n",
       "      <td id=\"T_5b73a_row174_col2\" class=\"data row174 col2\" >Shaquille O'Neal</td>\n",
       "      <td id=\"T_5b73a_row174_col3\" class=\"data row174 col3\" >NBA/Basketball</td>\n",
       "      <td id=\"T_5b73a_row174_col4\" class=\"data row174 col4\" >5</td>\n",
       "    </tr>\n",
       "    <tr>\n",
       "      <th id=\"T_5b73a_level0_row175\" class=\"row_heading level0 row175\" >166</th>\n",
       "      <td id=\"T_5b73a_row175_col0\" class=\"data row175 col0\" >2007</td>\n",
       "      <td id=\"T_5b73a_row175_col1\" class=\"data row175 col1\" >33.000000</td>\n",
       "      <td id=\"T_5b73a_row175_col2\" class=\"data row175 col2\" >David Beckham</td>\n",
       "      <td id=\"T_5b73a_row175_col3\" class=\"data row175 col3\" >Soccer</td>\n",
       "      <td id=\"T_5b73a_row175_col4\" class=\"data row175 col4\" >6</td>\n",
       "    </tr>\n",
       "    <tr>\n",
       "      <th id=\"T_5b73a_level0_row176\" class=\"row_heading level0 row176\" >167</th>\n",
       "      <td id=\"T_5b73a_row176_col0\" class=\"data row176 col0\" >2007</td>\n",
       "      <td id=\"T_5b73a_row176_col1\" class=\"data row176 col1\" >33.000000</td>\n",
       "      <td id=\"T_5b73a_row176_col2\" class=\"data row176 col2\" >Kobe Bryant</td>\n",
       "      <td id=\"T_5b73a_row176_col3\" class=\"data row176 col3\" >NBA/Basketball</td>\n",
       "      <td id=\"T_5b73a_row176_col4\" class=\"data row176 col4\" >6</td>\n",
       "    </tr>\n",
       "    <tr>\n",
       "      <th id=\"T_5b73a_level0_row177\" class=\"row_heading level0 row177\" >146</th>\n",
       "      <td id=\"T_5b73a_row177_col0\" class=\"data row177 col0\" >2005</td>\n",
       "      <td id=\"T_5b73a_row177_col1\" class=\"data row177 col1\" >33.000000</td>\n",
       "      <td id=\"T_5b73a_row177_col2\" class=\"data row177 col2\" >Michael Jordan</td>\n",
       "      <td id=\"T_5b73a_row177_col3\" class=\"data row177 col3\" >NBA/Basketball</td>\n",
       "      <td id=\"T_5b73a_row177_col4\" class=\"data row177 col4\" >6</td>\n",
       "    </tr>\n",
       "    <tr>\n",
       "      <th id=\"T_5b73a_level0_row178\" class=\"row_heading level0 row178\" >62</th>\n",
       "      <td id=\"T_5b73a_row178_col0\" class=\"data row178 col0\" >1996</td>\n",
       "      <td id=\"T_5b73a_row178_col1\" class=\"data row178 col1\" >33.000000</td>\n",
       "      <td id=\"T_5b73a_row178_col2\" class=\"data row178 col2\" >Michael Schumacher</td>\n",
       "      <td id=\"T_5b73a_row178_col3\" class=\"data row178 col3\" >Auto Racing</td>\n",
       "      <td id=\"T_5b73a_row178_col4\" class=\"data row178 col4\" >3</td>\n",
       "    </tr>\n",
       "    <tr>\n",
       "      <th id=\"T_5b73a_level0_row179\" class=\"row_heading level0 row179\" >95</th>\n",
       "      <td id=\"T_5b73a_row179_col0\" class=\"data row179 col0\" >1999</td>\n",
       "      <td id=\"T_5b73a_row179_col1\" class=\"data row179 col1\" >33.000000</td>\n",
       "      <td id=\"T_5b73a_row179_col2\" class=\"data row179 col2\" >Mike Tyson</td>\n",
       "      <td id=\"T_5b73a_row179_col3\" class=\"data row179 col3\" >Boxing</td>\n",
       "      <td id=\"T_5b73a_row179_col4\" class=\"data row179 col4\" >6</td>\n",
       "    </tr>\n",
       "    <tr>\n",
       "      <th id=\"T_5b73a_level0_row180\" class=\"row_heading level0 row180\" >147</th>\n",
       "      <td id=\"T_5b73a_row180_col0\" class=\"data row180 col0\" >2005</td>\n",
       "      <td id=\"T_5b73a_row180_col1\" class=\"data row180 col1\" >32.500000</td>\n",
       "      <td id=\"T_5b73a_row180_col2\" class=\"data row180 col2\" >David Beckham</td>\n",
       "      <td id=\"T_5b73a_row180_col3\" class=\"data row180 col3\" >Soccer</td>\n",
       "      <td id=\"T_5b73a_row180_col4\" class=\"data row180 col4\" >7</td>\n",
       "    </tr>\n",
       "    <tr>\n",
       "      <th id=\"T_5b73a_level0_row181\" class=\"row_heading level0 row181\" >210</th>\n",
       "      <td id=\"T_5b73a_row181_col0\" class=\"data row181 col0\" >2011</td>\n",
       "      <td id=\"T_5b73a_row181_col1\" class=\"data row181 col1\" >32.300000</td>\n",
       "      <td id=\"T_5b73a_row181_col2\" class=\"data row181 col2\" >Lionel Messi</td>\n",
       "      <td id=\"T_5b73a_row181_col3\" class=\"data row181 col3\" >Soccer</td>\n",
       "      <td id=\"T_5b73a_row181_col4\" class=\"data row181 col4\" >10</td>\n",
       "    </tr>\n",
       "    <tr>\n",
       "      <th id=\"T_5b73a_level0_row182\" class=\"row_heading level0 row182\" >155</th>\n",
       "      <td id=\"T_5b73a_row182_col0\" class=\"data row182 col0\" >2006</td>\n",
       "      <td id=\"T_5b73a_row182_col1\" class=\"data row182 col1\" >32.000000</td>\n",
       "      <td id=\"T_5b73a_row182_col2\" class=\"data row182 col2\" >Michael Jordan</td>\n",
       "      <td id=\"T_5b73a_row182_col3\" class=\"data row182 col3\" >NBA/Basketball</td>\n",
       "      <td id=\"T_5b73a_row182_col4\" class=\"data row182 col4\" >5</td>\n",
       "    </tr>\n",
       "    <tr>\n",
       "      <th id=\"T_5b73a_level0_row183\" class=\"row_heading level0 row183\" >168</th>\n",
       "      <td id=\"T_5b73a_row183_col0\" class=\"data row183 col0\" >2007</td>\n",
       "      <td id=\"T_5b73a_row183_col1\" class=\"data row183 col1\" >32.000000</td>\n",
       "      <td id=\"T_5b73a_row183_col2\" class=\"data row183 col2\" >Shaquille O'Neal</td>\n",
       "      <td id=\"T_5b73a_row183_col3\" class=\"data row183 col3\" >NBA/Basketball</td>\n",
       "      <td id=\"T_5b73a_row183_col4\" class=\"data row183 col4\" >8</td>\n",
       "    </tr>\n",
       "    <tr>\n",
       "      <th id=\"T_5b73a_level0_row184\" class=\"row_heading level0 row184\" >135</th>\n",
       "      <td id=\"T_5b73a_row184_col0\" class=\"data row184 col0\" >2004</td>\n",
       "      <td id=\"T_5b73a_row184_col1\" class=\"data row184 col1\" >31.900000</td>\n",
       "      <td id=\"T_5b73a_row184_col2\" class=\"data row184 col2\" >Shaquille O'Neal</td>\n",
       "      <td id=\"T_5b73a_row184_col3\" class=\"data row184 col3\" >NBA/Basketball</td>\n",
       "      <td id=\"T_5b73a_row184_col4\" class=\"data row184 col4\" >5</td>\n",
       "    </tr>\n",
       "    <tr>\n",
       "      <th id=\"T_5b73a_level0_row185\" class=\"row_heading level0 row185\" >11</th>\n",
       "      <td id=\"T_5b73a_row185_col0\" class=\"data row185 col0\" >1991</td>\n",
       "      <td id=\"T_5b73a_row185_col1\" class=\"data row185 col1\" >31.500000</td>\n",
       "      <td id=\"T_5b73a_row185_col2\" class=\"data row185 col2\" >Mike Tyson</td>\n",
       "      <td id=\"T_5b73a_row185_col3\" class=\"data row185 col3\" >Boxing</td>\n",
       "      <td id=\"T_5b73a_row185_col4\" class=\"data row185 col4\" >2</td>\n",
       "    </tr>\n",
       "    <tr>\n",
       "      <th id=\"T_5b73a_level0_row186\" class=\"row_heading level0 row186\" >169</th>\n",
       "      <td id=\"T_5b73a_row186_col0\" class=\"data row186 col0\" >2007</td>\n",
       "      <td id=\"T_5b73a_row186_col1\" class=\"data row186 col1\" >31.000000</td>\n",
       "      <td id=\"T_5b73a_row186_col2\" class=\"data row186 col2\" >Ronaldinho</td>\n",
       "      <td id=\"T_5b73a_row186_col3\" class=\"data row186 col3\" >Soccer</td>\n",
       "      <td id=\"T_5b73a_row186_col4\" class=\"data row186 col4\" >9</td>\n",
       "    </tr>\n",
       "    <tr>\n",
       "      <th id=\"T_5b73a_level0_row187\" class=\"row_heading level0 row187\" >96</th>\n",
       "      <td id=\"T_5b73a_row187_col0\" class=\"data row187 col0\" >1999</td>\n",
       "      <td id=\"T_5b73a_row187_col1\" class=\"data row187 col1\" >31.000000</td>\n",
       "      <td id=\"T_5b73a_row187_col2\" class=\"data row187 col2\" >Shaquille O'Neal</td>\n",
       "      <td id=\"T_5b73a_row187_col3\" class=\"data row187 col3\" >NBA/Basketball</td>\n",
       "      <td id=\"T_5b73a_row187_col4\" class=\"data row187 col4\" >7</td>\n",
       "    </tr>\n",
       "    <tr>\n",
       "      <th id=\"T_5b73a_level0_row188\" class=\"row_heading level0 row188\" >170</th>\n",
       "      <td id=\"T_5b73a_row188_col0\" class=\"data row188 col0\" >2007</td>\n",
       "      <td id=\"T_5b73a_row188_col1\" class=\"data row188 col1\" >31.000000</td>\n",
       "      <td id=\"T_5b73a_row188_col2\" class=\"data row188 col2\" >Michael Jordan</td>\n",
       "      <td id=\"T_5b73a_row188_col3\" class=\"data row188 col3\" >NBA/Basketball</td>\n",
       "      <td id=\"T_5b73a_row188_col4\" class=\"data row188 col4\" >9</td>\n",
       "    </tr>\n",
       "    <tr>\n",
       "      <th id=\"T_5b73a_level0_row189\" class=\"row_heading level0 row189\" >156</th>\n",
       "      <td id=\"T_5b73a_row189_col0\" class=\"data row189 col0\" >2006</td>\n",
       "      <td id=\"T_5b73a_row189_col1\" class=\"data row189 col1\" >31.000000</td>\n",
       "      <td id=\"T_5b73a_row189_col2\" class=\"data row189 col2\" >Kobe Bryant</td>\n",
       "      <td id=\"T_5b73a_row189_col3\" class=\"data row189 col3\" >NBA/Basketball</td>\n",
       "      <td id=\"T_5b73a_row189_col4\" class=\"data row189 col4\" >6</td>\n",
       "    </tr>\n",
       "    <tr>\n",
       "      <th id=\"T_5b73a_level0_row190\" class=\"row_heading level0 row190\" >124</th>\n",
       "      <td id=\"T_5b73a_row190_col0\" class=\"data row190 col0\" >2003</td>\n",
       "      <td id=\"T_5b73a_row190_col1\" class=\"data row190 col1\" >30.500000</td>\n",
       "      <td id=\"T_5b73a_row190_col2\" class=\"data row190 col2\" >Shaquille O'Neal</td>\n",
       "      <td id=\"T_5b73a_row190_col3\" class=\"data row190 col3\" >NBA/Basketball</td>\n",
       "      <td id=\"T_5b73a_row190_col4\" class=\"data row190 col4\" >4</td>\n",
       "    </tr>\n",
       "    <tr>\n",
       "      <th id=\"T_5b73a_level0_row191\" class=\"row_heading level0 row191\" >125</th>\n",
       "      <td id=\"T_5b73a_row191_col0\" class=\"data row191 col0\" >2003</td>\n",
       "      <td id=\"T_5b73a_row191_col1\" class=\"data row191 col1\" >30.000000</td>\n",
       "      <td id=\"T_5b73a_row191_col2\" class=\"data row191 col2\" >Oscar De La Hoya</td>\n",
       "      <td id=\"T_5b73a_row191_col3\" class=\"data row191 col3\" >Boxing</td>\n",
       "      <td id=\"T_5b73a_row191_col4\" class=\"data row191 col4\" >5</td>\n",
       "    </tr>\n",
       "    <tr>\n",
       "      <th id=\"T_5b73a_level0_row192\" class=\"row_heading level0 row192\" >157</th>\n",
       "      <td id=\"T_5b73a_row192_col0\" class=\"data row192 col0\" >2006</td>\n",
       "      <td id=\"T_5b73a_row192_col1\" class=\"data row192 col1\" >30.000000</td>\n",
       "      <td id=\"T_5b73a_row192_col2\" class=\"data row192 col2\" >Shaquille O'Neal</td>\n",
       "      <td id=\"T_5b73a_row192_col3\" class=\"data row192 col3\" >NBA/Basketball</td>\n",
       "      <td id=\"T_5b73a_row192_col4\" class=\"data row192 col4\" >7</td>\n",
       "    </tr>\n",
       "    <tr>\n",
       "      <th id=\"T_5b73a_level0_row193\" class=\"row_heading level0 row193\" >40</th>\n",
       "      <td id=\"T_5b73a_row193_col0\" class=\"data row193 col0\" >1994</td>\n",
       "      <td id=\"T_5b73a_row193_col1\" class=\"data row193 col1\" >30.000000</td>\n",
       "      <td id=\"T_5b73a_row193_col2\" class=\"data row193 col2\" >Michael Jordan</td>\n",
       "      <td id=\"T_5b73a_row193_col3\" class=\"data row193 col3\" >NBA/Basketball</td>\n",
       "      <td id=\"T_5b73a_row193_col4\" class=\"data row193 col4\" >1</td>\n",
       "    </tr>\n",
       "    <tr>\n",
       "      <th id=\"T_5b73a_level0_row194\" class=\"row_heading level0 row194\" >158</th>\n",
       "      <td id=\"T_5b73a_row194_col0\" class=\"data row194 col0\" >2006</td>\n",
       "      <td id=\"T_5b73a_row194_col1\" class=\"data row194 col1\" >30.000000</td>\n",
       "      <td id=\"T_5b73a_row194_col2\" class=\"data row194 col2\" >Valentino Rossi</td>\n",
       "      <td id=\"T_5b73a_row194_col3\" class=\"data row194 col3\" >Auto Racing</td>\n",
       "      <td id=\"T_5b73a_row194_col4\" class=\"data row194 col4\" >8</td>\n",
       "    </tr>\n",
       "    <tr>\n",
       "      <th id=\"T_5b73a_level0_row195\" class=\"row_heading level0 row195\" >82</th>\n",
       "      <td id=\"T_5b73a_row195_col0\" class=\"data row195 col0\" >1998</td>\n",
       "      <td id=\"T_5b73a_row195_col1\" class=\"data row195 col1\" >29.800000</td>\n",
       "      <td id=\"T_5b73a_row195_col2\" class=\"data row195 col2\" >Sergei Federov</td>\n",
       "      <td id=\"T_5b73a_row195_col3\" class=\"data row195 col3\" >Hockey</td>\n",
       "      <td id=\"T_5b73a_row195_col4\" class=\"data row195 col4\" >3</td>\n",
       "    </tr>\n",
       "    <tr>\n",
       "      <th id=\"T_5b73a_level0_row196\" class=\"row_heading level0 row196\" >136</th>\n",
       "      <td id=\"T_5b73a_row196_col0\" class=\"data row196 col0\" >2004</td>\n",
       "      <td id=\"T_5b73a_row196_col1\" class=\"data row196 col1\" >29.700000</td>\n",
       "      <td id=\"T_5b73a_row196_col2\" class=\"data row196 col2\" >Kevin Garnett</td>\n",
       "      <td id=\"T_5b73a_row196_col3\" class=\"data row196 col3\" >NBA/Basketball</td>\n",
       "      <td id=\"T_5b73a_row196_col4\" class=\"data row196 col4\" >6</td>\n",
       "    </tr>\n",
       "    <tr>\n",
       "      <th id=\"T_5b73a_level0_row197\" class=\"row_heading level0 row197\" >97</th>\n",
       "      <td id=\"T_5b73a_row197_col0\" class=\"data row197 col0\" >1999</td>\n",
       "      <td id=\"T_5b73a_row197_col1\" class=\"data row197 col1\" >29.000000</td>\n",
       "      <td id=\"T_5b73a_row197_col2\" class=\"data row197 col2\" >Lennox Lewis</td>\n",
       "      <td id=\"T_5b73a_row197_col3\" class=\"data row197 col3\" >Boxing</td>\n",
       "      <td id=\"T_5b73a_row197_col4\" class=\"data row197 col4\" >8</td>\n",
       "    </tr>\n",
       "    <tr>\n",
       "      <th id=\"T_5b73a_level0_row198\" class=\"row_heading level0 row198\" >160</th>\n",
       "      <td id=\"T_5b73a_row198_col0\" class=\"data row198 col0\" >2006</td>\n",
       "      <td id=\"T_5b73a_row198_col1\" class=\"data row198 col1\" >29.000000</td>\n",
       "      <td id=\"T_5b73a_row198_col2\" class=\"data row198 col2\" >Tom Brady</td>\n",
       "      <td id=\"T_5b73a_row198_col3\" class=\"data row198 col3\" >NFL</td>\n",
       "      <td id=\"T_5b73a_row198_col4\" class=\"data row198 col4\" >9</td>\n",
       "    </tr>\n",
       "    <tr>\n",
       "      <th id=\"T_5b73a_level0_row199\" class=\"row_heading level0 row199\" >159</th>\n",
       "      <td id=\"T_5b73a_row199_col0\" class=\"data row199 col0\" >2006</td>\n",
       "      <td id=\"T_5b73a_row199_col1\" class=\"data row199 col1\" >29.000000</td>\n",
       "      <td id=\"T_5b73a_row199_col2\" class=\"data row199 col2\" >Alex Rodriguez</td>\n",
       "      <td id=\"T_5b73a_row199_col3\" class=\"data row199 col3\" >Baseball</td>\n",
       "      <td id=\"T_5b73a_row199_col4\" class=\"data row199 col4\" >9</td>\n",
       "    </tr>\n",
       "    <tr>\n",
       "      <th id=\"T_5b73a_level0_row200\" class=\"row_heading level0 row200\" >148</th>\n",
       "      <td id=\"T_5b73a_row200_col0\" class=\"data row200 col0\" >2005</td>\n",
       "      <td id=\"T_5b73a_row200_col1\" class=\"data row200 col1\" >28.800000</td>\n",
       "      <td id=\"T_5b73a_row200_col2\" class=\"data row200 col2\" >Kobe Bryant</td>\n",
       "      <td id=\"T_5b73a_row200_col3\" class=\"data row200 col3\" >NBA/Basketball</td>\n",
       "      <td id=\"T_5b73a_row200_col4\" class=\"data row200 col4\" >8</td>\n",
       "    </tr>\n",
       "    <tr>\n",
       "      <th id=\"T_5b73a_level0_row201\" class=\"row_heading level0 row201\" >0</th>\n",
       "      <td id=\"T_5b73a_row201_col0\" class=\"data row201 col0\" >1990</td>\n",
       "      <td id=\"T_5b73a_row201_col1\" class=\"data row201 col1\" >28.600000</td>\n",
       "      <td id=\"T_5b73a_row201_col2\" class=\"data row201 col2\" >Mike Tyson</td>\n",
       "      <td id=\"T_5b73a_row201_col3\" class=\"data row201 col3\" >Boxing</td>\n",
       "      <td id=\"T_5b73a_row201_col4\" class=\"data row201 col4\" >1</td>\n",
       "    </tr>\n",
       "    <tr>\n",
       "      <th id=\"T_5b73a_level0_row202\" class=\"row_heading level0 row202\" >137</th>\n",
       "      <td id=\"T_5b73a_row202_col0\" class=\"data row202 col0\" >2004</td>\n",
       "      <td id=\"T_5b73a_row202_col1\" class=\"data row202 col1\" >28.200000</td>\n",
       "      <td id=\"T_5b73a_row202_col2\" class=\"data row202 col2\" >Andre Agassi</td>\n",
       "      <td id=\"T_5b73a_row202_col3\" class=\"data row202 col3\" >Tennis</td>\n",
       "      <td id=\"T_5b73a_row202_col4\" class=\"data row202 col4\" >7</td>\n",
       "    </tr>\n",
       "    <tr>\n",
       "      <th id=\"T_5b73a_level0_row203\" class=\"row_heading level0 row203\" >150</th>\n",
       "      <td id=\"T_5b73a_row203_col0\" class=\"data row203 col0\" >2005</td>\n",
       "      <td id=\"T_5b73a_row203_col1\" class=\"data row203 col1\" >28.000000</td>\n",
       "      <td id=\"T_5b73a_row203_col2\" class=\"data row203 col2\" >Valentino Rossi</td>\n",
       "      <td id=\"T_5b73a_row203_col3\" class=\"data row203 col3\" >Auto Racing</td>\n",
       "      <td id=\"T_5b73a_row203_col4\" class=\"data row203 col4\" >9</td>\n",
       "    </tr>\n",
       "    <tr>\n",
       "      <th id=\"T_5b73a_level0_row204\" class=\"row_heading level0 row204\" >113</th>\n",
       "      <td id=\"T_5b73a_row204_col0\" class=\"data row204 col0\" >2002</td>\n",
       "      <td id=\"T_5b73a_row204_col1\" class=\"data row204 col1\" >28.000000</td>\n",
       "      <td id=\"T_5b73a_row204_col2\" class=\"data row204 col2\" >Lennox Lewis</td>\n",
       "      <td id=\"T_5b73a_row204_col3\" class=\"data row204 col3\" >Boxing</td>\n",
       "      <td id=\"T_5b73a_row204_col4\" class=\"data row204 col4\" >4</td>\n",
       "    </tr>\n",
       "    <tr>\n",
       "      <th id=\"T_5b73a_level0_row205\" class=\"row_heading level0 row205\" >138</th>\n",
       "      <td id=\"T_5b73a_row205_col0\" class=\"data row205 col0\" >2004</td>\n",
       "      <td id=\"T_5b73a_row205_col1\" class=\"data row205 col1\" >28.000000</td>\n",
       "      <td id=\"T_5b73a_row205_col2\" class=\"data row205 col2\" >David Beckham</td>\n",
       "      <td id=\"T_5b73a_row205_col3\" class=\"data row205 col3\" >Soccer</td>\n",
       "      <td id=\"T_5b73a_row205_col4\" class=\"data row205 col4\" >8</td>\n",
       "    </tr>\n",
       "    <tr>\n",
       "      <th id=\"T_5b73a_level0_row206\" class=\"row_heading level0 row206\" >21</th>\n",
       "      <td id=\"T_5b73a_row206_col0\" class=\"data row206 col0\" >1992</td>\n",
       "      <td id=\"T_5b73a_row206_col1\" class=\"data row206 col1\" >28.000000</td>\n",
       "      <td id=\"T_5b73a_row206_col2\" class=\"data row206 col2\" >Evander Holyfield</td>\n",
       "      <td id=\"T_5b73a_row206_col3\" class=\"data row206 col3\" >Boxing</td>\n",
       "      <td id=\"T_5b73a_row206_col4\" class=\"data row206 col4\" >2</td>\n",
       "    </tr>\n",
       "    <tr>\n",
       "      <th id=\"T_5b73a_level0_row207\" class=\"row_heading level0 row207\" >149</th>\n",
       "      <td id=\"T_5b73a_row207_col0\" class=\"data row207 col0\" >2005</td>\n",
       "      <td id=\"T_5b73a_row207_col1\" class=\"data row207 col1\" >28.000000</td>\n",
       "      <td id=\"T_5b73a_row207_col2\" class=\"data row207 col2\" >Lance Armstrong</td>\n",
       "      <td id=\"T_5b73a_row207_col3\" class=\"data row207 col3\" >Cycling</td>\n",
       "      <td id=\"T_5b73a_row207_col4\" class=\"data row207 col4\" >9</td>\n",
       "    </tr>\n",
       "    <tr>\n",
       "      <th id=\"T_5b73a_level0_row208\" class=\"row_heading level0 row208\" >126</th>\n",
       "      <td id=\"T_5b73a_row208_col0\" class=\"data row208 col0\" >2003</td>\n",
       "      <td id=\"T_5b73a_row208_col1\" class=\"data row208 col1\" >28.000000</td>\n",
       "      <td id=\"T_5b73a_row208_col2\" class=\"data row208 col2\" >Kevin Garnett</td>\n",
       "      <td id=\"T_5b73a_row208_col3\" class=\"data row208 col3\" >NBA/Basketball</td>\n",
       "      <td id=\"T_5b73a_row208_col4\" class=\"data row208 col4\" >6</td>\n",
       "    </tr>\n",
       "    <tr>\n",
       "      <th id=\"T_5b73a_level0_row209\" class=\"row_heading level0 row209\" >74</th>\n",
       "      <td id=\"T_5b73a_row209_col0\" class=\"data row209 col0\" >1997</td>\n",
       "      <td id=\"T_5b73a_row209_col1\" class=\"data row209 col1\" >27.000000</td>\n",
       "      <td id=\"T_5b73a_row209_col2\" class=\"data row209 col2\" >Mike Tyson</td>\n",
       "      <td id=\"T_5b73a_row209_col3\" class=\"data row209 col3\" >Boxing</td>\n",
       "      <td id=\"T_5b73a_row209_col4\" class=\"data row209 col4\" >5</td>\n",
       "    </tr>\n",
       "    <tr>\n",
       "      <th id=\"T_5b73a_level0_row210\" class=\"row_heading level0 row210\" >83</th>\n",
       "      <td id=\"T_5b73a_row210_col0\" class=\"data row210 col0\" >1998</td>\n",
       "      <td id=\"T_5b73a_row210_col1\" class=\"data row210 col1\" >26.800000</td>\n",
       "      <td id=\"T_5b73a_row210_col2\" class=\"data row210 col2\" >Tiger Woods</td>\n",
       "      <td id=\"T_5b73a_row210_col3\" class=\"data row210 col3\" >Golf</td>\n",
       "      <td id=\"T_5b73a_row210_col4\" class=\"data row210 col4\" >4</td>\n",
       "    </tr>\n",
       "    <tr>\n",
       "      <th id=\"T_5b73a_level0_row211\" class=\"row_heading level0 row211\" >98</th>\n",
       "      <td id=\"T_5b73a_row211_col0\" class=\"data row211 col0\" >1999</td>\n",
       "      <td id=\"T_5b73a_row211_col1\" class=\"data row211 col1\" >26.500000</td>\n",
       "      <td id=\"T_5b73a_row211_col2\" class=\"data row211 col2\" >Dale Earnhardt</td>\n",
       "      <td id=\"T_5b73a_row211_col3\" class=\"data row211 col3\" >Auto Racing</td>\n",
       "      <td id=\"T_5b73a_row211_col4\" class=\"data row211 col4\" >9</td>\n",
       "    </tr>\n",
       "    <tr>\n",
       "      <th id=\"T_5b73a_level0_row212\" class=\"row_heading level0 row212\" >139</th>\n",
       "      <td id=\"T_5b73a_row212_col0\" class=\"data row212 col0\" >2004</td>\n",
       "      <td id=\"T_5b73a_row212_col1\" class=\"data row212 col1\" >26.200000</td>\n",
       "      <td id=\"T_5b73a_row212_col2\" class=\"data row212 col2\" >Alex Rodriguez</td>\n",
       "      <td id=\"T_5b73a_row212_col3\" class=\"data row212 col3\" >Baseball</td>\n",
       "      <td id=\"T_5b73a_row212_col4\" class=\"data row212 col4\" >9</td>\n",
       "    </tr>\n",
       "    <tr>\n",
       "      <th id=\"T_5b73a_level0_row213\" class=\"row_heading level0 row213\" >140</th>\n",
       "      <td id=\"T_5b73a_row213_col0\" class=\"data row213 col0\" >2004</td>\n",
       "      <td id=\"T_5b73a_row213_col1\" class=\"data row213 col1\" >26.100000</td>\n",
       "      <td id=\"T_5b73a_row213_col2\" class=\"data row213 col2\" >Kobe Bryant</td>\n",
       "      <td id=\"T_5b73a_row213_col3\" class=\"data row213 col3\" >NBA/Basketball</td>\n",
       "      <td id=\"T_5b73a_row213_col4\" class=\"data row213 col4\" >10</td>\n",
       "    </tr>\n",
       "    <tr>\n",
       "      <th id=\"T_5b73a_level0_row214\" class=\"row_heading level0 row214\" >75</th>\n",
       "      <td id=\"T_5b73a_row214_col0\" class=\"data row214 col0\" >1997</td>\n",
       "      <td id=\"T_5b73a_row214_col1\" class=\"data row214 col1\" >26.100000</td>\n",
       "      <td id=\"T_5b73a_row214_col2\" class=\"data row214 col2\" >Tiger Woods</td>\n",
       "      <td id=\"T_5b73a_row214_col3\" class=\"data row214 col3\" >Golf</td>\n",
       "      <td id=\"T_5b73a_row214_col4\" class=\"data row214 col4\" >6</td>\n",
       "    </tr>\n",
       "    <tr>\n",
       "      <th id=\"T_5b73a_level0_row215\" class=\"row_heading level0 row215\" >104</th>\n",
       "      <td id=\"T_5b73a_row215_col0\" class=\"data row215 col0\" >2000</td>\n",
       "      <td id=\"T_5b73a_row215_col1\" class=\"data row215 col1\" >26.000000</td>\n",
       "      <td id=\"T_5b73a_row215_col2\" class=\"data row215 col2\" >Grant Hill</td>\n",
       "      <td id=\"T_5b73a_row215_col3\" class=\"data row215 col3\" >NBA/Basketball</td>\n",
       "      <td id=\"T_5b73a_row215_col4\" class=\"data row215 col4\" >5</td>\n",
       "    </tr>\n",
       "    <tr>\n",
       "      <th id=\"T_5b73a_level0_row216\" class=\"row_heading level0 row216\" >1</th>\n",
       "      <td id=\"T_5b73a_row216_col0\" class=\"data row216 col0\" >1990</td>\n",
       "      <td id=\"T_5b73a_row216_col1\" class=\"data row216 col1\" >26.000000</td>\n",
       "      <td id=\"T_5b73a_row216_col2\" class=\"data row216 col2\" >Buster Douglas</td>\n",
       "      <td id=\"T_5b73a_row216_col3\" class=\"data row216 col3\" >Boxing</td>\n",
       "      <td id=\"T_5b73a_row216_col4\" class=\"data row216 col4\" >2</td>\n",
       "    </tr>\n",
       "    <tr>\n",
       "      <th id=\"T_5b73a_level0_row217\" class=\"row_heading level0 row217\" >127</th>\n",
       "      <td id=\"T_5b73a_row217_col0\" class=\"data row217 col0\" >2003</td>\n",
       "      <td id=\"T_5b73a_row217_col1\" class=\"data row217 col1\" >26.000000</td>\n",
       "      <td id=\"T_5b73a_row217_col2\" class=\"data row217 col2\" >Alex Rodriguez</td>\n",
       "      <td id=\"T_5b73a_row217_col3\" class=\"data row217 col3\" >Baseball</td>\n",
       "      <td id=\"T_5b73a_row217_col4\" class=\"data row217 col4\" >7</td>\n",
       "    </tr>\n",
       "    <tr>\n",
       "      <th id=\"T_5b73a_level0_row218\" class=\"row_heading level0 row218\" >128</th>\n",
       "      <td id=\"T_5b73a_row218_col0\" class=\"data row218 col0\" >2003</td>\n",
       "      <td id=\"T_5b73a_row218_col1\" class=\"data row218 col1\" >25.500000</td>\n",
       "      <td id=\"T_5b73a_row218_col2\" class=\"data row218 col2\" >Grant Hill</td>\n",
       "      <td id=\"T_5b73a_row218_col3\" class=\"data row218 col3\" >NBA/Basketball</td>\n",
       "      <td id=\"T_5b73a_row218_col4\" class=\"data row218 col4\" >8</td>\n",
       "    </tr>\n",
       "    <tr>\n",
       "      <th id=\"T_5b73a_level0_row219\" class=\"row_heading level0 row219\" >76</th>\n",
       "      <td id=\"T_5b73a_row219_col0\" class=\"data row219 col0\" >1997</td>\n",
       "      <td id=\"T_5b73a_row219_col1\" class=\"data row219 col1\" >25.400000</td>\n",
       "      <td id=\"T_5b73a_row219_col2\" class=\"data row219 col2\" >Shaquille O'Neal</td>\n",
       "      <td id=\"T_5b73a_row219_col3\" class=\"data row219 col3\" >NBA/Basketball</td>\n",
       "      <td id=\"T_5b73a_row219_col4\" class=\"data row219 col4\" >7</td>\n",
       "    </tr>\n",
       "    <tr>\n",
       "      <th id=\"T_5b73a_level0_row220\" class=\"row_heading level0 row220\" >31</th>\n",
       "      <td id=\"T_5b73a_row220_col0\" class=\"data row220 col0\" >1993</td>\n",
       "      <td id=\"T_5b73a_row220_col1\" class=\"data row220 col1\" >25.000000</td>\n",
       "      <td id=\"T_5b73a_row220_col2\" class=\"data row220 col2\" >Riddick Bowe</td>\n",
       "      <td id=\"T_5b73a_row220_col3\" class=\"data row220 col3\" >Boxing</td>\n",
       "      <td id=\"T_5b73a_row220_col4\" class=\"data row220 col4\" >2</td>\n",
       "    </tr>\n",
       "    <tr>\n",
       "      <th id=\"T_5b73a_level0_row221\" class=\"row_heading level0 row221\" >105</th>\n",
       "      <td id=\"T_5b73a_row221_col0\" class=\"data row221 col0\" >2000</td>\n",
       "      <td id=\"T_5b73a_row221_col1\" class=\"data row221 col1\" >24.500000</td>\n",
       "      <td id=\"T_5b73a_row221_col2\" class=\"data row221 col2\" >Dale Earnhardt</td>\n",
       "      <td id=\"T_5b73a_row221_col3\" class=\"data row221 col3\" >Auto Racing</td>\n",
       "      <td id=\"T_5b73a_row221_col4\" class=\"data row221 col4\" >6</td>\n",
       "    </tr>\n",
       "    <tr>\n",
       "      <th id=\"T_5b73a_level0_row222\" class=\"row_heading level0 row222\" >63</th>\n",
       "      <td id=\"T_5b73a_row222_col0\" class=\"data row222 col0\" >1996</td>\n",
       "      <td id=\"T_5b73a_row222_col1\" class=\"data row222 col1\" >24.400000</td>\n",
       "      <td id=\"T_5b73a_row222_col2\" class=\"data row222 col2\" >Shaquille O'Neal</td>\n",
       "      <td id=\"T_5b73a_row222_col3\" class=\"data row222 col3\" >NBA/Basketball</td>\n",
       "      <td id=\"T_5b73a_row222_col4\" class=\"data row222 col4\" >4</td>\n",
       "    </tr>\n",
       "    <tr>\n",
       "      <th id=\"T_5b73a_level0_row223\" class=\"row_heading level0 row223\" >84</th>\n",
       "      <td id=\"T_5b73a_row223_col0\" class=\"data row223 col0\" >1998</td>\n",
       "      <td id=\"T_5b73a_row223_col1\" class=\"data row223 col1\" >24.100000</td>\n",
       "      <td id=\"T_5b73a_row223_col2\" class=\"data row223 col2\" >Dale Earnhardt</td>\n",
       "      <td id=\"T_5b73a_row223_col3\" class=\"data row223 col3\" >Auto Racing</td>\n",
       "      <td id=\"T_5b73a_row223_col4\" class=\"data row223 col4\" >5</td>\n",
       "    </tr>\n",
       "    <tr>\n",
       "      <th id=\"T_5b73a_level0_row224\" class=\"row_heading level0 row224\" >114</th>\n",
       "      <td id=\"T_5b73a_row224_col0\" class=\"data row224 col0\" >2002</td>\n",
       "      <td id=\"T_5b73a_row224_col1\" class=\"data row224 col1\" >24.000000</td>\n",
       "      <td id=\"T_5b73a_row224_col2\" class=\"data row224 col2\" >Grant Hill</td>\n",
       "      <td id=\"T_5b73a_row224_col3\" class=\"data row224 col3\" >NBA/Basketball</td>\n",
       "      <td id=\"T_5b73a_row224_col4\" class=\"data row224 col4\" >5</td>\n",
       "    </tr>\n",
       "    <tr>\n",
       "      <th id=\"T_5b73a_level0_row225\" class=\"row_heading level0 row225\" >115</th>\n",
       "      <td id=\"T_5b73a_row225_col0\" class=\"data row225 col0\" >2002</td>\n",
       "      <td id=\"T_5b73a_row225_col1\" class=\"data row225 col1\" >24.000000</td>\n",
       "      <td id=\"T_5b73a_row225_col2\" class=\"data row225 col2\" >Shaquille O'Neal</td>\n",
       "      <td id=\"T_5b73a_row225_col3\" class=\"data row225 col3\" >NBA/Basketball</td>\n",
       "      <td id=\"T_5b73a_row225_col4\" class=\"data row225 col4\" >5</td>\n",
       "    </tr>\n",
       "    <tr>\n",
       "      <th id=\"T_5b73a_level0_row226\" class=\"row_heading level0 row226\" >129</th>\n",
       "      <td id=\"T_5b73a_row226_col0\" class=\"data row226 col0\" >2003</td>\n",
       "      <td id=\"T_5b73a_row226_col1\" class=\"data row226 col1\" >24.000000</td>\n",
       "      <td id=\"T_5b73a_row226_col2\" class=\"data row226 col2\" >Andre Agassi</td>\n",
       "      <td id=\"T_5b73a_row226_col3\" class=\"data row226 col3\" >Tennis</td>\n",
       "      <td id=\"T_5b73a_row226_col4\" class=\"data row226 col4\" >9</td>\n",
       "    </tr>\n",
       "    <tr>\n",
       "      <th id=\"T_5b73a_level0_row227\" class=\"row_heading level0 row227\" >106</th>\n",
       "      <td id=\"T_5b73a_row227_col0\" class=\"data row227 col0\" >2000</td>\n",
       "      <td id=\"T_5b73a_row227_col1\" class=\"data row227 col1\" >24.000000</td>\n",
       "      <td id=\"T_5b73a_row227_col2\" class=\"data row227 col2\" >Shaquille O'Neal</td>\n",
       "      <td id=\"T_5b73a_row227_col3\" class=\"data row227 col3\" >NBA/Basketball</td>\n",
       "      <td id=\"T_5b73a_row227_col4\" class=\"data row227 col4\" >7</td>\n",
       "    </tr>\n",
       "    <tr>\n",
       "      <th id=\"T_5b73a_level0_row228\" class=\"row_heading level0 row228\" >130</th>\n",
       "      <td id=\"T_5b73a_row228_col0\" class=\"data row228 col0\" >2003</td>\n",
       "      <td id=\"T_5b73a_row228_col1\" class=\"data row228 col1\" >23.000000</td>\n",
       "      <td id=\"T_5b73a_row228_col2\" class=\"data row228 col2\" >Jacques Villeneuve</td>\n",
       "      <td id=\"T_5b73a_row228_col3\" class=\"data row228 col3\" >Auto Racing</td>\n",
       "      <td id=\"T_5b73a_row228_col4\" class=\"data row228 col4\" >10</td>\n",
       "    </tr>\n",
       "    <tr>\n",
       "      <th id=\"T_5b73a_level0_row229\" class=\"row_heading level0 row229\" >116</th>\n",
       "      <td id=\"T_5b73a_row229_col0\" class=\"data row229 col0\" >2002</td>\n",
       "      <td id=\"T_5b73a_row229_col1\" class=\"data row229 col1\" >23.000000</td>\n",
       "      <td id=\"T_5b73a_row229_col2\" class=\"data row229 col2\" >Mike Tyson</td>\n",
       "      <td id=\"T_5b73a_row229_col3\" class=\"data row229 col3\" >Boxing</td>\n",
       "      <td id=\"T_5b73a_row229_col4\" class=\"data row229 col4\" >7</td>\n",
       "    </tr>\n",
       "    <tr>\n",
       "      <th id=\"T_5b73a_level0_row230\" class=\"row_heading level0 row230\" >108</th>\n",
       "      <td id=\"T_5b73a_row230_col0\" class=\"data row230 col0\" >2000</td>\n",
       "      <td id=\"T_5b73a_row230_col1\" class=\"data row230 col1\" >23.000000</td>\n",
       "      <td id=\"T_5b73a_row230_col2\" class=\"data row230 col2\" >Oscar De La Hoya</td>\n",
       "      <td id=\"T_5b73a_row230_col3\" class=\"data row230 col3\" >Boxing</td>\n",
       "      <td id=\"T_5b73a_row230_col4\" class=\"data row230 col4\" >9</td>\n",
       "    </tr>\n",
       "    <tr>\n",
       "      <th id=\"T_5b73a_level0_row231\" class=\"row_heading level0 row231\" >107</th>\n",
       "      <td id=\"T_5b73a_row231_col0\" class=\"data row231 col0\" >2000</td>\n",
       "      <td id=\"T_5b73a_row231_col1\" class=\"data row231 col1\" >23.000000</td>\n",
       "      <td id=\"T_5b73a_row231_col2\" class=\"data row231 col2\" >Lennox Lewis</td>\n",
       "      <td id=\"T_5b73a_row231_col3\" class=\"data row231 col3\" >Boxing</td>\n",
       "      <td id=\"T_5b73a_row231_col4\" class=\"data row231 col4\" >8</td>\n",
       "    </tr>\n",
       "    <tr>\n",
       "      <th id=\"T_5b73a_level0_row232\" class=\"row_heading level0 row232\" >117</th>\n",
       "      <td id=\"T_5b73a_row232_col0\" class=\"data row232 col0\" >2002</td>\n",
       "      <td id=\"T_5b73a_row232_col1\" class=\"data row232 col1\" >23.000000</td>\n",
       "      <td id=\"T_5b73a_row232_col2\" class=\"data row232 col2\" >Kevin Garnett</td>\n",
       "      <td id=\"T_5b73a_row232_col3\" class=\"data row232 col3\" >NBA/Basketball</td>\n",
       "      <td id=\"T_5b73a_row232_col4\" class=\"data row232 col4\" >7</td>\n",
       "    </tr>\n",
       "    <tr>\n",
       "      <th id=\"T_5b73a_level0_row233\" class=\"row_heading level0 row233\" >99</th>\n",
       "      <td id=\"T_5b73a_row233_col0\" class=\"data row233 col0\" >1999</td>\n",
       "      <td id=\"T_5b73a_row233_col1\" class=\"data row233 col1\" >23.000000</td>\n",
       "      <td id=\"T_5b73a_row233_col2\" class=\"data row233 col2\" >Grant Hill</td>\n",
       "      <td id=\"T_5b73a_row233_col3\" class=\"data row233 col3\" >NBA/Basketball</td>\n",
       "      <td id=\"T_5b73a_row233_col4\" class=\"data row233 col4\" >10</td>\n",
       "    </tr>\n",
       "    <tr>\n",
       "      <th id=\"T_5b73a_level0_row234\" class=\"row_heading level0 row234\" >52</th>\n",
       "      <td id=\"T_5b73a_row234_col0\" class=\"data row234 col0\" >1995</td>\n",
       "      <td id=\"T_5b73a_row234_col1\" class=\"data row234 col1\" >22.500000</td>\n",
       "      <td id=\"T_5b73a_row234_col2\" class=\"data row234 col2\" >Deion Sanders</td>\n",
       "      <td id=\"T_5b73a_row234_col3\" class=\"data row234 col3\" >American Football/Baseball</td>\n",
       "      <td id=\"T_5b73a_row234_col4\" class=\"data row234 col4\" >3</td>\n",
       "    </tr>\n",
       "    <tr>\n",
       "      <th id=\"T_5b73a_level0_row235\" class=\"row_heading level0 row235\" >53</th>\n",
       "      <td id=\"T_5b73a_row235_col0\" class=\"data row235 col0\" >1995</td>\n",
       "      <td id=\"T_5b73a_row235_col1\" class=\"data row235 col1\" >22.200000</td>\n",
       "      <td id=\"T_5b73a_row235_col2\" class=\"data row235 col2\" >Riddick Bowe</td>\n",
       "      <td id=\"T_5b73a_row235_col3\" class=\"data row235 col3\" >Boxing</td>\n",
       "      <td id=\"T_5b73a_row235_col4\" class=\"data row235 col4\" >4</td>\n",
       "    </tr>\n",
       "    <tr>\n",
       "      <th id=\"T_5b73a_level0_row236\" class=\"row_heading level0 row236\" >118</th>\n",
       "      <td id=\"T_5b73a_row236_col0\" class=\"data row236 col0\" >2002</td>\n",
       "      <td id=\"T_5b73a_row236_col1\" class=\"data row236 col1\" >22.000000</td>\n",
       "      <td id=\"T_5b73a_row236_col2\" class=\"data row236 col2\" >Kobe Bryant</td>\n",
       "      <td id=\"T_5b73a_row236_col3\" class=\"data row236 col3\" >NBA/Basketball</td>\n",
       "      <td id=\"T_5b73a_row236_col4\" class=\"data row236 col4\" >9</td>\n",
       "    </tr>\n",
       "    <tr>\n",
       "      <th id=\"T_5b73a_level0_row237\" class=\"row_heading level0 row237\" >22</th>\n",
       "      <td id=\"T_5b73a_row237_col0\" class=\"data row237 col0\" >1992</td>\n",
       "      <td id=\"T_5b73a_row237_col1\" class=\"data row237 col1\" >22.000000</td>\n",
       "      <td id=\"T_5b73a_row237_col2\" class=\"data row237 col2\" >Ayrton Senna</td>\n",
       "      <td id=\"T_5b73a_row237_col3\" class=\"data row237 col3\" >Auto Racing</td>\n",
       "      <td id=\"T_5b73a_row237_col4\" class=\"data row237 col4\" >3</td>\n",
       "    </tr>\n",
       "    <tr>\n",
       "      <th id=\"T_5b73a_level0_row238\" class=\"row_heading level0 row238\" >54</th>\n",
       "      <td id=\"T_5b73a_row238_col0\" class=\"data row238 col0\" >1995</td>\n",
       "      <td id=\"T_5b73a_row238_col1\" class=\"data row238 col1\" >21.900000</td>\n",
       "      <td id=\"T_5b73a_row238_col2\" class=\"data row238 col2\" >Shaquille O'Neal</td>\n",
       "      <td id=\"T_5b73a_row238_col3\" class=\"data row238 col3\" >NBA/Basketball</td>\n",
       "      <td id=\"T_5b73a_row238_col4\" class=\"data row238 col4\" >5</td>\n",
       "    </tr>\n",
       "    <tr>\n",
       "      <th id=\"T_5b73a_level0_row239\" class=\"row_heading level0 row239\" >85</th>\n",
       "      <td id=\"T_5b73a_row239_col0\" class=\"data row239 col0\" >1998</td>\n",
       "      <td id=\"T_5b73a_row239_col1\" class=\"data row239 col1\" >21.600000</td>\n",
       "      <td id=\"T_5b73a_row239_col2\" class=\"data row239 col2\" >Grant Hill</td>\n",
       "      <td id=\"T_5b73a_row239_col3\" class=\"data row239 col3\" >NBA/Basketball</td>\n",
       "      <td id=\"T_5b73a_row239_col4\" class=\"data row239 col4\" >6</td>\n",
       "    </tr>\n",
       "    <tr>\n",
       "      <th id=\"T_5b73a_level0_row240\" class=\"row_heading level0 row240\" >109</th>\n",
       "      <td id=\"T_5b73a_row240_col0\" class=\"data row240 col0\" >2000</td>\n",
       "      <td id=\"T_5b73a_row240_col1\" class=\"data row240 col1\" >21.000000</td>\n",
       "      <td id=\"T_5b73a_row240_col2\" class=\"data row240 col2\" >Kevin Garnett</td>\n",
       "      <td id=\"T_5b73a_row240_col3\" class=\"data row240 col3\" >NBA/Basketball</td>\n",
       "      <td id=\"T_5b73a_row240_col4\" class=\"data row240 col4\" >10</td>\n",
       "    </tr>\n",
       "    <tr>\n",
       "      <th id=\"T_5b73a_level0_row241\" class=\"row_heading level0 row241\" >119</th>\n",
       "      <td id=\"T_5b73a_row241_col0\" class=\"data row241 col0\" >2002</td>\n",
       "      <td id=\"T_5b73a_row241_col1\" class=\"data row241 col1\" >20.000000</td>\n",
       "      <td id=\"T_5b73a_row241_col2\" class=\"data row241 col2\" >Jacques Villeneuve</td>\n",
       "      <td id=\"T_5b73a_row241_col3\" class=\"data row241 col3\" >Auto Racing</td>\n",
       "      <td id=\"T_5b73a_row241_col4\" class=\"data row241 col4\" >10</td>\n",
       "    </tr>\n",
       "    <tr>\n",
       "      <th id=\"T_5b73a_level0_row242\" class=\"row_heading level0 row242\" >120</th>\n",
       "      <td id=\"T_5b73a_row242_col0\" class=\"data row242 col0\" >2002</td>\n",
       "      <td id=\"T_5b73a_row242_col1\" class=\"data row242 col1\" >20.000000</td>\n",
       "      <td id=\"T_5b73a_row242_col2\" class=\"data row242 col2\" >Jeff Gordon</td>\n",
       "      <td id=\"T_5b73a_row242_col3\" class=\"data row242 col3\" >Auto Racing</td>\n",
       "      <td id=\"T_5b73a_row242_col4\" class=\"data row242 col4\" >10</td>\n",
       "    </tr>\n",
       "    <tr>\n",
       "      <th id=\"T_5b73a_level0_row243\" class=\"row_heading level0 row243\" >77</th>\n",
       "      <td id=\"T_5b73a_row243_col0\" class=\"data row243 col0\" >1997</td>\n",
       "      <td id=\"T_5b73a_row243_col1\" class=\"data row243 col1\" >19.100000</td>\n",
       "      <td id=\"T_5b73a_row243_col2\" class=\"data row243 col2\" >Dale Earnhardt</td>\n",
       "      <td id=\"T_5b73a_row243_col3\" class=\"data row243 col3\" >Auto Racing</td>\n",
       "      <td id=\"T_5b73a_row243_col4\" class=\"data row243 col4\" >8</td>\n",
       "    </tr>\n",
       "    <tr>\n",
       "      <th id=\"T_5b73a_level0_row244\" class=\"row_heading level0 row244\" >32</th>\n",
       "      <td id=\"T_5b73a_row244_col0\" class=\"data row244 col0\" >1993</td>\n",
       "      <td id=\"T_5b73a_row244_col1\" class=\"data row244 col1\" >18.500000</td>\n",
       "      <td id=\"T_5b73a_row244_col2\" class=\"data row244 col2\" >Ayrton Senna</td>\n",
       "      <td id=\"T_5b73a_row244_col3\" class=\"data row244 col3\" >Auto Racing</td>\n",
       "      <td id=\"T_5b73a_row244_col4\" class=\"data row244 col4\" >3</td>\n",
       "    </tr>\n",
       "    <tr>\n",
       "      <th id=\"T_5b73a_level0_row245\" class=\"row_heading level0 row245\" >86</th>\n",
       "      <td id=\"T_5b73a_row245_col0\" class=\"data row245 col0\" >1998</td>\n",
       "      <td id=\"T_5b73a_row245_col1\" class=\"data row245 col1\" >18.500000</td>\n",
       "      <td id=\"T_5b73a_row245_col2\" class=\"data row245 col2\" >Oscar De La Hoya</td>\n",
       "      <td id=\"T_5b73a_row245_col3\" class=\"data row245 col3\" >Boxing</td>\n",
       "      <td id=\"T_5b73a_row245_col4\" class=\"data row245 col4\" >7</td>\n",
       "    </tr>\n",
       "    <tr>\n",
       "      <th id=\"T_5b73a_level0_row246\" class=\"row_heading level0 row246\" >87</th>\n",
       "      <td id=\"T_5b73a_row246_col0\" class=\"data row246 col0\" >1998</td>\n",
       "      <td id=\"T_5b73a_row246_col1\" class=\"data row246 col1\" >18.300000</td>\n",
       "      <td id=\"T_5b73a_row246_col2\" class=\"data row246 col2\" >Patrick Ewing</td>\n",
       "      <td id=\"T_5b73a_row246_col3\" class=\"data row246 col3\" >NBA/Basketball</td>\n",
       "      <td id=\"T_5b73a_row246_col4\" class=\"data row246 col4\" >8</td>\n",
       "    </tr>\n",
       "    <tr>\n",
       "      <th id=\"T_5b73a_level0_row247\" class=\"row_heading level0 row247\" >88</th>\n",
       "      <td id=\"T_5b73a_row247_col0\" class=\"data row247 col0\" >1998</td>\n",
       "      <td id=\"T_5b73a_row247_col1\" class=\"data row247 col1\" >18.100000</td>\n",
       "      <td id=\"T_5b73a_row247_col2\" class=\"data row247 col2\" >Arnold Palmer</td>\n",
       "      <td id=\"T_5b73a_row247_col3\" class=\"data row247 col3\" >Golf</td>\n",
       "      <td id=\"T_5b73a_row247_col4\" class=\"data row247 col4\" >9</td>\n",
       "    </tr>\n",
       "    <tr>\n",
       "      <th id=\"T_5b73a_level0_row248\" class=\"row_heading level0 row248\" >55</th>\n",
       "      <td id=\"T_5b73a_row248_col0\" class=\"data row248 col0\" >1995</td>\n",
       "      <td id=\"T_5b73a_row248_col1\" class=\"data row248 col1\" >18.000000</td>\n",
       "      <td id=\"T_5b73a_row248_col2\" class=\"data row248 col2\" >George Foreman</td>\n",
       "      <td id=\"T_5b73a_row248_col3\" class=\"data row248 col3\" >Boxing</td>\n",
       "      <td id=\"T_5b73a_row248_col4\" class=\"data row248 col4\" >6</td>\n",
       "    </tr>\n",
       "    <tr>\n",
       "      <th id=\"T_5b73a_level0_row249\" class=\"row_heading level0 row249\" >78</th>\n",
       "      <td id=\"T_5b73a_row249_col0\" class=\"data row249 col0\" >1997</td>\n",
       "      <td id=\"T_5b73a_row249_col1\" class=\"data row249 col1\" >17.900000</td>\n",
       "      <td id=\"T_5b73a_row249_col2\" class=\"data row249 col2\" >Joe Sakic</td>\n",
       "      <td id=\"T_5b73a_row249_col3\" class=\"data row249 col3\" >Hockey</td>\n",
       "      <td id=\"T_5b73a_row249_col4\" class=\"data row249 col4\" >9</td>\n",
       "    </tr>\n",
       "    <tr>\n",
       "      <th id=\"T_5b73a_level0_row250\" class=\"row_heading level0 row250\" >89</th>\n",
       "      <td id=\"T_5b73a_row250_col0\" class=\"data row250 col0\" >1998</td>\n",
       "      <td id=\"T_5b73a_row250_col1\" class=\"data row250 col1\" >17.200000</td>\n",
       "      <td id=\"T_5b73a_row250_col2\" class=\"data row250 col2\" >Gary Sheffield</td>\n",
       "      <td id=\"T_5b73a_row250_col3\" class=\"data row250 col3\" >Baseball</td>\n",
       "      <td id=\"T_5b73a_row250_col4\" class=\"data row250 col4\" >10</td>\n",
       "    </tr>\n",
       "    <tr>\n",
       "      <th id=\"T_5b73a_level0_row251\" class=\"row_heading level0 row251\" >79</th>\n",
       "      <td id=\"T_5b73a_row251_col0\" class=\"data row251 col0\" >1997</td>\n",
       "      <td id=\"T_5b73a_row251_col1\" class=\"data row251 col1\" >17.000000</td>\n",
       "      <td id=\"T_5b73a_row251_col2\" class=\"data row251 col2\" >Grant Hill</td>\n",
       "      <td id=\"T_5b73a_row251_col3\" class=\"data row251 col3\" >NBA/Basketball</td>\n",
       "      <td id=\"T_5b73a_row251_col4\" class=\"data row251 col4\" >10</td>\n",
       "    </tr>\n",
       "    <tr>\n",
       "      <th id=\"T_5b73a_level0_row252\" class=\"row_heading level0 row252\" >41</th>\n",
       "      <td id=\"T_5b73a_row252_col0\" class=\"data row252 col0\" >1994</td>\n",
       "      <td id=\"T_5b73a_row252_col1\" class=\"data row252 col1\" >16.700000</td>\n",
       "      <td id=\"T_5b73a_row252_col2\" class=\"data row252 col2\" >Shaquille O'Neal</td>\n",
       "      <td id=\"T_5b73a_row252_col3\" class=\"data row252 col3\" >NBA/Basketball</td>\n",
       "      <td id=\"T_5b73a_row252_col4\" class=\"data row252 col4\" >2</td>\n",
       "    </tr>\n",
       "    <tr>\n",
       "      <th id=\"T_5b73a_level0_row253\" class=\"row_heading level0 row253\" >64</th>\n",
       "      <td id=\"T_5b73a_row253_col0\" class=\"data row253 col0\" >1996</td>\n",
       "      <td id=\"T_5b73a_row253_col1\" class=\"data row253 col1\" >16.500000</td>\n",
       "      <td id=\"T_5b73a_row253_col2\" class=\"data row253 col2\" >Emmit Smith</td>\n",
       "      <td id=\"T_5b73a_row253_col3\" class=\"data row253 col3\" >NFL</td>\n",
       "      <td id=\"T_5b73a_row253_col4\" class=\"data row253 col4\" >5</td>\n",
       "    </tr>\n",
       "    <tr>\n",
       "      <th id=\"T_5b73a_level0_row254\" class=\"row_heading level0 row254\" >12</th>\n",
       "      <td id=\"T_5b73a_row254_col0\" class=\"data row254 col0\" >1991</td>\n",
       "      <td id=\"T_5b73a_row254_col1\" class=\"data row254 col1\" >16.000000</td>\n",
       "      <td id=\"T_5b73a_row254_col2\" class=\"data row254 col2\" >Michael Jordan</td>\n",
       "      <td id=\"T_5b73a_row254_col3\" class=\"data row254 col3\" >NBA/Basketball</td>\n",
       "      <td id=\"T_5b73a_row254_col4\" class=\"data row254 col4\" >3</td>\n",
       "    </tr>\n",
       "    <tr>\n",
       "      <th id=\"T_5b73a_level0_row255\" class=\"row_heading level0 row255\" >56</th>\n",
       "      <td id=\"T_5b73a_row255_col0\" class=\"data row255 col0\" >1995</td>\n",
       "      <td id=\"T_5b73a_row255_col1\" class=\"data row255 col1\" >16.000000</td>\n",
       "      <td id=\"T_5b73a_row255_col2\" class=\"data row255 col2\" >Andre Agassi</td>\n",
       "      <td id=\"T_5b73a_row255_col3\" class=\"data row255 col3\" >Tennis</td>\n",
       "      <td id=\"T_5b73a_row255_col4\" class=\"data row255 col4\" >7</td>\n",
       "    </tr>\n",
       "    <tr>\n",
       "      <th id=\"T_5b73a_level0_row256\" class=\"row_heading level0 row256\" >33</th>\n",
       "      <td id=\"T_5b73a_row256_col0\" class=\"data row256 col0\" >1993</td>\n",
       "      <td id=\"T_5b73a_row256_col1\" class=\"data row256 col1\" >16.000000</td>\n",
       "      <td id=\"T_5b73a_row256_col2\" class=\"data row256 col2\" >Alain Prost</td>\n",
       "      <td id=\"T_5b73a_row256_col3\" class=\"data row256 col3\" >Auto Racing</td>\n",
       "      <td id=\"T_5b73a_row256_col4\" class=\"data row256 col4\" >4</td>\n",
       "    </tr>\n",
       "    <tr>\n",
       "      <th id=\"T_5b73a_level0_row257\" class=\"row_heading level0 row257\" >34</th>\n",
       "      <td id=\"T_5b73a_row257_col0\" class=\"data row257 col0\" >1993</td>\n",
       "      <td id=\"T_5b73a_row257_col1\" class=\"data row257 col1\" >15.800000</td>\n",
       "      <td id=\"T_5b73a_row257_col2\" class=\"data row257 col2\" >George Foreman</td>\n",
       "      <td id=\"T_5b73a_row257_col3\" class=\"data row257 col3\" >Boxing</td>\n",
       "      <td id=\"T_5b73a_row257_col4\" class=\"data row257 col4\" >5</td>\n",
       "    </tr>\n",
       "    <tr>\n",
       "      <th id=\"T_5b73a_level0_row258\" class=\"row_heading level0 row258\" >65</th>\n",
       "      <td id=\"T_5b73a_row258_col0\" class=\"data row258 col0\" >1996</td>\n",
       "      <td id=\"T_5b73a_row258_col1\" class=\"data row258 col1\" >15.500000</td>\n",
       "      <td id=\"T_5b73a_row258_col2\" class=\"data row258 col2\" >Evander Holyfield</td>\n",
       "      <td id=\"T_5b73a_row258_col3\" class=\"data row258 col3\" >Boxing</td>\n",
       "      <td id=\"T_5b73a_row258_col4\" class=\"data row258 col4\" >6</td>\n",
       "    </tr>\n",
       "    <tr>\n",
       "      <th id=\"T_5b73a_level0_row259\" class=\"row_heading level0 row259\" >66</th>\n",
       "      <td id=\"T_5b73a_row259_col0\" class=\"data row259 col0\" >1996</td>\n",
       "      <td id=\"T_5b73a_row259_col1\" class=\"data row259 col1\" >15.200000</td>\n",
       "      <td id=\"T_5b73a_row259_col2\" class=\"data row259 col2\" >Andre Agassi</td>\n",
       "      <td id=\"T_5b73a_row259_col3\" class=\"data row259 col3\" >Tennis</td>\n",
       "      <td id=\"T_5b73a_row259_col4\" class=\"data row259 col4\" >7</td>\n",
       "    </tr>\n",
       "    <tr>\n",
       "      <th id=\"T_5b73a_level0_row260\" class=\"row_heading level0 row260\" >35</th>\n",
       "      <td id=\"T_5b73a_row260_col0\" class=\"data row260 col0\" >1993</td>\n",
       "      <td id=\"T_5b73a_row260_col1\" class=\"data row260 col1\" >15.200000</td>\n",
       "      <td id=\"T_5b73a_row260_col2\" class=\"data row260 col2\" >Shaquille O'Neal</td>\n",
       "      <td id=\"T_5b73a_row260_col3\" class=\"data row260 col3\" >NBA/Basketball</td>\n",
       "      <td id=\"T_5b73a_row260_col4\" class=\"data row260 col4\" >6</td>\n",
       "    </tr>\n",
       "    <tr>\n",
       "      <th id=\"T_5b73a_level0_row261\" class=\"row_heading level0 row261\" >57</th>\n",
       "      <td id=\"T_5b73a_row261_col0\" class=\"data row261 col0\" >1995</td>\n",
       "      <td id=\"T_5b73a_row261_col1\" class=\"data row261 col1\" >15.100000</td>\n",
       "      <td id=\"T_5b73a_row261_col2\" class=\"data row261 col2\" >Sugar Ray Leonard</td>\n",
       "      <td id=\"T_5b73a_row261_col3\" class=\"data row261 col3\" >Golf</td>\n",
       "      <td id=\"T_5b73a_row261_col4\" class=\"data row261 col4\" >8</td>\n",
       "    </tr>\n",
       "    <tr>\n",
       "      <th id=\"T_5b73a_level0_row262\" class=\"row_heading level0 row262\" >67</th>\n",
       "      <td id=\"T_5b73a_row262_col0\" class=\"data row262 col0\" >1996</td>\n",
       "      <td id=\"T_5b73a_row262_col1\" class=\"data row262 col1\" >15.100000</td>\n",
       "      <td id=\"T_5b73a_row262_col2\" class=\"data row262 col2\" >Arnold Palmer</td>\n",
       "      <td id=\"T_5b73a_row262_col3\" class=\"data row262 col3\" >Golf</td>\n",
       "      <td id=\"T_5b73a_row262_col4\" class=\"data row262 col4\" >8</td>\n",
       "    </tr>\n",
       "    <tr>\n",
       "      <th id=\"T_5b73a_level0_row263\" class=\"row_heading level0 row263\" >58</th>\n",
       "      <td id=\"T_5b73a_row263_col0\" class=\"data row263 col0\" >1995</td>\n",
       "      <td id=\"T_5b73a_row263_col1\" class=\"data row263 col1\" >15.000000</td>\n",
       "      <td id=\"T_5b73a_row263_col2\" class=\"data row263 col2\" >Michael Schumacher</td>\n",
       "      <td id=\"T_5b73a_row263_col3\" class=\"data row263 col3\" >Auto Racing</td>\n",
       "      <td id=\"T_5b73a_row263_col4\" class=\"data row263 col4\" >9</td>\n",
       "    </tr>\n",
       "    <tr>\n",
       "      <th id=\"T_5b73a_level0_row264\" class=\"row_heading level0 row264\" >36</th>\n",
       "      <td id=\"T_5b73a_row264_col0\" class=\"data row264 col0\" >1993</td>\n",
       "      <td id=\"T_5b73a_row264_col1\" class=\"data row264 col1\" >15.000000</td>\n",
       "      <td id=\"T_5b73a_row264_col2\" class=\"data row264 col2\" >Lennox Lewis</td>\n",
       "      <td id=\"T_5b73a_row264_col3\" class=\"data row264 col3\" >Boxing</td>\n",
       "      <td id=\"T_5b73a_row264_col4\" class=\"data row264 col4\" >7</td>\n",
       "    </tr>\n",
       "    <tr>\n",
       "      <th id=\"T_5b73a_level0_row265\" class=\"row_heading level0 row265\" >42</th>\n",
       "      <td id=\"T_5b73a_row265_col0\" class=\"data row265 col0\" >1994</td>\n",
       "      <td id=\"T_5b73a_row265_col1\" class=\"data row265 col1\" >14.800000</td>\n",
       "      <td id=\"T_5b73a_row265_col2\" class=\"data row265 col2\" >Jack Nicklaus</td>\n",
       "      <td id=\"T_5b73a_row265_col3\" class=\"data row265 col3\" >Golf</td>\n",
       "      <td id=\"T_5b73a_row265_col4\" class=\"data row265 col4\" >3</td>\n",
       "    </tr>\n",
       "    <tr>\n",
       "      <th id=\"T_5b73a_level0_row266\" class=\"row_heading level0 row266\" >23</th>\n",
       "      <td id=\"T_5b73a_row266_col0\" class=\"data row266 col0\" >1992</td>\n",
       "      <td id=\"T_5b73a_row266_col1\" class=\"data row266 col1\" >14.500000</td>\n",
       "      <td id=\"T_5b73a_row266_col2\" class=\"data row266 col2\" >Nigel Mansell</td>\n",
       "      <td id=\"T_5b73a_row266_col3\" class=\"data row266 col3\" >Auto Racing</td>\n",
       "      <td id=\"T_5b73a_row266_col4\" class=\"data row266 col4\" >4</td>\n",
       "    </tr>\n",
       "    <tr>\n",
       "      <th id=\"T_5b73a_level0_row267\" class=\"row_heading level0 row267\" >13</th>\n",
       "      <td id=\"T_5b73a_row267_col0\" class=\"data row267 col0\" >1991</td>\n",
       "      <td id=\"T_5b73a_row267_col1\" class=\"data row267 col1\" >14.500000</td>\n",
       "      <td id=\"T_5b73a_row267_col2\" class=\"data row267 col2\" >George Foreman</td>\n",
       "      <td id=\"T_5b73a_row267_col3\" class=\"data row267 col3\" >Boxing</td>\n",
       "      <td id=\"T_5b73a_row267_col4\" class=\"data row267 col4\" >4</td>\n",
       "    </tr>\n",
       "    <tr>\n",
       "      <th id=\"T_5b73a_level0_row268\" class=\"row_heading level0 row268\" >59</th>\n",
       "      <td id=\"T_5b73a_row268_col0\" class=\"data row268 col0\" >1995</td>\n",
       "      <td id=\"T_5b73a_row268_col1\" class=\"data row268 col1\" >14.500000</td>\n",
       "      <td id=\"T_5b73a_row268_col2\" class=\"data row268 col2\" >Wayne Gretzky</td>\n",
       "      <td id=\"T_5b73a_row268_col3\" class=\"data row268 col3\" >Hockey</td>\n",
       "      <td id=\"T_5b73a_row268_col4\" class=\"data row268 col4\" >10</td>\n",
       "    </tr>\n",
       "    <tr>\n",
       "      <th id=\"T_5b73a_level0_row269\" class=\"row_heading level0 row269\" >43</th>\n",
       "      <td id=\"T_5b73a_row269_col0\" class=\"data row269 col0\" >1994</td>\n",
       "      <td id=\"T_5b73a_row269_col1\" class=\"data row269 col1\" >13.600000</td>\n",
       "      <td id=\"T_5b73a_row269_col2\" class=\"data row269 col2\" >Arnold Palmer</td>\n",
       "      <td id=\"T_5b73a_row269_col3\" class=\"data row269 col3\" >Golf</td>\n",
       "      <td id=\"T_5b73a_row269_col4\" class=\"data row269 col4\" >4</td>\n",
       "    </tr>\n",
       "    <tr>\n",
       "      <th id=\"T_5b73a_level0_row270\" class=\"row_heading level0 row270\" >44</th>\n",
       "      <td id=\"T_5b73a_row270_col0\" class=\"data row270 col0\" >1994</td>\n",
       "      <td id=\"T_5b73a_row270_col1\" class=\"data row270 col1\" >13.500000</td>\n",
       "      <td id=\"T_5b73a_row270_col2\" class=\"data row270 col2\" >Gerhard Berger</td>\n",
       "      <td id=\"T_5b73a_row270_col3\" class=\"data row270 col3\" >Auto Racing</td>\n",
       "      <td id=\"T_5b73a_row270_col4\" class=\"data row270 col4\" >5</td>\n",
       "    </tr>\n",
       "    <tr>\n",
       "      <th id=\"T_5b73a_level0_row271\" class=\"row_heading level0 row271\" >45</th>\n",
       "      <td id=\"T_5b73a_row271_col0\" class=\"data row271 col0\" >1994</td>\n",
       "      <td id=\"T_5b73a_row271_col1\" class=\"data row271 col1\" >13.500000</td>\n",
       "      <td id=\"T_5b73a_row271_col2\" class=\"data row271 col2\" >Wayne Gretzky</td>\n",
       "      <td id=\"T_5b73a_row271_col3\" class=\"data row271 col3\" >Hockey</td>\n",
       "      <td id=\"T_5b73a_row271_col4\" class=\"data row271 col4\" >5</td>\n",
       "    </tr>\n",
       "    <tr>\n",
       "      <th id=\"T_5b73a_level0_row272\" class=\"row_heading level0 row272\" >2</th>\n",
       "      <td id=\"T_5b73a_row272_col0\" class=\"data row272 col0\" >1990</td>\n",
       "      <td id=\"T_5b73a_row272_col1\" class=\"data row272 col1\" >13.000000</td>\n",
       "      <td id=\"T_5b73a_row272_col2\" class=\"data row272 col2\" >Sugar Ray Leonard</td>\n",
       "      <td id=\"T_5b73a_row272_col3\" class=\"data row272 col3\" >Boxing</td>\n",
       "      <td id=\"T_5b73a_row272_col4\" class=\"data row272 col4\" >3</td>\n",
       "    </tr>\n",
       "    <tr>\n",
       "      <th id=\"T_5b73a_level0_row273\" class=\"row_heading level0 row273\" >14</th>\n",
       "      <td id=\"T_5b73a_row273_col0\" class=\"data row273 col0\" >1991</td>\n",
       "      <td id=\"T_5b73a_row273_col1\" class=\"data row273 col1\" >13.000000</td>\n",
       "      <td id=\"T_5b73a_row273_col2\" class=\"data row273 col2\" >Ayrton Senna</td>\n",
       "      <td id=\"T_5b73a_row273_col3\" class=\"data row273 col3\" >Auto Racing</td>\n",
       "      <td id=\"T_5b73a_row273_col4\" class=\"data row273 col4\" >5</td>\n",
       "    </tr>\n",
       "    <tr>\n",
       "      <th id=\"T_5b73a_level0_row274\" class=\"row_heading level0 row274\" >69</th>\n",
       "      <td id=\"T_5b73a_row274_col0\" class=\"data row274 col0\" >1996</td>\n",
       "      <td id=\"T_5b73a_row274_col1\" class=\"data row274 col1\" >12.900000</td>\n",
       "      <td id=\"T_5b73a_row274_col2\" class=\"data row274 col2\" >Patrick Ewing</td>\n",
       "      <td id=\"T_5b73a_row274_col3\" class=\"data row274 col3\" >NBA/Basketball</td>\n",
       "      <td id=\"T_5b73a_row274_col4\" class=\"data row274 col4\" >9</td>\n",
       "    </tr>\n",
       "    <tr>\n",
       "      <th id=\"T_5b73a_level0_row275\" class=\"row_heading level0 row275\" >68</th>\n",
       "      <td id=\"T_5b73a_row275_col0\" class=\"data row275 col0\" >1996</td>\n",
       "      <td id=\"T_5b73a_row275_col1\" class=\"data row275 col1\" >12.900000</td>\n",
       "      <td id=\"T_5b73a_row275_col2\" class=\"data row275 col2\" >Dennis Rodman</td>\n",
       "      <td id=\"T_5b73a_row275_col3\" class=\"data row275 col3\" >NBA/Basketball</td>\n",
       "      <td id=\"T_5b73a_row275_col4\" class=\"data row275 col4\" >9</td>\n",
       "    </tr>\n",
       "    <tr>\n",
       "      <th id=\"T_5b73a_level0_row276\" class=\"row_heading level0 row276\" >37</th>\n",
       "      <td id=\"T_5b73a_row276_col0\" class=\"data row276 col0\" >1993</td>\n",
       "      <td id=\"T_5b73a_row276_col1\" class=\"data row276 col1\" >12.700000</td>\n",
       "      <td id=\"T_5b73a_row276_col2\" class=\"data row276 col2\" >Cecil Fielder</td>\n",
       "      <td id=\"T_5b73a_row276_col3\" class=\"data row276 col3\" >Baseball</td>\n",
       "      <td id=\"T_5b73a_row276_col4\" class=\"data row276 col4\" >8</td>\n",
       "    </tr>\n",
       "    <tr>\n",
       "      <th id=\"T_5b73a_level0_row277\" class=\"row_heading level0 row277\" >38</th>\n",
       "      <td id=\"T_5b73a_row277_col0\" class=\"data row277 col0\" >1993</td>\n",
       "      <td id=\"T_5b73a_row277_col1\" class=\"data row277 col1\" >12.600000</td>\n",
       "      <td id=\"T_5b73a_row277_col2\" class=\"data row277 col2\" >Jim Courier</td>\n",
       "      <td id=\"T_5b73a_row277_col3\" class=\"data row277 col3\" >Tennis</td>\n",
       "      <td id=\"T_5b73a_row277_col4\" class=\"data row277 col4\" >9</td>\n",
       "    </tr>\n",
       "    <tr>\n",
       "      <th id=\"T_5b73a_level0_row278\" class=\"row_heading level0 row278\" >46</th>\n",
       "      <td id=\"T_5b73a_row278_col0\" class=\"data row278 col0\" >1994</td>\n",
       "      <td id=\"T_5b73a_row278_col1\" class=\"data row278 col1\" >12.100000</td>\n",
       "      <td id=\"T_5b73a_row278_col2\" class=\"data row278 col2\" >Michael Moorer</td>\n",
       "      <td id=\"T_5b73a_row278_col3\" class=\"data row278 col3\" >Boxing</td>\n",
       "      <td id=\"T_5b73a_row278_col4\" class=\"data row278 col4\" >7</td>\n",
       "    </tr>\n",
       "    <tr>\n",
       "      <th id=\"T_5b73a_level0_row279\" class=\"row_heading level0 row279\" >47</th>\n",
       "      <td id=\"T_5b73a_row279_col0\" class=\"data row279 col0\" >1994</td>\n",
       "      <td id=\"T_5b73a_row279_col1\" class=\"data row279 col1\" >12.000000</td>\n",
       "      <td id=\"T_5b73a_row279_col2\" class=\"data row279 col2\" >Evander Holyfield</td>\n",
       "      <td id=\"T_5b73a_row279_col3\" class=\"data row279 col3\" >Boxing</td>\n",
       "      <td id=\"T_5b73a_row279_col4\" class=\"data row279 col4\" >8</td>\n",
       "    </tr>\n",
       "    <tr>\n",
       "      <th id=\"T_5b73a_level0_row280\" class=\"row_heading level0 row280\" >39</th>\n",
       "      <td id=\"T_5b73a_row280_col0\" class=\"data row280 col0\" >1993</td>\n",
       "      <td id=\"T_5b73a_row280_col1\" class=\"data row280 col1\" >11.500000</td>\n",
       "      <td id=\"T_5b73a_row280_col2\" class=\"data row280 col2\" >Joe Montana</td>\n",
       "      <td id=\"T_5b73a_row280_col3\" class=\"data row280 col3\" >NFL</td>\n",
       "      <td id=\"T_5b73a_row280_col4\" class=\"data row280 col4\" >10</td>\n",
       "    </tr>\n",
       "    <tr>\n",
       "      <th id=\"T_5b73a_level0_row281\" class=\"row_heading level0 row281\" >48</th>\n",
       "      <td id=\"T_5b73a_row281_col0\" class=\"data row281 col0\" >1994</td>\n",
       "      <td id=\"T_5b73a_row281_col1\" class=\"data row281 col1\" >11.400000</td>\n",
       "      <td id=\"T_5b73a_row281_col2\" class=\"data row281 col2\" >Andre Agassi</td>\n",
       "      <td id=\"T_5b73a_row281_col3\" class=\"data row281 col3\" >Tennis</td>\n",
       "      <td id=\"T_5b73a_row281_col4\" class=\"data row281 col4\" >9</td>\n",
       "    </tr>\n",
       "    <tr>\n",
       "      <th id=\"T_5b73a_level0_row282\" class=\"row_heading level0 row282\" >49</th>\n",
       "      <td id=\"T_5b73a_row282_col0\" class=\"data row282 col0\" >1994</td>\n",
       "      <td id=\"T_5b73a_row282_col1\" class=\"data row282 col1\" >11.300000</td>\n",
       "      <td id=\"T_5b73a_row282_col2\" class=\"data row282 col2\" >Nigel Mansell</td>\n",
       "      <td id=\"T_5b73a_row282_col3\" class=\"data row282 col3\" >Auto Racing</td>\n",
       "      <td id=\"T_5b73a_row282_col4\" class=\"data row282 col4\" >10</td>\n",
       "    </tr>\n",
       "    <tr>\n",
       "      <th id=\"T_5b73a_level0_row283\" class=\"row_heading level0 row283\" >24</th>\n",
       "      <td id=\"T_5b73a_row283_col0\" class=\"data row283 col0\" >1992</td>\n",
       "      <td id=\"T_5b73a_row283_col1\" class=\"data row283 col1\" >11.100000</td>\n",
       "      <td id=\"T_5b73a_row283_col2\" class=\"data row283 col2\" >Arnold Palmer</td>\n",
       "      <td id=\"T_5b73a_row283_col3\" class=\"data row283 col3\" >Golf</td>\n",
       "      <td id=\"T_5b73a_row283_col4\" class=\"data row283 col4\" >5</td>\n",
       "    </tr>\n",
       "    <tr>\n",
       "      <th id=\"T_5b73a_level0_row284\" class=\"row_heading level0 row284\" >25</th>\n",
       "      <td id=\"T_5b73a_row284_col0\" class=\"data row284 col0\" >1992</td>\n",
       "      <td id=\"T_5b73a_row284_col1\" class=\"data row284 col1\" >11.000000</td>\n",
       "      <td id=\"T_5b73a_row284_col2\" class=\"data row284 col2\" >Andre Agassi</td>\n",
       "      <td id=\"T_5b73a_row284_col3\" class=\"data row284 col3\" >Tennis</td>\n",
       "      <td id=\"T_5b73a_row284_col4\" class=\"data row284 col4\" >6</td>\n",
       "    </tr>\n",
       "    <tr>\n",
       "      <th id=\"T_5b73a_level0_row285\" class=\"row_heading level0 row285\" >15</th>\n",
       "      <td id=\"T_5b73a_row285_col0\" class=\"data row285 col0\" >1991</td>\n",
       "      <td id=\"T_5b73a_row285_col1\" class=\"data row285 col1\" >11.000000</td>\n",
       "      <td id=\"T_5b73a_row285_col2\" class=\"data row285 col2\" >Alain Prost</td>\n",
       "      <td id=\"T_5b73a_row285_col3\" class=\"data row285 col3\" >Auto Racing</td>\n",
       "      <td id=\"T_5b73a_row285_col4\" class=\"data row285 col4\" >6</td>\n",
       "    </tr>\n",
       "    <tr>\n",
       "      <th id=\"T_5b73a_level0_row286\" class=\"row_heading level0 row286\" >16</th>\n",
       "      <td id=\"T_5b73a_row286_col0\" class=\"data row286 col0\" >1991</td>\n",
       "      <td id=\"T_5b73a_row286_col1\" class=\"data row286 col1\" >10.200000</td>\n",
       "      <td id=\"T_5b73a_row286_col2\" class=\"data row286 col2\" >Donovan \"Razor\" Ruddock</td>\n",
       "      <td id=\"T_5b73a_row286_col3\" class=\"data row286 col3\" >Boxing</td>\n",
       "      <td id=\"T_5b73a_row286_col4\" class=\"data row286 col4\" >7</td>\n",
       "    </tr>\n",
       "    <tr>\n",
       "      <th id=\"T_5b73a_level0_row287\" class=\"row_heading level0 row287\" >3</th>\n",
       "      <td id=\"T_5b73a_row287_col0\" class=\"data row287 col0\" >1990</td>\n",
       "      <td id=\"T_5b73a_row287_col1\" class=\"data row287 col1\" >10.000000</td>\n",
       "      <td id=\"T_5b73a_row287_col2\" class=\"data row287 col2\" >Ayrton Senna</td>\n",
       "      <td id=\"T_5b73a_row287_col3\" class=\"data row287 col3\" >Auto Racing</td>\n",
       "      <td id=\"T_5b73a_row287_col4\" class=\"data row287 col4\" >4</td>\n",
       "    </tr>\n",
       "    <tr>\n",
       "      <th id=\"T_5b73a_level0_row288\" class=\"row_heading level0 row288\" >26</th>\n",
       "      <td id=\"T_5b73a_row288_col0\" class=\"data row288 col0\" >1992</td>\n",
       "      <td id=\"T_5b73a_row288_col1\" class=\"data row288 col1\" >9.500000</td>\n",
       "      <td id=\"T_5b73a_row288_col2\" class=\"data row288 col2\" >Joe Montana</td>\n",
       "      <td id=\"T_5b73a_row288_col3\" class=\"data row288 col3\" >NFL</td>\n",
       "      <td id=\"T_5b73a_row288_col4\" class=\"data row288 col4\" >7</td>\n",
       "    </tr>\n",
       "    <tr>\n",
       "      <th id=\"T_5b73a_level0_row289\" class=\"row_heading level0 row289\" >17</th>\n",
       "      <td id=\"T_5b73a_row289_col0\" class=\"data row289 col0\" >1991</td>\n",
       "      <td id=\"T_5b73a_row289_col1\" class=\"data row289 col1\" >9.300000</td>\n",
       "      <td id=\"T_5b73a_row289_col2\" class=\"data row289 col2\" >Arnold Palmer</td>\n",
       "      <td id=\"T_5b73a_row289_col3\" class=\"data row289 col3\" >Golf</td>\n",
       "      <td id=\"T_5b73a_row289_col4\" class=\"data row289 col4\" >8</td>\n",
       "    </tr>\n",
       "    <tr>\n",
       "      <th id=\"T_5b73a_level0_row290\" class=\"row_heading level0 row290\" >27</th>\n",
       "      <td id=\"T_5b73a_row290_col0\" class=\"data row290 col0\" >1992</td>\n",
       "      <td id=\"T_5b73a_row290_col1\" class=\"data row290 col1\" >9.200000</td>\n",
       "      <td id=\"T_5b73a_row290_col2\" class=\"data row290 col2\" >Sugar Ray Leonard</td>\n",
       "      <td id=\"T_5b73a_row290_col3\" class=\"data row290 col3\" >Golf</td>\n",
       "      <td id=\"T_5b73a_row290_col4\" class=\"data row290 col4\" >8</td>\n",
       "    </tr>\n",
       "    <tr>\n",
       "      <th id=\"T_5b73a_level0_row291\" class=\"row_heading level0 row291\" >18</th>\n",
       "      <td id=\"T_5b73a_row291_col0\" class=\"data row291 col0\" >1991</td>\n",
       "      <td id=\"T_5b73a_row291_col1\" class=\"data row291 col1\" >9.000000</td>\n",
       "      <td id=\"T_5b73a_row291_col2\" class=\"data row291 col2\" >Nigel Mansell</td>\n",
       "      <td id=\"T_5b73a_row291_col3\" class=\"data row291 col3\" >Auto Racing</td>\n",
       "      <td id=\"T_5b73a_row291_col4\" class=\"data row291 col4\" >9</td>\n",
       "    </tr>\n",
       "    <tr>\n",
       "      <th id=\"T_5b73a_level0_row292\" class=\"row_heading level0 row292\" >4</th>\n",
       "      <td id=\"T_5b73a_row292_col0\" class=\"data row292 col0\" >1990</td>\n",
       "      <td id=\"T_5b73a_row292_col1\" class=\"data row292 col1\" >9.000000</td>\n",
       "      <td id=\"T_5b73a_row292_col2\" class=\"data row292 col2\" >Alain Prost</td>\n",
       "      <td id=\"T_5b73a_row292_col3\" class=\"data row292 col3\" >Auto Racing</td>\n",
       "      <td id=\"T_5b73a_row292_col4\" class=\"data row292 col4\" >5</td>\n",
       "    </tr>\n",
       "    <tr>\n",
       "      <th id=\"T_5b73a_level0_row293\" class=\"row_heading level0 row293\" >28</th>\n",
       "      <td id=\"T_5b73a_row293_col0\" class=\"data row293 col0\" >1992</td>\n",
       "      <td id=\"T_5b73a_row293_col1\" class=\"data row293 col1\" >9.000000</td>\n",
       "      <td id=\"T_5b73a_row293_col2\" class=\"data row293 col2\" >Jim Courier</td>\n",
       "      <td id=\"T_5b73a_row293_col3\" class=\"data row293 col3\" >Tennis</td>\n",
       "      <td id=\"T_5b73a_row293_col4\" class=\"data row293 col4\" >9</td>\n",
       "    </tr>\n",
       "    <tr>\n",
       "      <th id=\"T_5b73a_level0_row294\" class=\"row_heading level0 row294\" >5</th>\n",
       "      <td id=\"T_5b73a_row294_col0\" class=\"data row294 col0\" >1990</td>\n",
       "      <td id=\"T_5b73a_row294_col1\" class=\"data row294 col1\" >8.600000</td>\n",
       "      <td id=\"T_5b73a_row294_col2\" class=\"data row294 col2\" >Jack Nicklaus</td>\n",
       "      <td id=\"T_5b73a_row294_col3\" class=\"data row294 col3\" >Golf</td>\n",
       "      <td id=\"T_5b73a_row294_col4\" class=\"data row294 col4\" >6</td>\n",
       "    </tr>\n",
       "    <tr>\n",
       "      <th id=\"T_5b73a_level0_row295\" class=\"row_heading level0 row295\" >6</th>\n",
       "      <td id=\"T_5b73a_row295_col0\" class=\"data row295 col0\" >1990</td>\n",
       "      <td id=\"T_5b73a_row295_col1\" class=\"data row295 col1\" >8.500000</td>\n",
       "      <td id=\"T_5b73a_row295_col2\" class=\"data row295 col2\" >Greg Norman</td>\n",
       "      <td id=\"T_5b73a_row295_col3\" class=\"data row295 col3\" >Golf</td>\n",
       "      <td id=\"T_5b73a_row295_col4\" class=\"data row295 col4\" >7</td>\n",
       "    </tr>\n",
       "    <tr>\n",
       "      <th id=\"T_5b73a_level0_row296\" class=\"row_heading level0 row296\" >19</th>\n",
       "      <td id=\"T_5b73a_row296_col0\" class=\"data row296 col0\" >1991</td>\n",
       "      <td id=\"T_5b73a_row296_col1\" class=\"data row296 col1\" >8.500000</td>\n",
       "      <td id=\"T_5b73a_row296_col2\" class=\"data row296 col2\" >Sugar Ray Leonard</td>\n",
       "      <td id=\"T_5b73a_row296_col3\" class=\"data row296 col3\" >Golf</td>\n",
       "      <td id=\"T_5b73a_row296_col4\" class=\"data row296 col4\" >10</td>\n",
       "    </tr>\n",
       "    <tr>\n",
       "      <th id=\"T_5b73a_level0_row297\" class=\"row_heading level0 row297\" >29</th>\n",
       "      <td id=\"T_5b73a_row297_col0\" class=\"data row297 col0\" >1992</td>\n",
       "      <td id=\"T_5b73a_row297_col1\" class=\"data row297 col1\" >8.500000</td>\n",
       "      <td id=\"T_5b73a_row297_col2\" class=\"data row297 col2\" >Monica Seles</td>\n",
       "      <td id=\"T_5b73a_row297_col3\" class=\"data row297 col3\" >Tennis</td>\n",
       "      <td id=\"T_5b73a_row297_col4\" class=\"data row297 col4\" >10</td>\n",
       "    </tr>\n",
       "    <tr>\n",
       "      <th id=\"T_5b73a_level0_row298\" class=\"row_heading level0 row298\" >9</th>\n",
       "      <td id=\"T_5b73a_row298_col0\" class=\"data row298 col0\" >1990</td>\n",
       "      <td id=\"T_5b73a_row298_col1\" class=\"data row298 col1\" >8.100000</td>\n",
       "      <td id=\"T_5b73a_row298_col2\" class=\"data row298 col2\" >Evander Holyfield</td>\n",
       "      <td id=\"T_5b73a_row298_col3\" class=\"data row298 col3\" >Boxing</td>\n",
       "      <td id=\"T_5b73a_row298_col4\" class=\"data row298 col4\" >8</td>\n",
       "    </tr>\n",
       "    <tr>\n",
       "      <th id=\"T_5b73a_level0_row299\" class=\"row_heading level0 row299\" >8</th>\n",
       "      <td id=\"T_5b73a_row299_col0\" class=\"data row299 col0\" >1990</td>\n",
       "      <td id=\"T_5b73a_row299_col1\" class=\"data row299 col1\" >8.100000</td>\n",
       "      <td id=\"T_5b73a_row299_col2\" class=\"data row299 col2\" >Arnold Palmer</td>\n",
       "      <td id=\"T_5b73a_row299_col3\" class=\"data row299 col3\" >Golf</td>\n",
       "      <td id=\"T_5b73a_row299_col4\" class=\"data row299 col4\" >8</td>\n",
       "    </tr>\n",
       "    <tr>\n",
       "      <th id=\"T_5b73a_level0_row300\" class=\"row_heading level0 row300\" >7</th>\n",
       "      <td id=\"T_5b73a_row300_col0\" class=\"data row300 col0\" >1990</td>\n",
       "      <td id=\"T_5b73a_row300_col1\" class=\"data row300 col1\" >8.100000</td>\n",
       "      <td id=\"T_5b73a_row300_col2\" class=\"data row300 col2\" >Michael Jordan</td>\n",
       "      <td id=\"T_5b73a_row300_col3\" class=\"data row300 col3\" >NBA/Basketball</td>\n",
       "      <td id=\"T_5b73a_row300_col4\" class=\"data row300 col4\" >8</td>\n",
       "    </tr>\n",
       "  </tbody>\n",
       "</table>\n"
      ],
      "text/plain": [
       "<pandas.io.formats.style.Styler at 0x15f266620>"
      ]
     },
     "execution_count": 53,
     "metadata": {},
     "output_type": "execute_result"
    }
   ],
   "source": [
    "high_pay_year = df[['Year', 'Earnings ($M)', 'Name', 'Sport', 'Current Rank']].sort_values(by='Earnings ($M)',ascending=False)\n",
    "high_pay_year.style.background_gradient(cmap='Blues')\n",
    "# Floyd Mayweather has been the highest paid player, getting a $300M contract in 2015 for his boxing career.\n",
    "# Meanwhile NBA player Michael Jordan signed the lowest paid contract from the given data set, accounted for $8.1M in 1990."
   ]
  },
  {
   "cell_type": "markdown",
   "metadata": {},
   "source": [
    "- All time highest paid players"
   ]
  },
  {
   "cell_type": "code",
   "execution_count": 54,
   "metadata": {},
   "outputs": [
    {
     "data": {
      "text/html": [
       "<style type=\"text/css\">\n",
       "#T_cd3f4_row0_col0 {\n",
       "  background-color: #08306b;\n",
       "  color: #f1f1f1;\n",
       "}\n",
       "#T_cd3f4_row1_col0 {\n",
       "  background-color: #4695c8;\n",
       "  color: #f1f1f1;\n",
       "}\n",
       "#T_cd3f4_row2_col0 {\n",
       "  background-color: #4896c8;\n",
       "  color: #f1f1f1;\n",
       "}\n",
       "#T_cd3f4_row3_col0 {\n",
       "  background-color: #549fcd;\n",
       "  color: #f1f1f1;\n",
       "}\n",
       "#T_cd3f4_row4_col0 {\n",
       "  background-color: #56a0ce;\n",
       "  color: #f1f1f1;\n",
       "}\n",
       "#T_cd3f4_row5_col0 {\n",
       "  background-color: #60a7d2;\n",
       "  color: #f1f1f1;\n",
       "}\n",
       "#T_cd3f4_row6_col0 {\n",
       "  background-color: #65aad4;\n",
       "  color: #f1f1f1;\n",
       "}\n",
       "#T_cd3f4_row7_col0 {\n",
       "  background-color: #7ab6d9;\n",
       "  color: #000000;\n",
       "}\n",
       "#T_cd3f4_row8_col0 {\n",
       "  background-color: #85bcdc;\n",
       "  color: #000000;\n",
       "}\n",
       "#T_cd3f4_row9_col0 {\n",
       "  background-color: #9fcae1;\n",
       "  color: #000000;\n",
       "}\n",
       "#T_cd3f4_row10_col0 {\n",
       "  background-color: #c3daee;\n",
       "  color: #000000;\n",
       "}\n",
       "#T_cd3f4_row11_col0 {\n",
       "  background-color: #c7dcef;\n",
       "  color: #000000;\n",
       "}\n",
       "#T_cd3f4_row12_col0, #T_cd3f4_row13_col0 {\n",
       "  background-color: #cddff1;\n",
       "  color: #000000;\n",
       "}\n",
       "#T_cd3f4_row14_col0 {\n",
       "  background-color: #cde0f1;\n",
       "  color: #000000;\n",
       "}\n",
       "#T_cd3f4_row15_col0 {\n",
       "  background-color: #cfe1f2;\n",
       "  color: #000000;\n",
       "}\n",
       "#T_cd3f4_row16_col0 {\n",
       "  background-color: #d0e2f2;\n",
       "  color: #000000;\n",
       "}\n",
       "#T_cd3f4_row17_col0 {\n",
       "  background-color: #d6e6f4;\n",
       "  color: #000000;\n",
       "}\n",
       "#T_cd3f4_row18_col0 {\n",
       "  background-color: #d9e8f5;\n",
       "  color: #000000;\n",
       "}\n",
       "#T_cd3f4_row19_col0, #T_cd3f4_row20_col0 {\n",
       "  background-color: #e4eff9;\n",
       "  color: #000000;\n",
       "}\n",
       "#T_cd3f4_row21_col0, #T_cd3f4_row22_col0 {\n",
       "  background-color: #e6f0f9;\n",
       "  color: #000000;\n",
       "}\n",
       "#T_cd3f4_row23_col0 {\n",
       "  background-color: #e7f1fa;\n",
       "  color: #000000;\n",
       "}\n",
       "#T_cd3f4_row24_col0 {\n",
       "  background-color: #e8f1fa;\n",
       "  color: #000000;\n",
       "}\n",
       "#T_cd3f4_row25_col0 {\n",
       "  background-color: #e9f2fa;\n",
       "  color: #000000;\n",
       "}\n",
       "#T_cd3f4_row26_col0 {\n",
       "  background-color: #eaf2fb;\n",
       "  color: #000000;\n",
       "}\n",
       "#T_cd3f4_row27_col0, #T_cd3f4_row28_col0, #T_cd3f4_row29_col0, #T_cd3f4_row30_col0 {\n",
       "  background-color: #eaf3fb;\n",
       "  color: #000000;\n",
       "}\n",
       "#T_cd3f4_row31_col0 {\n",
       "  background-color: #ebf3fb;\n",
       "  color: #000000;\n",
       "}\n",
       "#T_cd3f4_row32_col0 {\n",
       "  background-color: #ecf4fb;\n",
       "  color: #000000;\n",
       "}\n",
       "#T_cd3f4_row33_col0, #T_cd3f4_row34_col0 {\n",
       "  background-color: #eef5fc;\n",
       "  color: #000000;\n",
       "}\n",
       "#T_cd3f4_row35_col0 {\n",
       "  background-color: #eff6fc;\n",
       "  color: #000000;\n",
       "}\n",
       "#T_cd3f4_row36_col0, #T_cd3f4_row37_col0, #T_cd3f4_row38_col0 {\n",
       "  background-color: #f0f6fd;\n",
       "  color: #000000;\n",
       "}\n",
       "#T_cd3f4_row39_col0, #T_cd3f4_row40_col0, #T_cd3f4_row41_col0, #T_cd3f4_row42_col0 {\n",
       "  background-color: #f1f7fd;\n",
       "  color: #000000;\n",
       "}\n",
       "#T_cd3f4_row43_col0, #T_cd3f4_row44_col0, #T_cd3f4_row45_col0, #T_cd3f4_row46_col0, #T_cd3f4_row47_col0, #T_cd3f4_row48_col0, #T_cd3f4_row49_col0 {\n",
       "  background-color: #f2f7fd;\n",
       "  color: #000000;\n",
       "}\n",
       "#T_cd3f4_row50_col0, #T_cd3f4_row51_col0, #T_cd3f4_row52_col0 {\n",
       "  background-color: #f2f8fd;\n",
       "  color: #000000;\n",
       "}\n",
       "#T_cd3f4_row53_col0, #T_cd3f4_row54_col0, #T_cd3f4_row55_col0, #T_cd3f4_row56_col0 {\n",
       "  background-color: #f3f8fe;\n",
       "  color: #000000;\n",
       "}\n",
       "#T_cd3f4_row57_col0, #T_cd3f4_row58_col0, #T_cd3f4_row59_col0 {\n",
       "  background-color: #f4f9fe;\n",
       "  color: #000000;\n",
       "}\n",
       "#T_cd3f4_row60_col0, #T_cd3f4_row61_col0, #T_cd3f4_row62_col0, #T_cd3f4_row63_col0, #T_cd3f4_row64_col0 {\n",
       "  background-color: #f5f9fe;\n",
       "  color: #000000;\n",
       "}\n",
       "#T_cd3f4_row65_col0, #T_cd3f4_row66_col0, #T_cd3f4_row67_col0, #T_cd3f4_row68_col0, #T_cd3f4_row69_col0 {\n",
       "  background-color: #f5fafe;\n",
       "  color: #000000;\n",
       "}\n",
       "#T_cd3f4_row70_col0, #T_cd3f4_row71_col0, #T_cd3f4_row72_col0 {\n",
       "  background-color: #f6faff;\n",
       "  color: #000000;\n",
       "}\n",
       "#T_cd3f4_row73_col0, #T_cd3f4_row74_col0, #T_cd3f4_row75_col0, #T_cd3f4_row76_col0, #T_cd3f4_row77_col0, #T_cd3f4_row78_col0, #T_cd3f4_row79_col0 {\n",
       "  background-color: #f7fbff;\n",
       "  color: #000000;\n",
       "}\n",
       "</style>\n",
       "<table id=\"T_cd3f4\">\n",
       "  <thead>\n",
       "    <tr>\n",
       "      <th class=\"blank level0\" >&nbsp;</th>\n",
       "      <th id=\"T_cd3f4_level0_col0\" class=\"col_heading level0 col0\" >Earnings ($M)</th>\n",
       "    </tr>\n",
       "    <tr>\n",
       "      <th class=\"index_name level0\" >Name</th>\n",
       "      <th class=\"blank col0\" >&nbsp;</th>\n",
       "    </tr>\n",
       "  </thead>\n",
       "  <tbody>\n",
       "    <tr>\n",
       "      <th id=\"T_cd3f4_level0_row0\" class=\"row_heading level0 row0\" >Tiger Woods</th>\n",
       "      <td id=\"T_cd3f4_row0_col0\" class=\"data row0 col0\" >1373.800000</td>\n",
       "    </tr>\n",
       "    <tr>\n",
       "      <th id=\"T_cd3f4_level0_row1\" class=\"row_heading level0 row1\" >LeBron James</th>\n",
       "      <td id=\"T_cd3f4_row1_col0\" class=\"data row1 col0\" >844.800000</td>\n",
       "    </tr>\n",
       "    <tr>\n",
       "      <th id=\"T_cd3f4_level0_row2\" class=\"row_heading level0 row2\" >Floyd Mayweather</th>\n",
       "      <td id=\"T_cd3f4_row2_col0\" class=\"data row2 col0\" >840.000000</td>\n",
       "    </tr>\n",
       "    <tr>\n",
       "      <th id=\"T_cd3f4_level0_row3\" class=\"row_heading level0 row3\" >Cristiano Ronaldo</th>\n",
       "      <td id=\"T_cd3f4_row3_col0\" class=\"data row3 col0\" >787.100000</td>\n",
       "    </tr>\n",
       "    <tr>\n",
       "      <th id=\"T_cd3f4_level0_row4\" class=\"row_heading level0 row4\" >Roger Federer</th>\n",
       "      <td id=\"T_cd3f4_row4_col0\" class=\"data row4 col0\" >781.100000</td>\n",
       "    </tr>\n",
       "    <tr>\n",
       "      <th id=\"T_cd3f4_level0_row5\" class=\"row_heading level0 row5\" >Michael Jordan</th>\n",
       "      <td id=\"T_cd3f4_row5_col0\" class=\"data row5 col0\" >738.800000</td>\n",
       "    </tr>\n",
       "    <tr>\n",
       "      <th id=\"T_cd3f4_level0_row6\" class=\"row_heading level0 row6\" >Lionel Messi</th>\n",
       "      <td id=\"T_cd3f4_row6_col0\" class=\"data row6 col0\" >715.500000</td>\n",
       "    </tr>\n",
       "    <tr>\n",
       "      <th id=\"T_cd3f4_level0_row7\" class=\"row_heading level0 row7\" >Michael Schumacher</th>\n",
       "      <td id=\"T_cd3f4_row7_col0\" class=\"data row7 col0\" >639.000000</td>\n",
       "    </tr>\n",
       "    <tr>\n",
       "      <th id=\"T_cd3f4_level0_row8\" class=\"row_heading level0 row8\" >Kobe Bryant</th>\n",
       "      <td id=\"T_cd3f4_row8_col0\" class=\"data row8 col0\" >601.100000</td>\n",
       "    </tr>\n",
       "    <tr>\n",
       "      <th id=\"T_cd3f4_level0_row9\" class=\"row_heading level0 row9\" >Phil Mickelson</th>\n",
       "      <td id=\"T_cd3f4_row9_col0\" class=\"data row9 col0\" >519.900000</td>\n",
       "    </tr>\n",
       "    <tr>\n",
       "      <th id=\"T_cd3f4_level0_row10\" class=\"row_heading level0 row10\" >David Beckham</th>\n",
       "      <td id=\"T_cd3f4_row10_col0\" class=\"data row10 col0\" >362.400000</td>\n",
       "    </tr>\n",
       "    <tr>\n",
       "      <th id=\"T_cd3f4_level0_row11\" class=\"row_heading level0 row11\" >Shaquille O'Neal</th>\n",
       "      <td id=\"T_cd3f4_row11_col0\" class=\"data row11 col0\" >340.400000</td>\n",
       "    </tr>\n",
       "    <tr>\n",
       "      <th id=\"T_cd3f4_level0_row12\" class=\"row_heading level0 row12\" >Mike Tyson</th>\n",
       "      <td id=\"T_cd3f4_row12_col0\" class=\"data row12 col0\" >306.100000</td>\n",
       "    </tr>\n",
       "    <tr>\n",
       "      <th id=\"T_cd3f4_level0_row13\" class=\"row_heading level0 row13\" >Manny Pacquiao</th>\n",
       "      <td id=\"T_cd3f4_row13_col0\" class=\"data row13 col0\" >304.000000</td>\n",
       "    </tr>\n",
       "    <tr>\n",
       "      <th id=\"T_cd3f4_level0_row14\" class=\"row_heading level0 row14\" >Kevin Durant</th>\n",
       "      <td id=\"T_cd3f4_row14_col0\" class=\"data row14 col0\" >300.300000</td>\n",
       "    </tr>\n",
       "    <tr>\n",
       "      <th id=\"T_cd3f4_level0_row15\" class=\"row_heading level0 row15\" >Neymar</th>\n",
       "      <td id=\"T_cd3f4_row15_col0\" class=\"data row15 col0\" >290.500000</td>\n",
       "    </tr>\n",
       "    <tr>\n",
       "      <th id=\"T_cd3f4_level0_row16\" class=\"row_heading level0 row16\" >Stephen Curry</th>\n",
       "      <td id=\"T_cd3f4_row16_col0\" class=\"data row16 col0\" >278.400000</td>\n",
       "    </tr>\n",
       "    <tr>\n",
       "      <th id=\"T_cd3f4_level0_row17\" class=\"row_heading level0 row17\" >Oscar De La Hoya</th>\n",
       "      <td id=\"T_cd3f4_row17_col0\" class=\"data row17 col0\" >234.000000</td>\n",
       "    </tr>\n",
       "    <tr>\n",
       "      <th id=\"T_cd3f4_level0_row18\" class=\"row_heading level0 row18\" >Evander Holyfield</th>\n",
       "      <td id=\"T_cd3f4_row18_col0\" class=\"data row18 col0\" >213.900000</td>\n",
       "    </tr>\n",
       "    <tr>\n",
       "      <th id=\"T_cd3f4_level0_row19\" class=\"row_heading level0 row19\" >Aaron Rodgers</th>\n",
       "      <td id=\"T_cd3f4_row19_col0\" class=\"data row19 col0\" >138.300000</td>\n",
       "    </tr>\n",
       "    <tr>\n",
       "      <th id=\"T_cd3f4_level0_row20\" class=\"row_heading level0 row20\" >Grant Hill</th>\n",
       "      <td id=\"T_cd3f4_row20_col0\" class=\"data row20 col0\" >137.100000</td>\n",
       "    </tr>\n",
       "    <tr>\n",
       "      <th id=\"T_cd3f4_level0_row21\" class=\"row_heading level0 row21\" >Kimi Raikkonen</th>\n",
       "      <td id=\"T_cd3f4_row21_col0\" class=\"data row21 col0\" >129.000000</td>\n",
       "    </tr>\n",
       "    <tr>\n",
       "      <th id=\"T_cd3f4_level0_row22\" class=\"row_heading level0 row22\" >Valentino Rossi</th>\n",
       "      <td id=\"T_cd3f4_row22_col0\" class=\"data row22 col0\" >128.000000</td>\n",
       "    </tr>\n",
       "    <tr>\n",
       "      <th id=\"T_cd3f4_level0_row23\" class=\"row_heading level0 row23\" >Alex Rodriguez</th>\n",
       "      <td id=\"T_cd3f4_row23_col0\" class=\"data row23 col0\" >116.200000</td>\n",
       "    </tr>\n",
       "    <tr>\n",
       "      <th id=\"T_cd3f4_level0_row24\" class=\"row_heading level0 row24\" >Matt Ryan</th>\n",
       "      <td id=\"T_cd3f4_row24_col0\" class=\"data row24 col0\" >111.100000</td>\n",
       "    </tr>\n",
       "    <tr>\n",
       "      <th id=\"T_cd3f4_level0_row25\" class=\"row_heading level0 row25\" >Andre Agassi</th>\n",
       "      <td id=\"T_cd3f4_row25_col0\" class=\"data row25 col0\" >105.800000</td>\n",
       "    </tr>\n",
       "    <tr>\n",
       "      <th id=\"T_cd3f4_level0_row26\" class=\"row_heading level0 row26\" >Kevin Garnett</th>\n",
       "      <td id=\"T_cd3f4_row26_col0\" class=\"data row26 col0\" >101.700000</td>\n",
       "    </tr>\n",
       "    <tr>\n",
       "      <th id=\"T_cd3f4_level0_row27\" class=\"row_heading level0 row27\" >Conor McGregor</th>\n",
       "      <td id=\"T_cd3f4_row27_col0\" class=\"data row27 col0\" >99.000000</td>\n",
       "    </tr>\n",
       "    <tr>\n",
       "      <th id=\"T_cd3f4_level0_row28\" class=\"row_heading level0 row28\" >Lennox Lewis</th>\n",
       "      <td id=\"T_cd3f4_row28_col0\" class=\"data row28 col0\" >95.000000</td>\n",
       "    </tr>\n",
       "    <tr>\n",
       "      <th id=\"T_cd3f4_level0_row29\" class=\"row_heading level0 row29\" >Dale Earnhardt</th>\n",
       "      <td id=\"T_cd3f4_row29_col0\" class=\"data row29 col0\" >94.200000</td>\n",
       "    </tr>\n",
       "    <tr>\n",
       "      <th id=\"T_cd3f4_level0_row30\" class=\"row_heading level0 row30\" >Canelo Alvarez</th>\n",
       "      <td id=\"T_cd3f4_row30_col0\" class=\"data row30 col0\" >94.000000</td>\n",
       "    </tr>\n",
       "    <tr>\n",
       "      <th id=\"T_cd3f4_level0_row31\" class=\"row_heading level0 row31\" >Russell Wilson</th>\n",
       "      <td id=\"T_cd3f4_row31_col0\" class=\"data row31 col0\" >89.500000</td>\n",
       "    </tr>\n",
       "    <tr>\n",
       "      <th id=\"T_cd3f4_level0_row32\" class=\"row_heading level0 row32\" >Peyton Manning</th>\n",
       "      <td id=\"T_cd3f4_row32_col0\" class=\"data row32 col0\" >84.400000</td>\n",
       "    </tr>\n",
       "    <tr>\n",
       "      <th id=\"T_cd3f4_level0_row33\" class=\"row_heading level0 row33\" >Arnold Palmer</th>\n",
       "      <td id=\"T_cd3f4_row33_col0\" class=\"data row33 col0\" >75.300000</td>\n",
       "    </tr>\n",
       "    <tr>\n",
       "      <th id=\"T_cd3f4_level0_row34\" class=\"row_heading level0 row34\" >Ronaldinho</th>\n",
       "      <td id=\"T_cd3f4_row34_col0\" class=\"data row34 col0\" >68.000000</td>\n",
       "    </tr>\n",
       "    <tr>\n",
       "      <th id=\"T_cd3f4_level0_row35\" class=\"row_heading level0 row35\" >Ayrton Senna</th>\n",
       "      <td id=\"T_cd3f4_row35_col0\" class=\"data row35 col0\" >63.500000</td>\n",
       "    </tr>\n",
       "    <tr>\n",
       "      <th id=\"T_cd3f4_level0_row36\" class=\"row_heading level0 row36\" >Kirk Cousins</th>\n",
       "      <td id=\"T_cd3f4_row36_col0\" class=\"data row36 col0\" >60.500000</td>\n",
       "    </tr>\n",
       "    <tr>\n",
       "      <th id=\"T_cd3f4_level0_row37\" class=\"row_heading level0 row37\" >Matthew Stafford</th>\n",
       "      <td id=\"T_cd3f4_row37_col0\" class=\"data row37 col0\" >59.500000</td>\n",
       "    </tr>\n",
       "    <tr>\n",
       "      <th id=\"T_cd3f4_level0_row38\" class=\"row_heading level0 row38\" >Carson Wentz</th>\n",
       "      <td id=\"T_cd3f4_row38_col0\" class=\"data row38 col0\" >59.100000</td>\n",
       "    </tr>\n",
       "    <tr>\n",
       "      <th id=\"T_cd3f4_level0_row39\" class=\"row_heading level0 row39\" >Novak Djokovic</th>\n",
       "      <td id=\"T_cd3f4_row39_col0\" class=\"data row39 col0\" >55.800000</td>\n",
       "    </tr>\n",
       "    <tr>\n",
       "      <th id=\"T_cd3f4_level0_row40\" class=\"row_heading level0 row40\" >Muhammad Ali</th>\n",
       "      <td id=\"T_cd3f4_row40_col0\" class=\"data row40 col0\" >55.000000</td>\n",
       "    </tr>\n",
       "    <tr>\n",
       "      <th id=\"T_cd3f4_level0_row41\" class=\"row_heading level0 row41\" >Cam Newton</th>\n",
       "      <td id=\"T_cd3f4_row41_col0\" class=\"data row41 col0\" >53.100000</td>\n",
       "    </tr>\n",
       "    <tr>\n",
       "      <th id=\"T_cd3f4_level0_row42\" class=\"row_heading level0 row42\" >Jordan Spieth</th>\n",
       "      <td id=\"T_cd3f4_row42_col0\" class=\"data row42 col0\" >52.800000</td>\n",
       "    </tr>\n",
       "    <tr>\n",
       "      <th id=\"T_cd3f4_level0_row43\" class=\"row_heading level0 row43\" >Drew Brees</th>\n",
       "      <td id=\"T_cd3f4_row43_col0\" class=\"data row43 col0\" >51.000000</td>\n",
       "    </tr>\n",
       "    <tr>\n",
       "      <th id=\"T_cd3f4_level0_row44\" class=\"row_heading level0 row44\" >Andrew Luck</th>\n",
       "      <td id=\"T_cd3f4_row44_col0\" class=\"data row44 col0\" >50.000000</td>\n",
       "    </tr>\n",
       "    <tr>\n",
       "      <th id=\"T_cd3f4_level0_row45\" class=\"row_heading level0 row45\" >Rory McIlroy</th>\n",
       "      <td id=\"T_cd3f4_row45_col0\" class=\"data row45 col0\" >50.000000</td>\n",
       "    </tr>\n",
       "    <tr>\n",
       "      <th id=\"T_cd3f4_level0_row46\" class=\"row_heading level0 row46\" >George Foreman</th>\n",
       "      <td id=\"T_cd3f4_row46_col0\" class=\"data row46 col0\" >48.300000</td>\n",
       "    </tr>\n",
       "    <tr>\n",
       "      <th id=\"T_cd3f4_level0_row47\" class=\"row_heading level0 row47\" >Riddick Bowe</th>\n",
       "      <td id=\"T_cd3f4_row47_col0\" class=\"data row47 col0\" >47.200000</td>\n",
       "    </tr>\n",
       "    <tr>\n",
       "      <th id=\"T_cd3f4_level0_row48\" class=\"row_heading level0 row48\" >James Harden</th>\n",
       "      <td id=\"T_cd3f4_row48_col0\" class=\"data row48 col0\" >46.600000</td>\n",
       "    </tr>\n",
       "    <tr>\n",
       "      <th id=\"T_cd3f4_level0_row49\" class=\"row_heading level0 row49\" >Lewis Hamilton</th>\n",
       "      <td id=\"T_cd3f4_row49_col0\" class=\"data row49 col0\" >46.000000</td>\n",
       "    </tr>\n",
       "    <tr>\n",
       "      <th id=\"T_cd3f4_level0_row50\" class=\"row_heading level0 row50\" >Sugar Ray Leonard</th>\n",
       "      <td id=\"T_cd3f4_row50_col0\" class=\"data row50 col0\" >45.800000</td>\n",
       "    </tr>\n",
       "    <tr>\n",
       "      <th id=\"T_cd3f4_level0_row51\" class=\"row_heading level0 row51\" >Rafael Nadal</th>\n",
       "      <td id=\"T_cd3f4_row51_col0\" class=\"data row51 col0\" >44.500000</td>\n",
       "    </tr>\n",
       "    <tr>\n",
       "      <th id=\"T_cd3f4_level0_row52\" class=\"row_heading level0 row52\" >Jacques Villeneuve</th>\n",
       "      <td id=\"T_cd3f4_row52_col0\" class=\"data row52 col0\" >43.000000</td>\n",
       "    </tr>\n",
       "    <tr>\n",
       "      <th id=\"T_cd3f4_level0_row53\" class=\"row_heading level0 row53\" >Eli Manning</th>\n",
       "      <td id=\"T_cd3f4_row53_col0\" class=\"data row53 col0\" >39.900000</td>\n",
       "    </tr>\n",
       "    <tr>\n",
       "      <th id=\"T_cd3f4_level0_row54\" class=\"row_heading level0 row54\" >Terrell Suggs</th>\n",
       "      <td id=\"T_cd3f4_row54_col0\" class=\"data row54 col0\" >38.300000</td>\n",
       "    </tr>\n",
       "    <tr>\n",
       "      <th id=\"T_cd3f4_level0_row55\" class=\"row_heading level0 row55\" >Michael Vick</th>\n",
       "      <td id=\"T_cd3f4_row55_col0\" class=\"data row55 col0\" >37.500000</td>\n",
       "    </tr>\n",
       "    <tr>\n",
       "      <th id=\"T_cd3f4_level0_row56\" class=\"row_heading level0 row56\" >Alain Prost</th>\n",
       "      <td id=\"T_cd3f4_row56_col0\" class=\"data row56 col0\" >36.000000</td>\n",
       "    </tr>\n",
       "    <tr>\n",
       "      <th id=\"T_cd3f4_level0_row57\" class=\"row_heading level0 row57\" >Nigel Mansell</th>\n",
       "      <td id=\"T_cd3f4_row57_col0\" class=\"data row57 col0\" >34.800000</td>\n",
       "    </tr>\n",
       "    <tr>\n",
       "      <th id=\"T_cd3f4_level0_row58\" class=\"row_heading level0 row58\" >Dale Earnhardt Jr.</th>\n",
       "      <td id=\"T_cd3f4_row58_col0\" class=\"data row58 col0\" >34.000000</td>\n",
       "    </tr>\n",
       "    <tr>\n",
       "      <th id=\"T_cd3f4_level0_row59\" class=\"row_heading level0 row59\" >Patrick Ewing</th>\n",
       "      <td id=\"T_cd3f4_row59_col0\" class=\"data row59 col0\" >31.200000</td>\n",
       "    </tr>\n",
       "    <tr>\n",
       "      <th id=\"T_cd3f4_level0_row60\" class=\"row_heading level0 row60\" >Sergei Federov</th>\n",
       "      <td id=\"T_cd3f4_row60_col0\" class=\"data row60 col0\" >29.800000</td>\n",
       "    </tr>\n",
       "    <tr>\n",
       "      <th id=\"T_cd3f4_level0_row61\" class=\"row_heading level0 row61\" >Tom Brady</th>\n",
       "      <td id=\"T_cd3f4_row61_col0\" class=\"data row61 col0\" >29.000000</td>\n",
       "    </tr>\n",
       "    <tr>\n",
       "      <th id=\"T_cd3f4_level0_row62\" class=\"row_heading level0 row62\" >Lance Armstrong</th>\n",
       "      <td id=\"T_cd3f4_row62_col0\" class=\"data row62 col0\" >28.000000</td>\n",
       "    </tr>\n",
       "    <tr>\n",
       "      <th id=\"T_cd3f4_level0_row63\" class=\"row_heading level0 row63\" >Wayne Gretzky</th>\n",
       "      <td id=\"T_cd3f4_row63_col0\" class=\"data row63 col0\" >28.000000</td>\n",
       "    </tr>\n",
       "    <tr>\n",
       "      <th id=\"T_cd3f4_level0_row64\" class=\"row_heading level0 row64\" >Buster Douglas</th>\n",
       "      <td id=\"T_cd3f4_row64_col0\" class=\"data row64 col0\" >26.000000</td>\n",
       "    </tr>\n",
       "    <tr>\n",
       "      <th id=\"T_cd3f4_level0_row65\" class=\"row_heading level0 row65\" >Jack Nicklaus</th>\n",
       "      <td id=\"T_cd3f4_row65_col0\" class=\"data row65 col0\" >23.400000</td>\n",
       "    </tr>\n",
       "    <tr>\n",
       "      <th id=\"T_cd3f4_level0_row66\" class=\"row_heading level0 row66\" >Deion Sanders</th>\n",
       "      <td id=\"T_cd3f4_row66_col0\" class=\"data row66 col0\" >22.500000</td>\n",
       "    </tr>\n",
       "    <tr>\n",
       "      <th id=\"T_cd3f4_level0_row67\" class=\"row_heading level0 row67\" >Jim Courier</th>\n",
       "      <td id=\"T_cd3f4_row67_col0\" class=\"data row67 col0\" >21.600000</td>\n",
       "    </tr>\n",
       "    <tr>\n",
       "      <th id=\"T_cd3f4_level0_row68\" class=\"row_heading level0 row68\" >Joe Montana</th>\n",
       "      <td id=\"T_cd3f4_row68_col0\" class=\"data row68 col0\" >21.000000</td>\n",
       "    </tr>\n",
       "    <tr>\n",
       "      <th id=\"T_cd3f4_level0_row69\" class=\"row_heading level0 row69\" >Jeff Gordon</th>\n",
       "      <td id=\"T_cd3f4_row69_col0\" class=\"data row69 col0\" >20.000000</td>\n",
       "    </tr>\n",
       "    <tr>\n",
       "      <th id=\"T_cd3f4_level0_row70\" class=\"row_heading level0 row70\" >Joe Sakic</th>\n",
       "      <td id=\"T_cd3f4_row70_col0\" class=\"data row70 col0\" >17.900000</td>\n",
       "    </tr>\n",
       "    <tr>\n",
       "      <th id=\"T_cd3f4_level0_row71\" class=\"row_heading level0 row71\" >Gary Sheffield</th>\n",
       "      <td id=\"T_cd3f4_row71_col0\" class=\"data row71 col0\" >17.200000</td>\n",
       "    </tr>\n",
       "    <tr>\n",
       "      <th id=\"T_cd3f4_level0_row72\" class=\"row_heading level0 row72\" >Emmit Smith</th>\n",
       "      <td id=\"T_cd3f4_row72_col0\" class=\"data row72 col0\" >16.500000</td>\n",
       "    </tr>\n",
       "    <tr>\n",
       "      <th id=\"T_cd3f4_level0_row73\" class=\"row_heading level0 row73\" >Gerhard Berger</th>\n",
       "      <td id=\"T_cd3f4_row73_col0\" class=\"data row73 col0\" >13.500000</td>\n",
       "    </tr>\n",
       "    <tr>\n",
       "      <th id=\"T_cd3f4_level0_row74\" class=\"row_heading level0 row74\" >Dennis Rodman</th>\n",
       "      <td id=\"T_cd3f4_row74_col0\" class=\"data row74 col0\" >12.900000</td>\n",
       "    </tr>\n",
       "    <tr>\n",
       "      <th id=\"T_cd3f4_level0_row75\" class=\"row_heading level0 row75\" >Cecil Fielder</th>\n",
       "      <td id=\"T_cd3f4_row75_col0\" class=\"data row75 col0\" >12.700000</td>\n",
       "    </tr>\n",
       "    <tr>\n",
       "      <th id=\"T_cd3f4_level0_row76\" class=\"row_heading level0 row76\" >Michael Moorer</th>\n",
       "      <td id=\"T_cd3f4_row76_col0\" class=\"data row76 col0\" >12.100000</td>\n",
       "    </tr>\n",
       "    <tr>\n",
       "      <th id=\"T_cd3f4_level0_row77\" class=\"row_heading level0 row77\" >Donovan \"Razor\" Ruddock</th>\n",
       "      <td id=\"T_cd3f4_row77_col0\" class=\"data row77 col0\" >10.200000</td>\n",
       "    </tr>\n",
       "    <tr>\n",
       "      <th id=\"T_cd3f4_level0_row78\" class=\"row_heading level0 row78\" >Monica Seles</th>\n",
       "      <td id=\"T_cd3f4_row78_col0\" class=\"data row78 col0\" >8.500000</td>\n",
       "    </tr>\n",
       "    <tr>\n",
       "      <th id=\"T_cd3f4_level0_row79\" class=\"row_heading level0 row79\" >Greg Norman</th>\n",
       "      <td id=\"T_cd3f4_row79_col0\" class=\"data row79 col0\" >8.500000</td>\n",
       "    </tr>\n",
       "  </tbody>\n",
       "</table>\n"
      ],
      "text/plain": [
       "<pandas.io.formats.style.Styler at 0x158b3bd90>"
      ]
     },
     "execution_count": 54,
     "metadata": {},
     "output_type": "execute_result"
    }
   ],
   "source": [
    "top_earners = pd.pivot_table(df, index='Name',values='Earnings ($M)', aggfunc='sum')\n",
    "top_earners = top_earners.sort_values(by=\"Earnings ($M)\", ascending=False)\n",
    "top_earners.style.background_gradient(cmap='Blues')  \n",
    "# Tiger Woods is leading the board of highest paid player with a total of $1373M, meanwhile, \n",
    "# Greg Norman and Monica Seles were the lowest paid players with each getting a total of $8.5M"
   ]
  },
  {
   "cell_type": "markdown",
   "metadata": {},
   "source": [
    "- Gender representation"
   ]
  },
  {
   "cell_type": "code",
   "execution_count": 55,
   "metadata": {},
   "outputs": [
    {
     "data": {
      "text/html": [
       "<style type=\"text/css\">\n",
       "#T_20803_row0_col2, #T_20803_row0_col4, #T_20803_row0_col5 {\n",
       "  background-color: #ffffd9;\n",
       "  color: #000000;\n",
       "}\n",
       "</style>\n",
       "<table id=\"T_20803\">\n",
       "  <thead>\n",
       "    <tr>\n",
       "      <th class=\"blank level0\" >&nbsp;</th>\n",
       "      <th id=\"T_20803_level0_col0\" class=\"col_heading level0 col0\" >Name</th>\n",
       "      <th id=\"T_20803_level0_col1\" class=\"col_heading level0 col1\" >Nationality</th>\n",
       "      <th id=\"T_20803_level0_col2\" class=\"col_heading level0 col2\" >Current Rank</th>\n",
       "      <th id=\"T_20803_level0_col3\" class=\"col_heading level0 col3\" >Sport</th>\n",
       "      <th id=\"T_20803_level0_col4\" class=\"col_heading level0 col4\" >Year</th>\n",
       "      <th id=\"T_20803_level0_col5\" class=\"col_heading level0 col5\" >Earnings ($M)</th>\n",
       "    </tr>\n",
       "  </thead>\n",
       "  <tbody>\n",
       "    <tr>\n",
       "      <th id=\"T_20803_level0_row0\" class=\"row_heading level0 row0\" >29</th>\n",
       "      <td id=\"T_20803_row0_col0\" class=\"data row0 col0\" >Monica Seles</td>\n",
       "      <td id=\"T_20803_row0_col1\" class=\"data row0 col1\" >USA</td>\n",
       "      <td id=\"T_20803_row0_col2\" class=\"data row0 col2\" >10</td>\n",
       "      <td id=\"T_20803_row0_col3\" class=\"data row0 col3\" >Tennis</td>\n",
       "      <td id=\"T_20803_row0_col4\" class=\"data row0 col4\" >1992</td>\n",
       "      <td id=\"T_20803_row0_col5\" class=\"data row0 col5\" >8.500000</td>\n",
       "    </tr>\n",
       "  </tbody>\n",
       "</table>\n"
      ],
      "text/plain": [
       "<pandas.io.formats.style.Styler at 0x15f253250>"
      ]
     },
     "execution_count": 55,
     "metadata": {},
     "output_type": "execute_result"
    }
   ],
   "source": [
    "monica = df[df['Name']=='Monica Seles']\n",
    "monica.style.background_gradient(cmap='YlGnBu')\n",
    "# Monica Seles is the only woman who entered the list of top 10 highest paid players in 1992 for her tennis career"
   ]
  },
  {
   "cell_type": "code",
   "execution_count": 58,
   "metadata": {},
   "outputs": [
    {
     "data": {
      "image/png": "[encoded data removed]",
      "text/plain": [
       "<Figure size 640x480 with 1 Axes>"
      ]
     },
     "metadata": {},
     "output_type": "display_data"
    }
   ],
   "source": [
    "mask = np.array(PIL.Image.open('player.png'))\n",
    "mwc = WordCloud(stopwords=set(list(STOPWORDS)+['columns','rows','x','Name', 'Nationality', 'Sport']), \n",
    "    mask=mask, background_color='white',contour_color='black',\n",
    "    contour_width=3, min_font_size=3,).generate(str(df[['Sport', 'Name', 'Nationality']]))\n",
    "plt.imshow(mwc)\n",
    "plt.axis('off')\n",
    "plt.show()"
   ]
  },
  {
   "cell_type": "markdown",
   "metadata": {},
   "source": [
    "### Conclusions\n",
    "\n"
   ]
  },
  {
   "cell_type": "markdown",
   "metadata": {},
   "source": [
    "- Out of 301 players, 206 are from USA;\n",
    "- USA also accumulated the highest pay;\n",
    "- USA seems to dominate most sports, in particular the NBA/Basketball, boxing and golf;\n",
    "- NBA/Basketball is the most popular and highest paid sport;\n",
    "- Auto racing seems to have lost popularity and decreased earnings in recent years;\n",
    "- Soccer is on a fast uptrend by earnings for the past 10 years;\n",
    "- Tiger Woods had the top accumulated earnings, $1371.8M from 1990 to 2020;\n",
    "- $300M was the top contract paid to box player Floyd Mayweather in 2015;\n",
    "- Basketball player Michael Jordan, together with box player Evander Holyfield and golf player Arnold Palmer had the lowest contract of $8.1M each in 1990;\n",
    "- Roger Federer was ranked first in 2020;\n",
    "- Women are underrepresented, with only female tennis player Monica Seles joining the list in 1992."
   ]
  }
 ],
 "metadata": {
  "kernelspec": {
   "display_name": "Python 3.10.6 ('base')",
   "language": "python",
   "name": "python3"
  },
  "language_info": {
   "codemirror_mode": {
    "name": "ipython",
    "version": 3
   },
   "file_extension": ".py",
   "mimetype": "text/x-python",
   "name": "python",
   "nbconvert_exporter": "python",
   "pygments_lexer": "ipython3",
   "version": "3.10.6"
  },
  "orig_nbformat": 4,
  "vscode": {
   "interpreter": {
    "hash": "0214075810051456265b4c413eaea7f9f19f2f11ce5a028dc5233be0d3f2fb58"
   }
  }
 },
 "nbformat": 4,
 "nbformat_minor": 2
}
